{
 "cells": [
  {
   "cell_type": "markdown",
   "metadata": {},
   "source": [
    "# 第01回 数理工学実験２"
   ]
  },
  {
   "cell_type": "markdown",
   "metadata": {},
   "source": [
    "## 1. はじめに"
   ]
  },
  {
   "cell_type": "markdown",
   "metadata": {},
   "source": [
    "### 1.1 導入\n",
    "\n",
    "「数理工学実験2」では，1年次の「情報処理」，「プログラミング演習」で学んだPythonを用いて基本的な数値計算手法を学びます．初めに「情報処理」，「プログラミング演習」で学びきれなかったPythonの知識を学び，その後Pythonで数値計算を実行します．ここでは簡単に「数理工学実験2」で学ぶPythonの知識を下記にまとめます．\n",
    "\n",
    "<table>\n",
    "        <tr>\n",
    "        <td>Jupyterの使い方とPythonの復習</td>\n",
    "        <td>第01回　数理工学実験2</td>\n",
    "    　　</tr>\n",
    "        <tr>\n",
    "        <td>データ型（タプル（tuple型），辞書（dict型），集合（set型）</td>\n",
    "        <td>第02回　数理工学実験2</td>\n",
    "    　　</tr>\n",
    "        <tr>\n",
    "        <td>関数</td>\n",
    "        <td>第03回　数理工学実験2</td>\n",
    "        </tr>\n",
    "        <tr>\n",
    "        <td>エラーのデバッグと例外処理，その他</td>\n",
    "        <td>第04回　数理工学実験2</td>\n",
    "    　　</tr>\n",
    "         <tr>\n",
    "        <td>Pythonにおける変数とメモリの深い関係，Numpy</td>\n",
    "        <td>第05回　数理工学実験2</td>\n",
    "    　　</tr>\n",
    "        <tr>\n",
    "        <td>数値計算における誤差と方程式の解法</td>\n",
    "        <td>第06回　数理工学実験2</td>\n",
    "    　　</tr>\n",
    "        <tr>\n",
    "        <td>連立方程式の解法（ガウスの消去法）</td>\n",
    "        <td>第07回　数理工学実験2</td>\n",
    "    　　</tr>\n",
    "        <tr>\n",
    "        <td>数値積分法（台形法，シンプソン法）</td>\n",
    "        <td>第08回　数理工学実験2</td>\n",
    "    　　</tr>\n",
    "        <tr>\n",
    "        <td>常微分方程式（オイラー法、ルンゲクッタ法）</td>\n",
    "        <td>第09回　数理工学実験2</td>\n",
    "        </tr>\n",
    "        <tr>\n",
    "        <td>グラフィック</td>\n",
    "        <td>第10回　数理工学実験2</td>\n",
    "    　　</tr>\n",
    "        <tr>\n",
    "        <td>乱数とモンテカルロ法</td>\n",
    "        <td>第11回　数理工学実験2</td>\n",
    "    　　</tr>\n",
    "        <tr>\n",
    "        <td>モンテカルロ法の応用（シミュレーション）</td>\n",
    "        <td>第12回　数理工学実験2</td>\n",
    "    　　</tr>\n",
    "        <tr>\n",
    "        <td>Pandasとデータ解析（データサイエンス）</td>\n",
    "        <td>第13回　数理工学実験2</td>\n",
    "    　　</tr>\n",
    "        <tr>\n",
    "        <td>発表</td>\n",
    "        <td>第14回　数理工学実験2</td>\n",
    "    　　</tr>\n",
    "</table>"
   ]
  },
  {
   "cell_type": "markdown",
   "metadata": {},
   "source": [
    "### 1.2 参考書\n",
    "\n",
    "木下が見た中で良かったと思う参考書です（2021年09月現在）．毎年新しいPython本が多数出版されている状況なので，より良い本が出ているかもしれません（もし、紹介してくれる人がいるならぜひ紹介してく下さい）．ちょっと難しいと感じるかもしれませんが，一度くらいは通読するといいと思います．この講義では教科書指定しませんが，**1冊はしっかりした本を自分で購入して読むことを強く薦めます**．\n",
    "\n",
    "- Pythonの教科書\n",
    "    - [新・明解 Python入門　柴田望洋（SB Creative）](https://www.amazon.co.jp//dp/4815601526)\n",
    "    - [みんなのPython　柴田淳（SB Creative）](https://www.amazon.co.jp/dp/479738946X)\n",
    "- Python(Numpy)による数値計算\n",
    "    - [科学技術計算のためのPython入門　中久喜健司（技術評論社）](https://www.amazon.co.jp/dp/4774183881)\n",
    "- Phtyon(Pandas)によるデータ解析\n",
    "    - [PythonユーザのためのJupyter[実践]入門　](https://www.amazon.co.jp/dp/4297115689)\n",
    "    \n",
    "下記の2冊は超有名な数値計算系の日本語の教科書．Pythonに限らず数値計算をコンピュータ上で実施すると「コンピュータ内でどのようなことが行われているのか？」「数理的な理論基盤は？」「安直に数値計算するとやばい理由」等がキチンと書かれているバイブル（絶版かも・・・）\n",
    "\n",
    "- [数値計算の常識　 伊理 正夫, 藤野 和建（共立出版）](https://www.amazon.co.jp/dp/4320013433)\n",
    "- [モンテカルロ法とシミュレーション　津田 孝夫（培風館）](https://www.amazon.co.jp/dp/4563008788)\n"
   ]
  },
  {
   "cell_type": "markdown",
   "metadata": {},
   "source": [
    "### 1.3 Pythonの復習\n",
    "\n",
    "[このページ](http://kino.sub.jp/IT2017/)を見て，Pythonの復習をして下さい．特に大切なところは**繰り返し文(for文，while文)**と**条件分岐**です．プログラミングの本質はこの2つの操作に尽きるので，ここはしっかり押さえて下さい．"
   ]
  },
  {
   "cell_type": "markdown",
   "metadata": {},
   "source": [
    "## 2. 変数の型について\n",
    "\n",
    "pythonではプログラムの処理を行う際に，データの種類に応じた**型**が用意されてます（組込み型）．数値型としては整数型`int`，浮動小数点型`float`の2つ．その他に，文字列型`str`，リスト型`list`も学んだと思います．ここではさらにいくつかの型について紹介します．"
   ]
  },
  {
   "cell_type": "markdown",
   "metadata": {},
   "source": [
    "### 2.1 タプル（tuple型）\n",
    "\n",
    "<strong>タプル（tuple型）</strong>はリスト（list型）と非常に似ており，リスト型と同様に様々な種類のオブジェクトを入れ，インデックスを指定して要素を取り出したり，スライスを使って複数の要素を取り出すことが出来ます．\n",
    "ただし，<strong>タプルはリストと違い要素を書き換えることが出来ません．</strong>また，要素の追加や削除もできません．このことはリストを使いにくくしたものと感じるかもしれませんが，**タプルにはディクショナリのキーとして使えるという最大のメリットが存在します（ディクショナリについては後述します）**．また，タプルはリストと比較しメモリ使用量が小さいです．\n",
    "\n",
    "早速，タプルを作成しましょう．タプルは丸括弧「```( )```」で要素を囲みます．要素同士はカンマ「```,```」で区切ります． "
   ]
  },
  {
   "cell_type": "code",
   "execution_count": 23,
   "metadata": {},
   "outputs": [
    {
     "data": {
      "text/plain": [
       "('Pokemon', 'Greninja', 'Mew', 'Arceus', 'Sylveon')"
      ]
     },
     "execution_count": 23,
     "metadata": {},
     "output_type": "execute_result"
    }
   ],
   "source": [
    "tuple1 = (\"Pokemon\", \"Greninja\", \"Mew\", \"Arceus\", \"Sylveon\")\n",
    "tuple1"
   ]
  },
  {
   "cell_type": "code",
   "execution_count": 24,
   "metadata": {},
   "outputs": [
    {
     "data": {
      "text/plain": [
       "tuple"
      ]
     },
     "execution_count": 24,
     "metadata": {},
     "output_type": "execute_result"
    }
   ],
   "source": [
    "type(tuple1)"
   ]
  },
  {
   "cell_type": "markdown",
   "metadata": {},
   "source": [
    "`tuple()`関数を用いてリストをタプルに変換してタプルを作成する方法も良く使われます．"
   ]
  },
  {
   "cell_type": "code",
   "execution_count": 25,
   "metadata": {},
   "outputs": [
    {
     "name": "stdout",
     "output_type": "stream",
     "text": [
      "<class 'list'>\n",
      "('東京', '新宿', '渋谷', '池袋')\n",
      "<class 'tuple'>\n"
     ]
    }
   ],
   "source": [
    "lst01=['東京', '新宿', '渋谷', '池袋']\n",
    "print(type(lst01))\n",
    "tpl01=tuple(lst01)\n",
    "print(tpl01)\n",
    "print(type(tpl01))"
   ]
  },
  {
   "cell_type": "markdown",
   "metadata": {},
   "source": [
    "括弧を省略することもできます．"
   ]
  },
  {
   "cell_type": "code",
   "execution_count": 26,
   "metadata": {},
   "outputs": [
    {
     "data": {
      "text/plain": [
       "('Pokemon', 'Greninja', 'Mew', 'Arceus', 'Sylveon')"
      ]
     },
     "execution_count": 26,
     "metadata": {},
     "output_type": "execute_result"
    }
   ],
   "source": [
    "tuple2 = \"Pokemon\", \"Greninja\", \"Mew\", \"Arceus\", \"Sylveon\"\n",
    "tuple2"
   ]
  },
  {
   "cell_type": "markdown",
   "metadata": {},
   "source": [
    "タプルはリストと同様に様々な型のオブジェクトを要素として持つことが出来ます．"
   ]
  },
  {
   "cell_type": "code",
   "execution_count": 27,
   "metadata": {},
   "outputs": [
    {
     "data": {
      "text/plain": [
       "(1, '木下', [0.1, 0.2], ('Pokemon', 'Greninja', 'Mew', 'Arceus', 'Sylveon'))"
      ]
     },
     "execution_count": 27,
     "metadata": {},
     "output_type": "execute_result"
    }
   ],
   "source": [
    "tuple3 = (1, \"木下\", [0.1, 0.2], tuple1)\n",
    "tuple3"
   ]
  },
  {
   "cell_type": "markdown",
   "metadata": {},
   "source": [
    "インデックスを用いた要素の抽出"
   ]
  },
  {
   "cell_type": "code",
   "execution_count": 28,
   "metadata": {},
   "outputs": [
    {
     "data": {
      "text/plain": [
       "'Mew'"
      ]
     },
     "execution_count": 28,
     "metadata": {},
     "output_type": "execute_result"
    }
   ],
   "source": [
    "tuple2[2]"
   ]
  },
  {
   "cell_type": "markdown",
   "metadata": {},
   "source": [
    "ただし，タプルはリストと違い要素を書き換えることはできません．"
   ]
  },
  {
   "cell_type": "code",
   "execution_count": 29,
   "metadata": {},
   "outputs": [
    {
     "data": {
      "text/plain": [
       "['東京', '新宿', '渋谷', '池袋', '上野', '品川', '新橋', '四谷', '中野', '吉祥寺']"
      ]
     },
     "execution_count": 29,
     "metadata": {},
     "output_type": "execute_result"
    }
   ],
   "source": [
    "# リストの要素を削除する\n",
    "list1 = [\"東京\", \"新宿\", \"渋谷\",\"池袋\",\"上野\", \"品川\", \"新橋\", \"お茶の水\", \"四谷\", \"中野\", \"吉祥寺\"]\n",
    "del list1[7]\n",
    "list1"
   ]
  },
  {
   "cell_type": "code",
   "execution_count": 30,
   "metadata": {},
   "outputs": [
    {
     "ename": "TypeError",
     "evalue": "'tuple' object doesn't support item deletion",
     "output_type": "error",
     "traceback": [
      "\u001b[0;31m---------------------------------------------------------------------------\u001b[0m",
      "\u001b[0;31mTypeError\u001b[0m                                 Traceback (most recent call last)",
      "Cell \u001b[0;32mIn[30], line 3\u001b[0m\n\u001b[1;32m      1\u001b[0m \u001b[38;5;66;03m# タプルの要素を削除する\u001b[39;00m\n\u001b[1;32m      2\u001b[0m tuple4 \u001b[38;5;241m=\u001b[39m (\u001b[38;5;124m\"\u001b[39m\u001b[38;5;124m東京\u001b[39m\u001b[38;5;124m\"\u001b[39m, \u001b[38;5;124m\"\u001b[39m\u001b[38;5;124m新宿\u001b[39m\u001b[38;5;124m\"\u001b[39m, \u001b[38;5;124m\"\u001b[39m\u001b[38;5;124m渋谷\u001b[39m\u001b[38;5;124m\"\u001b[39m,\u001b[38;5;124m\"\u001b[39m\u001b[38;5;124m池袋\u001b[39m\u001b[38;5;124m\"\u001b[39m,\u001b[38;5;124m\"\u001b[39m\u001b[38;5;124m上野\u001b[39m\u001b[38;5;124m\"\u001b[39m, \u001b[38;5;124m\"\u001b[39m\u001b[38;5;124m品川\u001b[39m\u001b[38;5;124m\"\u001b[39m, \u001b[38;5;124m\"\u001b[39m\u001b[38;5;124m新橋\u001b[39m\u001b[38;5;124m\"\u001b[39m, \u001b[38;5;124m\"\u001b[39m\u001b[38;5;124mお茶の水\u001b[39m\u001b[38;5;124m\"\u001b[39m, \u001b[38;5;124m\"\u001b[39m\u001b[38;5;124m四谷\u001b[39m\u001b[38;5;124m\"\u001b[39m, \u001b[38;5;124m\"\u001b[39m\u001b[38;5;124m中野\u001b[39m\u001b[38;5;124m\"\u001b[39m, \u001b[38;5;124m\"\u001b[39m\u001b[38;5;124m吉祥寺\u001b[39m\u001b[38;5;124m\"\u001b[39m)\n\u001b[0;32m----> 3\u001b[0m \u001b[38;5;28;01mdel\u001b[39;00m \u001b[43mtuple4\u001b[49m\u001b[43m[\u001b[49m\u001b[38;5;241;43m7\u001b[39;49m\u001b[43m]\u001b[49m\n\u001b[1;32m      4\u001b[0m tuple4\n",
      "\u001b[0;31mTypeError\u001b[0m: 'tuple' object doesn't support item deletion"
     ]
    }
   ],
   "source": [
    "# タプルの要素を削除する\n",
    "tuple4 = (\"東京\", \"新宿\", \"渋谷\",\"池袋\",\"上野\", \"品川\", \"新橋\", \"お茶の水\", \"四谷\", \"中野\", \"吉祥寺\")\n",
    "del tuple4[7]\n",
    "tuple4"
   ]
  },
  {
   "cell_type": "markdown",
   "metadata": {},
   "source": [
    "### 2.2 ディクショナリ（dict型）\n",
    "\n",
    "実際のディクショナリ（辞書）は調べたい単語をキーワードにその単語の説明文を見つけます．つまり，「単語」と「単語の説明文」がペアになってます．同様に，Pythonのディクショナリ（<strong>dict型</strong>）では1つの要素をキー（key）と値（value）をペアで表現します．辞書型は{(key1):(value1), (key2):(value2)}の形式で括って作成し，キーを使うと対応する値を取り出すことができます．下の例では駅の「駅の名前をキー」とし「駅の主要JR路線」としペアで一つの要素となっているディクショナリを作成してます．"
   ]
  },
  {
   "cell_type": "code",
   "execution_count": 9,
   "metadata": {},
   "outputs": [
    {
     "data": {
      "text/plain": [
       "'山手線'"
      ]
     },
     "execution_count": 9,
     "metadata": {},
     "output_type": "execute_result"
    }
   ],
   "source": [
    "station_y= {\"東京\":\"山手線\", \"新宿\":\"山手線\",\"渋谷\":\"山手線\", \"池袋\":\"山手線\", \"上野\":\"山手線\",\"品川\":\"山手線\",\"新橋\":\"山手線\"}\n",
    "station_y[\"新宿\"]"
   ]
  },
  {
   "cell_type": "markdown",
   "metadata": {},
   "source": [
    "キーとして存在しないデータを指定すると，エラーになります．"
   ]
  },
  {
   "cell_type": "code",
   "execution_count": 10,
   "metadata": {},
   "outputs": [
    {
     "ename": "KeyError",
     "evalue": "'吉祥寺'",
     "output_type": "error",
     "traceback": [
      "\u001b[0;31m---------------------------------------------------------------------------\u001b[0m",
      "\u001b[0;31mKeyError\u001b[0m                                  Traceback (most recent call last)",
      "Cell \u001b[0;32mIn[10], line 1\u001b[0m\n\u001b[0;32m----> 1\u001b[0m \u001b[43mstation_y\u001b[49m\u001b[43m[\u001b[49m\u001b[38;5;124;43m\"\u001b[39;49m\u001b[38;5;124;43m吉祥寺\u001b[39;49m\u001b[38;5;124;43m\"\u001b[39;49m\u001b[43m]\u001b[49m\n",
      "\u001b[0;31mKeyError\u001b[0m: '吉祥寺'"
     ]
    }
   ],
   "source": [
    "station_y[\"吉祥寺\"]"
   ]
  },
  {
   "cell_type": "markdown",
   "metadata": {},
   "source": [
    "リスト同様，ディクショナリも順序が保存されます（Python3.7以降）"
   ]
  },
  {
   "cell_type": "code",
   "execution_count": 11,
   "metadata": {},
   "outputs": [
    {
     "data": {
      "text/plain": [
       "{'東京': '山手線',\n",
       " '新宿': '山手線',\n",
       " '渋谷': '山手線',\n",
       " '池袋': '山手線',\n",
       " '上野': '山手線',\n",
       " '品川': '山手線',\n",
       " '新橋': '山手線'}"
      ]
     },
     "execution_count": 11,
     "metadata": {},
     "output_type": "execute_result"
    }
   ],
   "source": [
    "station_y"
   ]
  },
  {
   "cell_type": "markdown",
   "metadata": {},
   "source": [
    "キーが存在しているかどうか事前に確認したい時があります．この場合，リストと同様にin演算子を用います．"
   ]
  },
  {
   "cell_type": "code",
   "execution_count": 12,
   "metadata": {},
   "outputs": [
    {
     "data": {
      "text/plain": [
       "True"
      ]
     },
     "execution_count": 12,
     "metadata": {},
     "output_type": "execute_result"
    }
   ],
   "source": [
    "\"上野\" in station_y"
   ]
  },
  {
   "cell_type": "code",
   "execution_count": 13,
   "metadata": {},
   "outputs": [
    {
     "data": {
      "text/plain": [
       "False"
      ]
     },
     "execution_count": 13,
     "metadata": {},
     "output_type": "execute_result"
    }
   ],
   "source": [
    "\"吉祥寺\" in station_y"
   ]
  },
  {
   "cell_type": "markdown",
   "metadata": {},
   "source": [
    "リストと同様にディクショナリへも簡単に要素を追加できます．ディクショナリへの要素の追加はキーと値のペアを用いて行います．"
   ]
  },
  {
   "cell_type": "code",
   "execution_count": 14,
   "metadata": {},
   "outputs": [
    {
     "data": {
      "text/plain": [
       "{'東京': '山手線',\n",
       " '新宿': '山手線',\n",
       " '渋谷': '山手線',\n",
       " '池袋': '山手線',\n",
       " '上野': '山手線',\n",
       " '品川': '山手線',\n",
       " '新橋': '山手線',\n",
       " '吉祥寺': '中央線'}"
      ]
     },
     "execution_count": 14,
     "metadata": {},
     "output_type": "execute_result"
    }
   ],
   "source": [
    "station_y[\"吉祥寺\"] = \"中央線\"\n",
    "station_y"
   ]
  },
  {
   "cell_type": "markdown",
   "metadata": {},
   "source": [
    "ディクショナリの要素の値の変更も行う事ができます．ただし，キーの変更はできません．"
   ]
  },
  {
   "cell_type": "code",
   "execution_count": null,
   "metadata": {},
   "outputs": [
    {
     "data": {
      "text/plain": [
       "'中央線'"
      ]
     },
     "metadata": {},
     "output_type": "display_data"
    }
   ],
   "source": [
    "station_y[\"新宿\"] = \"中央線\"\n",
    "station_y[\"新宿\"]"
   ]
  },
  {
   "cell_type": "markdown",
   "metadata": {},
   "source": [
    "ディクショナリもリストと同様にdel関数で要素を削除することができます．ただし，リストと異なりkeyを指定して削除します．"
   ]
  },
  {
   "cell_type": "code",
   "execution_count": null,
   "metadata": {},
   "outputs": [
    {
     "data": {
      "text/plain": [
       "{'東京': '山手線',\n",
       " '新宿': '中央線',\n",
       " '渋谷': '山手線',\n",
       " '池袋': '山手線',\n",
       " '上野': '山手線',\n",
       " '品川': '山手線',\n",
       " '新橋': '山手線'}"
      ]
     },
     "metadata": {},
     "output_type": "display_data"
    }
   ],
   "source": [
    "del station_y[\"吉祥寺\"]\n",
    "station_y"
   ]
  },
  {
   "cell_type": "markdown",
   "metadata": {},
   "source": [
    "関数 dict()を使ってリストを用い新しいディクショナリを作ることができます．キーと値からなる，2つの要素を持つリストを並べて作ったリストからディクショナリを作ります．（ディクショナリの作り方は他にもあります）"
   ]
  },
  {
   "cell_type": "code",
   "execution_count": null,
   "metadata": {},
   "outputs": [
    {
     "data": {
      "text/plain": [
       "{'お茶の水': '中央線', '四谷': '中央線', '中野': '中央線'}"
      ]
     },
     "metadata": {},
     "output_type": "display_data"
    }
   ],
   "source": [
    "station_c = dict([[\"お茶の水\", \"中央線\"], [\"四谷\", \"中央線\"], [\"中野\",\"中央線\"]])\n",
    "station_c"
   ]
  },
  {
   "cell_type": "markdown",
   "metadata": {},
   "source": [
    "リストや文字列と同様に<code>len()</code>関数を用いディクショナリの要素数を数える事ができます．"
   ]
  },
  {
   "cell_type": "code",
   "execution_count": null,
   "metadata": {},
   "outputs": [
    {
     "data": {
      "text/plain": [
       "3"
      ]
     },
     "metadata": {},
     "output_type": "display_data"
    }
   ],
   "source": [
    "len(station_c)"
   ]
  },
  {
   "cell_type": "markdown",
   "metadata": {},
   "source": [
    "リストと同様にディクショナリも様々なメソッド（dict型専用の関数）を持っています．例えば，2つのディクショナリを組み合わせ1つのディクショナリを作る場合には update() メソッドを用います．matheng_staffにmatheng_staff_newを組み合わせます．"
   ]
  },
  {
   "cell_type": "code",
   "execution_count": null,
   "metadata": {},
   "outputs": [
    {
     "data": {
      "text/plain": [
       "{'東京': '山手線',\n",
       " '新宿': '中央線',\n",
       " '渋谷': '山手線',\n",
       " '池袋': '山手線',\n",
       " '上野': '山手線',\n",
       " '品川': '山手線',\n",
       " '新橋': '山手線',\n",
       " 'お茶の水': '中央線',\n",
       " '四谷': '中央線',\n",
       " '中野': '中央線'}"
      ]
     },
     "metadata": {},
     "output_type": "display_data"
    }
   ],
   "source": [
    "station_y.update(station_c)\n",
    "station_y"
   ]
  },
  {
   "cell_type": "markdown",
   "metadata": {},
   "source": [
    "ディクショナリのその他のメソッドの一部は下記の通りです．"
   ]
  },
  {
   "cell_type": "markdown",
   "metadata": {},
   "source": [
    "<table>\n",
    "        <tr>\n",
    "        <th>メソッド</th>\n",
    "        <th>動作（ディクショナリを S={\"white\":\"白\", \"red\":\"赤\", \"blue\":\"青\", \"black\":\"黒\"} として，書き方の例を示す．）</th>\n",
    "    </tr>\n",
    "         <tr>\n",
    "        <td>S.keys()</td>\n",
    "        <td>Sに含まれるキーのリストを返す．例：S.keys() 結果：['white', 'black', 'red', 'blue']</td>\n",
    "    </tr>\n",
    "     <tr>\n",
    "        <td>S.values()</td>\n",
    "        <td>Sに含まれる値のリストを返す．例：S.values() 結果：['白', '黒', '赤', '青']</td>\n",
    "    </tr>\n",
    "     <tr>\n",
    "        <td>S.get(key, value)</td>\n",
    "        <td>keyがSの中に含まれればS[key]を返し，含まれなければvalueを返す．例：S.get(\"orange\", \"朱\") 結果：朱</td>\n",
    "    </tr>\n",
    "    <tr>\n",
    "        <td>S.items()</td>\n",
    "        <td>Sに登録されているキーと値をペアにしたタプルをリストとして返す（タプルとは値を変更できないリストのこと）．例：S.items() 結果：</td>\n",
    "    </tr>    \n",
    "</table>"
   ]
  },
  {
   "cell_type": "code",
   "execution_count": null,
   "metadata": {},
   "outputs": [
    {
     "name": "stdout",
     "output_type": "stream",
     "text": [
      "dict_keys(['white', 'red', 'blue', 'black'])\n",
      "dict_values(['白', '赤', '青', '黒'])\n",
      "赤\n",
      "dict_items([('white', '白'), ('red', '赤'), ('blue', '青'), ('black', '黒')])\n"
     ]
    }
   ],
   "source": [
    "S={\"white\":\"白\", \"red\":\"赤\", \"blue\":\"青\", \"black\":\"黒\"}\n",
    "print(S.keys())\n",
    "print(S.values())\n",
    "print(S.get(\"red\", \"朱\"))\n",
    "print(S.items())"
   ]
  },
  {
   "cell_type": "markdown",
   "metadata": {},
   "source": [
    "ディクショナリもリストと同様にforループで使う事がある．（イテレーションアクセス）"
   ]
  },
  {
   "cell_type": "code",
   "execution_count": null,
   "metadata": {},
   "outputs": [
    {
     "name": "stdout",
     "output_type": "stream",
     "text": [
      "white\n",
      "red\n",
      "blue\n",
      "blmack\n"
     ]
    }
   ],
   "source": [
    "color_dic = {\"white\":\"白\", \"red\":\"赤\", \"blue\":\"青\", \"blmack\":\"黒\"}\n",
    "for i in color_dic:\n",
    "    print(i)"
   ]
  },
  {
   "cell_type": "markdown",
   "metadata": {},
   "source": [
    "もちろん，キーを使って対応した値を取り出すことも可能．"
   ]
  },
  {
   "cell_type": "code",
   "execution_count": null,
   "metadata": {},
   "outputs": [
    {
     "name": "stdout",
     "output_type": "stream",
     "text": [
      "白\n",
      "赤\n",
      "青\n",
      "黒\n"
     ]
    }
   ],
   "source": [
    "for i in color_dic:\n",
    "    print(color_dic[i])"
   ]
  },
  {
   "cell_type": "markdown",
   "metadata": {},
   "source": [
    "#### 問題2.2\n",
    "キーをリストとして取り出す操作を用いて，ディクショナリnum_dict = {\"5\":\"四谷\", \"2\":\"新宿\", \"3\":\"渋谷\", \"1\":\"東京\", \"4\":\"池袋\"}の要素をキーの小さい順番にリスト化して出力するプログラムを作成しなさい．\n",
    "\n",
    "出力結果\n",
    "```['東京', '新宿', '渋谷', '池袋', '四谷']```"
   ]
  },
  {
   "cell_type": "code",
   "execution_count": null,
   "metadata": {},
   "outputs": [
    {
     "name": "stdout",
     "output_type": "stream",
     "text": [
      "{'1': '東京', '2': '新宿', '3': '渋谷', '4': '池袋', '5': '四谷'}\n",
      "['東京', '新宿', '渋谷', '池袋', '四谷']\n"
     ]
    }
   ],
   "source": [
    "# 解答1.5\n",
    "# 辞書の要素をキーの順番通りにリスト化して出力するプログラム\n",
    "import numpy as np\n",
    "\n",
    "#num_dict={5:'薩摩', 2:'阿部', 3:'西川', 1:'高石', 4:'渡辺'}\n",
    "num_dict1={\"5\":\"四谷\", \"2\":\"新宿\", \"3\":\"渋谷\", \"1\":\"東京\", \"4\":\"池袋\"}\n",
    "\n",
    "# 解答1\n",
    "num_dict_new=dict(sorted(num_dict1.items()))\n",
    "\n",
    "print(num_dict_new)\n",
    "print(list(num_dict_new.values()))"
   ]
  },
  {
   "cell_type": "code",
   "execution_count": null,
   "metadata": {},
   "outputs": [
    {
     "name": "stdout",
     "output_type": "stream",
     "text": [
      "{'1': '東京', '2': '新宿', '3': '渋谷', '4': '池袋', '5': '四谷'}\n",
      "['東京', '新宿', '渋谷', '池袋', '四谷']\n"
     ]
    }
   ],
   "source": [
    "# 解答1.5\n",
    "# 辞書の要素をキーの順番通りにリスト化して出力するプログラム\n",
    "import numpy as np\n",
    "\n",
    "#num_dict={5:'薩摩', 2:'阿部', 3:'西川', 1:'高石', 4:'渡辺'}\n",
    "num_dict1={\"5\":\"四谷\", \"2\":\"新宿\", \"3\":\"渋谷\", \"1\":\"東京\", \"4\":\"池袋\"}\n",
    "\n",
    "# 解答1\n",
    "num_dict_new=dict(sorted(num_dict1.items()))\n",
    "\n",
    "print(num_dict_new)\n",
    "print(list(num_dict_new.values()))"
   ]
  },
  {
   "cell_type": "markdown",
   "metadata": {},
   "source": [
    "### 2.3 タプルは辞書のキーとして使える（リストは辞書のキーとして使えない）"
   ]
  },
  {
   "cell_type": "markdown",
   "metadata": {},
   "source": [
    "タプル型はディクショナリ型のキーとして使うことが出来る．"
   ]
  },
  {
   "cell_type": "code",
   "execution_count": null,
   "metadata": {},
   "outputs": [
    {
     "data": {
      "text/plain": [
       "{('国際展示場', '0922'): '雨'}"
      ]
     },
     "metadata": {},
     "output_type": "display_data"
    }
   ],
   "source": [
    "tenki = {}\n",
    "key = (\"国際展示場\", \"0922\")\n",
    "tenki[key] = \"雨\"\n",
    "tenki"
   ]
  },
  {
   "cell_type": "markdown",
   "metadata": {},
   "source": [
    "ちなみに，リスト型はディクショナリ型のキーとして使えない．"
   ]
  },
  {
   "cell_type": "code",
   "execution_count": null,
   "metadata": {},
   "outputs": [
    {
     "ename": "TypeError",
     "evalue": "unhashable type: 'list'",
     "output_type": "error",
     "traceback": [
      "\u001b[0;31m---------------------------------------------------------------------------\u001b[0m\n",
      "\u001b[0;31mTypeError\u001b[0m                                 Traceback (most recent call last)\n",
      "\u001b[1;32mセル61 を /home/kinop/work/math_eng2/src/MEE2_01_02.ipynb\u001b[0m in \u001b[0;36m<cell line: 3>\u001b[0;34m()\u001b[0m\n",
      "\u001b[1;32m      <a href='vscode-notebook-cell://wsl%2Bubuntu-20.04/home/kinop/work/math_eng2/src/MEE2_01_02.ipynb#Y114sdnNjb2RlLXJlbW90ZQ%3D%3D?line=0'>1</a>\u001b[0m tenki2 \u001b[39m=\u001b[39m {}\n",
      "\u001b[1;32m      <a href='vscode-notebook-cell://wsl%2Bubuntu-20.04/home/kinop/work/math_eng2/src/MEE2_01_02.ipynb#Y114sdnNjb2RlLXJlbW90ZQ%3D%3D?line=1'>2</a>\u001b[0m key \u001b[39m=\u001b[39m [\u001b[39m\"\u001b[39m\u001b[39m大井町\u001b[39m\u001b[39m\"\u001b[39m, \u001b[39m\"\u001b[39m\u001b[39m0921\u001b[39m\u001b[39m\"\u001b[39m]\n",
      "\u001b[0;32m----> <a href='vscode-notebook-cell://wsl%2Bubuntu-20.04/home/kinop/work/math_eng2/src/MEE2_01_02.ipynb#Y114sdnNjb2RlLXJlbW90ZQ%3D%3D?line=2'>3</a>\u001b[0m tenki2[key] \u001b[39m=\u001b[39m \u001b[39m\"\u001b[39m\u001b[39m曇り\u001b[39m\u001b[39m\"\u001b[39m\n",
      "\u001b[1;32m      <a href='vscode-notebook-cell://wsl%2Bubuntu-20.04/home/kinop/work/math_eng2/src/MEE2_01_02.ipynb#Y114sdnNjb2RlLXJlbW90ZQ%3D%3D?line=3'>4</a>\u001b[0m tenki2\n",
      "\n",
      "\u001b[0;31mTypeError\u001b[0m: unhashable type: 'list'"
     ]
    }
   ],
   "source": [
    "tenki2 = {}\n",
    "key = [\"大井町\", \"0921\"]\n",
    "tenki2[key] = \"曇り\"\n",
    "tenki2"
   ]
  },
  {
   "cell_type": "markdown",
   "metadata": {},
   "source": [
    "#### 問題2.3\n",
    "133.35.254.250～253までの4つのIPアドレスと\"gmail.com\", \"yahoo.co.jp\", \"musashino-u.ac.jp\", \"facebook.com\"の4つのドメイン名を対応させ，ディクショナリ型として管理して下さい．\n",
    "\n",
    "ヒント<br />\n",
    "IPアドレスをタプル型でキーとして取り扱い，ドメイン名を値とするディクショナリ型を作ればよい．"
   ]
  },
  {
   "cell_type": "code",
   "execution_count": null,
   "metadata": {},
   "outputs": [
    {
     "name": "stdout",
     "output_type": "stream",
     "text": [
      "{'133.35.254.250': 'gmail.com', '133.35.254.251': 'yahoo.co.jp', '133.35.254.252': 'musashino-u.ac.jp', '133.35.254.253': 'facebook.com'}\n",
      "{'133.35.254.250': 'gmail.com', '133.35.254.251': 'yahoo.co.jp', '133.35.254.252': 'musashino-u.ac.jp', '133.35.254.253': 'facebook.com'}\n"
     ]
    }
   ],
   "source": [
    "# 解答2.3\n",
    "moji='133.35.254.'+'250'\n",
    "key_web=()\n",
    "for i in range(250, 254):\n",
    "    key_web+=tuple(['133.35.254.'+str(i)])\n",
    "value_web=[\"gmail.com\", \"yahoo.co.jp\", \"musashino-u.ac.jp\", \"facebook.com\"]\n",
    "\n",
    "dict_web1={}\n",
    "for i in range(4):\n",
    "    dict_web1[key_web[i]]=value_web[i]\n",
    "print(dict_web1)\n",
    "\n",
    "#別解\n",
    "dict_web2=dict(zip(key_web, value_web))\n",
    "print(dict_web2)"
   ]
  },
  {
   "cell_type": "markdown",
   "metadata": {},
   "source": [
    "### 2.4 set型（集合型）\n",
    "Pythonの型の中で複数のデータを持つ型としてこれまで`list`型（リスト），`str`型（文字列），`dict`型（辞書），`tuple`型（タプル）について学びました（複数のデータを持つ型の総称をコンテナ型と呼びます）．もう一つ複数のデータを持つ型として **`set`型（集合）** があります．`set`型は集合演算できるところに特徴があります．  \n",
    "集合は`{ }`で囲って複数のデータをリストのように並べます（辞書も`{ }`で囲って定義しますがkeyと値がセットで必要でした）． **集合は順序を持っていませんのでリストのようにインデックスでデータを指定できません** ．また，集合は重複したデータを持つことが出来ません（インデックスが無いのでデータを区別することが出来ないのです）．以下のようにいくつかの方法で定義できます．"
   ]
  },
  {
   "cell_type": "code",
   "execution_count": null,
   "metadata": {},
   "outputs": [
    {
     "name": "stdout",
     "output_type": "stream",
     "text": [
      "{'c', 'd', 'a', 'b'}\n"
     ]
    }
   ],
   "source": [
    "# 集合の定義\n",
    "st01={'a', 'b','c','d'}\n",
    "print(st01)"
   ]
  },
  {
   "cell_type": "code",
   "execution_count": null,
   "metadata": {},
   "outputs": [
    {
     "name": "stdout",
     "output_type": "stream",
     "text": [
      "<class 'set'>\n"
     ]
    }
   ],
   "source": [
    "print(type(st01))"
   ]
  },
  {
   "cell_type": "code",
   "execution_count": null,
   "metadata": {},
   "outputs": [
    {
     "name": "stdout",
     "output_type": "stream",
     "text": [
      "{'f', 'g', 'e', 'd'}\n"
     ]
    }
   ],
   "source": [
    "# 集合は重複データを持つ事が出来ない\n",
    "st02={'d', 'e', 'f', 'g', 'e', 'f', 'g', 'f', 'g', 'g'}\n",
    "print(st02)"
   ]
  },
  {
   "cell_type": "markdown",
   "metadata": {},
   "source": [
    "リストから集合を作ることも可能です.`set()`関数によってリストを集合へ変換してます．"
   ]
  },
  {
   "cell_type": "code",
   "execution_count": null,
   "metadata": {},
   "outputs": [
    {
     "name": "stdout",
     "output_type": "stream",
     "text": [
      "['d', 'e', 'f', 'g', 'e', 'f', 'g', 'f', 'g', 'g']\n",
      "{'f', 'g', 'e', 'd'}\n"
     ]
    }
   ],
   "source": [
    "# 集合の定義2\n",
    "lt01=['d', 'e', 'f', 'g', 'e', 'f', 'g', 'f', 'g', 'g']\n",
    "print(lt01)\n",
    "st02=set(lt01)\n",
    "print(st02)"
   ]
  },
  {
   "cell_type": "markdown",
   "metadata": {},
   "source": [
    "集合の演算は数学（確率・統計）で学んだと思います"
   ]
  },
  {
   "cell_type": "code",
   "execution_count": null,
   "metadata": {},
   "outputs": [
    {
     "data": {
      "text/plain": [
       "{'a', 'b', 'c', 'd', 'e', 'f', 'g'}"
      ]
     },
     "metadata": {},
     "output_type": "display_data"
    }
   ],
   "source": [
    "st01 | st02 # 和集合"
   ]
  },
  {
   "cell_type": "code",
   "execution_count": null,
   "metadata": {},
   "outputs": [
    {
     "data": {
      "text/plain": [
       "{'d'}"
      ]
     },
     "metadata": {},
     "output_type": "display_data"
    }
   ],
   "source": [
    "st01 & st02 # 積集合（共通部分）"
   ]
  },
  {
   "cell_type": "code",
   "execution_count": null,
   "metadata": {},
   "outputs": [
    {
     "data": {
      "text/plain": [
       "{'a', 'b', 'c'}"
      ]
     },
     "metadata": {},
     "output_type": "display_data"
    }
   ],
   "source": [
    "st01 - st02 # 差集合"
   ]
  },
  {
   "cell_type": "code",
   "execution_count": null,
   "metadata": {},
   "outputs": [
    {
     "data": {
      "text/plain": [
       "{'a', 'b', 'c', 'e', 'f', 'g'}"
      ]
     },
     "metadata": {},
     "output_type": "display_data"
    }
   ],
   "source": [
    "st01 ^ st02 # 対称差"
   ]
  },
  {
   "cell_type": "markdown",
   "metadata": {},
   "source": [
    "集合で定義されているメソッドには以下のようなものがあります．その他集合で定義されてるすべてのメソッドは[ここ](http://docs.python.jp/3/library/stdtypes.html#set)を参照のこと\n",
    "\n",
    "<table>\n",
    "        <tr>\n",
    "        <th>メソッドまたは関数（aは集合、itemはデータ）</th>\n",
    "        <th>説明</th>\n",
    "    　　</tr>\n",
    "        <tr>\n",
    "        <td>len(a)</td>\n",
    "        <td>aのデータ数</td>\n",
    "    　　</tr>\n",
    "        <tr>\n",
    "        <td>a.copy()</td>\n",
    "        <td>aのコピー</td>\n",
    "    　　</tr>\n",
    "        <tr>\n",
    "        <td>a.add(item)</td>\n",
    "        <td>aにitemを加える</td>\n",
    "    　　</tr>\n",
    "        <tr>\n",
    "        <td>a.clear()</td>\n",
    "        <td>aのデータを全削除</td>\n",
    "    　　</tr>\n",
    "        <tr>\n",
    "        <td>a.discard(item)</td>\n",
    "        <td>aからitemを削除する（itemがなければ何もしない）</td>\n",
    "    　　</tr>\n",
    "        <tr>\n",
    "        <td>a.difference(b)</td>\n",
    "        <td>差集合（bにはなくてaにはある要素を返す）</td>\n",
    "    　　</tr>\n",
    "        <tr>\n",
    "        <td>a.intersection(b)</td>\n",
    "        <td>積集合（aにもbにもある要素を返す）</td>\n",
    "    　　</tr>\n",
    "        <tr>\n",
    "        <td>a.union(b)</td>\n",
    "        <td>和集合（aかbに含まれる要素を返す）</td>\n",
    "    　　</tr>\n",
    "</table>"
   ]
  },
  {
   "cell_type": "code",
   "execution_count": null,
   "metadata": {},
   "outputs": [
    {
     "name": "stdout",
     "output_type": "stream",
     "text": [
      " st01の長さ4\n",
      " st02の長さ4\n"
     ]
    }
   ],
   "source": [
    "print(' st01の長さ{}\\n st02の長さ{}'.format(len(st01),len(st02)))"
   ]
  },
  {
   "cell_type": "code",
   "execution_count": null,
   "metadata": {},
   "outputs": [
    {
     "data": {
      "text/plain": [
       "{'a', 'b', 'c', 'd', 'e'}"
      ]
     },
     "metadata": {},
     "output_type": "display_data"
    }
   ],
   "source": [
    "st01.add('e')\n",
    "st01"
   ]
  },
  {
   "cell_type": "code",
   "execution_count": null,
   "metadata": {},
   "outputs": [
    {
     "data": {
      "text/plain": [
       "{'a', 'b', 'c', 'd'}"
      ]
     },
     "metadata": {},
     "output_type": "display_data"
    }
   ],
   "source": [
    "st01.discard('e')\n",
    "st01"
   ]
  },
  {
   "cell_type": "markdown",
   "metadata": {},
   "source": [
    "#### 問題2.4\n",
    "サイコロ投げについて考えます．事象$A$:「目が素数」，事象$B$:「目が奇数」とした時に事象$A$と事象$B$を`set`型で定義し，\n",
    "\n",
    "1. $A \\cap B$が起こる確率\n",
    "1. $A \\cup B$が起こる確率\n",
    "\n",
    "を`set`型を用いて計算しなさい．"
   ]
  },
  {
   "cell_type": "code",
   "execution_count": null,
   "metadata": {},
   "outputs": [
    {
     "name": "stdout",
     "output_type": "stream",
     "text": [
      "0.3333333333333333\n",
      "0.6666666666666666\n"
     ]
    }
   ],
   "source": [
    "# 解答2.4\n",
    "stA={2, 3, 5}\n",
    "stB={1, 3, 5}\n",
    "\n",
    "seki=stA & stB\n",
    "prob_seki=len(seki)/6\n",
    "print(prob_seki)\n",
    "wa= stA | stB\n",
    "prob_wa=len(wa)/6\n",
    "print(prob_wa)"
   ]
  },
  {
   "cell_type": "markdown",
   "metadata": {},
   "source": [
    "## レポート課題\n",
    "\n",
    "学籍番号0～100を5で割って余りに応じて，A, B, C, D, Eの5つのクラスに分ける。\n",
    "このとき、学籍番号とクラス名をディクショナリに格納するプログラムを作成しなさい．\n",
    "\n",
    "ただし，学籍番号をキーとして、クラス名（A, B，C，D，E）を値とした1つのディクショナリとすること．\n",
    "\n",
    "*ヒント*\n",
    "\n",
    "ループ（`for`）や条件分岐（`if`）を用い適切に用い5つのディクショナリに分類してみてください．\n",
    "\n",
    "**〆切：10/0２（水）18:00までにGoogle Classroomで「学籍番号\\_01.ipynb」形式で送ること**"
   ]
  }
 ],
 "metadata": {
  "kernelspec": {
   "display_name": "Python 3",
   "language": "python",
   "name": "python3"
  },
  "language_info": {
   "codemirror_mode": {
    "name": "ipython",
    "version": 3
   },
   "file_extension": ".py",
   "mimetype": "text/x-python",
   "name": "python",
   "nbconvert_exporter": "python",
   "pygments_lexer": "ipython3",
   "version": "3.12.6"
  }
 },
 "nbformat": 4,
 "nbformat_minor": 2
}
