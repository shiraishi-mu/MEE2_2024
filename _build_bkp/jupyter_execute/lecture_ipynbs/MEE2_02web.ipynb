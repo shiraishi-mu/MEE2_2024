{
 "cells": [
  {
   "cell_type": "markdown",
   "metadata": {},
   "source": [
    "# 第02回 数理工学実験２"
   ]
  },
  {
   "cell_type": "markdown",
   "metadata": {},
   "source": [
    "## 3. 関数\n",
    "\n",
    "これまで，「print()」や「type()」などpythonに初めから用意されている<strong>組み込み関数</strong>を使ってきました．\n",
    "ここでは改めて<strong>関数</strong>について学びます．\n",
    "\n",
    "例えば，数学の関数$y=2x$では$x$に値が代入され$2x$という演算を行い，演算結果が$y$へ出力されます．\n",
    "\n",
    "同じように，Pythonにおける関数も「データが渡され」，「そのデータに何らかの演算を施し」，「演算結果が出力」されます．それでは,早速関数を作ってみましょう．"
   ]
  },
  {
   "cell_type": "markdown",
   "metadata": {},
   "source": [
    "### 3.1 関数の作り方\n",
    "\n",
    "関数を作るには<strong>def</strong>というキーワードを使います．ここでは，三角形の面積を計算する関数を作ってみます．"
   ]
  },
  {
   "cell_type": "code",
   "execution_count": 1,
   "metadata": {},
   "outputs": [],
   "source": [
    "# 三角形を計算する関数の定義(prog08_01.py)\n",
    "def triarea1():\n",
    "    base=10                # 底辺の長さ\n",
    "    height=5               # 高さ\n",
    "    area=base * height / 2 # 三角形の面積\n",
    "    print(\"三角形の面積：\", area)"
   ]
  },
  {
   "cell_type": "code",
   "execution_count": 2,
   "metadata": {},
   "outputs": [
    {
     "name": "stdout",
     "output_type": "stream",
     "text": [
      "三角形の面積： 25.0\n"
     ]
    }
   ],
   "source": [
    "triarea1() # 関数の呼び出し"
   ]
  },
  {
   "cell_type": "markdown",
   "metadata": {},
   "source": [
    "#### 3.1.1 引数を持つ関数"
   ]
  },
  {
   "cell_type": "markdown",
   "metadata": {},
   "source": [
    "1行目のdefの後ろに関数の名前（今回は`triarea1()`）を書き，最後に`:`（コロン）とつけます。2行目以下は`triarea1()`関数で行われる処理になります．これが最も基本的な関数です．\n",
    "関数を呼び出すには「関数の名前()」（今回の場合は`triarea1()`）を実行するだけです．\n",
    "prog08_01.pyは「底辺=10」「高さ=5」と限定された三角形の面積しか計算できません．そこで，任意の「底辺」，「高さ」が与えた時に三角形の面積を計算する関数を作ってみます．"
   ]
  },
  {
   "cell_type": "code",
   "execution_count": 3,
   "metadata": {},
   "outputs": [],
   "source": [
    "# 任意の底辺・高さを持つ三角形を計算する関数(prog08_02.py)\n",
    "def triarea2(base, height): # 仮引数を用意し関数を定義する\n",
    "    area=base * height / 2 # 三角形の面積\n",
    "    print(\"三角形の面積：\", area)"
   ]
  },
  {
   "cell_type": "code",
   "execution_count": 4,
   "metadata": {},
   "outputs": [
    {
     "name": "stdout",
     "output_type": "stream",
     "text": [
      "三角形の面積： 5.0\n"
     ]
    }
   ],
   "source": [
    "triarea2(5, 2) # 底辺・高さの大きさ（データ）を実引数として関数へ渡した上で関数の実行"
   ]
  },
  {
   "cell_type": "markdown",
   "metadata": {},
   "source": [
    "prog08_02.pyでは底辺と高さを任意の値とするために **引数** を使ってます。\n",
    "引数とは関数を呼ぶときにデータを渡すことが出来る仕組みです．\n",
    "\n",
    "具体的には，上の例のように`triarea2`関数の`()`の中に引数としてbase, heightといった変数を用意し，関数を呼び出すときに`()`内に具体的なデータ（今回の場合は底辺=5，高さ=2）を入れる事となります．\n",
    "\n",
    "関数の定義時に`()`内に用意する引数を**仮引数**と呼び，関数を呼び出すときに`()`内に入れるデータのことを**実引数**と呼びます．`()`内に引数を入れて関数を実行する事を「**引数を渡す**」といいます．"
   ]
  },
  {
   "cell_type": "markdown",
   "metadata": {},
   "source": [
    "#### 3.1.2 関数の戻り値\n",
    "続いて，関数によって処理されたデータを返してくれる機能（**関数からの値の返却**）について説明します．下のプログラムprog08_03.pyを見て下さい。"
   ]
  },
  {
   "cell_type": "code",
   "execution_count": 5,
   "metadata": {},
   "outputs": [],
   "source": [
    "# 任意の底辺・高さを持つ三角形を計算する関数(prog08_03.py)\n",
    "def triarea2(base, height): # 仮引数を用意し関数を定義する\n",
    "    area=base * height / 2 # 三角形の面積\n",
    "    return area # 面積を返す"
   ]
  },
  {
   "cell_type": "code",
   "execution_count": 6,
   "metadata": {},
   "outputs": [
    {
     "data": {
      "text/plain": [
       "125.0"
      ]
     },
     "execution_count": 6,
     "metadata": {},
     "output_type": "execute_result"
    }
   ],
   "source": [
    "triangle=triarea2(5, 10) # 底辺5・高さ10の三角形の面積\n",
    "triangle * 5             # 三角形の面積を5倍する"
   ]
  },
  {
   "cell_type": "markdown",
   "metadata": {},
   "source": [
    "上のprog08_03.pyとprog08_02.pyを比較すると4行目が<code>print(\"三角形の面積：\", area)</code>→<code>return area</code>へと変更されているのが分かります．\n",
    "\n",
    "<strong>return</strong>は関数を呼び出したときに，「returnの右側に書いたデータ」を返します．関数を呼び出したときに返ってくるデータを<strong>戻り値(返り値)</strong>といいます．"
   ]
  },
  {
   "cell_type": "markdown",
   "metadata": {},
   "source": [
    "#### 問題3.1\n",
    "辺の長さを指定して正三角形の面積を計算する関数を作成しなさい．（prog08\\_04.py）\n",
    "\n",
    "**ヒント**：\n",
    "- mathライブラリをインポートし`sin()`関数を使うと高さの計算が容易[数学関数（math）](http://docs.python.jp/3/library/math.html#trigonometric-functions)"
   ]
  },
  {
   "cell_type": "markdown",
   "metadata": {},
   "source": [
    "#### 3.1.3 return文"
   ]
  },
  {
   "cell_type": "markdown",
   "metadata": {},
   "source": [
    "`return`文は複数存在しても大丈夫です．"
   ]
  },
  {
   "cell_type": "code",
   "execution_count": 7,
   "metadata": {},
   "outputs": [
    {
     "ename": "StdinNotImplementedError",
     "evalue": "raw_input was called, but this frontend does not support input requests.",
     "output_type": "error",
     "traceback": [
      "\u001b[0;31m---------------------------------------------------------------------------\u001b[0m",
      "\u001b[0;31mStdinNotImplementedError\u001b[0m                  Traceback (most recent call last)",
      "Cell \u001b[0;32mIn[7], line 16\u001b[0m\n\u001b[1;32m     13\u001b[0m         \u001b[38;5;28;01mreturn\u001b[39;00m a\n\u001b[1;32m     14\u001b[0m     \u001b[38;5;28;01mreturn\u001b[39;00m b\n\u001b[0;32m---> 16\u001b[0m n1\u001b[38;5;241m=\u001b[39m\u001b[38;5;28mint\u001b[39m(\u001b[38;5;28;43minput\u001b[39;49m\u001b[43m(\u001b[49m\u001b[38;5;124;43m'\u001b[39;49m\u001b[38;5;124;43m整数n1:\u001b[39;49m\u001b[38;5;124;43m'\u001b[39;49m\u001b[43m)\u001b[49m)\n\u001b[1;32m     17\u001b[0m n2\u001b[38;5;241m=\u001b[39m\u001b[38;5;28mint\u001b[39m(\u001b[38;5;28minput\u001b[39m(\u001b[38;5;124m'\u001b[39m\u001b[38;5;124m整数n2:\u001b[39m\u001b[38;5;124m'\u001b[39m))\n\u001b[1;32m     19\u001b[0m \u001b[38;5;28mprint\u001b[39m(\u001b[38;5;124m'\u001b[39m\u001b[38;5;124m最小値は\u001b[39m\u001b[38;5;132;01m{}\u001b[39;00m\u001b[38;5;124mです。\u001b[39m\u001b[38;5;124m'\u001b[39m\u001b[38;5;241m.\u001b[39mformat(min1(n1, n2)))\n",
      "File \u001b[0;32m~/Dropbox/2024数理工学実験２/2024Shiraishi/.venv/lib/python3.12/site-packages/ipykernel/kernelbase.py:1281\u001b[0m, in \u001b[0;36mKernel.raw_input\u001b[0;34m(self, prompt)\u001b[0m\n\u001b[1;32m   1279\u001b[0m \u001b[38;5;28;01mif\u001b[39;00m \u001b[38;5;129;01mnot\u001b[39;00m \u001b[38;5;28mself\u001b[39m\u001b[38;5;241m.\u001b[39m_allow_stdin:\n\u001b[1;32m   1280\u001b[0m     msg \u001b[38;5;241m=\u001b[39m \u001b[38;5;124m\"\u001b[39m\u001b[38;5;124mraw_input was called, but this frontend does not support input requests.\u001b[39m\u001b[38;5;124m\"\u001b[39m\n\u001b[0;32m-> 1281\u001b[0m     \u001b[38;5;28;01mraise\u001b[39;00m StdinNotImplementedError(msg)\n\u001b[1;32m   1282\u001b[0m \u001b[38;5;28;01mreturn\u001b[39;00m \u001b[38;5;28mself\u001b[39m\u001b[38;5;241m.\u001b[39m_input_request(\n\u001b[1;32m   1283\u001b[0m     \u001b[38;5;28mstr\u001b[39m(prompt),\n\u001b[1;32m   1284\u001b[0m     \u001b[38;5;28mself\u001b[39m\u001b[38;5;241m.\u001b[39m_parent_ident[\u001b[38;5;124m\"\u001b[39m\u001b[38;5;124mshell\u001b[39m\u001b[38;5;124m\"\u001b[39m],\n\u001b[1;32m   1285\u001b[0m     \u001b[38;5;28mself\u001b[39m\u001b[38;5;241m.\u001b[39mget_parent(\u001b[38;5;124m\"\u001b[39m\u001b[38;5;124mshell\u001b[39m\u001b[38;5;124m\"\u001b[39m),\n\u001b[1;32m   1286\u001b[0m     password\u001b[38;5;241m=\u001b[39m\u001b[38;5;28;01mFalse\u001b[39;00m,\n\u001b[1;32m   1287\u001b[0m )\n",
      "\u001b[0;31mStdinNotImplementedError\u001b[0m: raw_input was called, but this frontend does not support input requests."
     ]
    }
   ],
   "source": [
    "# (a, b)の最小値を求めて返す関数\n",
    "def min1(a, b):\n",
    "    \"\"\"return文１つ\"\"\"\n",
    "    if a<b:\n",
    "        min=a\n",
    "    else:\n",
    "        min=b\n",
    "    return min\n",
    "    \n",
    "def min2(a, b):\n",
    "    \"\"\"return文2つ\"\"\"\n",
    "    if a<b:\n",
    "        return a\n",
    "    return b\n",
    "\n",
    "n1=int(input('整数n1:'))\n",
    "n2=int(input('整数n2:'))\n",
    "\n",
    "print('最小値は{}です。'.format(min1(n1, n2)))\n",
    "print(f'最小値は{min(n1,n2)}です。')"
   ]
  },
  {
   "cell_type": "markdown",
   "metadata": {},
   "source": [
    "また，複数の値を返すこともできる．"
   ]
  },
  {
   "cell_type": "code",
   "execution_count": 1,
   "metadata": {},
   "outputs": [],
   "source": [
    "# 2値の最小値と最大値を求める\n",
    "\n",
    "def min_max1(a,b):\n",
    "    \"\"\"aとbの大きい方と小さいほうを両方とも返す関数\"\"\"\n",
    "    if a<b:\n",
    "        min=a\n",
    "        max=b\n",
    "    else:\n",
    "        min=b\n",
    "        max=a\n",
    "    \n",
    "    return (min, max)\n",
    "\n",
    "n1=int(input('整数n1:'))\n",
    "n2=int(input('整数n2:'))\n",
    "\n",
    "print('最小値、最大値の組は{}です。'.format(min_max1(n1, n2)))\n",
    "\n",
    "def min_max2(a,b):\n",
    "    \"\"\"aとbの大きい方と小さいほうを両方とも返す関数(1行で返す)。条件演算子x if y else zを使った\"\"\"    \n",
    "    return (a, b) if a<b else (b, a)\n",
    "\n",
    "n1=int(input('整数n1:'))\n",
    "n2=int(input('整数n2:'))\n",
    "\n",
    "print('最小値、最大値の組は{}です。'.format(min_max2(n1, n2)))\n",
    "print(f'最小値、最大値の組は{min_max2(n1, n2)}です。')"
   ]
  },
  {
   "cell_type": "markdown",
   "metadata": {},
   "source": [
    "### 3.2 モジュールを作る\n",
    "\n",
    "Pythonには組み込み関数以外にも特定の用途に応じて関数やメソッドがまとめられており，それらを**モジュール**と呼びます．\n",
    "\n",
    "モジュールの使い方は「情報処理」の講義でやりましたがちょっと復習してみます（[モジュールのインポートと使い方](http://kino.sub.jp/IT2015_old/IT_06.html)）．\n",
    "\n",
    "例えば，「`random`モジュール（乱数モジュール）」の中にある「0以上1以下のランダムな浮動小数点」を発生する`random()`関数は下記のようにして呼び出します．"
   ]
  },
  {
   "cell_type": "code",
   "execution_count": 6,
   "metadata": {},
   "outputs": [
    {
     "data": {
      "text/plain": [
       "0.05014640336153997"
      ]
     },
     "execution_count": 6,
     "metadata": {},
     "output_type": "execute_result"
    }
   ],
   "source": [
    "# 0以上1以下のランダムな浮動小数点を呼び出す\n",
    "import random\n",
    "random.random()"
   ]
  },
  {
   "cell_type": "markdown",
   "metadata": {},
   "source": [
    "モジュールは関数がまとめて定義されているものです．もちろん，自分で作ることもできるので早速作ってみましょう．今回は「円の面積」や「円周の長さ」といった円に関わる関数をモジュールとしてまとめてみます．まず，下記に「円の面積」と「円周の長さ」を計算する関数を書きます．"
   ]
  },
  {
   "cell_type": "code",
   "execution_count": 7,
   "metadata": {},
   "outputs": [],
   "source": [
    "# 円の面積を計算する関数\n",
    "def area(radius):\n",
    "    menseki= radius * radius * 3.14\n",
    "    return menseki    "
   ]
  },
  {
   "cell_type": "code",
   "execution_count": 8,
   "metadata": {},
   "outputs": [
    {
     "data": {
      "text/plain": [
       "78.5"
      ]
     },
     "execution_count": 8,
     "metadata": {},
     "output_type": "execute_result"
    }
   ],
   "source": [
    "area(5)"
   ]
  },
  {
   "cell_type": "code",
   "execution_count": 9,
   "metadata": {},
   "outputs": [],
   "source": [
    "# 円周の長さを計算する関数\n",
    "def cercom(radius):\n",
    "    enshu = radius * 3.14*2\n",
    "    return enshu"
   ]
  },
  {
   "cell_type": "code",
   "execution_count": 10,
   "metadata": {},
   "outputs": [
    {
     "data": {
      "text/plain": [
       "31.400000000000002"
      ]
     },
     "execution_count": 10,
     "metadata": {},
     "output_type": "execute_result"
    }
   ],
   "source": [
    "cercom(5)"
   ]
  },
  {
   "cell_type": "markdown",
   "metadata": {},
   "source": [
    "それではこれら2つの関数を含む「円モジュール」を作成します．\n",
    "\n",
    "上の2つのプログラムをSpyder上でcircle.pyというスクリプトファイルとして保存してください（jupyter notebookを立ち上げたディレクトリと同じディレクトリに保存すること）．"
   ]
  },
  {
   "cell_type": "code",
   "execution_count": 12,
   "metadata": {},
   "outputs": [],
   "source": [
    "# 円モジュール circle.py\n",
    "def area(radius):\n",
    "    menseki= radius * radius * 3.14\n",
    "    return menseki  \n",
    "\n",
    "def cercom(radius):\n",
    "    enshu = 2 * radius * 3.14\n",
    "    return enshu"
   ]
  },
  {
   "cell_type": "markdown",
   "metadata": {},
   "source": [
    "続いて，pythonのコンソール上（jupyter notebook上でもOK）で以下のように記述します．"
   ]
  },
  {
   "cell_type": "code",
   "execution_count": 13,
   "metadata": {},
   "outputs": [
    {
     "name": "stdout",
     "output_type": "stream",
     "text": [
      "314.0\n",
      "62.800000000000004\n"
     ]
    }
   ],
   "source": [
    "import circle\n",
    "print(circle.area(10))\n",
    "print(circle.cercom(10))"
   ]
  },
  {
   "cell_type": "markdown",
   "metadata": {},
   "source": [
    "非常に簡単ですね．\n",
    "\n",
    "さて，今回のプログラムでは円周の長さとして変な値が出力されたと感じるかも知れませんが，これは2進数の浮動小数点ではごく自然なものでありバグではありません．\n",
    "\n",
    "2進数の浮動小数点演算をサポートするすべての言語で同じ種類の問題を抱えています．\n",
    "\n",
    "要するに，`0.1`を2進数で正確に表現することは出来ないのです．このことについては後で詳しく説明します．"
   ]
  },
  {
   "cell_type": "markdown",
   "metadata": {},
   "source": [
    "### 3.3 名前空間とスコープ\n",
    "\n",
    "関数を用いモジュールとしてまとめるとプログラミングを便利に楽に作成できるようになります．\n",
    "\n",
    "ここでは，プログラム内で関数を使う際に注意が必要なものが<strong>名前空間</strong>と<strong>スコープ</strong>という概念です．\n",
    "\n",
    "名前空間とは変数などのオブジェクト（pythonの場合関数やメソッドなど全てがオブジェクト）が所属する場所のことです．\n",
    "\n",
    "そして,スコープとはプログラム内でオブジェクトが有効になる範囲のことです．\n",
    "\n",
    "Pythonでよく使うスコープは<strong>モジュールスコープ</strong>と<strong>ローカルスコープ</strong>の2つです．\n",
    "\n",
    "言葉だけだと分かりにくいので例を見てみましょう．"
   ]
  },
  {
   "cell_type": "code",
   "execution_count": 11,
   "metadata": {},
   "outputs": [],
   "source": [
    "#名前空間とスコープの例（1）\n",
    "a, b = 1, 2 # a,bは関数の外つまりモジュール名前空間に所属（下で定義されているfunc1()以外の範囲がグローバルスコープになります．）\n",
    "def func1():\n",
    "    a=3     # aは関数func1()のローカル名前空間に所属（この関数内をfunc1()のローカルスコープといいます．）\n",
    "    print(a, b)"
   ]
  },
  {
   "cell_type": "code",
   "execution_count": 12,
   "metadata": {},
   "outputs": [
    {
     "name": "stdout",
     "output_type": "stream",
     "text": [
      "3 2\n"
     ]
    }
   ],
   "source": [
    "func1()"
   ]
  },
  {
   "cell_type": "code",
   "execution_count": 13,
   "metadata": {},
   "outputs": [
    {
     "name": "stdout",
     "output_type": "stream",
     "text": [
      "1\n"
     ]
    }
   ],
   "source": [
    "print(a)"
   ]
  },
  {
   "cell_type": "markdown",
   "metadata": {},
   "source": [
    "上のプログラムの例では，関数func1()の外で変数a,bが定義されておりa,bはモジュール名前空間に所属してます．\n",
    "\n",
    "一方，func1()の中では新たに変数aが定義されておりこのaはfunc1()のローカル名前空間に所属しています．\n",
    "\n",
    "<strong>この関数の中にあるaと関数の外にあるaは全く関係ありません</strong>．\n",
    "\n",
    "したがって，func1()を呼び出したときにはfunc1()内で定義されたa=3が出力され，関数の外ではa=1が出力されることになります．"
   ]
  },
  {
   "cell_type": "markdown",
   "metadata": {},
   "source": [
    "### 問題3.3\n",
    "以下のプログラムがどのような出力を示すか，予想してください．その後プログラムを実行し結果を確認してください．"
   ]
  },
  {
   "cell_type": "code",
   "execution_count": null,
   "metadata": {},
   "outputs": [],
   "source": [
    "# 名前空間とスコープの例\n",
    "def func3(x):\n",
    "    y=1\n",
    "    x=x+y\n",
    "    print(\"x=\", x)\n",
    "    return x\n",
    "x=3\n",
    "y=2\n",
    "z=func3(x)\n",
    "print(\"z=\", z)\n",
    "print(\"x=\", x)\n",
    "print(\"y=\", y)"
   ]
  },
  {
   "cell_type": "markdown",
   "metadata": {},
   "source": [
    "### 3.4 再帰"
   ]
  },
  {
   "cell_type": "markdown",
   "metadata": {
    "collapsed": true,
    "jupyter": {
     "outputs_hidden": true
    }
   },
   "source": [
    "関数を使って有名でちょっとテクニカルな<strong>再帰</strong>というアルゴリズムを紹介します．\n",
    "\n",
    "初めに階乗の計算を行う関数として「繰り返し」を用いた場合と「再帰」を用いた場合で比較します．\n",
    "\n",
    "$5!=120$"
   ]
  },
  {
   "cell_type": "code",
   "execution_count": 14,
   "metadata": {},
   "outputs": [],
   "source": [
    "# 繰り返しを用いた階乗計算の関数\n",
    "def factI(n):\n",
    "    result=1\n",
    "    while n > 1:\n",
    "        result= result*n\n",
    "        #n= n-1\n",
    "        n -= 1\n",
    "    return result"
   ]
  },
  {
   "cell_type": "code",
   "execution_count": 15,
   "metadata": {},
   "outputs": [
    {
     "data": {
      "text/plain": [
       "120"
      ]
     },
     "execution_count": 15,
     "metadata": {},
     "output_type": "execute_result"
    }
   ],
   "source": [
    "factI(5)"
   ]
  },
  {
   "cell_type": "code",
   "execution_count": 16,
   "metadata": {},
   "outputs": [],
   "source": [
    "# 再帰を用いた階乗計算を行う関数\n",
    "def factR(n):\n",
    "    if n==1:\n",
    "        return n\n",
    "    else:\n",
    "        return n*factR(n-1)     "
   ]
  },
  {
   "cell_type": "code",
   "execution_count": 17,
   "metadata": {},
   "outputs": [
    {
     "data": {
      "text/plain": [
       "120"
      ]
     },
     "execution_count": 17,
     "metadata": {},
     "output_type": "execute_result"
    }
   ],
   "source": [
    "factR(5)"
   ]
  },
  {
   "cell_type": "markdown",
   "metadata": {},
   "source": [
    "再帰を用いたプログラムは慣れないうちは読みにくいかも知れませんが，短いプログラムであり慣れると分かり易くなってきます．\n",
    "通常，再帰的な定義は「特別に定義する部分」と「再帰的に定義する部分」の2つの部分により構成されます．例えば上の例で言えば，\n",
    "\n",
    "+ $1! = 1$ (特別に定義する部分)\n",
    "\n",
    "+ $n!=n \\times (n-1)!$　（再帰的に定義する部分）\n",
    "\n",
    "の2か所がそれに相当します．\n",
    "さて，もう少し再帰に慣れるためにもう一つ「フィボナッチ数列」について考えてみます．フィボナッチ数列とは以下のような数列のことです．\n",
    "\n",
    "$a_0=1, a_1=1, a_2=2, a_3=3, a_4=5, a_5=8, \\dots$\n",
    "\n",
    "階乗計算と同じように「特別に定義する部分」と「再帰的に定義する部分」の2つに分けると次のようになります．\n",
    "\n",
    "+ $a_0=1, a_1=1$（特別に定義する部分）\n",
    "\n",
    "+ $a_{n}=a_{n-1}+a_{n-2}$（再帰的に定義する部分）"
   ]
  },
  {
   "cell_type": "markdown",
   "metadata": {},
   "source": [
    "### 問題3.4\n",
    "上記の定義を参考にフィボナッチ数列を作成する関数を作成しなさい．ただし，項の数を関数の引数として渡すこと．"
   ]
  },
  {
   "cell_type": "markdown",
   "metadata": {},
   "source": [
    "## レポート課題\n",
    "再帰を用いて「最大公約数」「最小公倍数」を計算する関数を含むモジュールを作成しなさい．\n",
    "（ただし，mathライブラリに用意されている最大公約数の関数`math.gcd()`を使わない事）．\n",
    "\n",
    "モジュールのpythonファイルは「id_学籍番号_02v1.py」として下さい．\n",
    "また，モジュールを実行するjupyter notebookファイルは「id_学籍番号_02v1.ipynb」とする．\n",
    "\n",
    "**〆切：10/09（水）18:00までに学習支援システムで「id_学籍番号_02v1.py」，「id_学籍番号_02v1.ipynb」形式で2つのファイルを送ること**"
   ]
  },
  {
   "cell_type": "markdown",
   "metadata": {},
   "source": [
    "## 4 エラーのデバッグと例外処理\n",
    "\n",
    "これまで「情報処理」「数理工学実験2」とPythonを学んできて様々なエラーが現れそれに対処してきたと思います．\n",
    "ここではエラーの種類や作成したプログラムのテストまたデバッグや例外処理と言ったことを学んでいきます．\n",
    "ここではある程度系統立ててエラーとそのデバック方法について学びますがプログラムのデバッグは系統立ててできるとは限りません．\n",
    "とにかくプログラム上の問題の追跡に専念することです．問題が分かれば解決は比較的容易であり問題を見つけることにデバッグの本質があります．（ちなみに，Pythonでは基本的にエラーの追跡結果は<strong>`Traceback`</strong>として表示されます．）\n",
    "さて，以下エラーについて学ぶ前にデバッグ方法の答えを言うならば**とにかく問題がありそうな箇所の直前と直後で`print()`関数を用いて変数を出力してみよ**という事に尽きます．\n",
    "プログラムエラーのデバッグ作業のしんどさは常に付きまとうものでデバッガと呼ばれるデバッグツールがいくつも存在していますが，\n",
    "どんな言語であっても率直に言って上記の`print()`関数を使う方法以上にスピードをもってデバッグする方法はありません（少なくとも僕は知らない）．（主に「ThinkPython」和訳を参考にしてます）"
   ]
  },
  {
   "cell_type": "markdown",
   "metadata": {},
   "source": [
    "### 4.1 エラーの種類"
   ]
  },
  {
   "cell_type": "markdown",
   "metadata": {},
   "source": [
    "大きく分けてエラーの種類は3種類あります．1つ目は<strong>構文上のエラー</strong>，2つ目は<strong>実行中のエラー</strong>，3つ目は<strong>意味上のエラー</strong>です．\n",
    "\n",
    "構文上のエラーと実行中のエラーはPythonが何らかのメッセージをTracebackしてくれるのに対して，意味上のエラーはメッセージが表示されずプログラムが実行されるので自分でエラーを探す必要があります．"
   ]
  },
  {
   "cell_type": "markdown",
   "metadata": {},
   "source": [
    "#### 4.1.1 構文上のエラー"
   ]
  },
  {
   "cell_type": "markdown",
   "metadata": {},
   "source": [
    "構文上のエラーとは関数やクラスを定義`def`した後にコロン`:`を入れてなかったり，`{`を閉じてなかったりするケースです．また，インデントが正しく行われてる場合もこのエラーに含まれます．構文上のエラーを`SyntaxError`と呼び，インデントのエラー`IndentationError`と呼びます．"
   ]
  },
  {
   "cell_type": "code",
   "execution_count": 18,
   "metadata": {},
   "outputs": [
    {
     "ename": "SyntaxError",
     "evalue": "unterminated string literal (detected at line 1) (3422008718.py, line 1)",
     "output_type": "error",
     "traceback": [
      "\u001b[0;36m  Cell \u001b[0;32mIn[18], line 1\u001b[0;36m\u001b[0m\n\u001b[0;31m    print('Hello !)\u001b[0m\n\u001b[0m          ^\u001b[0m\n\u001b[0;31mSyntaxError\u001b[0m\u001b[0;31m:\u001b[0m unterminated string literal (detected at line 1)\n"
     ]
    }
   ],
   "source": [
    "print('Hello !)"
   ]
  },
  {
   "cell_type": "markdown",
   "metadata": {},
   "source": [
    "上記は`'`をつけ忘れたために`SyntaxError`が出力されてます（EOLとはEnd of Lineつまり「行の終わり」こと）．"
   ]
  },
  {
   "cell_type": "code",
   "execution_count": 19,
   "metadata": {},
   "outputs": [
    {
     "ename": "IndentationError",
     "evalue": "expected an indented block after 'for' statement on line 1 (3695896917.py, line 2)",
     "output_type": "error",
     "traceback": [
      "\u001b[0;36m  Cell \u001b[0;32mIn[19], line 2\u001b[0;36m\u001b[0m\n\u001b[0;31m    print(i)\u001b[0m\n\u001b[0m    ^\u001b[0m\n\u001b[0;31mIndentationError\u001b[0m\u001b[0;31m:\u001b[0m expected an indented block after 'for' statement on line 1\n"
     ]
    }
   ],
   "source": [
    "for i in range(5):\n",
    "print(i)"
   ]
  },
  {
   "cell_type": "markdown",
   "metadata": {},
   "source": [
    "上記はインデントを行わなかったため`IndentationError`が出力されています．\n",
    "\n",
    "これらのようにエラーメッセージは必ずしも有用とは限りませんが，エラーが起こった場所について教えてくれることがあります．ただし，常にエラーの場所を示しているとは限らずエラーのある場所より前の場所を示していることもあるので注意してデバッグしましょう．"
   ]
  },
  {
   "cell_type": "markdown",
   "metadata": {
    "collapsed": true,
    "jupyter": {
     "outputs_hidden": true
    }
   },
   "source": [
    "#### 4.1.2 実行時のエラー"
   ]
  },
  {
   "cell_type": "markdown",
   "metadata": {},
   "source": [
    "構文上のエラーが無くとも実行時にエラーが出ることもあります．ここではそれらのエラーについて考えてみます．\n",
    "1. 全く反応しない場合\n",
    "   * この場合は（標準）出力に関するコマンドや関数が実行されていない場合に起こります．また，出力結果をファイルに表示している場合標準出力（ターミナル）上に表示されず慌てるかもしれません．慌てずソースコードの出力部分をチェックしましょう．\n",
    "2. プログラムが終わらない場合\n",
    "   - 「プログラムがハングしているとき」や「無限ループ」や「無限の再帰処理」などプログラムが終わらない場合があります．プログラムがハングする代表的な原因はPythonプログラムの実行以外に多くのプログラムを立ち上げていることにあります．例えば，Webブラウザを立ち上げ，動画を見てWordやExcelやゲームを立ち上げながらPythonのプログラミングを行っている場合です．PCに負担が掛かり過ぎるとハングすることがあるので注意しましょう（そもそも，マルチタスクで仕事をすると「自分の頭もハングする」のでご注意を！）．\n",
    "   - 「無限ループ」に嵌った場合はまず怪しいと思うループ直前に`print(\"ループ開始\")`，ループ直後に`print(\"ループ終了\")`と打ちます．もし，「`ループ開始`」と表示され「ループ終了」と表示されなければ無限ループに嵌っていることになります．無限ループのデバッグは例えば以下のようにします．\n",
    "     ```\n",
    "     x=-10\n",
    "     y=5\n",
    "     while x<0 and y>0:\n",
    "         x+=1\n",
    "         y-=1\n",
    "         print(\"x={}\".format(x))\n",
    "         print(\"y={}\".format(y))\n",
    "         print(\"条件:{}\".format(x<0 and y>0))\n",
    "     ```\n",
    "     上記のように書いておくと，ループ実行の際に'x'，'y'の値が出力され条件が満たされているのか否か（`True`,`False`）が分かります．\n",
    "   - 「無限再帰」にはまった場合は実行はしばらく続き`\"RuntimeError: Maximum recursion depth exceeded\"`のエラーが出ます（ちなみに，再帰を最大回数行いましたと言ってます）．無限再帰に嵌った時も無限ループと同様に繰り返しを行うたびに終了の条件に変数が向かっているのかチェックするのが基本となります．\n",
    "4. 例外（`exception`）が発生する場合\n",
    "   - 例外については例外の処理も含めて後で学ぶことにします．"
   ]
  },
  {
   "cell_type": "markdown",
   "metadata": {},
   "source": [
    "#### 4.1 3 意味上のエラー"
   ]
  },
  {
   "cell_type": "markdown",
   "metadata": {},
   "source": [
    "上記2つのエラー（「構文上のエラー」「実行上のエラー」）はPython側で何らかのエラー情報を出力してくれるという意味で容易なエラーです．それらと比較し「意味上のエラー」というのは厄介です．なぜなら、**そのプログラムが処理すべきことを知っているのはプログラム作成者（あなた）だけ**であり，当然そのプログラムがエラーである理由もあなたしか分からないからです．さて，このような場合も基本的なデバッグ作業はこれまでと同じです．基本は怪しそうなコードの直前と直後で`Print()`関数を用い変数を表示させるという方法です．\n",
    "以下ではそれ以外にエラーを見つけデバッグするためにチェックすべき点を上げます．\n",
    "\n",
    "1. プログラムの出力結果がダメ\n",
    "   - プログラムの中で実行されていない個所などがないかチェック\n",
    "   - 自分が想定していないことが起きていないかチェック\n",
    "   - 他人のコードを部分的に借りてきている場合は，そのコードを自分が完全に理解しているかチェックする必要がある（自分が理解していないコードを部分的に使わない！）．\n",
    "1. 引数の中にさらに関数やメソッドが入りその中に引数が入り・・・という長い表現を使わないようにすること．\n",
    "1. 関数やメソッドが期待した戻り値を返さない場合\n",
    "   複雑な表現の式を`return`文で返すと，その値が正しいのか間違っているのか判断できなくなることがる．そこで，\n",
    "   \n",
    "   ```return self.hands[i].removeMatches()```\n",
    "   \n",
    "   と言った複雑な式を返す前に\n",
    "    \n",
    "   ```\n",
    "   count=self.hands[i].removeMatches()\n",
    "   return count\n",
    "   ```\n",
    "   として，`return`文の直前で`count`の値を表示できるようにしよう．   \n",
    "1. 行き詰った時\n",
    "   - 取り敢えずコンピュータから離れる\n",
    "   - 一晩放置\n",
    "1. 助けが必要な時\n",
    "\n",
    "   できる限りプログラムを簡単化し，問題がある部分を明確にしてから他人に聞くようにすること．"
   ]
  },
  {
   "cell_type": "markdown",
   "metadata": {},
   "source": [
    "### 4.2 例外と例外処理"
   ]
  },
  {
   "cell_type": "markdown",
   "metadata": {},
   "source": [
    "Pythonでは「実行時のエラー」の多くは例外として扱われます．例外が発生し，プログラムの実行が停止されるとトレースバック（Traceback:追跡結果）が表示されます．トレースバックにはエラー原因の情報が記述されているので読む癖をつけましょう．**特に，トレースバックの最後の行を読むことが重要です**．\n",
    "例外はその種類に応じて幾つかに分類されます．その一部を紹介します．（全ての例外については[ここ](http://docs.python.jp/3/library/exceptions.html)で紹介されてます）"
   ]
  },
  {
   "cell_type": "markdown",
   "metadata": {},
   "source": [
    "#### 4.2.1 `NameError`"
   ]
  },
  {
   "cell_type": "markdown",
   "metadata": {},
   "source": [
    "`NameError`は未定義のオブジェクトを参照しようとした場合に発生する例外です．Pythonでは変数、関数、モジュールもすべてオブジェクトなので，未定義の変数、関数、モジュールを呼び出す際に発生します。"
   ]
  },
  {
   "cell_type": "code",
   "execution_count": 20,
   "metadata": {},
   "outputs": [
    {
     "name": "stdout",
     "output_type": "stream",
     "text": [
      "1\n"
     ]
    }
   ],
   "source": [
    "print(a)"
   ]
  },
  {
   "cell_type": "markdown",
   "metadata": {},
   "source": [
    "#### 4.2.2 `ValueError`"
   ]
  },
  {
   "cell_type": "markdown",
   "metadata": {},
   "source": [
    "`ValueError`は"
   ]
  },
  {
   "cell_type": "code",
   "execution_count": 21,
   "metadata": {},
   "outputs": [
    {
     "ename": "ValueError",
     "evalue": "could not convert string to float: 'test'",
     "output_type": "error",
     "traceback": [
      "\u001b[0;31m---------------------------------------------------------------------------\u001b[0m",
      "\u001b[0;31mValueError\u001b[0m                                Traceback (most recent call last)",
      "Cell \u001b[0;32mIn[21], line 1\u001b[0m\n\u001b[0;32m----> 1\u001b[0m C\u001b[38;5;241m=\u001b[39m\u001b[38;5;28;43mfloat\u001b[39;49m\u001b[43m(\u001b[49m\u001b[38;5;124;43m\"\u001b[39;49m\u001b[38;5;124;43mtest\u001b[39;49m\u001b[38;5;124;43m\"\u001b[39;49m\u001b[43m)\u001b[49m\n",
      "\u001b[0;31mValueError\u001b[0m: could not convert string to float: 'test'"
     ]
    }
   ],
   "source": [
    "C=float(\"test\")"
   ]
  },
  {
   "cell_type": "markdown",
   "metadata": {},
   "source": [
    "#### 4.2.3 IndexError"
   ]
  },
  {
   "cell_type": "markdown",
   "metadata": {},
   "source": [
    "`IndexError`はシーケンス型（リスト、タプル）をインデックスで参照する際にシーケンスの要素数以上を指定した場合に発生します．"
   ]
  },
  {
   "cell_type": "code",
   "execution_count": 22,
   "metadata": {},
   "outputs": [
    {
     "ename": "IndexError",
     "evalue": "list index out of range",
     "output_type": "error",
     "traceback": [
      "\u001b[0;31m---------------------------------------------------------------------------\u001b[0m",
      "\u001b[0;31mIndexError\u001b[0m                                Traceback (most recent call last)",
      "Cell \u001b[0;32mIn[22], line 2\u001b[0m\n\u001b[1;32m      1\u001b[0m list1\u001b[38;5;241m=\u001b[39m[\u001b[38;5;241m1\u001b[39m,\u001b[38;5;241m2\u001b[39m,\u001b[38;5;241m3\u001b[39m]\n\u001b[0;32m----> 2\u001b[0m \u001b[43mlist1\u001b[49m\u001b[43m[\u001b[49m\u001b[38;5;241;43m4\u001b[39;49m\u001b[43m]\u001b[49m\n",
      "\u001b[0;31mIndexError\u001b[0m: list index out of range"
     ]
    }
   ],
   "source": [
    "list1=[1,2,3]\n",
    "list1[4]"
   ]
  },
  {
   "cell_type": "markdown",
   "metadata": {},
   "source": [
    "#### 4.2.4 `ZeroDivisionError`"
   ]
  },
  {
   "cell_type": "markdown",
   "metadata": {},
   "source": [
    "`ZeroDivisionError`は数値型（int型、float型）を0で割ろうとするときに発生します。"
   ]
  },
  {
   "cell_type": "code",
   "execution_count": 23,
   "metadata": {},
   "outputs": [
    {
     "ename": "ZeroDivisionError",
     "evalue": "division by zero",
     "output_type": "error",
     "traceback": [
      "\u001b[0;31m---------------------------------------------------------------------------\u001b[0m",
      "\u001b[0;31mZeroDivisionError\u001b[0m                         Traceback (most recent call last)",
      "Cell \u001b[0;32mIn[23], line 1\u001b[0m\n\u001b[0;32m----> 1\u001b[0m \u001b[38;5;241;43m3\u001b[39;49m\u001b[38;5;241;43m/\u001b[39;49m\u001b[38;5;241;43m0\u001b[39;49m\n",
      "\u001b[0;31mZeroDivisionError\u001b[0m: division by zero"
     ]
    }
   ],
   "source": [
    "3/0"
   ]
  },
  {
   "cell_type": "markdown",
   "metadata": {},
   "source": [
    "#### 4.2.5 `TypeError`"
   ]
  },
  {
   "cell_type": "markdown",
   "metadata": {},
   "source": [
    "`TypeError`は実行時に相応しくない型のオブジェクトを使用したときに発生します。例えば、文字列型と整数型の足し算を実行した場合に文字列型において足し算は定義されてないので`TypeError`が発生します．"
   ]
  },
  {
   "cell_type": "code",
   "execution_count": 24,
   "metadata": {},
   "outputs": [
    {
     "ename": "TypeError",
     "evalue": "can only concatenate str (not \"int\") to str",
     "output_type": "error",
     "traceback": [
      "\u001b[0;31m---------------------------------------------------------------------------\u001b[0m",
      "\u001b[0;31mTypeError\u001b[0m                                 Traceback (most recent call last)",
      "Cell \u001b[0;32mIn[24], line 1\u001b[0m\n\u001b[0;32m----> 1\u001b[0m \u001b[38;5;124;43m\"\u001b[39;49m\u001b[38;5;124;43mtest\u001b[39;49m\u001b[38;5;124;43m\"\u001b[39;49m\u001b[38;5;241;43m+\u001b[39;49m\u001b[38;5;241;43m2\u001b[39;49m\n",
      "\u001b[0;31mTypeError\u001b[0m: can only concatenate str (not \"int\") to str"
     ]
    }
   ],
   "source": [
    "\"test\"+2"
   ]
  },
  {
   "cell_type": "markdown",
   "metadata": {},
   "source": [
    "#### 4.2.6 `FileNotFoundError`"
   ]
  },
  {
   "cell_type": "markdown",
   "metadata": {},
   "source": [
    "`FileNotFoundError`は開こうとしたファイルがない時に発生します．開こうとしたファイル名を間違えた時にもよく発生するので注意してください．"
   ]
  },
  {
   "cell_type": "code",
   "execution_count": 25,
   "metadata": {},
   "outputs": [
    {
     "ename": "FileNotFoundError",
     "evalue": "[Errno 2] No such file or directory: 'prog11_00data.txt'",
     "output_type": "error",
     "traceback": [
      "\u001b[0;31m---------------------------------------------------------------------------\u001b[0m",
      "\u001b[0;31mFileNotFoundError\u001b[0m                         Traceback (most recent call last)",
      "Cell \u001b[0;32mIn[25], line 1\u001b[0m\n\u001b[0;32m----> 1\u001b[0m in_file1 \u001b[38;5;241m=\u001b[39m \u001b[38;5;28;43mopen\u001b[39;49m\u001b[43m(\u001b[49m\u001b[38;5;124;43m\"\u001b[39;49m\u001b[38;5;124;43mprog11_00data.txt\u001b[39;49m\u001b[38;5;124;43m\"\u001b[39;49m\u001b[43m,\u001b[49m\u001b[43m \u001b[49m\u001b[38;5;124;43m\"\u001b[39;49m\u001b[38;5;124;43mr\u001b[39;49m\u001b[38;5;124;43m\"\u001b[39;49m\u001b[43m,\u001b[49m\u001b[43m \u001b[49m\u001b[43mencoding\u001b[49m\u001b[38;5;241;43m=\u001b[39;49m\u001b[38;5;124;43m\"\u001b[39;49m\u001b[38;5;124;43mutf-8\u001b[39;49m\u001b[38;5;124;43m\"\u001b[39;49m\u001b[43m)\u001b[49m\n",
      "File \u001b[0;32m~/Library/Caches/pypoetry/virtualenvs/jupyter-lec-D3T-EdXc-py3.12/lib/python3.12/site-packages/IPython/core/interactiveshell.py:324\u001b[0m, in \u001b[0;36m_modified_open\u001b[0;34m(file, *args, **kwargs)\u001b[0m\n\u001b[1;32m    317\u001b[0m \u001b[38;5;28;01mif\u001b[39;00m file \u001b[38;5;129;01min\u001b[39;00m {\u001b[38;5;241m0\u001b[39m, \u001b[38;5;241m1\u001b[39m, \u001b[38;5;241m2\u001b[39m}:\n\u001b[1;32m    318\u001b[0m     \u001b[38;5;28;01mraise\u001b[39;00m \u001b[38;5;167;01mValueError\u001b[39;00m(\n\u001b[1;32m    319\u001b[0m         \u001b[38;5;124mf\u001b[39m\u001b[38;5;124m\"\u001b[39m\u001b[38;5;124mIPython won\u001b[39m\u001b[38;5;124m'\u001b[39m\u001b[38;5;124mt let you open fd=\u001b[39m\u001b[38;5;132;01m{\u001b[39;00mfile\u001b[38;5;132;01m}\u001b[39;00m\u001b[38;5;124m by default \u001b[39m\u001b[38;5;124m\"\u001b[39m\n\u001b[1;32m    320\u001b[0m         \u001b[38;5;124m\"\u001b[39m\u001b[38;5;124mas it is likely to crash IPython. If you know what you are doing, \u001b[39m\u001b[38;5;124m\"\u001b[39m\n\u001b[1;32m    321\u001b[0m         \u001b[38;5;124m\"\u001b[39m\u001b[38;5;124myou can use builtins\u001b[39m\u001b[38;5;124m'\u001b[39m\u001b[38;5;124m open.\u001b[39m\u001b[38;5;124m\"\u001b[39m\n\u001b[1;32m    322\u001b[0m     )\n\u001b[0;32m--> 324\u001b[0m \u001b[38;5;28;01mreturn\u001b[39;00m \u001b[43mio_open\u001b[49m\u001b[43m(\u001b[49m\u001b[43mfile\u001b[49m\u001b[43m,\u001b[49m\u001b[43m \u001b[49m\u001b[38;5;241;43m*\u001b[39;49m\u001b[43margs\u001b[49m\u001b[43m,\u001b[49m\u001b[43m \u001b[49m\u001b[38;5;241;43m*\u001b[39;49m\u001b[38;5;241;43m*\u001b[39;49m\u001b[43mkwargs\u001b[49m\u001b[43m)\u001b[49m\n",
      "\u001b[0;31mFileNotFoundError\u001b[0m: [Errno 2] No such file or directory: 'prog11_00data.txt'"
     ]
    }
   ],
   "source": [
    "in_file1 = open(\"prog11_00data.txt\", \"r\", encoding=\"utf-8\")"
   ]
  },
  {
   "cell_type": "markdown",
   "metadata": {},
   "source": [
    "これまで，Pythonではすべてがオブジェクトであると言いました．例外もオブジェクトであり，**`BaseException`クラス**のオブジェクト（インスタンス）です．"
   ]
  },
  {
   "cell_type": "markdown",
   "metadata": {},
   "source": [
    "#### 問題4.2\n",
    "[ここ](http://docs.python.jp/3/library/exceptions.html)を読んで，上で上げたもの以外の例外を3つ試してみなさい．"
   ]
  },
  {
   "cell_type": "markdown",
   "metadata": {
    "collapsed": true,
    "jupyter": {
     "outputs_hidden": true
    }
   },
   "source": [
    "### 4.3 例外処理"
   ]
  },
  {
   "cell_type": "markdown",
   "metadata": {},
   "source": [
    "上記の例外がプログラム実行中に現れた場合にその例外の種類に応じてプログラムを終了したり，中断したり実行状況を変えたい場合があります．そのような場合に用いる文が`try: ～ except:`文です．最も簡単な例を見てみましょう．"
   ]
  },
  {
   "cell_type": "code",
   "execution_count": 26,
   "metadata": {},
   "outputs": [
    {
     "name": "stdout",
     "output_type": "stream",
     "text": [
      "0で割れません。\n"
     ]
    }
   ],
   "source": [
    "# ZeroDivisionErrorの例\n",
    "try:\n",
    "    1/0\n",
    "except ZeroDivisionError:\n",
    "    print(\"0で割れません。\")"
   ]
  },
  {
   "cell_type": "markdown",
   "metadata": {},
   "source": [
    "例外処理の流れは下記のとおりです．\n",
    "\n",
    "```\n",
    "try:\n",
    "    （例外が発生するかも知れない処理）\n",
    "except 例外1:\n",
    "    （例外1が発生した場合の処理）\n",
    "except 例外2:\n",
    "    （例外2が発生した場合の処理）\n",
    "else:\n",
    "    （例外が発生しない場合の処理）\n",
    "finally:\n",
    "    （例外が発生してもしなくとも実行される処理）\n",
    "```\n",
    "\n",
    "最後の`finally`は使う機会があまりないかも知れません．基本的に例外処理は例外を明示的に捉えたいときに行う処理です．\n",
    "\n",
    "実際に皆さんがプログラミングに当たって**例外処理を使うケースはファイルの入出力処理**だと思います．例えば以下のような処理です（[prog11_02data.txt](　http://kino.sub.jp/Prog2016/prog11_02data.txt )をDLして下さい）．"
   ]
  },
  {
   "cell_type": "code",
   "execution_count": 27,
   "metadata": {},
   "outputs": [
    {
     "name": "stdout",
     "output_type": "stream",
     "text": [
      "例外の発生\n"
     ]
    }
   ],
   "source": [
    "try:\n",
    "    fileIn01 = open(\"prog11_01data.txt\",encoding=\"utf-8\")\n",
    "    for line1 in fileIn01:\n",
    "        print(line1)\n",
    "    fileIn01.close\n",
    "except:\n",
    "    print(\"例外の発生\")"
   ]
  },
  {
   "cell_type": "code",
   "execution_count": 28,
   "metadata": {},
   "outputs": [
    {
     "name": "stdout",
     "output_type": "stream",
     "text": [
      "Pythonプログラミングを用い自由になろう！\n",
      "\n",
      "\n",
      "\n",
      "Web上で、\n",
      "\n",
      "データ解析で、\n",
      "\n",
      "シミュレーションで、\n",
      "\n",
      "\n",
      "\n",
      "自分の思うがままにプログラミング。\n",
      "\n"
     ]
    }
   ],
   "source": [
    "try:\n",
    "    fileIn02 = open(\"prog11_02data.txt\",encoding=\"utf-8\")\n",
    "    for line1 in fileIn02:\n",
    "        print(line1)\n",
    "    fileIn02.close\n",
    "except:\n",
    "    print(\"例外の発生\")"
   ]
  },
  {
   "cell_type": "markdown",
   "metadata": {},
   "source": [
    "`try except`文は`if else`文で代用できるのではないかという疑問を持つかと思います．`if else`文では`if`文内での処理も`else`文内での処理も**本来やりたい処理が記述**されます．それに対して`try except`文では`try`文内には本来やりたい処理が書かれるのに対し，`except`文には**本来やりたくない（例外的な）処理が記述**されます．これはプログラムの可読性に関わってきます．他の人のプログラムを読んでアルゴリズムを理解したい場合に，`except`文を無視して読んで構わないという事を意味してます．"
   ]
  },
  {
   "cell_type": "markdown",
   "metadata": {},
   "source": [
    "エラーとそのデバッグ作業はプログラミングの中で最も労力が掛かりますが，デバッグ作業抜きのプログラムはあり得ません．地道にエラーに対処しましょう．"
   ]
  },
  {
   "cell_type": "markdown",
   "metadata": {},
   "source": [
    "## 5 その他これまでに説明しなかった高度な知識"
   ]
  },
  {
   "cell_type": "markdown",
   "metadata": {},
   "source": [
    "これまでの知識で基本的なPythonの知識は概ねOKです．最後にこれまで説明しなかった少し高度なPythonの知識について，いくつか説明します．このような高度な知識は，たとえ自分が使わなくとも他人のプログラムを読むときに必要となるのです．（ここで扱ってる内容はすべて「**関数型プログラミング**」に関わる内容です。「関数型プログラミング」は「オブジェクト指向プログラミング」と対照的なプログラミング手法です。オブジェクト指向プログラミングはオブジェクト中心のプログラム手法であるのに対し、関数型プログラミングはすべてを関数として扱うプログラミング手法です。Pythonは手続型プログラミング、オブジェクト型プログラミング、関数型プログラミングのどの手法でも書くことができます。）"
   ]
  },
  {
   "cell_type": "markdown",
   "metadata": {},
   "source": [
    "### 5.1内包表記"
   ]
  },
  {
   "cell_type": "markdown",
   "metadata": {},
   "source": [
    "**内包表記**はPythonでは比較的新しい機能です．`for`，`while`といった繰り返し処理を用い連続的なリストや辞書を生成できますが，Pythonでは通常使われません．その効率的な手法（簡潔な上に生成速度が速い）が内包表記です．内包表記は分かりづらい面もありますので，自分がプログラムを作成する上では必ずしも使う必要はありません．ただし，他の人のプログラムを読む際に必要となるケースがありますので，知識としては知っておきましょう（内包表記できる型はリスト，辞書，集合です．タプルは内包表記できません）．\n",
    "\n",
    "内包表記の基本的な書き方は\n",
    "\n",
    "`式 for 繰り返し変数 in シーケンス`\n",
    "\n",
    "になります．"
   ]
  },
  {
   "cell_type": "markdown",
   "metadata": {},
   "source": [
    "#### 5.1.1 リスト内包表記"
   ]
  },
  {
   "cell_type": "markdown",
   "metadata": {},
   "source": [
    "リストを内包表記により作成する場合に**リスト内包表記**が用いられます．言葉で説明するより「通常の書き方」と「リスト内包表記」を比較した方が分かり易いので下記の具体的な例を見て下さい．"
   ]
  },
  {
   "cell_type": "code",
   "execution_count": 29,
   "metadata": {},
   "outputs": [
    {
     "name": "stdout",
     "output_type": "stream",
     "text": [
      "[0, 1, 4, 9, 16, 25, 36, 49, 64, 81]\n"
     ]
    }
   ],
   "source": [
    "# 0～9までの2乗の値をデータとしてリスト化（forを用いた手法）\n",
    "lst01=[]\n",
    "for x in range(10):\n",
    "    lst01.append(x**2)\n",
    "print(lst01)"
   ]
  },
  {
   "cell_type": "code",
   "execution_count": 30,
   "metadata": {},
   "outputs": [
    {
     "data": {
      "text/plain": [
       "[0, 1, 4, 9, 16, 25, 36, 49, 64, 81]"
      ]
     },
     "execution_count": 30,
     "metadata": {},
     "output_type": "execute_result"
    }
   ],
   "source": [
    "# 0～9までの2乗の値をデータとしてリスト化（リスト内表表記）\n",
    "lst02=[x**2 for x in range(10)]\n",
    "lst02"
   ]
  },
  {
   "cell_type": "markdown",
   "metadata": {},
   "source": [
    "上記のようにリスト内包表記を用いると非常に簡潔になります．もう少し複雑なケースを取り扱ってみましょう．"
   ]
  },
  {
   "cell_type": "code",
   "execution_count": 31,
   "metadata": {},
   "outputs": [
    {
     "name": "stdout",
     "output_type": "stream",
     "text": [
      "[0, 4, 16, 36, 64, 100, 144, 196, 256, 324]\n"
     ]
    }
   ],
   "source": [
    "lst03=[]\n",
    "for x in range(20):\n",
    "    if x%2==0:\n",
    "        lst03.append(x**2)\n",
    "print(lst03)"
   ]
  },
  {
   "cell_type": "code",
   "execution_count": 32,
   "metadata": {},
   "outputs": [
    {
     "name": "stdout",
     "output_type": "stream",
     "text": [
      "[0, 4, 16, 36, 64, 100, 144, 196, 256, 324]\n"
     ]
    }
   ],
   "source": [
    "lst04=[x**2 for x in range(20) if x%2==0]\n",
    "print(lst04)"
   ]
  },
  {
   "cell_type": "markdown",
   "metadata": {},
   "source": [
    "上記は`for`文の中に`if`文が入っており，偶数のみ$x^2$してリストを作成してます．もっと複雑なプログラムを内包表記で書くことも可能です．実は内包表記は簡潔なだけでなく計算実行速度が速くなります．プログラムの実行速度を測るために`%%timeit`というマジックコマンドを使います．"
   ]
  },
  {
   "cell_type": "code",
   "execution_count": 33,
   "metadata": {},
   "outputs": [
    {
     "name": "stdout",
     "output_type": "stream",
     "text": [
      "357 μs ± 2.71 μs per loop (mean ± std. dev. of 7 runs, 1,000 loops each)\n"
     ]
    }
   ],
   "source": [
    "%%timeit\n",
    "lst01=[]\n",
    "for x in range(10000):\n",
    "    lst01.append(x**2)"
   ]
  },
  {
   "cell_type": "code",
   "execution_count": 34,
   "metadata": {},
   "outputs": [
    {
     "name": "stdout",
     "output_type": "stream",
     "text": [
      "337 μs ± 4.49 μs per loop (mean ± std. dev. of 7 runs, 1,000 loops each)\n"
     ]
    }
   ],
   "source": [
    "%%timeit\n",
    "lst02=[x**2 for x in range(10000)]"
   ]
  },
  {
   "cell_type": "markdown",
   "metadata": {},
   "source": [
    "上記のように1.25倍ほどスピードが上がってます．上の例は単純で小さいプログラムなのでさほど意義は感じられませんが，大規模プログラムではこの差は大きいものとなります."
   ]
  },
  {
   "cell_type": "markdown",
   "metadata": {},
   "source": [
    "#### 問題5.1.1\n",
    "以下の複数の`for`文を記述したリスト内包表記とその結果を見て，同じ結果を出力するプログラムをリスト内包表記を用いず`for`文を用いて作りなさい．"
   ]
  },
  {
   "cell_type": "code",
   "execution_count": 35,
   "metadata": {},
   "outputs": [
    {
     "data": {
      "text/plain": [
       "[11, 21, 31, 12, 22, 32, 13, 23, 33]"
      ]
     },
     "execution_count": 35,
     "metadata": {},
     "output_type": "execute_result"
    }
   ],
   "source": [
    "lst05=[x+y for x in [1,2,3] for y in [10,20,30]]\n",
    "lst05"
   ]
  },
  {
   "cell_type": "markdown",
   "metadata": {},
   "source": [
    "#### 5.1.2 辞書内包表記"
   ]
  },
  {
   "cell_type": "markdown",
   "metadata": {},
   "source": [
    "リスト同様に辞書も内包表記を用いて作成することが出来ます．リスト内包表記と異なる点は辞書には「キー」と「値」がある点です．辞書を作成する前に，そこで使用する`zip()`関数について説明します．`zip()`関数はデータ数が同じ2つのシーケンス型を引数として渡し，2つのシーケンスからデータを順番に引き渡します．`zip`関数の動作は下記のとおりです．"
   ]
  },
  {
   "cell_type": "code",
   "execution_count": 36,
   "metadata": {},
   "outputs": [
    {
     "name": "stdout",
     "output_type": "stream",
     "text": [
      "a 1\n",
      "b 2\n",
      "c 3\n",
      "d 4\n",
      "e 5\n"
     ]
    }
   ],
   "source": [
    "lst06 = ['a','b','c','d','e']\n",
    "lst07 = [1,2,3,4,5]\n",
    "for x,y in zip(lst06,lst07):\n",
    "    print (x,y)"
   ]
  },
  {
   "cell_type": "markdown",
   "metadata": {},
   "source": [
    "それでは，「2つのリストから辞書を作成する通常の方法」と「内包表記を用いる方法」の2つを比較します．"
   ]
  },
  {
   "cell_type": "code",
   "execution_count": 37,
   "metadata": {},
   "outputs": [
    {
     "name": "stdout",
     "output_type": "stream",
     "text": [
      "{1: 'one', 2: 'two', 3: 'three'}\n"
     ]
    }
   ],
   "source": [
    "#2つのリストから辞書を生成（forループバージョン）\n",
    "dic01={}\n",
    "num=[1,2,3]\n",
    "num_e=['one','two','three']\n",
    "for n,c in zip(num, num_e):\n",
    "    dic01.update({n:c})\n",
    "print(dic01)"
   ]
  },
  {
   "cell_type": "code",
   "execution_count": 38,
   "metadata": {},
   "outputs": [
    {
     "data": {
      "text/plain": [
       "{1: 'one', 2: 'two', 3: 'three'}"
      ]
     },
     "execution_count": 38,
     "metadata": {},
     "output_type": "execute_result"
    }
   ],
   "source": [
    "#2つのリストから辞書を生成（辞書内表表記バージョン）\n",
    "num=[1,2,3]\n",
    "num_e=['one','two','three']\n",
    "dict2={n:c for n,c in zip(num, num_e)}\n",
    "dict2"
   ]
  },
  {
   "cell_type": "markdown",
   "metadata": {},
   "source": [
    "#### 5.1.3 集合内包表記\n",
    "リスト，辞書と同様に集合(set)でも内包表記できます．"
   ]
  },
  {
   "cell_type": "code",
   "execution_count": 39,
   "metadata": {},
   "outputs": [
    {
     "name": "stdout",
     "output_type": "stream",
     "text": [
      "{1, 2, 3, 4, 5, 6, 7}\n",
      "<class 'set'>\n"
     ]
    }
   ],
   "source": [
    "x={n for n in range(1,8)}\n",
    "print(x)\n",
    "print(type(x))"
   ]
  },
  {
   "cell_type": "markdown",
   "metadata": {},
   "source": [
    "#### 問題5.1.3\n",
    "集合内包表記を用いて次の名前のリストを文字列を小文字に変換しながらset型に変換して、重複する要素を取り除きなさい．\n",
    "\n",
    "`names=[\"BOB\", \"burton\", \"dave\", \"bob\"]`\n",
    "\n",
    "ヒント、str型を小文字に変換するメソッドは`lower()`です．"
   ]
  },
  {
   "cell_type": "markdown",
   "metadata": {},
   "source": [
    "### 5.2 lambda式"
   ]
  },
  {
   "cell_type": "markdown",
   "metadata": {},
   "source": [
    "Pythonでは**lambda式**と呼ばれる，使い捨ての関数を定義することができます．lambda式はその名の通り**関数でありながら文ではなく式**であり、名前を持たない関数であることから**無名関数**とも呼ばれます．\n",
    "\n",
    "lambda式の利点はその単純さにあります．\n",
    "lambda式の定義は次の通りです．\n",
    "\n",
    "`lambda 引数のリスト : 引数を使った式（戻り値）`\n",
    "\n",
    "早速、例を見てみます．"
   ]
  },
  {
   "cell_type": "code",
   "execution_count": 40,
   "metadata": {
    "scrolled": true
   },
   "outputs": [
    {
     "name": "stdout",
     "output_type": "stream",
     "text": [
      "13\n",
      "31\n"
     ]
    }
   ],
   "source": [
    "# lambda式のもっとも簡単な例 x,y を引数として受け取りx*x+yを戻り値として返すlambda式\n",
    "mylamf = lambda x, y : x*x+y\n",
    "print(mylamf(3,4))\n",
    "print(mylamf(5,6))"
   ]
  },
  {
   "cell_type": "markdown",
   "metadata": {},
   "source": [
    "lambda式は**`map()`**，**`sorted()`**，**`filter()`** 関数などとの組み合わせで威力を発揮します．まず，`map()`関数です．\n",
    "使い方は\n",
    "\n",
    "`map(function, iterable)`\n",
    "\n",
    "functionには関数が入り，iterableにはリスト型，タプル型，辞書型，set型，文字列型が入ります(iterableは後で説明します)。具体的に見てみましょう。"
   ]
  },
  {
   "cell_type": "code",
   "execution_count": 41,
   "metadata": {},
   "outputs": [
    {
     "name": "stdout",
     "output_type": "stream",
     "text": [
      "[5, 11, 17, 23, 29]\n",
      "[5, 11, 17, 23, 29]\n",
      "[5, 11, 17, 23, 29]\n"
     ]
    }
   ],
   "source": [
    "# 2つのリストlist01, list02の要素をx,yへ渡しx+2yを返すプログラム\n",
    "list01=[1, 3, 5, 7, 9]\n",
    "list02=[2, 4, 6, 8, 10]\n",
    "\n",
    "# map関数もlambda式も使わない例\n",
    "lst03=[]\n",
    "for i, j in zip(list01, list02):\n",
    "    lst03.append(i+2*j)\n",
    "print(lst03)\n",
    "\n",
    "# map関数を使用する例\n",
    "def func01(x, y):\n",
    "    return x+2*y\n",
    "\n",
    "list04=list(map(func01, list01, list02))\n",
    "print(list04)\n",
    "\n",
    "# map関数とlambda関数を使用する例\n",
    "list05=list(map(lambda x,y : x+2*y, list01, list02))\n",
    "print(list05)\n",
    "    "
   ]
  },
  {
   "cell_type": "markdown",
   "metadata": {},
   "source": [
    "`filter()`関数はリストなどから任意の条件に基づいた値を取り出すときに用いられる関数です。\n",
    "使い方は，\n",
    "\n",
    "`filter(function, iterable)`\n",
    "\n",
    "です。`filter()`関数は引数として`map()`関数と同様にfunctionとiterableを持ってます。"
   ]
  },
  {
   "cell_type": "code",
   "execution_count": 42,
   "metadata": {},
   "outputs": [
    {
     "name": "stdout",
     "output_type": "stream",
     "text": [
      "[1, 7, 11, 19, 23, 25]\n",
      "[1, 7, 11, 19, 23, 25]\n"
     ]
    }
   ],
   "source": [
    "# リストから奇数を抜き出すプログラム\n",
    "lst01=[1,2,4,7,11,12,19,20,23,25,26]\n",
    "lst02=[]\n",
    "for i in lst01:\n",
    "    if i%2 ==1:\n",
    "        lst02.append(i)\n",
    "print(lst02)\n",
    "\n",
    "# リストから奇数を抜き出すプログラム（lambda式とfilterを用いる）\n",
    "print(list(filter(lambda x: x%2 == 1, lst01)))"
   ]
  },
  {
   "cell_type": "markdown",
   "metadata": {},
   "source": [
    "`sorted()`関数はリストなどを並べ替える関数です．\n",
    "使い方は\n",
    "\n",
    "`sorted(iterable [, key] [, reverse])`\n",
    "\n",
    "です．`sorted()`関数は，第1引数としてiterableを指定し，オプションとして第2引数`key`に関数，第3引数に`reverse`として真偽値を指定します．`True`は昇順，`False`は降順となります．"
   ]
  },
  {
   "cell_type": "code",
   "execution_count": 43,
   "metadata": {},
   "outputs": [
    {
     "name": "stdout",
     "output_type": "stream",
     "text": [
      "('Luxembourg', 115536)\n",
      "('Singapore', 64579)\n",
      "('United States', 62869)\n",
      "('Australia', 56420)\n",
      "('Sweden', 54356)\n",
      "('Hong Kong', 48451)\n",
      "('Germany', 47662)\n",
      "('Canada', 46290)\n",
      "('France', 42953)\n",
      "('United Kingdom', 42580)\n",
      "('Japan', 39304)\n",
      "('Korea', 33320)\n",
      "('China', 9580)\n",
      "('Brazil', 8959)\n"
     ]
    }
   ],
   "source": [
    "#いくつかの国における，一人当たりGDP（2020）\n",
    "lst_gdp=[(\"Luxembourg\", 115536), (\"Japan\", 39304), (\"China\", 9580), (\"Brazil\", 8959), (\"United States\", 62869), (\"Korea\", 33320), (\"France\", 42953), (\"United Kingdom\", 42580), (\"Sweden\", 54356), (\"Germany\", 47662), (\"Singapore\", 64579), (\"Canada\", 46290), (\"Australia\", 56420), (\"Hong Kong\", 48451)]\n",
    "\n",
    "lst_order=sorted(lst_gdp, key= lambda nation : nation[1], reverse=True)\n",
    "\n",
    "for i in lst_order:\n",
    "    print(i)"
   ]
  },
  {
   "cell_type": "markdown",
   "metadata": {},
   "source": [
    "#### 問題5.2\n",
    "`moji01=[\"Math.\", \"Phys.\", \"Stat.\", \"Program.\"]\n",
    " moji02=[\"ematics\", \"ics\", \"istics\", \"ming\"] `\n",
    "\n",
    "上記の入力に対して，下記と同じ出力を行うプログラムをmap()、lambda式を用いて作成しなさい.\n",
    "\n",
    "`['Mathematics', 'Physics', 'Statistics', 'Programming']`"
   ]
  },
  {
   "cell_type": "code",
   "execution_count": 44,
   "metadata": {},
   "outputs": [
    {
     "name": "stdout",
     "output_type": "stream",
     "text": [
      "['Mathematics', 'Physics', 'Statistics', 'Programming']\n"
     ]
    }
   ],
   "source": [
    "# moji01とmoji02をインデックス順に対応する要素を結合するプログラム\n",
    "moji01=[\"Math.\", \"Phys.\", \"Stat.\", \"Program.\"]\n",
    "moji02=[\"ematics\", \"ics\", \"istics\", \"ming\"]\n",
    "\n",
    "moji03=[None]*4\n",
    "for i in range(4):\n",
    "    moji03[i]=moji01[i].strip(\".\")+moji02[i]\n",
    "print(moji03)"
   ]
  },
  {
   "cell_type": "markdown",
   "metadata": {},
   "source": [
    "### 5.3 イテレータ"
   ]
  },
  {
   "cell_type": "markdown",
   "metadata": {},
   "source": [
    "リスト、タプル、辞書、文字列、集合は要素を複数持った複合オブジェクトであると同時に，**イテラブル（反復可能iterable）** でもあります．要するに1個ずつ取り出せる構造を持っているわけです．特にループ文の中では，**ある要素の次の要素にアクセスするケースがほとんど**です．このような場合に用いられるオブジェクトが**イテレータ**になります．"
   ]
  },
  {
   "cell_type": "markdown",
   "metadata": {},
   "source": [
    "#### 5.3.1 イテレータの基本\n",
    "イテレータとはデータの並びを表現するオブジェクトであり，イテラブルオブジェクトから`iter()`関数によってイテレータを取り出す．"
   ]
  },
  {
   "cell_type": "code",
   "execution_count": 45,
   "metadata": {},
   "outputs": [
    {
     "data": {
      "text/plain": [
       "list_iterator"
      ]
     },
     "execution_count": 45,
     "metadata": {},
     "output_type": "execute_result"
    }
   ],
   "source": [
    "num1=[1, 2, 3, 4, 5]\n",
    "type(iter(num1))"
   ]
  },
  {
   "cell_type": "markdown",
   "metadata": {},
   "source": [
    "`next()`関数を用いるとイテレータから1個ずつイテレータの値を取り出すことができる．"
   ]
  },
  {
   "cell_type": "code",
   "execution_count": 46,
   "metadata": {},
   "outputs": [
    {
     "name": "stdout",
     "output_type": "stream",
     "text": [
      "1\n",
      "2\n",
      "3\n",
      "4\n",
      "5\n"
     ]
    }
   ],
   "source": [
    "num1=[1, 2, 3, 4, 5] \n",
    "itr1=iter(num1) #itr1はnum1のイテレータである\n",
    "print(next(itr1))\n",
    "print(next(itr1))\n",
    "print(next(itr1))\n",
    "print(next(itr1))\n",
    "print(next(itr1))"
   ]
  },
  {
   "cell_type": "markdown",
   "metadata": {},
   "source": [
    "実は今まで皆さんが何気なく使っていた`for`ループ内で使われる`range()`関数もイテレータを返す関数です(正確にはrange型オブジェクトからイテレータを取り出している)．"
   ]
  },
  {
   "cell_type": "code",
   "execution_count": 47,
   "metadata": {},
   "outputs": [
    {
     "name": "stdout",
     "output_type": "stream",
     "text": [
      "0\n",
      "1\n",
      "2\n",
      "3\n",
      "4\n"
     ]
    }
   ],
   "source": [
    "itr2=iter(range(5))\n",
    "print(next(itr2))\n",
    "print(next(itr2))\n",
    "print(next(itr2))\n",
    "print(next(itr2))\n",
    "print(next(itr2))"
   ]
  },
  {
   "cell_type": "markdown",
   "metadata": {},
   "source": [
    "イテレータが分かると，pythonにおける`for`文の仕組みが理解できます．\n",
    "1. `for`文の実行では`in`と`:`の間に置かれた式がイテラブルオブジェクトであるか否か，繰り返しを始める直前に1回だけ評価される．\n",
    "1. イテラブルオブジェクト（リストやrange型など）から，`iter`関数によってイテレータを取り出す．（裏で実行されてる）\n",
    "1. イテレータから，次の要素を`next`関数によって1個取り出す．（裏で実行されてる）\n",
    "1. ループ本体が実行される．\n",
    "1. 全ての要素を取り出し終わったら`for`の終了"
   ]
  },
  {
   "cell_type": "markdown",
   "metadata": {},
   "source": [
    "#### 5.3.1 イテレータの例"
   ]
  },
  {
   "cell_type": "code",
   "execution_count": 48,
   "metadata": {},
   "outputs": [
    {
     "name": "stdout",
     "output_type": "stream",
     "text": [
      "Pythonプログラミングを用い自由になろう！\n",
      "\n",
      "Web上で、\n",
      "データ解析で、\n",
      "シミュレーションで、\n",
      "\n",
      "自分の思うがままにプログラミング。\n"
     ]
    }
   ],
   "source": [
    "#read()メソッドでアイル全体を読み込む\n",
    "\n",
    "file01=open('prog11_02data.txt', encoding='utf-8') #ファイルオブジェクトを作成\n",
    "body=file01.read() #ファイル全体を読み込む\n",
    "lines = body.split('\\n')#ファイルを改行で分割\n",
    "print('\\n'.join(lines[:7]))#先頭の7行を表示"
   ]
  },
  {
   "cell_type": "code",
   "execution_count": 49,
   "metadata": {},
   "outputs": [
    {
     "name": "stdout",
     "output_type": "stream",
     "text": [
      "Pythonプログラミングを用い自由になろう！\n",
      "\n",
      "Web上で、\n",
      "データ解析で、\n",
      "シミュレーションで、\n",
      "\n",
      "自分の思うがままにプログラミング。\n",
      "\n"
     ]
    }
   ],
   "source": [
    "#readline()メソッドで1行ずつファイルを読み込む\n",
    "\n",
    "file02=open('prog11_02data.txt', encoding='utf-8') #ファイルオブジェクトを作成\n",
    "lines='' #表示する文字列の初期化\n",
    "for i in range(7): #\n",
    "    lines += file02.readline() #1行ずつ読み込む\n",
    "print(lines)\n"
   ]
  },
  {
   "cell_type": "code",
   "execution_count": 50,
   "metadata": {},
   "outputs": [
    {
     "name": "stdout",
     "output_type": "stream",
     "text": [
      "Pythonプログラミングを用い自由になろう！\n",
      "\n",
      "Web上で、\n",
      "データ解析で、\n",
      "シミュレーションで、\n",
      "\n",
      "自分の思うがままにプログラミング。\n"
     ]
    }
   ],
   "source": [
    "#イテレータ（enumerate()）を用いてファイルを読みこむ\n",
    "for i, l in enumerate(open('prog11_02data.txt', encoding='utf-8')): #ファイルオブジェクトがイテレータとして機能する性質を使って，ループ変数そのものに1行ずつデータを読み込ませる\n",
    "    print(l, end='')#読み込んだデータを表示し（行末に空を割り当て）改行なしにする\n",
    "    if i==7:\n",
    "        break"
   ]
  },
  {
   "cell_type": "markdown",
   "metadata": {},
   "source": [
    "#### 5.3.2 ジェネレータ"
   ]
  },
  {
   "cell_type": "markdown",
   "metadata": {},
   "source": [
    "普通の関数を自分で定義できたように，Pythonではイテレータを自分で定義することができます．このようにイテレータを自分定義する仕組みを**ジェネレータ**と呼び，定義された関数内では`return`文の代わりに`yield`文が使われます．"
   ]
  },
  {
   "cell_type": "code",
   "execution_count": 51,
   "metadata": {},
   "outputs": [
    {
     "name": "stdout",
     "output_type": "stream",
     "text": [
      "1\n",
      "2\n",
      "3\n"
     ]
    }
   ],
   "source": [
    "# yieldで値を返す関数\n",
    "def gen1():\n",
    "    yield 1\n",
    "    yield 2\n",
    "    yield 3\n",
    "\n",
    "itr1=gen1()\n",
    "for i in itr1:\n",
    "    print(i)\n"
   ]
  },
  {
   "cell_type": "markdown",
   "metadata": {},
   "source": [
    "`yield`文を使うと**関数内の状態をすべて保存します**．そして，もう一度その関数が呼ばれるときには先ほどのyieldで値を返した直後から処理を継続実行します（**関数の先頭から実行されません**）．"
   ]
  },
  {
   "cell_type": "code",
   "execution_count": 52,
   "metadata": {},
   "outputs": [],
   "source": [
    "#素数を返すジェネレータ関数の定義\n",
    "def get_primes(x=2):\n",
    "    while True:\n",
    "        for i in range(2, x):\n",
    "            if x%i ==0:\n",
    "                break\n",
    "        else:\n",
    "            yield x\n",
    "        x += 1"
   ]
  },
  {
   "cell_type": "code",
   "execution_count": 53,
   "metadata": {},
   "outputs": [
    {
     "name": "stdout",
     "output_type": "stream",
     "text": [
      "c=0\n",
      "2\n",
      "c=1\n",
      "3\n",
      "c=2\n",
      "5\n",
      "c=3\n",
      "7\n",
      "c=4\n",
      "11\n",
      "c=5\n",
      "13\n",
      "c=6\n",
      "17\n",
      "c=7\n",
      "19\n",
      "c=8\n",
      "23\n",
      "c=9\n",
      "29\n"
     ]
    }
   ],
   "source": [
    "i= get_primes()\n",
    "for c in range(10):\n",
    "    print(\"c={}\".format(c))\n",
    "    print(next(i))"
   ]
  },
  {
   "cell_type": "markdown",
   "metadata": {},
   "source": [
    "## レポート問題\n",
    "今日やった全ての問題(4つ)を一つのノートブック（jupyter notebook形式）にまとめなさい\n",
    "\n",
    "**〆切：10/09（水）18:00までに学習支援システムでjupyter notebook形式「id\\_学籍番号\\_02v2.ipynb」形式で送ること**"
   ]
  },
  {
   "cell_type": "code",
   "execution_count": null,
   "metadata": {},
   "outputs": [],
   "source": []
  }
 ],
 "metadata": {
  "kernelspec": {
   "display_name": "Python 3 (ipykernel)",
   "language": "python",
   "name": "python3"
  },
  "language_info": {
   "codemirror_mode": {
    "name": "ipython",
    "version": 3
   },
   "file_extension": ".py",
   "mimetype": "text/x-python",
   "name": "python",
   "nbconvert_exporter": "python",
   "pygments_lexer": "ipython3",
   "version": "3.12.6"
  }
 },
 "nbformat": 4,
 "nbformat_minor": 4
}