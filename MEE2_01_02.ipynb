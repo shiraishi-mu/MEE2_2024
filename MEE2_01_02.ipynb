{
 "cells": [
  {
   "cell_type": "markdown",
   "metadata": {},
   "source": [
    "# 第01，02回数理工学実験2"
   ]
  },
  {
   "cell_type": "markdown",
   "metadata": {},
   "source": [
    "## 1.1 jupyter notebookの使い方"
   ]
  },
  {
   "cell_type": "markdown",
   "metadata": {},
   "source": [
    "本講義では<a href=\"http://jupyter.org/\">jupyter notebook</a>を使ってpythonのプログラミングを行います．まず設定を行います．\n",
    "\n",
    "初めに，この講義で使うフォルダを作ります．「ドキュメント」フォルダ中に「workspace」というフォルダを作り、その中に「python」というフォルダを作成してください．この講義で作ったプログラムはすべてこのフォルダの中に入ります．\n",
    "次に，Windowsメニューから「Anaconda Prompt」を立ち上げて下さい。\n",
    "\n",
    "<img src=\"./pic/jupyter_etc01.png\" />\n",
    "\n",
    "そこで下記のように打ってください．\n",
    "\n",
    "<img src=\"./pic/jupyter_etc02.png\" />\n",
    "\n",
    "次に「C:\\Users\\XXXX\\.jupyter」というフォルダにある「jupyter_notebook_config.py」ファイルを，を開き（多くの人はSpyderで開くことになる），（たぶん）202行目の\n",
    "\n",
    "```\n",
    "c.NotebookApp.notebook_dir =''\n",
    "```\n",
    "\n",
    "という部分を\n",
    "\n",
    "```\n",
    "c.NotebookApp.notebook_dir ='C:\\\\Users\\\\「ユーザー名」\\\\Documents\\\\workspace\\\\python'\n",
    "```\n",
    "\n",
    "へ変更して保存して下さい．終わったら、今立ち上がってるアプリをすべて閉じて，Windowsメニューから「Jupyter notebook」を立ち上げて下さい．立ち上がった時に何もフォルダが見えない状態であれば設定完了です．\n",
    "\n",
    "<img src=\"./pic/jupyter_etc03.png\" />\n",
    "\n",
    "それでは，「習うより慣れろ」という事で早速やってみましょう．\n",
    "\n",
    "右上の「New」をクリックし現れた選択肢から「Python3」をクリックします．すると以下のウインドウが現れます．\n",
    "\n",
    "<img src=\"./pic/jupyter_notebook2.PNG\" width=\"600\" />\n",
    "\n",
    "左に緑の縦線があり「in [ ]:」と書かれている部分がインタラクティブシェルになります（青の縦線の場合，一度「Enter」を押して左の縦線を緑色にして下さい）．先ほどと同様に\"Hello world\"と打ち最後に「Shift + Enter」を押してください．プログラムが実行されます．プログラムを実行するだけならこれだけで良いのですが，jupyter notebookはプログラミングを学ぶ上で便利な機能を幾つか備えてます．例えば，PythonだけでなくMarkdown言語（html，TeXも含む）も使用できるので，Markdownを用いてメモを加えながらプログラミング学習を進めることが出来ます．本講義でもぜひ自分でメモを取りながらプログラミング学習を進めて下さい。\n",
    "\n",
    "青もしくは緑で囲まれた領域を「セル（Cell）」と呼びます．セルは「コマンドモード（青）」，「エディットモード（緑）」の２つに場合分けされます。「Enterキー」で「コマンドモード」→「エディットモード」の切り替えを行い，「Escキー」で「エディットモード」→「コマンドモード」の切り替えを行います．\n",
    "\n",
    "<img src=\"./pic/command_mode.PNG\" />\n",
    "コマンドモード\n",
    "\n",
    "<img src=\"./pic/edit_mode.PNG\" />\n",
    "エディットモード\n",
    "\n",
    "コマンドモードではセルの追加や削除を行ったり，セルで記述する言語としてPythonとMarkdownのどちらを用いるのか選択できます．コマンドモードで「a」を押すと今選択しているセルの上に新しいセルが追加されます．「x」を押すとセルを削除します．また，「Python」→「Markdown」の切り替えは「m」を押します．「Markdown」→「Python」の切り替えは「y」を押します．\n",
    "エディットモードではPythonやMarkdownで記述するだけです．実行する際には「Shift + Enter」を押してください．\n",
    "このように昨日の切り替えを行う簡単なキーのことをショートカットキーと呼びます．慣れるとマウス操作よりはるかにキーボード操作スピードが上がるのでショートカットキーを使うようにして下さい．その他にも，様々なショートカットキーがあります．興味のある人はコマンドモードで「h」を押してください．jupyter notebookのショートカットキーのヘルプが現れます．\n",
    "\n",
    "さて，続いてノートブックの保存方法です．一番上の「jupyter」の横がこのノートブックの名前になります．今は「Untitled」となっていると思います．そこをダブルクリックすると名前を変更できます．今回は「IT_01」としましょう．保存は左上の<img src=\"./pic/save.PNG\" />ボタンです．\n",
    "\n",
    "最後にjupyter notebookの終了方法です．2つやり方があります．\n",
    "- 1つのやり方は「File」にカーソルを載せ，「Close and Halt」をクリックする方法です．\n",
    "\n",
    "<img src=\"./pic/finish01.png\">\n",
    "\n",
    "- 2つ目のやり方は下記のようにホームに移動し起動している（緑色の）ノートブックにチェックを入れ，左上のshutdownボタンを押す方法です．\n",
    "\n",
    "<img src=\"./pic/jupyter_home.PNG\" />\n",
    "\n",
    "どちらのやり方で終了した場合でも，最後にjupyter notebookを起動した「Anaconda Prompt」のコマンドラインで「Ctrl+c」を押してください．これで，jupyter notebookが正常に終了されます．<strong>決して，ブラウザの右上のバツボタンでいきなり終了しないようにして下さい。</strong>"
   ]
  },
  {
   "cell_type": "markdown",
   "metadata": {},
   "source": [
    "## 1.1 導入"
   ]
  },
  {
   "cell_type": "markdown",
   "metadata": {},
   "source": [
    "「数理工学実験2」では，1年次の「情報処理」，「プログラミング演習」で学んだPythonを用いて基本的な数値計算手法を学びます．初めに「情報処理」，「プログラミング演習」で学びきれなかったPythonの知識を学び，その後Pythonで数値計算を実行します．ここでは簡単に「数理工学実験2」で学ぶPythonの知識を下記にまとめます．"
   ]
  },
  {
   "cell_type": "markdown",
   "metadata": {},
   "source": [
    "<table>\n",
    "        <tr>\n",
    "        <td>Jupyterの使い方とPythonの復習</td>\n",
    "        <td>第01回　数理工学実験2</td>\n",
    "    　　</tr>\n",
    "        <tr>\n",
    "        <td>データ型（タプル（tuple型），辞書（dict型），集合（set型）</td>\n",
    "        <td>第02回　数理工学実験2</td>\n",
    "    　　</tr>\n",
    "        <tr>\n",
    "        <td>関数</td>\n",
    "        <td>第03回　数理工学実験2</td>\n",
    "        </tr>\n",
    "        <tr>\n",
    "        <td>エラーのデバッグと例外処理，その他</td>\n",
    "        <td>第04回　数理工学実験2</td>\n",
    "    　　</tr>\n",
    "         <tr>\n",
    "        <td>Pythonにおける変数とメモリの深い関係，Numpy</td>\n",
    "        <td>第05回　数理工学実験2</td>\n",
    "    　　</tr>\n",
    "        <tr>\n",
    "        <td>数値計算における誤差と方程式の解法</td>\n",
    "        <td>第06回　数理工学実験2</td>\n",
    "    　　</tr>\n",
    "        <tr>\n",
    "        <td>連立方程式の解法（ガウスの消去法）</td>\n",
    "        <td>第07回　数理工学実験2</td>\n",
    "    　　</tr>\n",
    "        <tr>\n",
    "        <td>数値積分法（台形法，シンプソン法）</td>\n",
    "        <td>第08回　数理工学実験2</td>\n",
    "    　　</tr>\n",
    "        <tr>\n",
    "        <td>常微分方程式（オイラー法、ルンゲクッタ法）</td>\n",
    "        <td>第09回　数理工学実験2</td>\n",
    "        </tr>\n",
    "        <tr>\n",
    "        <td>グラフィック</td>\n",
    "        <td>第10回　数理工学実験2</td>\n",
    "    　　</tr>\n",
    "        <tr>\n",
    "        <td>乱数とモンテカルロ法</td>\n",
    "        <td>第11回　数理工学実験2</td>\n",
    "    　　</tr>\n",
    "        <tr>\n",
    "        <td>モンテカルロ法の応用（シミュレーション）</td>\n",
    "        <td>第12回　数理工学実験2</td>\n",
    "    　　</tr>\n",
    "        <tr>\n",
    "        <td>Pandasとデータ解析（データサイエンス）</td>\n",
    "        <td>第13回　数理工学実験2</td>\n",
    "    　　</tr>\n",
    "        <tr>\n",
    "        <td>発表</td>\n",
    "        <td>第14回　数理工学実験2</td>\n",
    "    　　</tr>\n",
    "</table>"
   ]
  },
  {
   "cell_type": "markdown",
   "metadata": {},
   "source": [
    "## 1.2 参考書\n",
    "\n",
    "木下が見た中で良かったと思う参考書です（2021年09月現在）．毎年新しいPython本が多数出版されている状況なので，より良い本が出ているかもしれません（もし、紹介してくれる人がいるならぜひ紹介してく下さい）．ちょっと難しいと感じるかもしれませんが，一度くらいは通読するといいと思います．この講義では教科書指定しませんが，**1冊はしっかりした本を自分で購入して読むことを強く薦めます**．\n",
    "\n",
    "- Pythonの教科書\n",
    "    - [新・明解 Python入門　柴田望洋（SB Creative）](https://www.amazon.co.jp//dp/4815601526)\n",
    "    - [みんなのPython　柴田淳（SB Creative）](https://www.amazon.co.jp/dp/479738946X)\n",
    "- Python(Numpy)による数値計算\n",
    "    - [科学技術計算のためのPython入門　中久喜健司（技術評論社）](https://www.amazon.co.jp/dp/4774183881)\n",
    "- Phtyon(Pandas)によるデータ解析\n",
    "    - [PythonユーザのためのJupyter[実践]入門　](https://www.amazon.co.jp/dp/4297115689)\n",
    "    \n",
    "下記の2冊は超有名な数値計算系の日本語の教科書．Pythonに限らず数値計算をコンピュータ上で実施すると「コンピュータ内でどのようなことが行われているのか？」「数理的な理論基盤は？」「安直に数値計算するとやばい理由」等がキチンと書かれているバイブル（絶版かも・・・）\n",
    "\n",
    "- [数値計算の常識　 伊理 正夫, 藤野 和建（共立出版）](https://www.amazon.co.jp/dp/4320013433)\n",
    "- [モンテカルロ法とシミュレーション　津田 孝夫（培風館）](https://www.amazon.co.jp/dp/4563008788)\n"
   ]
  },
  {
   "cell_type": "markdown",
   "metadata": {},
   "source": [
    "## 1.3 Pythonの復習\n",
    "[このページ](http://kino.sub.jp/IT2017/)を見て，Pythonの復習をして下さい．特に大切なところは**繰り返し文(for文，while文)**と**条件分岐**です．プログラミングの本質はこの2つの操作に尽きるので，ここはしっかり押さえて下さい．"
   ]
  },
  {
   "cell_type": "markdown",
   "metadata": {},
   "source": [
    "# 2 変数の型について\n",
    "pythonではプログラムの処理を行う際に，データの種類に応じた**型**が用意されてます（組込み型）．数値型としては整数型`int`，浮動小数点型`float`の2つ．その他に，文字列型`str`，リスト型`list`も学んだと思います．ここではさらにいくつかの型について紹介します．"
   ]
  },
  {
   "cell_type": "markdown",
   "metadata": {
    "collapsed": true
   },
   "source": [
    "## 2.1 タプル（tuple型）"
   ]
  },
  {
   "cell_type": "markdown",
   "metadata": {},
   "source": [
    "<strong>タプル（tuple型）</strong>はリスト（list型）と非常に似ており，リスト型と同様に様々な種類のオブジェクトを入れ，インデックスを指定して要素を取り出したり，スライスを使って複数の要素を取り出すことが出来ます．\n",
    "ただし，<strong>タプルはリストと違い要素を書き換えることが出来ません．</strong>また，要素の追加や削除もできません．このことはリストを使いにくくしたものと感じるかもしれませんが，**タプルにはディクショナリのキーとして使えるという最大のメリットが存在します（ディクショナリについては後述します）**．また，タプルはリストと比較しメモリ使用量が小さいです．\n",
    "\n",
    "早速，タプルを作成しましょう．タプルは丸括弧「```( )```」で要素を囲みます．要素同士はカンマ「```,```」で区切ります． "
   ]
  },
  {
   "cell_type": "code",
   "execution_count": 1,
   "metadata": {},
   "outputs": [
    {
     "data": {
      "text/plain": [
       "('Pokemon', 'Greninja', 'Mew', 'Arceus', 'Sylveon')"
      ]
     },
     "execution_count": 1,
     "metadata": {},
     "output_type": "execute_result"
    }
   ],
   "source": [
    "tuple1 = (\"Pokemon\", \"Greninja\", \"Mew\", \"Arceus\", \"Sylveon\")\n",
    "tuple1"
   ]
  },
  {
   "cell_type": "code",
   "execution_count": 2,
   "metadata": {},
   "outputs": [
    {
     "data": {
      "text/plain": [
       "tuple"
      ]
     },
     "execution_count": 2,
     "metadata": {},
     "output_type": "execute_result"
    }
   ],
   "source": [
    "type(tuple1)"
   ]
  },
  {
   "cell_type": "markdown",
   "metadata": {},
   "source": [
    "`tuple()`関数を用いてリストをタプルに変換してタプルを作成する方法も良く使われます．"
   ]
  },
  {
   "cell_type": "code",
   "execution_count": 10,
   "metadata": {},
   "outputs": [
    {
     "name": "stdout",
     "output_type": "stream",
     "text": [
      "<class 'list'>\n",
      "('東京', '新宿', '渋谷', '池袋')\n",
      "<class 'tuple'>\n"
     ]
    }
   ],
   "source": [
    "lst01=['東京', '新宿', '渋谷', '池袋']\n",
    "print(type(lst01))\n",
    "tpl01=tuple(lst01)\n",
    "print(tpl01)\n",
    "print(type(tpl01))"
   ]
  },
  {
   "cell_type": "markdown",
   "metadata": {},
   "source": [
    "括弧を省略することもできます．"
   ]
  },
  {
   "cell_type": "code",
   "execution_count": 11,
   "metadata": {},
   "outputs": [
    {
     "data": {
      "text/plain": [
       "('Pokemon', 'Greninja', 'Mew', 'Arceus', 'Sylveon')"
      ]
     },
     "execution_count": 11,
     "metadata": {},
     "output_type": "execute_result"
    }
   ],
   "source": [
    "tuple2 = \"Pokemon\", \"Greninja\", \"Mew\", \"Arceus\", \"Sylveon\"\n",
    "tuple2"
   ]
  },
  {
   "cell_type": "markdown",
   "metadata": {},
   "source": [
    "タプルはリストと同様に様々な型のオブジェクトを要素として持つことが出来ます．"
   ]
  },
  {
   "cell_type": "code",
   "execution_count": 12,
   "metadata": {},
   "outputs": [
    {
     "data": {
      "text/plain": [
       "(1, '木下', [0.1, 0.2], ('Pokemon', 'Greninja', 'Mew', 'Arceus', 'Sylveon'))"
      ]
     },
     "execution_count": 12,
     "metadata": {},
     "output_type": "execute_result"
    }
   ],
   "source": [
    "tuple3 = (1, \"木下\", [0.1, 0.2], tuple1)\n",
    "tuple3"
   ]
  },
  {
   "cell_type": "markdown",
   "metadata": {},
   "source": [
    "インデックスを用いた要素の抽出"
   ]
  },
  {
   "cell_type": "code",
   "execution_count": 13,
   "metadata": {},
   "outputs": [
    {
     "data": {
      "text/plain": [
       "'Mew'"
      ]
     },
     "execution_count": 13,
     "metadata": {},
     "output_type": "execute_result"
    }
   ],
   "source": [
    "tuple2[2]"
   ]
  },
  {
   "cell_type": "code",
   "execution_count": 14,
   "metadata": {},
   "outputs": [
    {
     "data": {
      "text/plain": [
       "('Pokemon', 'Greninja', 'Mew')"
      ]
     },
     "execution_count": 14,
     "metadata": {},
     "output_type": "execute_result"
    }
   ],
   "source": [
    "tuple2[0:3]"
   ]
  },
  {
   "cell_type": "markdown",
   "metadata": {},
   "source": [
    "ただし，タプルはリストと違い要素を書き換えることはできません．"
   ]
  },
  {
   "cell_type": "code",
   "execution_count": 15,
   "metadata": {},
   "outputs": [
    {
     "data": {
      "text/plain": [
       "['東京', '新宿', '渋谷', '池袋', '上野', '品川', '新橋', '四谷', '中野', '吉祥寺']"
      ]
     },
     "execution_count": 15,
     "metadata": {},
     "output_type": "execute_result"
    }
   ],
   "source": [
    "# リストの要素を削除する\n",
    "list1 = [\"東京\", \"新宿\", \"渋谷\",\"池袋\",\"上野\", \"品川\", \"新橋\", \"お茶の水\", \"四谷\", \"中野\", \"吉祥寺\"]\n",
    "del list1[7]\n",
    "list1"
   ]
  },
  {
   "cell_type": "code",
   "execution_count": 16,
   "metadata": {},
   "outputs": [
    {
     "ename": "TypeError",
     "evalue": "'tuple' object doesn't support item deletion",
     "output_type": "error",
     "traceback": [
      "\u001b[0;31m---------------------------------------------------------------------------\u001b[0m",
      "\u001b[0;31mTypeError\u001b[0m                                 Traceback (most recent call last)",
      "\u001b[1;32mセル25 を /home/kinop/work/math_eng2/src/MEE2_01_02.ipynb\u001b[0m in \u001b[0;36m<cell line: 3>\u001b[0;34m()\u001b[0m\n\u001b[1;32m      <a href='vscode-notebook-cell://wsl%2Bubuntu-20.04/home/kinop/work/math_eng2/src/MEE2_01_02.ipynb#X33sdnNjb2RlLXJlbW90ZQ%3D%3D?line=0'>1</a>\u001b[0m \u001b[39m# タプルの要素を削除する\u001b[39;00m\n\u001b[1;32m      <a href='vscode-notebook-cell://wsl%2Bubuntu-20.04/home/kinop/work/math_eng2/src/MEE2_01_02.ipynb#X33sdnNjb2RlLXJlbW90ZQ%3D%3D?line=1'>2</a>\u001b[0m tuple4 \u001b[39m=\u001b[39m (\u001b[39m\"\u001b[39m\u001b[39m東京\u001b[39m\u001b[39m\"\u001b[39m, \u001b[39m\"\u001b[39m\u001b[39m新宿\u001b[39m\u001b[39m\"\u001b[39m, \u001b[39m\"\u001b[39m\u001b[39m渋谷\u001b[39m\u001b[39m\"\u001b[39m,\u001b[39m\"\u001b[39m\u001b[39m池袋\u001b[39m\u001b[39m\"\u001b[39m,\u001b[39m\"\u001b[39m\u001b[39m上野\u001b[39m\u001b[39m\"\u001b[39m, \u001b[39m\"\u001b[39m\u001b[39m品川\u001b[39m\u001b[39m\"\u001b[39m, \u001b[39m\"\u001b[39m\u001b[39m新橋\u001b[39m\u001b[39m\"\u001b[39m, \u001b[39m\"\u001b[39m\u001b[39mお茶の水\u001b[39m\u001b[39m\"\u001b[39m, \u001b[39m\"\u001b[39m\u001b[39m四谷\u001b[39m\u001b[39m\"\u001b[39m, \u001b[39m\"\u001b[39m\u001b[39m中野\u001b[39m\u001b[39m\"\u001b[39m, \u001b[39m\"\u001b[39m\u001b[39m吉祥寺\u001b[39m\u001b[39m\"\u001b[39m)\n\u001b[0;32m----> <a href='vscode-notebook-cell://wsl%2Bubuntu-20.04/home/kinop/work/math_eng2/src/MEE2_01_02.ipynb#X33sdnNjb2RlLXJlbW90ZQ%3D%3D?line=2'>3</a>\u001b[0m \u001b[39mdel\u001b[39;00m tuple4[\u001b[39m7\u001b[39m]\n\u001b[1;32m      <a href='vscode-notebook-cell://wsl%2Bubuntu-20.04/home/kinop/work/math_eng2/src/MEE2_01_02.ipynb#X33sdnNjb2RlLXJlbW90ZQ%3D%3D?line=3'>4</a>\u001b[0m tuple4\n",
      "\u001b[0;31mTypeError\u001b[0m: 'tuple' object doesn't support item deletion"
     ]
    }
   ],
   "source": [
    "# タプルの要素を削除する\n",
    "tuple4 = (\"東京\", \"新宿\", \"渋谷\",\"池袋\",\"上野\", \"品川\", \"新橋\", \"お茶の水\", \"四谷\", \"中野\", \"吉祥寺\")\n",
    "del tuple4[7]\n",
    "tuple4"
   ]
  },
  {
   "cell_type": "markdown",
   "metadata": {},
   "source": [
    "## 2.2 ディクショナリ（dict型）"
   ]
  },
  {
   "cell_type": "markdown",
   "metadata": {},
   "source": [
    "実際のディクショナリ（辞書）は調べたい単語をキーワードにその単語の説明文を見つけます．つまり，「単語」と「単語の説明文」がペアになってます．同様に，Pythonのディクショナリ（<strong>dict型</strong>）では1つの要素をキー（key）と値（value）をペアで表現します．辞書型は{(key1):(value1), (key2):(value2)}の形式で括って作成し，キーを使うと対応する値を取り出すことができます．下の例では駅の「駅の名前をキー」とし「駅の主要JR路線」としペアで一つの要素となっているディクショナリを作成してます．"
   ]
  },
  {
   "cell_type": "code",
   "execution_count": 18,
   "metadata": {},
   "outputs": [
    {
     "data": {
      "text/plain": [
       "'山手線'"
      ]
     },
     "execution_count": 18,
     "metadata": {},
     "output_type": "execute_result"
    }
   ],
   "source": [
    "station_y= {\"東京\":\"山手線\", \"新宿\":\"山手線\",\"渋谷\":\"山手線\", \"池袋\":\"山手線\", \"上野\":\"山手線\",\"品川\":\"山手線\",\"新橋\":\"山手線\"}\n",
    "station_y[\"新宿\"]"
   ]
  },
  {
   "cell_type": "markdown",
   "metadata": {},
   "source": [
    "キーとして存在しないデータを指定すると，エラーになります．"
   ]
  },
  {
   "cell_type": "code",
   "execution_count": 19,
   "metadata": {},
   "outputs": [
    {
     "ename": "KeyError",
     "evalue": "'吉祥寺'",
     "output_type": "error",
     "traceback": [
      "\u001b[0;31m---------------------------------------------------------------------------\u001b[0m",
      "\u001b[0;31mKeyError\u001b[0m                                  Traceback (most recent call last)",
      "\u001b[1;32mセル30 を /home/kinop/work/math_eng2/src/MEE2_01_02.ipynb\u001b[0m in \u001b[0;36m<cell line: 1>\u001b[0;34m()\u001b[0m\n\u001b[0;32m----> <a href='vscode-notebook-cell://wsl%2Bubuntu-20.04/home/kinop/work/math_eng2/src/MEE2_01_02.ipynb#X41sdnNjb2RlLXJlbW90ZQ%3D%3D?line=0'>1</a>\u001b[0m station_y[\u001b[39m\"\u001b[39;49m\u001b[39m吉祥寺\u001b[39;49m\u001b[39m\"\u001b[39;49m]\n",
      "\u001b[0;31mKeyError\u001b[0m: '吉祥寺'"
     ]
    }
   ],
   "source": [
    "station_y[\"吉祥寺\"]"
   ]
  },
  {
   "cell_type": "markdown",
   "metadata": {},
   "source": [
    "リスト同様，ディクショナリも順序が保存されます（Python3.7以降）"
   ]
  },
  {
   "cell_type": "code",
   "execution_count": 20,
   "metadata": {},
   "outputs": [
    {
     "data": {
      "text/plain": [
       "{'東京': '山手線',\n",
       " '新宿': '山手線',\n",
       " '渋谷': '山手線',\n",
       " '池袋': '山手線',\n",
       " '上野': '山手線',\n",
       " '品川': '山手線',\n",
       " '新橋': '山手線'}"
      ]
     },
     "execution_count": 20,
     "metadata": {},
     "output_type": "execute_result"
    }
   ],
   "source": [
    "station_y"
   ]
  },
  {
   "cell_type": "markdown",
   "metadata": {},
   "source": [
    "キーが存在しているかどうか事前に確認したい時があります．この場合，リストと同様にin演算子を用います．"
   ]
  },
  {
   "cell_type": "code",
   "execution_count": 21,
   "metadata": {},
   "outputs": [
    {
     "data": {
      "text/plain": [
       "True"
      ]
     },
     "execution_count": 21,
     "metadata": {},
     "output_type": "execute_result"
    }
   ],
   "source": [
    "\"上野\" in station_y"
   ]
  },
  {
   "cell_type": "code",
   "execution_count": 22,
   "metadata": {},
   "outputs": [
    {
     "data": {
      "text/plain": [
       "False"
      ]
     },
     "execution_count": 22,
     "metadata": {},
     "output_type": "execute_result"
    }
   ],
   "source": [
    "\"吉祥寺\" in station_y"
   ]
  },
  {
   "cell_type": "markdown",
   "metadata": {},
   "source": [
    "リストと同様にディクショナリへも簡単に要素を追加できます．ディクショナリへの要素の追加はキーと値のペアを用いて行います．"
   ]
  },
  {
   "cell_type": "code",
   "execution_count": 27,
   "metadata": {},
   "outputs": [
    {
     "data": {
      "text/plain": [
       "{'東京': '山手線',\n",
       " '新宿': '中央線',\n",
       " '渋谷': '山手線',\n",
       " '池袋': '山手線',\n",
       " '上野': '山手線',\n",
       " '品川': '山手線',\n",
       " '新橋': '山手線',\n",
       " '吉祥寺': '中央線'}"
      ]
     },
     "execution_count": 27,
     "metadata": {},
     "output_type": "execute_result"
    }
   ],
   "source": [
    "station_y[\"吉祥寺\"] = \"中央線\"\n",
    "station_y"
   ]
  },
  {
   "cell_type": "markdown",
   "metadata": {},
   "source": [
    "ディクショナリの要素の値の変更も行う事ができます．ただし，キーの変更はできません．"
   ]
  },
  {
   "cell_type": "code",
   "execution_count": 28,
   "metadata": {},
   "outputs": [
    {
     "data": {
      "text/plain": [
       "'中央線'"
      ]
     },
     "execution_count": 28,
     "metadata": {},
     "output_type": "execute_result"
    }
   ],
   "source": [
    "station_y[\"新宿\"] = \"中央線\"\n",
    "station_y[\"新宿\"]"
   ]
  },
  {
   "cell_type": "markdown",
   "metadata": {},
   "source": [
    "ディクショナリもリストと同様にdel関数で要素を削除することができます．ただし，リストと異なりkeyを指定して削除します．"
   ]
  },
  {
   "cell_type": "code",
   "execution_count": 29,
   "metadata": {},
   "outputs": [
    {
     "data": {
      "text/plain": [
       "{'東京': '山手線',\n",
       " '新宿': '中央線',\n",
       " '渋谷': '山手線',\n",
       " '池袋': '山手線',\n",
       " '上野': '山手線',\n",
       " '品川': '山手線',\n",
       " '新橋': '山手線'}"
      ]
     },
     "execution_count": 29,
     "metadata": {},
     "output_type": "execute_result"
    }
   ],
   "source": [
    "del station_y[\"吉祥寺\"]\n",
    "station_y"
   ]
  },
  {
   "cell_type": "markdown",
   "metadata": {},
   "source": [
    "関数 dict()を使ってリストを用い新しいディクショナリを作ることができます．キーと値からなる，2つの要素を持つリストを並べて作ったリストからディクショナリを作ります．（ディクショナリの作り方は他にもあります）"
   ]
  },
  {
   "cell_type": "code",
   "execution_count": 31,
   "metadata": {},
   "outputs": [
    {
     "data": {
      "text/plain": [
       "{'お茶の水': '中央線', '四谷': '中央線', '中野': '中央線'}"
      ]
     },
     "execution_count": 31,
     "metadata": {},
     "output_type": "execute_result"
    }
   ],
   "source": [
    "station_c = dict([[\"お茶の水\", \"中央線\"], [\"四谷\", \"中央線\"], [\"中野\",\"中央線\"]])\n",
    "station_c"
   ]
  },
  {
   "cell_type": "markdown",
   "metadata": {},
   "source": [
    "リストや文字列と同様に<code>len()</code>関数を用いディクショナリの要素数を数える事ができます．"
   ]
  },
  {
   "cell_type": "code",
   "execution_count": 32,
   "metadata": {},
   "outputs": [
    {
     "data": {
      "text/plain": [
       "3"
      ]
     },
     "execution_count": 32,
     "metadata": {},
     "output_type": "execute_result"
    }
   ],
   "source": [
    "len(station_c)"
   ]
  },
  {
   "cell_type": "markdown",
   "metadata": {},
   "source": [
    "リストと同様にディクショナリも様々なメソッド（dict型専用の関数）を持っています．例えば，2つのディクショナリを組み合わせ1つのディクショナリを作る場合には update() メソッドを用います．matheng_staffにmatheng_staff_newを組み合わせます．"
   ]
  },
  {
   "cell_type": "code",
   "execution_count": 33,
   "metadata": {},
   "outputs": [
    {
     "data": {
      "text/plain": [
       "{'東京': '山手線',\n",
       " '新宿': '中央線',\n",
       " '渋谷': '山手線',\n",
       " '池袋': '山手線',\n",
       " '上野': '山手線',\n",
       " '品川': '山手線',\n",
       " '新橋': '山手線',\n",
       " 'お茶の水': '中央線',\n",
       " '四谷': '中央線',\n",
       " '中野': '中央線'}"
      ]
     },
     "execution_count": 33,
     "metadata": {},
     "output_type": "execute_result"
    }
   ],
   "source": [
    "station_y.update(station_c)\n",
    "station_y"
   ]
  },
  {
   "cell_type": "markdown",
   "metadata": {},
   "source": [
    "ディクショナリのその他のメソッドの一部は下記の通りです．"
   ]
  },
  {
   "cell_type": "markdown",
   "metadata": {},
   "source": [
    "<table>\n",
    "        <tr>\n",
    "        <th>メソッド</th>\n",
    "        <th>動作（ディクショナリを S={\"white\":\"白\", \"red\":\"赤\", \"blue\":\"青\", \"black\":\"黒\"} として，書き方の例を示す．）</th>\n",
    "    </tr>\n",
    "         <tr>\n",
    "        <td>S.keys()</td>\n",
    "        <td>Sに含まれるキーのリストを返す．例：S.keys() 結果：['white', 'black', 'red', 'blue']</td>\n",
    "    </tr>\n",
    "     <tr>\n",
    "        <td>S.values()</td>\n",
    "        <td>Sに含まれる値のリストを返す．例：S.values() 結果：['白', '黒', '赤', '青']</td>\n",
    "    </tr>\n",
    "     <tr>\n",
    "        <td>S.get(key, value)</td>\n",
    "        <td>keyがSの中に含まれればS[key]を返し，含まれなければvalueを返す．例：S.get(\"orange\", \"朱\") 結果：朱</td>\n",
    "    </tr>\n",
    "    <tr>\n",
    "        <td>S.items()</td>\n",
    "        <td>Sに登録されているキーと値をペアにしたタプルをリストとして返す（タプルとは値を変更できないリストのこと）．例：S.items() 結果：</td>\n",
    "    </tr>    \n",
    "</table>"
   ]
  },
  {
   "cell_type": "code",
   "execution_count": 34,
   "metadata": {},
   "outputs": [
    {
     "name": "stdout",
     "output_type": "stream",
     "text": [
      "dict_keys(['white', 'red', 'blue', 'black'])\n",
      "dict_values(['白', '赤', '青', '黒'])\n",
      "赤\n",
      "dict_items([('white', '白'), ('red', '赤'), ('blue', '青'), ('black', '黒')])\n"
     ]
    }
   ],
   "source": [
    "S={\"white\":\"白\", \"red\":\"赤\", \"blue\":\"青\", \"black\":\"黒\"}\n",
    "print(S.keys())\n",
    "print(S.values())\n",
    "print(S.get(\"red\", \"朱\"))\n",
    "print(S.items())"
   ]
  },
  {
   "cell_type": "markdown",
   "metadata": {},
   "source": [
    "ディクショナリもリストと同様にforループで使う事がある．（イテレーションアクセス）"
   ]
  },
  {
   "cell_type": "code",
   "execution_count": 35,
   "metadata": {},
   "outputs": [
    {
     "name": "stdout",
     "output_type": "stream",
     "text": [
      "white\n",
      "red\n",
      "blue\n",
      "blmack\n"
     ]
    }
   ],
   "source": [
    "color_dic = {\"white\":\"白\", \"red\":\"赤\", \"blue\":\"青\", \"blmack\":\"黒\"}\n",
    "for i in color_dic:\n",
    "    print(i)"
   ]
  },
  {
   "cell_type": "markdown",
   "metadata": {},
   "source": [
    "もちろん，キーを使って対応した値を取り出すことも可能．"
   ]
  },
  {
   "cell_type": "code",
   "execution_count": 36,
   "metadata": {},
   "outputs": [
    {
     "name": "stdout",
     "output_type": "stream",
     "text": [
      "白\n",
      "赤\n",
      "青\n",
      "黒\n"
     ]
    }
   ],
   "source": [
    "for i in color_dic:\n",
    "    print(color_dic[i])"
   ]
  },
  {
   "cell_type": "markdown",
   "metadata": {},
   "source": [
    "### 問題2.2\n",
    "キーをリストとして取り出す操作を用いて，ディクショナリnum_dict = {\"5\":\"四谷\", \"2\":\"新宿\", \"3\":\"渋谷\", \"1\":\"東京\", \"4\":\"池袋\"}の要素をキーの小さい順番にリスト化して出力するプログラムを作成しなさい．\n",
    "\n",
    "出力結果\n",
    "```['東京', '新宿', '渋谷', '池袋', '四谷']```"
   ]
  },
  {
   "cell_type": "code",
   "execution_count": 38,
   "metadata": {},
   "outputs": [
    {
     "name": "stdout",
     "output_type": "stream",
     "text": [
      "{'1': '東京', '2': '新宿', '3': '渋谷', '4': '池袋', '5': '四谷'}\n",
      "['東京', '新宿', '渋谷', '池袋', '四谷']\n"
     ]
    }
   ],
   "source": [
    "# 解答1.5\n",
    "# 辞書の要素をキーの順番通りにリスト化して出力するプログラム\n",
    "import numpy as np\n",
    "\n",
    "#num_dict={5:'薩摩', 2:'阿部', 3:'西川', 1:'高石', 4:'渡辺'}\n",
    "num_dict1={\"5\":\"四谷\", \"2\":\"新宿\", \"3\":\"渋谷\", \"1\":\"東京\", \"4\":\"池袋\"}\n",
    "\n",
    "# 解答1\n",
    "num_dict_new=dict(sorted(num_dict1.items()))\n",
    "\n",
    "print(num_dict_new)\n",
    "print(list(num_dict_new.values()))"
   ]
  },
  {
   "cell_type": "markdown",
   "metadata": {},
   "source": [
    "## 2.3 タプルは辞書のキーとして使える（リストは辞書のキーとして使えない）"
   ]
  },
  {
   "cell_type": "markdown",
   "metadata": {},
   "source": [
    "タプル型はディクショナリ型のキーとして使うことが出来る．"
   ]
  },
  {
   "cell_type": "code",
   "execution_count": 39,
   "metadata": {},
   "outputs": [
    {
     "data": {
      "text/plain": [
       "{('国際展示場', '0922'): '雨'}"
      ]
     },
     "execution_count": 39,
     "metadata": {},
     "output_type": "execute_result"
    }
   ],
   "source": [
    "tenki = {}\n",
    "key = (\"国際展示場\", \"0922\")\n",
    "tenki[key] = \"雨\"\n",
    "tenki"
   ]
  },
  {
   "cell_type": "markdown",
   "metadata": {},
   "source": [
    "ちなみに，リスト型はディクショナリ型のキーとして使えない．"
   ]
  },
  {
   "cell_type": "code",
   "execution_count": 40,
   "metadata": {},
   "outputs": [
    {
     "ename": "TypeError",
     "evalue": "unhashable type: 'list'",
     "output_type": "error",
     "traceback": [
      "\u001b[0;31m---------------------------------------------------------------------------\u001b[0m",
      "\u001b[0;31mTypeError\u001b[0m                                 Traceback (most recent call last)",
      "\u001b[1;32mセル61 を /home/kinop/work/math_eng2/src/MEE2_01_02.ipynb\u001b[0m in \u001b[0;36m<cell line: 3>\u001b[0;34m()\u001b[0m\n\u001b[1;32m      <a href='vscode-notebook-cell://wsl%2Bubuntu-20.04/home/kinop/work/math_eng2/src/MEE2_01_02.ipynb#Y114sdnNjb2RlLXJlbW90ZQ%3D%3D?line=0'>1</a>\u001b[0m tenki2 \u001b[39m=\u001b[39m {}\n\u001b[1;32m      <a href='vscode-notebook-cell://wsl%2Bubuntu-20.04/home/kinop/work/math_eng2/src/MEE2_01_02.ipynb#Y114sdnNjb2RlLXJlbW90ZQ%3D%3D?line=1'>2</a>\u001b[0m key \u001b[39m=\u001b[39m [\u001b[39m\"\u001b[39m\u001b[39m大井町\u001b[39m\u001b[39m\"\u001b[39m, \u001b[39m\"\u001b[39m\u001b[39m0921\u001b[39m\u001b[39m\"\u001b[39m]\n\u001b[0;32m----> <a href='vscode-notebook-cell://wsl%2Bubuntu-20.04/home/kinop/work/math_eng2/src/MEE2_01_02.ipynb#Y114sdnNjb2RlLXJlbW90ZQ%3D%3D?line=2'>3</a>\u001b[0m tenki2[key] \u001b[39m=\u001b[39m \u001b[39m\"\u001b[39m\u001b[39m曇り\u001b[39m\u001b[39m\"\u001b[39m\n\u001b[1;32m      <a href='vscode-notebook-cell://wsl%2Bubuntu-20.04/home/kinop/work/math_eng2/src/MEE2_01_02.ipynb#Y114sdnNjb2RlLXJlbW90ZQ%3D%3D?line=3'>4</a>\u001b[0m tenki2\n",
      "\u001b[0;31mTypeError\u001b[0m: unhashable type: 'list'"
     ]
    }
   ],
   "source": [
    "tenki2 = {}\n",
    "key = [\"大井町\", \"0921\"]\n",
    "tenki2[key] = \"曇り\"\n",
    "tenki2"
   ]
  },
  {
   "cell_type": "markdown",
   "metadata": {},
   "source": [
    "### 問題2.3\n",
    "133.35.254.250～253までの4つのIPアドレスと\"gmail.com\", \"yahoo.co.jp\", \"musashino-u.ac.jp\", \"facebook.com\"の4つのドメイン名を対応させ，ディクショナリ型として管理して下さい．\n",
    "\n",
    "ヒント<br />\n",
    "IPアドレスをタプル型でキーとして取り扱い，ドメイン名を値とするディクショナリ型を作ればよい．"
   ]
  },
  {
   "cell_type": "code",
   "execution_count": 41,
   "metadata": {},
   "outputs": [
    {
     "name": "stdout",
     "output_type": "stream",
     "text": [
      "{'133.35.254.250': 'gmail.com', '133.35.254.251': 'yahoo.co.jp', '133.35.254.252': 'musashino-u.ac.jp', '133.35.254.253': 'facebook.com'}\n",
      "{'133.35.254.250': 'gmail.com', '133.35.254.251': 'yahoo.co.jp', '133.35.254.252': 'musashino-u.ac.jp', '133.35.254.253': 'facebook.com'}\n"
     ]
    }
   ],
   "source": [
    "# 解答2.3\n",
    "moji='133.35.254.'+'250'\n",
    "key_web=()\n",
    "for i in range(250, 254):\n",
    "    key_web+=tuple(['133.35.254.'+str(i)])\n",
    "value_web=[\"gmail.com\", \"yahoo.co.jp\", \"musashino-u.ac.jp\", \"facebook.com\"]\n",
    "\n",
    "dict_web1={}\n",
    "for i in range(4):\n",
    "    dict_web1[key_web[i]]=value_web[i]\n",
    "print(dict_web1)\n",
    "\n",
    "#別解\n",
    "dict_web2=dict(zip(key_web, value_web))\n",
    "print(dict_web2)"
   ]
  },
  {
   "cell_type": "markdown",
   "metadata": {},
   "source": [
    "## 2.4 set型（集合型）\n",
    "Pythonの型の中で複数のデータを持つ型としてこれまで`list`型（リスト），`str`型（文字列），`dict`型（辞書），`tuple`型（タプル）について学びました（複数のデータを持つ型の総称をコンテナ型と呼びます）．もう一つ複数のデータを持つ型として **`set`型（集合）** があります．`set`型は集合演算できるところに特徴があります．  \n",
    "集合は`{ }`で囲って複数のデータをリストのように並べます（辞書も`{ }`で囲って定義しますがkeyと値がセットで必要でした）． **集合は順序を持っていませんのでリストのようにインデックスでデータを指定できません** ．また，集合は重複したデータを持つことが出来ません（インデックスが無いのでデータを区別することが出来ないのです）．以下のようにいくつかの方法で定義できます．"
   ]
  },
  {
   "cell_type": "code",
   "execution_count": 42,
   "metadata": {},
   "outputs": [
    {
     "name": "stdout",
     "output_type": "stream",
     "text": [
      "{'c', 'd', 'a', 'b'}\n"
     ]
    }
   ],
   "source": [
    "# 集合の定義\n",
    "st01={'a', 'b','c','d'}\n",
    "print(st01)"
   ]
  },
  {
   "cell_type": "code",
   "execution_count": 43,
   "metadata": {},
   "outputs": [
    {
     "name": "stdout",
     "output_type": "stream",
     "text": [
      "<class 'set'>\n"
     ]
    }
   ],
   "source": [
    "print(type(st01))"
   ]
  },
  {
   "cell_type": "code",
   "execution_count": 44,
   "metadata": {},
   "outputs": [
    {
     "name": "stdout",
     "output_type": "stream",
     "text": [
      "{'f', 'g', 'e', 'd'}\n"
     ]
    }
   ],
   "source": [
    "# 集合は重複データを持つ事が出来ない\n",
    "st02={'d', 'e', 'f', 'g', 'e', 'f', 'g', 'f', 'g', 'g'}\n",
    "print(st02)"
   ]
  },
  {
   "cell_type": "markdown",
   "metadata": {},
   "source": [
    "リストから集合を作ることも可能です.`set()`関数によってリストを集合へ変換してます．"
   ]
  },
  {
   "cell_type": "code",
   "execution_count": 45,
   "metadata": {},
   "outputs": [
    {
     "name": "stdout",
     "output_type": "stream",
     "text": [
      "['d', 'e', 'f', 'g', 'e', 'f', 'g', 'f', 'g', 'g']\n",
      "{'f', 'g', 'e', 'd'}\n"
     ]
    }
   ],
   "source": [
    "# 集合の定義2\n",
    "lt01=['d', 'e', 'f', 'g', 'e', 'f', 'g', 'f', 'g', 'g']\n",
    "print(lt01)\n",
    "st02=set(lt01)\n",
    "print(st02)"
   ]
  },
  {
   "cell_type": "markdown",
   "metadata": {},
   "source": [
    "集合の演算は数学（確率・統計）で学んだと思います"
   ]
  },
  {
   "cell_type": "code",
   "execution_count": 46,
   "metadata": {},
   "outputs": [
    {
     "data": {
      "text/plain": [
       "{'a', 'b', 'c', 'd', 'e', 'f', 'g'}"
      ]
     },
     "execution_count": 46,
     "metadata": {},
     "output_type": "execute_result"
    }
   ],
   "source": [
    "st01 | st02 # 和集合"
   ]
  },
  {
   "cell_type": "code",
   "execution_count": 47,
   "metadata": {},
   "outputs": [
    {
     "data": {
      "text/plain": [
       "{'d'}"
      ]
     },
     "execution_count": 47,
     "metadata": {},
     "output_type": "execute_result"
    }
   ],
   "source": [
    "st01 & st02 # 積集合（共通部分）"
   ]
  },
  {
   "cell_type": "code",
   "execution_count": 48,
   "metadata": {},
   "outputs": [
    {
     "data": {
      "text/plain": [
       "{'a', 'b', 'c'}"
      ]
     },
     "execution_count": 48,
     "metadata": {},
     "output_type": "execute_result"
    }
   ],
   "source": [
    "st01 - st02 # 差集合"
   ]
  },
  {
   "cell_type": "code",
   "execution_count": 49,
   "metadata": {},
   "outputs": [
    {
     "data": {
      "text/plain": [
       "{'a', 'b', 'c', 'e', 'f', 'g'}"
      ]
     },
     "execution_count": 49,
     "metadata": {},
     "output_type": "execute_result"
    }
   ],
   "source": [
    "st01 ^ st02 # 対称差"
   ]
  },
  {
   "cell_type": "markdown",
   "metadata": {},
   "source": [
    "集合で定義されているメソッドには以下のようなものがあります．その他集合で定義されてるすべてのメソッドは[ここ](http://docs.python.jp/3/library/stdtypes.html#set)を参照のこと\n",
    "\n",
    "<table>\n",
    "        <tr>\n",
    "        <th>メソッドまたは関数（aは集合、itemはデータ）</th>\n",
    "        <th>説明</th>\n",
    "    　　</tr>\n",
    "        <tr>\n",
    "        <td>len(a)</td>\n",
    "        <td>aのデータ数</td>\n",
    "    　　</tr>\n",
    "        <tr>\n",
    "        <td>a.copy()</td>\n",
    "        <td>aのコピー</td>\n",
    "    　　</tr>\n",
    "        <tr>\n",
    "        <td>a.add(item)</td>\n",
    "        <td>aにitemを加える</td>\n",
    "    　　</tr>\n",
    "        <tr>\n",
    "        <td>a.clear()</td>\n",
    "        <td>aのデータを全削除</td>\n",
    "    　　</tr>\n",
    "        <tr>\n",
    "        <td>a.discard(item)</td>\n",
    "        <td>aからitemを削除する（itemがなければ何もしない）</td>\n",
    "    　　</tr>\n",
    "        <tr>\n",
    "        <td>a.difference(b)</td>\n",
    "        <td>差集合（bにはなくてaにはある要素を返す）</td>\n",
    "    　　</tr>\n",
    "        <tr>\n",
    "        <td>a.intersection(b)</td>\n",
    "        <td>積集合（aにもbにもある要素を返す）</td>\n",
    "    　　</tr>\n",
    "        <tr>\n",
    "        <td>a.union(b)</td>\n",
    "        <td>和集合（aかbに含まれる要素を返す）</td>\n",
    "    　　</tr>\n",
    "</table>"
   ]
  },
  {
   "cell_type": "code",
   "execution_count": 50,
   "metadata": {},
   "outputs": [
    {
     "name": "stdout",
     "output_type": "stream",
     "text": [
      " st01の長さ4\n",
      " st02の長さ4\n"
     ]
    }
   ],
   "source": [
    "print(' st01の長さ{}\\n st02の長さ{}'.format(len(st01),len(st02)))"
   ]
  },
  {
   "cell_type": "code",
   "execution_count": 51,
   "metadata": {},
   "outputs": [
    {
     "data": {
      "text/plain": [
       "{'a', 'b', 'c', 'd', 'e'}"
      ]
     },
     "execution_count": 51,
     "metadata": {},
     "output_type": "execute_result"
    }
   ],
   "source": [
    "st01.add('e')\n",
    "st01"
   ]
  },
  {
   "cell_type": "code",
   "execution_count": 52,
   "metadata": {},
   "outputs": [
    {
     "data": {
      "text/plain": [
       "{'a', 'b', 'c', 'd'}"
      ]
     },
     "execution_count": 52,
     "metadata": {},
     "output_type": "execute_result"
    }
   ],
   "source": [
    "st01.discard('e')\n",
    "st01"
   ]
  },
  {
   "cell_type": "markdown",
   "metadata": {},
   "source": [
    "### 問題2.4\n",
    "サイコロ投げについて考えます．事象$A$:「目が素数」，事象$B$:「目が奇数」とした時に事象$A$と事象$B$を`set`型で定義し，\n",
    "\n",
    "1. $A \\cap B$が起こる確率\n",
    "1. $A \\cup B$が起こる確率\n",
    "\n",
    "を`set`型を用いて計算しなさい．"
   ]
  },
  {
   "cell_type": "code",
   "execution_count": 53,
   "metadata": {},
   "outputs": [
    {
     "name": "stdout",
     "output_type": "stream",
     "text": [
      "0.3333333333333333\n",
      "0.6666666666666666\n"
     ]
    }
   ],
   "source": [
    "# 解答2.4\n",
    "stA={2, 3, 5}\n",
    "stB={1, 3, 5}\n",
    "\n",
    "seki=stA & stB\n",
    "prob_seki=len(seki)/6\n",
    "print(prob_seki)\n",
    "wa= stA | stB\n",
    "prob_wa=len(wa)/6\n",
    "print(prob_wa)"
   ]
  },
  {
   "cell_type": "markdown",
   "metadata": {
    "collapsed": true
   },
   "source": [
    "### レポート課題\n",
    "学籍番号0～100を5で割って余りに応じて，A, B, C, D, Eの5つのクラスに分けなさい．ただし，学籍番号をキー，クラス名（A, B，C，D，E）を値とした1つのディクショナリとすること．\n",
    "\n",
    "ヒント  \n",
    "ループ（`for`）や条件分岐（`if`）を用い適切に用い5つのディクショナリに分類してみてください．\n",
    "\n",
    "**〆切：10/01（日）18:00までにGoogle Classroomで「学籍番号\\_01.ipynb」形式で送ること**"
   ]
  },
  {
   "cell_type": "code",
   "execution_count": 1,
   "metadata": {},
   "outputs": [
    {
     "name": "stdout",
     "output_type": "stream",
     "text": [
      "{0: 'A', 1: 'B', 2: 'C', 3: 'D', 4: 'E', 5: 'A', 6: 'B', 7: 'C', 8: 'D', 9: 'E', 10: 'A', 11: 'B', 12: 'C', 13: 'D', 14: 'E', 15: 'A', 16: 'B', 17: 'C', 18: 'D', 19: 'E', 20: 'A', 21: 'B', 22: 'C', 23: 'D', 24: 'E', 25: 'A', 26: 'B', 27: 'C', 28: 'D', 29: 'E', 30: 'A', 31: 'B', 32: 'C', 33: 'D', 34: 'E', 35: 'A', 36: 'B', 37: 'C', 38: 'D', 39: 'E', 40: 'A', 41: 'B', 42: 'C', 43: 'D', 44: 'E', 45: 'A', 46: 'B', 47: 'C', 48: 'D', 49: 'E', 50: 'A', 51: 'B', 52: 'C', 53: 'D', 54: 'E', 55: 'A', 56: 'B', 57: 'C', 58: 'D', 59: 'E', 60: 'A', 61: 'B', 62: 'C', 63: 'D', 64: 'E', 65: 'A', 66: 'B', 67: 'C', 68: 'D', 69: 'E', 70: 'A', 71: 'B', 72: 'C', 73: 'D', 74: 'E', 75: 'A', 76: 'B', 77: 'C', 78: 'D', 79: 'E', 80: 'A', 81: 'B', 82: 'C', 83: 'D', 84: 'E', 85: 'A', 86: 'B', 87: 'C', 88: 'D', 89: 'E', 90: 'A', 91: 'B', 92: 'C', 93: 'D', 94: 'E', 95: 'A', 96: 'B', 97: 'C', 98: 'D', 99: 'E', 100: 'A'}\n"
     ]
    }
   ],
   "source": [
    "# レポート解答\n",
    "\n",
    "# 解答1 辞書の要素を追加する方法\n",
    "kumi_in={}\n",
    "for i in range(101):\n",
    "    if i%5==0:\n",
    "        kumi_in[i]=\"A\"\n",
    "    elif i%5==1:\n",
    "        kumi_in[i]=\"B\"\n",
    "    elif i%5==2:\n",
    "        kumi_in[i]=\"C\"\n",
    "    elif i%5==3:\n",
    "        kumi_in[i]=\"D\"\n",
    "    else:\n",
    "        kumi_in[i]=\"E\"\n",
    "print(kumi_in)"
   ]
  },
  {
   "cell_type": "code",
   "execution_count": null,
   "metadata": {},
   "outputs": [],
   "source": []
  }
 ],
 "metadata": {
  "kernelspec": {
   "display_name": "Python 3.8.10 ('.py38')",
   "language": "python",
   "name": "python3"
  },
  "language_info": {
   "codemirror_mode": {
    "name": "ipython",
    "version": 3
   },
   "file_extension": ".py",
   "mimetype": "text/x-python",
   "name": "python",
   "nbconvert_exporter": "python",
   "pygments_lexer": "ipython3",
   "version": "3.8.10"
  },
  "vscode": {
   "interpreter": {
    "hash": "c182d1b202b41fdf4b60803f05a29d92f1736a33b38810d465f4f5fc6e4b1d74"
   }
  }
 },
 "nbformat": 4,
 "nbformat_minor": 1
}
