{
 "cells": [
  {
   "attachments": {},
   "cell_type": "markdown",
   "id": "083c47bf-93f0-4a60-864e-1a1458c9a1cc",
   "metadata": {},
   "source": [
    "# 第11回 数理工学実験２\n",
    "\n",
    "## pygameを用いた作品の発表会\n",
    "\n",
    "今回は前々回に行ったpygameを用いた作品の発表会を行います。\n",
    "\n",
    "発表にあったっては以下の点を踏まえてください。\n",
    "- 作品の概要\n",
    "- プログラムの中身の解説\n",
    "\n",
    "他の学生の発表を聞く場合には以下の点を踏まえること\n",
    "- 発表を聞いている場合には質問をすること\n",
    "- 他の人のプログラムについての感想（アルゴリズムやグラフィック上の工夫について）"
   ]
  },
  {
   "cell_type": "code",
   "execution_count": null,
   "id": "d7fac518-d595-4bad-955d-c5000c1d0324",
   "metadata": {},
   "outputs": [],
   "source": []
  }
 ],
 "metadata": {
  "kernelspec": {
   "display_name": "Python 3 (ipykernel)",
   "language": "python",
   "name": "python3"
  },
  "language_info": {
   "codemirror_mode": {
    "name": "ipython",
    "version": 3
   },
   "file_extension": ".py",
   "mimetype": "text/x-python",
   "name": "python",
   "nbconvert_exporter": "python",
   "pygments_lexer": "ipython3",
   "version": "3.12.8"
  }
 },
 "nbformat": 4,
 "nbformat_minor": 5
}
