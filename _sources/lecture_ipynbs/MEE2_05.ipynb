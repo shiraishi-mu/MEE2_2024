{
 "cells": [
  {
   "cell_type": "markdown",
   "metadata": {},
   "source": [
    "# 10 連立一次方程式の解法（ガウスの消去法）"
   ]
  },
  {
   "cell_type": "markdown",
   "metadata": {},
   "source": [
    "線形方程式の典型例である連立一次方程式 **$Ax=b$** の解を求めるためには **ガウスの消去法** という非常に優れた解法があります。ここではガウスの消去法のアルゴリズムをプログラムとして実装する方法を考えてみましょう。"
   ]
  },
  {
   "cell_type": "markdown",
   "metadata": {},
   "source": [
    "## 10.1 （単純な）ガウスの消去法"
   ]
  },
  {
   "cell_type": "markdown",
   "metadata": {},
   "source": [
    "それではガウスの消去法を復習しながらプログラムを作成していきます。以下の3元連立一次方程式について考えます。\n",
    "\n",
    "$$\n",
    "\\begin{cases} 3x_1 + x_2 + x_3 &= 13 \\\\ \n",
    "5x_1 + x_2 + 3x_3 &= 20 \\\\\n",
    "4x_1 + 2x_2 + x_3 &= 13\n",
    "\\end{cases}\n",
    "$$\n"
   ]
  },
  {
   "cell_type": "markdown",
   "metadata": {},
   "source": [
    "行列形式で表すと次のようになります．\n",
    "\n",
    "$$\n",
    "\\begin{bmatrix}\n",
    "3 & 1 & 2 \\\\\n",
    "5 & 1 & 3 \\\\\n",
    "4 & 2 & 1 \\\\\n",
    "\\end{bmatrix}\n",
    "\\begin{bmatrix}\n",
    "x_1 \\\\\n",
    "x_2 \\\\\n",
    "x_3\n",
    "\\end{bmatrix}=\n",
    "\\begin{bmatrix}\n",
    "13 \\\\\n",
    "20 \\\\\n",
    "13 \\\\ \n",
    "\\end{bmatrix}\n",
    "$$"
   ]
  },
  {
   "cell_type": "markdown",
   "metadata": {},
   "source": [
    "それでは、次の手順（ガウスの消去法）でこの連立方程式を解いてみます。\n",
    "\n",
    "1. **第1列の2行目と3行目を0にする．**\n",
    "具体的には「第1行$ \\times(-\\frac{5}{3}) + 第2行 $」，「第1行 $\\times (-\\frac{4}{3}) + 第3行 $」とします．\n",
    "\n",
    "$$\n",
    "\\begin{bmatrix}\n",
    "3 & 1 & 2 \\\\\n",
    "0 & -\\frac{2}{3} & -\\frac{1}{3} \\\\\n",
    "0 & \\frac{2}{3} & -\\frac{5}{3} \\\\\n",
    "\\end{bmatrix}\n",
    "\\begin{bmatrix}\n",
    "x_1 \\\\\n",
    "x_2 \\\\\n",
    "x_3\n",
    "\\end{bmatrix}=\n",
    "\\begin{bmatrix}\n",
    "13 \\\\\n",
    "-\\frac{5}{3} \\\\\n",
    "-\\frac{13}{3} \\\\ \n",
    "\\end{bmatrix} \\hspace{3cm}(6.2)\n",
    "$$\n",
    "\n",
    "2. **第2列の3行目を0とする**\n",
    "具体的には(6.2)式において、「第2行 $\\times$ 1 + 第3行」とします。\n",
    "\n",
    "$$\n",
    "\\begin{bmatrix}\n",
    "3 & 1 & 2 \\\\\n",
    "0 & -\\frac{2}{3} & -\\frac{1}{3} \\\\\n",
    "0 & 0 & -2 \\\\\n",
    "\\end{bmatrix}\n",
    "\\begin{bmatrix}\n",
    "x_1 \\\\\n",
    "x_2 \\\\\n",
    "x_3\n",
    "\\end{bmatrix}=\n",
    "\\begin{bmatrix}\n",
    "13 \\\\\n",
    "-\\frac{5}{3} \\\\\n",
    "-6 \\\\ \n",
    "\\end{bmatrix} \\hspace{3cm}(6.2)\n",
    "$$\n",
    "\n",
    "ここまでの手順が**前進消去**と呼ばれる操作になります。\n",
    "3. $x_3, x_2, x_1$ の順に後ろから代入して解を求めます。\n",
    "\n",
    "$$\n",
    "%%\\begin{array}\n",
    "%\\begin{cases}\n",
    "x_3 = \\frac{-6}{-2} = 3 \\\\\n",
    "x_2 = -\\frac{3}{2}(-\\frac{5}{3}+\\frac{1}{3} \\times 3) =1 \\\\ \n",
    "x_1 = \\frac{1}{3}(13-1-2 \\times 3)=2\n",
    "%\\end{cases}\n",
    "%%\\end{array}\n",
    "$$\n",
    "\n",
    "この手順が**後退代入**と呼ばれる操作になります。"
   ]
  },
  {
   "cell_type": "markdown",
   "metadata": {},
   "source": [
    "それでは上記の手順（アルゴリズム）に基づいてプログラムを作成していきましょう。次のプログラムは上記1の手順、つまり**「行の基本変形を用いて2行目以降の1列目の成分を0とするプログラム」**になります。"
   ]
  },
  {
   "cell_type": "code",
   "execution_count": 1,
   "metadata": {},
   "outputs": [
    {
     "name": "stdout",
     "output_type": "stream",
     "text": [
      "[[ 3.          1.          2.        ]\n",
      " [ 0.         -0.66666667 -0.33333333]\n",
      " [ 0.          0.66666667 -1.66666667]] \n",
      " [13.         -1.66666667 -4.33333333]\n"
     ]
    }
   ],
   "source": [
    "import numpy as np\n",
    "\n",
    "# 解きたい連立方程式を準備\n",
    "mat01=np.array([[3.0, 1.0, 2.0],\n",
    "                [5.0, 1.0, 3.0], \n",
    "                [4.0, 2.0, 1.0]])\n",
    "vect01=np.array([13.0, 20.0, 13.0])\n",
    "N = mat01.shape[0]\n",
    "\n",
    "# 前進消去1 - 2行目の1列目を消去\n",
    "i = 1\n",
    "alpha = -mat01[i][0] / mat01[0][0]\n",
    "for j in range(N):\n",
    "    mat01[i][j] = mat01[i][j] + alpha * mat01[0][j]\n",
    "vect01[i] = vect01[i] + alpha * vect01[0]\n",
    "\n",
    "# 前進消去1 - 3行目の1列目を消去\n",
    "i = 2\n",
    "alpha = -mat01[i][0] / mat01[0][0]\n",
    "for j in range(N):\n",
    "    mat01[i][j] = mat01[i][j] + alpha * mat01[0][j]\n",
    "vect01[i] = vect01[i] + alpha * vect01[0]\n",
    "\n",
    "# 1列目の成分が0になっているか確認\n",
    "print(mat01, \"\\n\",vect01)"
   ]
  },
  {
   "cell_type": "markdown",
   "metadata": {},
   "source": [
    "行ごとに1列目成分を0とする計算部分を`for`ループを用い表現します。"
   ]
  },
  {
   "cell_type": "code",
   "execution_count": 2,
   "metadata": {},
   "outputs": [
    {
     "name": "stdout",
     "output_type": "stream",
     "text": [
      "[[ 3.          1.          2.        ]\n",
      " [ 0.         -0.66666667 -0.33333333]\n",
      " [ 0.          0.66666667 -1.66666667]] \n",
      " [13.         -1.66666667 -4.33333333]\n"
     ]
    }
   ],
   "source": [
    "import numpy as np\n",
    "\n",
    "mat01=np.array([[3.0, 1.0, 2.0],[5.0,1.0,3],[4.0,2.0,1.0]])\n",
    "vect01=np.array([13.0, 20.0, 13.0])\n",
    "N=mat01.shape[0] #正方行列の次元\n",
    "\n",
    "for i in range(0+1, N):\n",
    "    '''行の基本変形を用いて2行目以降の1列目の成分を0とするプログラム'''\n",
    "    alpha=-mat01[i][0] / mat01[0][0]\n",
    "    for j in range(0, N):\n",
    "        mat01[i][j]=mat01[i][j] + alpha * mat01[0][j]\n",
    "    vect01[i] = vect01[i] + alpha * vect01[0]     \n",
    "\n",
    "print(mat01, \"\\n\", vect01)"
   ]
  },
  {
   "cell_type": "markdown",
   "metadata": {},
   "source": [
    "プログラムの説明の前に，**「行の基本変形のアルゴリズム部分」**と**「それを使う部分」**を分けて見通しをよくするために、「行の基本変形を行う部分」を関数化します。"
   ]
  },
  {
   "cell_type": "code",
   "execution_count": 3,
   "metadata": {},
   "outputs": [
    {
     "name": "stdout",
     "output_type": "stream",
     "text": [
      "[[ 3.          1.          2.        ]\n",
      " [ 0.         -0.66666667 -0.33333333]\n",
      " [ 0.          0.66666667 -1.66666667]]\n"
     ]
    }
   ],
   "source": [
    "import numpy as np\n",
    "\n",
    "def trans_mat1(mat01, vect01, N):\n",
    "    '''行の基本変形を用いて2行目以降の一列目の成分を0とする関数'''\n",
    "    for i in range(1, N):\n",
    "        alpha=-mat01[i][0] / mat01[0][0]\n",
    "        for j in range(0, N):\n",
    "            mat01[i][j]=mat01[i][j] + alpha * mat01[0][j]\n",
    "        \n",
    "    return mat01\n",
    "\n",
    "if __name__=='__main__':\n",
    "    mat01=np.array([[3.0, 1.0, 2.0],[5.0,1.0,3],[4.0,2.0,1.0]])\n",
    "    vect01=np.array([13.0, 20.0, 13.0])\n",
    "    N=mat01.shape[0]\n",
    "\n",
    "    print(trans_mat1(mat01, vect01, N))"
   ]
  },
  {
   "cell_type": "markdown",
   "metadata": {},
   "source": [
    "関数`def trans_mat():`の中身が「行の基本変形を用いて2行目以降の1列目の成分を $0$にするアルゴリズム部分」になります。 2重の`for`ループを使用しており1つ目のループは「2行目以降の1列目の成分を $0$ にするように1行目を2行目以降へ順番に加えるループ」を表しており2つ目のループは「列成分を計算するループ」を表しています。1行目を用いて2行目以降の1列目の成分を 0 とするため1つ目のループの開始条件は$1$からとなってます。`alpha`は消去作業を行う際に一時的に利用する変数です。"
   ]
  },
  {
   "cell_type": "markdown",
   "metadata": {},
   "source": [
    "続いて、「3行目の2列目の成分を$0$にするアルゴリズム」について考えます。"
   ]
  },
  {
   "cell_type": "code",
   "execution_count": 4,
   "metadata": {},
   "outputs": [
    {
     "name": "stdout",
     "output_type": "stream",
     "text": [
      "[[ 3.          1.          2.        ]\n",
      " [ 0.         -0.66666667 -0.33333333]\n",
      " [ 0.          0.         -2.        ]]\n"
     ]
    }
   ],
   "source": [
    "import numpy as np\n",
    "\n",
    "# 解きたい連立方程式を準備\n",
    "mat01=np.array([[3.0, 1.0, 2.0],\n",
    "                [5.0, 1.0, 3.0], \n",
    "                [4.0, 2.0, 1.0]])\n",
    "vect01=np.array([13.0, 20.0, 13.0])\n",
    "N = mat01.shape[0]\n",
    "\n",
    "# 前進消去1 - 2行目の1列目を消去\n",
    "i = 1\n",
    "alpha = -mat01[i][0] / mat01[0][0]\n",
    "for j in range(N):\n",
    "    mat01[i][j] = mat01[i][j] + alpha * mat01[0][j]\n",
    "vect01[i] = vect01[i] + alpha * vect01[0]\n",
    "\n",
    "# 前進消去1 - 3行目の1列目を消去\n",
    "i = 2\n",
    "alpha = -mat01[i][0] / mat01[0][0]\n",
    "for j in range(N):\n",
    "    mat01[i][j] = mat01[i][j] + alpha * mat01[0][j]\n",
    "vect01[i] = vect01[i] + alpha * vect01[0]\n",
    "\n",
    "# 前進消去2 - 3行目の2列目を消去\n",
    "i = 2\n",
    "beta = -mat01[i][1] / mat01[1][1]\n",
    "for j in range(1, N):\n",
    "    mat01[i][j] = mat01[i][j] + beta * mat01[1][j]\n",
    "vect01[i] = vect01[i] + beta * vect01[1]\n",
    "\n",
    "# 上三角行列ができているか確認\n",
    "print(mat01)"
   ]
  },
  {
   "cell_type": "markdown",
   "metadata": {},
   "source": [
    "## 問題1\n",
    "上のプログラムをカウンター変数`i`について、`for`ループを使ったプログラムを作りなさい"
   ]
  },
  {
   "cell_type": "code",
   "execution_count": 5,
   "metadata": {},
   "outputs": [
    {
     "name": "stdout",
     "output_type": "stream",
     "text": [
      "[[ 3.          1.          2.        ]\n",
      " [ 0.         -0.66666667 -0.33333333]\n",
      " [ 0.          0.         -2.        ]]\n"
     ]
    }
   ],
   "source": [
    "#解答 問題1\n",
    "import numpy as np\n",
    "\n",
    "# 解きたい連立方程式を準備\n",
    "mat01=np.array([[3.0, 1.0, 2.0],\n",
    "                [5.0, 1.0, 3.0], \n",
    "                [4.0, 2.0, 1.0]])\n",
    "vect01=np.array([13.0, 20.0, 13.0])\n",
    "N = mat01.shape[0]\n",
    "\n",
    "# 前進消去 - 2,3行目の1列目を消去, 3行目の2列目を消去\n",
    "for k in range(0, N-1):\n",
    "    for i in range(k+1, N):\n",
    "        alpha = -mat01[i][k] / mat01[k][k]\n",
    "        for j in range(k, N):\n",
    "            mat01[i][j] = mat01[i][j] + alpha * mat01[k][j]\n",
    "        vect01[i] = vect01[i] + alpha * vect01[k]\n",
    "\n",
    "print(mat01)"
   ]
  },
  {
   "cell_type": "markdown",
   "metadata": {},
   "source": [
    "## 問題2\n",
    "問題1のプログラムを関数化しなさい．"
   ]
  },
  {
   "cell_type": "code",
   "execution_count": 6,
   "metadata": {},
   "outputs": [
    {
     "name": "stdout",
     "output_type": "stream",
     "text": [
      "[[ 3.          1.          2.        ]\n",
      " [ 0.         -0.66666667 -0.33333333]\n",
      " [ 0.          0.         -2.        ]]\n"
     ]
    }
   ],
   "source": [
    "# 解答　問題2\n",
    "import numpy as np\n",
    "\n",
    "# 基本変形をまとめて関数にする\n",
    "def gauss_elimination(mat, vect, N):\n",
    "    # 上三角行列を作る\n",
    "    for k in range(0, N-1):\n",
    "        for i in range(k+1, N):\n",
    "            alpha = -mat[i][k] / mat[k][k]\n",
    "            for j in range(k, N):\n",
    "                mat[i][j] = mat[i][j] + alpha * mat[k][j]\n",
    "            vect[i] = vect[i] + alpha * vect[k]\n",
    "            \n",
    "    return mat\n",
    "\n",
    "if __name__=='__main__':\n",
    "    mat01=np.array([[3.0, 1.0, 2.0],[5.0,1.0,3],[4.0,2.0,1.0]])\n",
    "    vect01=np.array([13.0, 20.0, 13.0])\n",
    "    N=mat01.shape[0]\n",
    "\n",
    "    print(gauss_elimination(mat01, vect01, N))"
   ]
  },
  {
   "cell_type": "markdown",
   "metadata": {},
   "source": [
    "## 問題3\n",
    "後退代入を加えガウスの消去法のプログラムを作成しなさい。 （ヒントは下記）\n",
    "\n",
    "    import numpy as np\n",
    "\n",
    "    def gauss_elimination(mat01, vect01, N):\n",
    "\n",
    "        \"\"\"前進消去により行列を上三角行列へ基本変形\"\"\"\n",
    "        for k in range(0, N-1):\n",
    "            for i in range(k+1, N):\n",
    "                alpha=-mat01[i][k] / mat01[k][k]\n",
    "                for j in range(k, N):\n",
    "                    mat01[i][j]=mat01[i][j] + alpha * mat01[k][j]\n",
    "                vect01[i]=vect01[i]+alpha*vect01[k]\n",
    "\n",
    "        \"\"\"後退代入により下の行から順に代入し解を求める。(forループを2回用い下記の計算を行えばよい)\"\"\"\n",
    "    \n",
    "$$\n",
    "vect01[k]=\\frac{vect01[k]-\\sum^{N-1}_{j=k+1}mat01[k][j]vect01[j]}{mat01[k][k]}\n",
    "$$\n",
    "\n",
    "    if name=='main':\n",
    "\n",
    "        \"\"\"メイン関数　係数行列・定数項・行列サイズを用意 Ax=b\"\"\"\n",
    "        mat01=np.array([[3.0, 1.0, 2.0],[5.0,1.0,3],[4.0,2.0,1.0]])\n",
    "        vect01=np.array([13.0, 20.0, 13.0])\n",
    "        N=mat01.shape[0]\n",
    "\n",
    "        gauss_elimination(mat01, vect01, N)\n",
    "        print(vect01)\n",
    "\n",
    "解[2,1,3]"
   ]
  },
  {
   "cell_type": "code",
   "execution_count": 7,
   "metadata": {},
   "outputs": [
    {
     "name": "stdout",
     "output_type": "stream",
     "text": [
      "[2. 1. 3.]\n"
     ]
    }
   ],
   "source": [
    "# 解答　問題3\n",
    "import numpy as np\n",
    "\n",
    "# 基本変形をまとめて関数にする\n",
    "def gauss_elimination(mat, vect, N):\n",
    "    # 上三角行列を作る\n",
    "    for k in range(0, N-1):\n",
    "        for i in range(k+1, N):\n",
    "            alpha = -mat[i][k] / mat[k][k]\n",
    "            for j in range(k, N):\n",
    "                mat[i][j] = mat[i][j] + alpha * mat[k][j]\n",
    "            vect[i] = vect[i] + alpha * vect[k]\n",
    "    # 後退代入\n",
    "    #for k in range(N):\n",
    "    for i in reversed(range(N)):\n",
    "        #i = (N-1) - k\n",
    "        vect[i] = vect[i] / mat01[i][i]\n",
    "        for j in range(i+1, N):\n",
    "            vect[i] -= mat01[i][j]*vect[j] / mat01[i][i]\n",
    "            \n",
    "    return vect\n",
    "\n",
    "if __name__=='__main__':\n",
    "    mat01=np.array([[3.0, 1.0, 2.0],[5.0,1.0,3],[4.0,2.0,1.0]])\n",
    "    vect01=np.array([13.0, 20.0, 13.0])\n",
    "    N=mat01.shape[0]\n",
    "\n",
    "    print(gauss_elimination(mat01, vect01, N))\n"
   ]
  },
  {
   "cell_type": "markdown",
   "metadata": {},
   "source": [
    "## 問題4\n",
    "次の3元連立一次方程式を上記のプログラムと手計算で解きなさい。現れた結果を見比べながらプログラムを実行した際に何が起こっているのか推測しなさい。\n",
    "\n",
    "$$\n",
    "\\begin{bmatrix}\n",
    "2 & 1 & 1 \\\\\n",
    "4 & 2 & 5 \\\\\n",
    "8 & 8 & 9 \\\\\n",
    "\\end{bmatrix}\n",
    "\\begin{bmatrix}\n",
    "x_1 \\\\\n",
    "x_2 \\\\\n",
    "x_3\n",
    "\\end{bmatrix}=\n",
    "\\begin{bmatrix}\n",
    "15 \\\\\n",
    "39 \\\\\n",
    "83 \\\\ \n",
    "\\end{bmatrix}\n",
    "$$\n"
   ]
  },
  {
   "cell_type": "markdown",
   "metadata": {},
   "source": [
    "## 10.2 ピボット選択付きガウスの消去法"
   ]
  },
  {
   "cell_type": "markdown",
   "metadata": {},
   "source": [
    "16.1のプログラムは行列の対角成分$mat01[k][k]=0$の時には上手く解けません。そこで、行の入れ替えを行いながらガウスの消去法を実行するプログラムへと改良しましょう。<br />\n",
    "以下の連立一次方程式について考えます。\n",
    "\n",
    "$$\n",
    "\\begin{bmatrix}\n",
    "0 & 1 & 2 \\\\\n",
    "1 & 0 & 3 \\\\\n",
    "3 & 1 & 0 \\\\\n",
    "\\end{bmatrix}\n",
    "\\begin{bmatrix}\n",
    "x_1 \\\\\n",
    "x_2 \\\\\n",
    "x_3\n",
    "\\end{bmatrix}=\n",
    "\\begin{bmatrix}\n",
    "2 \\\\\n",
    "2 \\\\\n",
    "-3 \\\\ \n",
    "\\end{bmatrix}\n",
    "$$\n",
    "\n",
    "1. 上の行列の第1列の絶対値最大要素は第3行の$3$なので第1行と第3行を交換します。\n",
    "\n",
    "$$\n",
    "\\begin{bmatrix}\n",
    "3 & 1 & 0 \\\\\n",
    "1 & 0 & 3 \\\\\n",
    "0 & 1 & 2 \\\\\n",
    "\\end{bmatrix}\n",
    "\\begin{bmatrix}\n",
    "x_1 \\\\\n",
    "x_2 \\\\\n",
    "x_3\n",
    "\\end{bmatrix}=\n",
    "\\begin{bmatrix}\n",
    "-3 \\\\\n",
    "2 \\\\\n",
    "2 \\\\ \n",
    "\\end{bmatrix}\n",
    "$$\n",
    "\n",
    "2. 先ほどのガウスの消去法と同様に第1列の2行目と3行目を$0$にする。\n",
    "\n",
    "$$\n",
    "\\begin{bmatrix}\n",
    "3 & 1 & 0 \\\\\n",
    "0 & -\\frac{1}{3} & 3 \\\\\n",
    "0 & 1 & 2 \\\\\n",
    "\\end{bmatrix}\n",
    "\\begin{bmatrix}\n",
    "x_1 \\\\\n",
    "x_2 \\\\\n",
    "x_3\n",
    "\\end{bmatrix}=\n",
    "\\begin{bmatrix}\n",
    "-3 \\\\\n",
    "3 \\\\\n",
    "2 \\\\ \n",
    "\\end{bmatrix}\n",
    "$$\n",
    "\n",
    "3. 第2列の第2行以下で絶対値が最大のものは第3行の$1$なので、第2行と第3行を入れ替えます。\n",
    "\n",
    "$$\n",
    "\\begin{bmatrix}\n",
    "3 & 1 & 0 \\\\\n",
    "0 & 1 & 2 \\\\\n",
    "0 & -\\frac{1}{3} & 3 \\\\\n",
    "\\end{bmatrix}\n",
    "\\begin{bmatrix}\n",
    "x_1 \\\\\n",
    "x_2 \\\\\n",
    "x_3\n",
    "\\end{bmatrix}=\n",
    "\\begin{bmatrix}\n",
    "-3 \\\\\n",
    "2 \\\\\n",
    "3 \\\\ \n",
    "\\end{bmatrix}\n",
    "$$\n",
    "\n",
    "ここまでの手順で前進消去が終わりです。後は後退代入を行えば解 $x_1,x_2,x_3$ を求めることが出来ます。"
   ]
  },
  {
   "cell_type": "markdown",
   "metadata": {
    "collapsed": true,
    "jupyter": {
     "outputs_hidden": true
    }
   },
   "source": [
    "これをn次元連立一次方程式について行うには次のような手順を実装すればいいことになります。 ただし、すでに消去作業を$k−1$回行っているとします。\n",
    "\n",
    "1. $k$回目の消去作業において、 $ \\left| a_{ik} \\right|　(i=k,k+1,⋯,n)$ のうちで最大のものを調べて、その行番号を$ip$とする。\n",
    "\n",
    "2. $ip \\neq k$ならば、$k$行目と$ip$行目を入れ替えて消去作業を行う。\n",
    "\n",
    "行列の列方向に要素を調べその最大要素に着目し行の入れ替えを行います。この行列の最大要素のことを**ピボット**といい、この操作が**部分ピボット選択**の勘所になります。アルゴリズムは次のようになります。\n",
    "\n",
    "部分ピボット選択付きガウスの消去法のアルゴリズム\n",
    "\n",
    "    for k in range(0, N-1)  \n",
    "        a_max(aの最大値)として絶対値a_kkを代入　#絶対値関数np.abs()を使うと良い。\n",
    "        ipへ最大値を持つ行番号kを代入  \n",
    "        for i in range(k, N)\n",
    "            if 絶対値a_ik > a_max\n",
    "                a_maxへ絶対値a_ikを代入\n",
    "                ipへ最大値を持つ行番号iを代入\n",
    "        if a_max < epsilon #epsilon=2^{50}程度\n",
    "            print(\"mat01は正則ではない\")\n",
    "        if ip != k\n",
    "            for j=k, k+1,…, N\n",
    "                a_kjとa_{ip,j}の入れ換え #np.arrayを代入するときにはcopy()メソッドを使用すると良い（例えば2×2行列のarray配列の1行目を変数tmpへコピーするとき、tmp=array[i].copy()）。\n",
    "            b_kとb_{ip}の入れ換え\n",
    "        前進消去\n",
    "    後退代入\n",
    "\n",
    "$a_{max}=0$の判定を$a_{max}<ϵ$としていることに注意して下さい。浮動小数点演算では必ず丸め誤差が入るのでコンピュータで計算した$a_{max}$が$0$になることはまずありません。したがって十分小さい正数$\\epsilon$を用い$a_{max}< \\epsilon$とするのが一般的です。"
   ]
  },
  {
   "cell_type": "markdown",
   "metadata": {},
   "source": [
    "## レポート問題\n",
    "ピボット選択付きガウスの消去法のプログラムを作成しなさい。\n",
    "〆切：11/05（日）までにGoogleClassroomでjupyter notebook形式「id_学籍番号_05.ipynb」形式で送ること．"
   ]
  },
  {
   "cell_type": "code",
   "execution_count": 1,
   "metadata": {},
   "outputs": [
    {
     "name": "stdout",
     "output_type": "stream",
     "text": [
      "[[ 5.          1.          3.        ]\n",
      " [ 0.          1.2        -1.4       ]\n",
      " [ 0.          0.          0.66666667]]\n",
      "[2. 1. 3.]\n"
     ]
    }
   ],
   "source": [
    "# 解答　レポート問題\n",
    "import numpy as np\n",
    "\n",
    "def gauss_elimination2(mat01, vect01, N):\n",
    "    epsilon=pow(2,-20)\n",
    "    for k in range(0, N-1):\n",
    "        amax=abs(mat01[k][k])\n",
    "        ip=k\n",
    "        for i in range(k, N):\n",
    "            if abs(mat01[i][k])>amax:\n",
    "                amax=abs(mat01[i][k])\n",
    "                ip=i\n",
    "        \n",
    "        if amax < epsilon:\n",
    "            print(\"mat01は正則ではない\")\n",
    "        \n",
    "        if ip !=k:\n",
    "            tmp=mat01[ip].copy()\n",
    "            mat01[ip]=mat01[k].copy()\n",
    "            mat01[k]=tmp.copy()\n",
    "            \n",
    "            tmp1=vect01[ip].copy()\n",
    "            vect01[ip]=vect01[k].copy()\n",
    "            vect01[k]=tmp1.copy()\n",
    "        \n",
    "        for i in range(k+1, N):\n",
    "            alpha=-mat01[i][k] / mat01[k][k]\n",
    "            for j in range(k, N):\n",
    "                mat01[i][j]=mat01[i][j] + alpha * mat01[k][j]\n",
    "            vect01[i]=vect01[i]+alpha*vect01[k]\n",
    "        \n",
    "    temp=0\n",
    "    for k in range(N-1, -1, -1):\n",
    "        temp=vect01[k]\n",
    "        if k !=N-1:\n",
    "            for j in range(k+1, N):\n",
    "                temp=temp-mat01[k][j] * vect01[j]\n",
    "                #print(j, temp)\n",
    "        vect01[k]=temp/ mat01[k][k]\n",
    "        #print(vect01)\n",
    "\n",
    "if __name__=='__main__':\n",
    "    mat01=np.array([[3.0, 1.0, 2.0],[5.0,1.0,3],[4.0,2.0,1.0]])\n",
    "    vect01=np.array([13.0, 20.0, 13.0])\n",
    "    N=mat01.shape[0]\n",
    "\n",
    "    gauss_elimination2(mat01, vect01, N)\n",
    "    print(mat01)\n",
    "    print(vect01)"
   ]
  },
  {
   "cell_type": "markdown",
   "metadata": {},
   "source": [
    "## 10.3 scipy.linalgパッケージを用いた連立一次方程式の解法"
   ]
  },
  {
   "cell_type": "markdown",
   "metadata": {},
   "source": [
    "pythonには`scipy`という科学技術計算ライブラリが用意されており、その中に線形代数パッケージが用意されています．詳細については[ここ](https://docs.scipy.org/doc/scipy/reference/linalg.html)．連立一次方程式の解法には`solve()`関数を用います．\n",
    "\n",
    "$$\n",
    "\\displaystyle{Ax=b}\n",
    "$$\n",
    "\n",
    "$$\n",
    "\\begin{bmatrix}\n",
    "3 & 1 & 2 \\\\\n",
    "5 & 1 & 3 \\\\\n",
    "4 & 2 & 1 \\\\\n",
    "\\end{bmatrix}\n",
    "\\begin{bmatrix}\n",
    "x_1 \\\\\n",
    "x_2 \\\\\n",
    "x_3\n",
    "\\end{bmatrix}=\n",
    "\\begin{bmatrix}\n",
    "13 \\\\\n",
    "20 \\\\\n",
    "13 \\\\ \n",
    "\\end{bmatrix}\n",
    "$$"
   ]
  },
  {
   "cell_type": "code",
   "execution_count": 9,
   "metadata": {},
   "outputs": [
    {
     "name": "stdout",
     "output_type": "stream",
     "text": [
      "[2. 1. 3.]\n"
     ]
    }
   ],
   "source": [
    "import numpy as np\n",
    "from scipy import linalg #scipyモジュールからlinalgパッケージをインポート\n",
    "\n",
    "mat01=np.array([[3.0, 1.0, 2.0],[5.0,1.0,3],[4.0,2.0,1.0]])\n",
    "vect01=np.array([13.0, 20.0, 13.0])\n",
    "\n",
    "x=linalg.solve(mat01, vect01) #連立一次方程式\n",
    "print(x)\n"
   ]
  },
  {
   "cell_type": "markdown",
   "metadata": {},
   "source": [
    "固有値問題を解く関数も用意されてます．\n",
    "\n",
    "$$\n",
    "A= \\begin{bmatrix}\n",
    "1 & -2 \\\\\n",
    "3 & 6 \\\\\n",
    "\\end{bmatrix}\n",
    "$$\n",
    "\n",
    "$$\n",
    "Ax=\\lambda x\n",
    "$$"
   ]
  },
  {
   "cell_type": "code",
   "execution_count": 11,
   "metadata": {},
   "outputs": [
    {
     "name": "stdout",
     "output_type": "stream",
     "text": [
      "[3.+0.j 4.+0.j]\n",
      "[[-0.70710678  0.5547002 ]\n",
      " [ 0.70710678 -0.83205029]]\n"
     ]
    }
   ],
   "source": [
    "import numpy as np\n",
    "import scipy as sp\n",
    "\n",
    "#mat01=np.array([[3.0, 2.0, -2.0],[1, 2, 0],[1, 1, 1]])\n",
    "mat02=np.array([[1, -2],[3, 6]])\n",
    "\n",
    "eig01=sp.linalg.eig(mat02, left=False, right=True) #固有値問題を解く\n",
    "print(eig01[0]) #固有値を大きい順に出力\n",
    "print(eig01[1]) #対応する固有ベクトルを出力"
   ]
  },
  {
   "cell_type": "code",
   "execution_count": null,
   "metadata": {},
   "outputs": [],
   "source": []
  }
 ],
 "metadata": {
  "kernelspec": {
   "display_name": "Python 3 (ipykernel)",
   "language": "python",
   "name": "python3"
  },
  "language_info": {
   "codemirror_mode": {
    "name": "ipython",
    "version": 3
   },
   "file_extension": ".py",
   "mimetype": "text/x-python",
   "name": "python",
   "nbconvert_exporter": "python",
   "pygments_lexer": "ipython3",
   "version": "3.12.7"
  },
  "vscode": {
   "interpreter": {
    "hash": "c182d1b202b41fdf4b60803f05a29d92f1736a33b38810d465f4f5fc6e4b1d74"
   }
  }
 },
 "nbformat": 4,
 "nbformat_minor": 4
}
