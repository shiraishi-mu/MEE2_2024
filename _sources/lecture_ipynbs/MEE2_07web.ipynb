{
 "cells": [
  {
   "cell_type": "markdown",
   "metadata": {},
   "source": [
    "# 第07回　数理工学実験２"
   ]
  },
  {
   "cell_type": "markdown",
   "metadata": {},
   "source": [
    "## 12 常微分方程式"
   ]
  },
  {
   "cell_type": "markdown",
   "metadata": {},
   "source": [
    "常微分方程式は自然・社会現象の記述から様々なものの設計に至るまであらゆる分野で用いられており、数値計算の力が最も役立つ分野の一つでもあります。これは、繰り返し文を用いて逐次的に方程式の数値解を記述できるという数値計算の能力が絶大な力を発揮することに依るものです。　　\n",
    "まず、最も基本的な2変数の1階常微分方程式を範囲$x \\in [a, b]$、初期値$[t, x]=[0, X_{ini}]$の下で数値的に解くことを考えます（常微分方程式の初期値問題）。\n",
    "\n",
    "$$x(0)=X_{ini}$$\n",
    "$$\\frac{dx}{dt}=f(t, x)$$\n",
    "\n",
    "「常微分方程式を解くという事」は関数形を求める事です。上の例で言えば、$x(t)$の関数形を決めれば良いわけです。そこで、初期値$[0, X_0]$から始め上の方程式に従いながら時間刻み$h(=\\frac{b-a}{n}(nは分割数))$で少しずつ時間を進め、それに対応する$x(t+h)$の数値解を求めることを考えます。解析解$x(t)$と区別するために数値解を$X(t)$と表すことにします。\n",
    "\n",
    "$$X(0)=X_{ini}$$\n",
    "$$X(t+h)=X(t)+h\\Phi(t, X(t))$$\n",
    "\n",
    "さらにアルゴリズムとして見やすくするためにステップ数$i$を用いて以下のように書き直します。\n",
    "\n",
    "$$X_0=X_{ini}$$\n",
    "$$X_{i+1}=X_i+h\\Phi(t_i, X_i)$$\n",
    "\n",
    "ここで$i$は（時間の）ステップ数を表し、$t_i=h \\times i$、$X_i=X(t_i)$を表します。常微分方程式の数値的に解く場合はこの$\\Phi(X_i, t_i)$の取り方が重要でありそれによって精度が変わってきます。  \n",
    "以下では常微分方程式の数値的な解法として最も基本的な**オイラー法**と最もよく使われる**ルンゲクッタ法**を学びます。"
   ]
  },
  {
   "cell_type": "markdown",
   "metadata": {},
   "source": [
    "### 12.1 オイラー法（1階常微分方程式）"
   ]
  },
  {
   "cell_type": "markdown",
   "metadata": {},
   "source": [
    "オイラー法では$\\Phi(t_i, X_i)$を決めるために、$x(t+h)$をテイラー展開し$h$が十分小さいので$h^2$以上の項を省略します。\n",
    "\n",
    "$$\n",
    "x(t+h) = x(t)+\\frac{dx}{dt}h+\\frac{1}{2!}\\frac{d^2x}{dt^2}h^2+\\frac{1}{3!}\\frac{d^3x}{dt^3}h^3+ \\cdots$$\n",
    "\n",
    "$$ \\approx  x(t)+\\frac{dx}{dt}h$$\n",
    "\n",
    "$$= x(t)+hf(t, x)$$\n",
    "\n",
    "ここで解析解$x(t+h)$を数値解$X_{i+1}$へ置き換えて前式と比較すると$\\Phi(t_i, X_i)=f(t_i, X_i)$となることが分かります。つまり、オイラー法の形式は下記のとおりになります。\n",
    "\n",
    "$$X_0 = X_{ini}$$\n",
    "$$X_{i+1} = X_i+h\\Phi(t_i, X_i)$$\n",
    "$$= X_{i}+hf(t_i, X_i) \\hspace{3cm} (i=0,1,2, \\cdots, n-1)$$"
   ]
  },
  {
   "cell_type": "markdown",
   "metadata": {},
   "source": [
    "#### オイラー法のアルゴリズム \n",
    "\n",
    "Input $t_0, x_0, a, b, n$\n",
    "\n",
    "$$h \\leftarrow \\displaystyle{\\frac{b-a}{n}} $$\n",
    "\n",
    "For $ i=0,1,2,\\cdots , n-1 \\\\$\n",
    "\n",
    "$$\\hspace{10mm}  X \\leftarrow X+hf(t, X) $$\n",
    "\n",
    "$$\\hspace{10mm} t \\leftarrow t+h $$\n",
    "\n",
    "$$\\hspace{10mm}  Output X $$\n",
    "\n",
    "end For"
   ]
  },
  {
   "cell_type": "markdown",
   "metadata": {},
   "source": [
    "それではオイラー法で下記の常微分方程式を解いてみましょう。\n",
    "\n",
    "$$\\frac{dx}{dt}=-4(t-1)x$$\n",
    "\n",
    "$t$の範囲は$t \\in [0,1]$、初期条件を$[t_0, X_0]=[0, e^{-2}]$、分割数は$n=10$とします。"
   ]
  },
  {
   "cell_type": "code",
   "execution_count": 1,
   "metadata": {},
   "outputs": [
    {
     "data": {
      "image/png": "[encoded data removed]",
      "text/plain": [
       "<Figure size 432x288 with 1 Axes>"
      ]
     },
     "metadata": {
      "needs_background": "light"
     },
     "output_type": "display_data"
    }
   ],
   "source": [
    "#(前進差分)オイラー法\n",
    "import numpy as np\n",
    "import matplotlib.pyplot as plt\n",
    "from math import *\n",
    "\n",
    "def euler(t0, x0, a, b, f, n):\n",
    "    h=(b-a)/n\n",
    "    #print(h)\n",
    "    t=np.zeros(n+1)\n",
    "    x=np.zeros(n+1)\n",
    "    t[0]=t0\n",
    "    x[0]=x0\n",
    "    #print(t0)\n",
    "    for i in range(0,n):\n",
    "        t[i+1] = t[i] + h\n",
    "        x[i+1] = x[i]+ h*f(t[i],x[i])\n",
    "        \n",
    "    return t, x\n",
    "    \n",
    "def func1(t, x):\n",
    "    return (-4)*(t - 1) * x\n",
    "\n",
    "if __name__=='__main__':\n",
    "    t0=0\n",
    "    x0=exp(-2)\n",
    "    a=0\n",
    "    b=1\n",
    "    n=10\n",
    "\n",
    "    t, x=euler(t0,x0,a,b,func1,n)\n",
    "    #print(t, x)\n",
    "    plt.plot(t,x, marker=\".\", linestyle=\"\", label=\"Euler $n=10$\")\n",
    "    plt.xlabel('$t$')\n",
    "    plt.ylabel('$x(t)$')\n",
    "    plt.legend(loc='upper left')\n",
    "    plt.show()"
   ]
  },
  {
   "cell_type": "markdown",
   "metadata": {},
   "source": [
    "#### 解析解と数値解の比較"
   ]
  },
  {
   "cell_type": "markdown",
   "metadata": {},
   "source": [
    "刻み幅を$n=10, 100, 1000$と変え解析解と比較してみましょう。"
   ]
  },
  {
   "cell_type": "code",
   "execution_count": 2,
   "metadata": {},
   "outputs": [
    {
     "data": {
      "image/png": "[encoded data removed]",
      "text/plain": [
       "<Figure size 432x288 with 1 Axes>"
      ]
     },
     "metadata": {
      "needs_background": "light"
     },
     "output_type": "display_data"
    }
   ],
   "source": [
    "x_e=np.exp(-2*(t-1)**2) #厳密解（ユニバーサル関数を用いている）\n",
    "t10, x_e10=euler(t0,x0,a,b,func1,10)\n",
    "t100, x_e100=euler(t0,x0,a,b,func1,100)\n",
    "t1000, x_e1000=euler(t0,x0,a,b,func1,1000)\n",
    "\n",
    "plt.xlabel('$t$')\n",
    "plt.ylabel('$x(t)$')\n",
    "\n",
    "plt.plot(t10,x_e10, marker=\".\", linestyle=\"\", label=\"$n=10$\")\n",
    "plt.plot(t100,x_e100, marker=\".\", linestyle=\"\", label=\"$n=100$\")\n",
    "plt.plot(t1000,x_e1000, marker=\".\", linestyle=\"\", label=\"$n=1000$\")\n",
    "plt.plot(t,x_e, marker=\"o\", linestyle=\"\", label=\"Exact\")\n",
    "\n",
    "plt.legend(loc='upper left')\n",
    "plt.show()"
   ]
  },
  {
   "cell_type": "markdown",
   "metadata": {},
   "source": [
    "### 12.2 4次のルンゲクッタ法（1階常微分方程式）"
   ]
  },
  {
   "cell_type": "markdown",
   "metadata": {},
   "source": [
    "オイラー法は非常に単純なので微分方程式の数値解法を理解する最適な方法ですが、誤差がより少なくなる微分方程式の数値解法があります。ここでは、よく使われる微分方程式の数値解法として4次のルンゲクッタ法を紹介します。  \n",
    "\n",
    "$$X_0 =X_{ini}$$\n",
    "\n",
    "$$X_{i+1} =X_i+h\\Phi(t_i, X_i) \\hspace{3cm} (i=0,1,2, \\cdots, n-1)$$\n",
    "\n",
    "$$\\Phi(t_i, X_i)=\\frac{1}{6}(k_1 + 2k_2 + 2k_3 + k_4)$$\n",
    "\n",
    "ただし、\n",
    "\n",
    "$$k_1 = f(t_i, X_i)$$\n",
    "\n",
    "$$k_2 = f(t_i+\\frac{h}{2}, X_i+\\frac{h}{2}k_1)$$\n",
    "\n",
    "$$k_3 = f(t_i+\\frac{h}{2}, X_i+\\frac{h}{2}k_2)$$\n",
    "\n",
    "$$k_4 = f(t_i+h, X_i+hk_3)$$\n",
    "\n",
    "この公式が成り立つ理由はここでは説明しません。（実は4次のルンゲクッタ法はテイラー展開の4次までの近似と一致します。）"
   ]
  },
  {
   "cell_type": "markdown",
   "metadata": {},
   "source": [
    "#### 4次のルンゲクッタ法のアルゴリズム \n",
    "\n",
    "Input $t_0, x_0, a, b, n$\n",
    "\n",
    "$h \\leftarrow \\displaystyle{\\frac{b-a}{n}}$  \n",
    "\n",
    "For $i=0,1,2,\\cdots , n-1$ \n",
    "\n",
    "$ \\hspace{10mm} k_1 \\leftarrow f(t, X)$\n",
    "\n",
    "$ \\hspace{10mm} k_2 \\leftarrow f(t+\\frac{h}{2}, X+\\frac{h}{2}k_1)$\n",
    "\n",
    "$ \\hspace{10mm}k_3 \\leftarrow f(t+\\frac{h}{2}, X+\\frac{h}{2}k_2)$\n",
    "\n",
    "$ \\hspace{10mm}k_4 \\leftarrow f(t+h, X+hk_3)$\n",
    "\n",
    "$ \\hspace{10mm}X \\leftarrow X+\\frac{h}{6}(k_1 + 2k_2 + 2k_3 + k_4)$\n",
    "\n",
    "$  \\hspace{10mm}Output X$\n",
    "\n",
    "end For"
   ]
  },
  {
   "cell_type": "markdown",
   "metadata": {},
   "source": [
    "先ほどと同じ常微分方程式を今度はルンゲクッタ法で数値的に解いてみます。\n",
    "\n",
    "$$\\frac{dx}{dt}=-4(t-1)x$$\n",
    "\n",
    "$t$の範囲は$t \\in [0,1]$、初期条件を$[t_0, X_0]=[0, e^{-2}]$、分割数は$n=10$とします。"
   ]
  },
  {
   "cell_type": "code",
   "execution_count": 4,
   "metadata": {},
   "outputs": [
    {
     "data": {
      "image/png": "[encoded data removed]",
      "text/plain": [
       "<Figure size 432x288 with 1 Axes>"
      ]
     },
     "metadata": {
      "needs_background": "light"
     },
     "output_type": "display_data"
    }
   ],
   "source": [
    "#4次のルンゲクッタ法\n",
    "import numpy as np\n",
    "import matplotlib.pyplot as plt\n",
    "from math import *\n",
    "\n",
    "def rungekutta(t0, x0, a, b, f, n):\n",
    "    h=(b-a)/n\n",
    "    t=np.zeros(n+1)\n",
    "    x=np.zeros(n+1)\n",
    "    t[0]=t0\n",
    "    x[0]=x0\n",
    "    for i in range(0,n):\n",
    "        k1=f(t[i], x[i])\n",
    "        k2=f(t[i]+(h/2), x[i]+(h/2)*k1)\n",
    "        k3=f(t[i]+(h/2), x[i]+(h/2)*k2)\n",
    "        k4=f(t[i]+h, x[i]+h*k3)\n",
    "        x[i+1]=x[i]+h/6*(k1+2*k2+2*k3+k4)\n",
    "        t[i+1] = t[i] + h\n",
    "    return t, x\n",
    "    \n",
    "def func1(t, x):\n",
    "    return (-4)*(t - 1) * x\n",
    "\n",
    "def func2(t,x):\n",
    "    return 4*t*(1-t)\n",
    "\n",
    "if __name__=='__main__':\n",
    "    t0=0\n",
    "    x0=exp(-2)\n",
    "    a=0\n",
    "    b=1\n",
    "    n=10\n",
    "\n",
    "    t, x1=rungekutta(t0,x0,a,b,func1,n)\n",
    "    #t_2, x1_2=rungekutta(0, 0, 0, 10, func2, 100)\n",
    "    \n",
    "    plt.plot(t,x1, marker=\".\", linestyle=\"\", label=\"4th Runge-Kutta $n=10$\")\n",
    "    #plt.plot(t_2,x1_2, marker=\".\", linestyle=\"\", label=\"4th Runge-Kutta $n=10$\")\n",
    "    plt.xlabel('$t$')\n",
    "    plt.ylabel('$x(t)$')\n",
    "    plt.legend(loc='upper left')\n",
    "    plt.show()"
   ]
  },
  {
   "cell_type": "markdown",
   "metadata": {},
   "source": [
    "### 12.3 数値解と厳密解の比較"
   ]
  },
  {
   "cell_type": "markdown",
   "metadata": {},
   "source": [
    "厳密解とオイラー法($n=10$)の数値解、ルンゲクッタ法($n=10$)の数値解を比較します。"
   ]
  },
  {
   "cell_type": "code",
   "execution_count": 5,
   "metadata": {},
   "outputs": [
    {
     "data": {
      "image/png": "[encoded data removed]",
      "text/plain": [
       "<Figure size 432x288 with 1 Axes>"
      ]
     },
     "metadata": {
      "needs_background": "light"
     },
     "output_type": "display_data"
    }
   ],
   "source": [
    "plt.plot(t,x, marker=\"o\", linestyle=\"\", label=\"Euler $n=10$\")\n",
    "test, xtest=rungekutta(t0,x0,a,b,func1,10)\n",
    "plt.plot(test,xtest, marker=\"v\", linestyle=\"\", label=\"4th Runge-Kutta $n=10$\")\n",
    "    \n",
    "x2=np.exp(-2*(t-1)**2)\n",
    "plt.plot(t,x2, marker=\".\", linestyle=\"-\", label=\"Exact\")\n",
    "plt.xlabel('$t$')\n",
    "plt.ylabel('$x(t)$')\n",
    "plt.legend(loc='upper left')\n",
    "plt.show()"
   ]
  },
  {
   "cell_type": "markdown",
   "metadata": {},
   "source": [
    "ルンゲクッタ法がオイラー法と比較し精度よく厳密解を近似しているのが分かります。"
   ]
  },
  {
   "cell_type": "markdown",
   "metadata": {},
   "source": [
    "#### 問題\n",
    "様々な微分方程式についてオイラー法とルンゲクッタ法を用いて計算し、精度の違いを比較しなさい。"
   ]
  },
  {
   "cell_type": "markdown",
   "metadata": {},
   "source": [
    "### 12.4 オイラー法（2階常微分方程式）"
   ]
  },
  {
   "cell_type": "markdown",
   "metadata": {},
   "source": [
    "続いて、高階常微分方程式をオイラー法で解いてみます。既に微分方程式で学んだように高階常微分方程式は連立1階常微分方程式へ帰着できます。簡単のためここでは2階常微分方程式について考えます。 \n",
    "\n",
    "\n",
    "$$\\frac{d^2x}{dt^2}=f(t, x, \\frac{dx}{dt})$$\n",
    "\n",
    "ここで$\\displaystyle{\\frac{dx}{dt}=y}$とおくと\n",
    "\n",
    "$$\\frac{dx}{dt}=y$$\n",
    "\n",
    "$$\\frac{dy}{dt}=f(t, x, y)$$\n",
    "\n",
    "となる。一般的に表すと\n",
    "\n",
    "$$\\frac{dx}{dt}=f_1(t, x, y)$$\n",
    "\n",
    "$$\\frac{dy}{dt}=f_2(t, x, y)$$\n",
    "\n",
    "となるので、この連立1階常微分方程式にオイラー法を適用してみましょう。"
   ]
  },
  {
   "cell_type": "markdown",
   "metadata": {},
   "source": [
    "$$x(t+h)= x(t)+hf_1(t, x, y)$$\n",
    "\n",
    "$$y(t+h)= y(t)+hf_2(t, x, y)$$\n",
    "\n",
    "ステップ数を用いて表現すると\n",
    "\n",
    "$$X_0 = X_{ini}$$\n",
    "\n",
    "$$Y_0 = Y_{ini}$$\n",
    "\n",
    "$$X_{i+1} = X_i+h\\Phi_1(t_i, X_i, Y_i)$$\n",
    "\n",
    "$$= X_i + hf_1(t, X_i, Y_i)$$\n",
    "\n",
    "$$Y_{i+1} = Y_i+h\\Phi_2(t_i, X_i, Y_i)$$\n",
    "\n",
    "$$= Y_i + hf_2(t, X_i, Y_i) \\hspace{3cm} (i=0,1,2, \\cdots, n-1)$$"
   ]
  },
  {
   "cell_type": "markdown",
   "metadata": {},
   "source": [
    "#### オイラー法(2階常微分方程式)のアルゴリズム \n",
    "\n",
    "Input $t_0, x_0, y_0, a, b, n$\n",
    "\n",
    "$h \\leftarrow \\displaystyle{\\frac{b-a}{n}}$\n",
    "\n",
    "For $i=0,1,2,\\cdots , n-1$\n",
    "\n",
    "$\\hspace{10mm}  X \\leftarrow X+hf_1(t, X, Y)$\n",
    "\n",
    "$\\hspace{10mm} Y \\leftarrow Y+hf_2(t, X, Y)$\n",
    "\n",
    "$\\hspace{10mm} t \\leftarrow t+h$\n",
    "\n",
    "$\\hspace{10mm} Output X, Y$\n",
    "\n",
    "end For"
   ]
  },
  {
   "cell_type": "markdown",
   "metadata": {},
   "source": [
    "以下の常微分方程式をオイラー法で解いてみます。\n",
    "\n",
    "$$\\frac{d^2x}{dt^2}=-x$$\n",
    "\n",
    "$t$の範囲は$t \\in [0,10]$、初期条件を$[t_0, X_0, Y_0]=[0, 1, 0]$、分割数は$n=100$とします。  \n",
    "連立1階常微分方程式へ帰着させると\n",
    "\n",
    "$$\\frac{dx}{dt}= y(=f_1(t, x, y))$$\n",
    "\n",
    "$$\\frac{dy}{dt}= -x(=f_2(t, x, y))$$\n",
    "\n",
    "ステップ数を用いて表現すると\n",
    "\n",
    "$$X_0 = 1$$\n",
    "\n",
    "$$Y_0 = 0$$\n",
    "\n",
    "$$X_{i+1} = X_i + hY_i$$\n",
    "\n",
    "$$Y_{i+1} = Y_i + h \\times (-X_i) \\hspace{3cm} (i=0,1,2, \\cdots, n-1)$$"
   ]
  },
  {
   "cell_type": "code",
   "execution_count": 6,
   "metadata": {},
   "outputs": [
    {
     "data": {
      "image/png": "[encoded data removed]",
      "text/plain": [
       "<Figure size 432x288 with 1 Axes>"
      ]
     },
     "metadata": {
      "needs_background": "light"
     },
     "output_type": "display_data"
    }
   ],
   "source": [
    "#オイラー法（2階常微分方程式）\n",
    "import numpy as np\n",
    "import matplotlib.pyplot as plt\n",
    "from math import *\n",
    "\n",
    "def euler2(t0, x0, y0, a, b, f1, f2, n):\n",
    "    h=(b-a)/n\n",
    "    #print(h)\n",
    "    t=np.zeros(n+1)\n",
    "    x=np.zeros(n+1)\n",
    "    y=np.zeros(n+1)\n",
    "    t[0]=t0\n",
    "    x[0]=x0\n",
    "    y[0]=y0\n",
    "    #print(t0)\n",
    "    for i in range(0,n):\n",
    "        x[i+1] = x[i] + h*f1(t[i],x[i],y[i])\n",
    "        y[i+1] = y[i] + h*f2(t[i],x[i],y[i])\n",
    "        t[i+1] = t[i] + h\n",
    "    return t, x\n",
    "    \n",
    "def func1(t, x, y):\n",
    "    return y\n",
    "\n",
    "def func2(t, x, y):\n",
    "    return -x\n",
    "\n",
    "if __name__=='__main__':\n",
    "    t0=0\n",
    "    x0=1\n",
    "    y0=0\n",
    "    a=0\n",
    "    b=20\n",
    "    n=1000\n",
    "\n",
    "    t, x3=euler2(t0,x0,y0, a,b,func1, func2, n)\n",
    "    #print(t, x)\n",
    "    plt.plot(t,x3, marker=\".\", linestyle=\"\", label=\"Euler\")\n",
    "    plt.xlabel('$t$')\n",
    "    plt.ylabel('$x(t)$')\n",
    "    plt.legend(loc='upper left')\n",
    "    plt.show()"
   ]
  },
  {
   "cell_type": "markdown",
   "metadata": {},
   "source": [
    "### 12.5 4次のルンゲクッタ法（2階常微分方程式）"
   ]
  },
  {
   "cell_type": "markdown",
   "metadata": {
    "collapsed": true,
    "jupyter": {
     "outputs_hidden": true
    }
   },
   "source": [
    "上記と同様に今度は4次のルンゲクッタ法を用いて2階常微分方程式を解くことを考えてみましょう。  \n",
    "ステップ数を用いた表現は下記のとおりになります。\n",
    "\n",
    "$$X_0 = X_{ini}$$\n",
    "\n",
    "$$Y_0 =Y_{ini}$$\n",
    "\n",
    "$$X_{i+1} = X_i+h\\Phi_1(t_i, X_i)$$\n",
    "\n",
    "$$Y_{i+1} = Y_i+h\\Phi_2(t_i, X_i) \\hspace{3cm} (i=0,1,2, \\cdots, n-1)$$\n",
    "\n",
    "$$\\Phi_1(t_i, X_i) = \\frac{1}{6}(k_1 + 2k_2 + 2k_3 + k_4)$$\n",
    "\n",
    "$$\\Phi_2(t_i, X_i) = \\frac{1}{6}(l_1 + 2l_2 + 2l_3 + l_4)$$\n",
    "\n",
    "ただし、\n",
    "\n",
    "$$k_1 = f_1(t_i, X_i, Y_i)$$\n",
    "\n",
    "$$l_1 = f_2(t_i, X_i, Y_i)$$\n",
    "\n",
    "$$k_2 = f_1(t_i+\\frac{h}{2}, X_i+\\frac{h}{2}k_1, Y_i+\\frac{h}{2}l_1)$$\n",
    "\n",
    "$$l_2 = f_2(t_i+\\frac{h}{2}, X_i+\\frac{h}{2}k_1, Y_i+\\frac{h}{2}l_1)$$\n",
    "\n",
    "$$k_3 = f_1(t_i+\\frac{h}{2}, X_i+\\frac{h}{2}k_2, Y_i+\\frac{h}{2}l_2)$$\n",
    "\n",
    "$$l_3 = f_2(t_i+\\frac{h}{2}, X_i+\\frac{h}{2}k_2, Y_i+\\frac{h}{2}l_2)$$\n",
    "\n",
    "$$k_4 = f_1(t_i+h, X_i+hk_3, Y_i+hl_3)$$\n",
    "\n",
    "$$l_4 = f_2(t_i+h, X_i+hk_3, Y_i+hl_3)$$"
   ]
  },
  {
   "cell_type": "markdown",
   "metadata": {},
   "source": [
    "### レポート問題\n",
    "下記の常微分方程式の数値解をオイラー法と4次のルンゲクッタ法で計算し、厳密解と比較しなさい（3つの結果を1つのグラフでまとめて表示すること）。\n",
    "\n",
    "$$\n",
    "\\frac{d^2x}{dt^2}=-x\n",
    "$$\n",
    "\n",
    "$t$の範囲は$t \\in [0,20]$、初期条件を$[t_0, X_0, Y_0]=[0, 1, 0]$、分割数は$n=100$とします。 \n",
    "\n",
    "**〆切：11/14（水）までにGoogleClassroomでjupyter notebook形式「id_学籍番号_07.ipynb」形式で送ること**"
   ]
  },
  {
   "cell_type": "markdown",
   "metadata": {},
   "source": [
    "### 12.6 scipy.integrateパッケージを用いた常微分方程式"
   ]
  },
  {
   "cell_type": "markdown",
   "metadata": {},
   "source": [
    "数値積分と同様に`scipy.integrate`パッケージには常微分方程式の解を求める`solve_ivp`関数（solverと言います）が用意されてます。詳細は[ここ](https://docs.scipy.org/doc/scipy/reference/generated/scipy.integrate.solve_ivp.html)を見てください。早速下記の1階常微分方程式を解きます。\n",
    "\n",
    "$$\n",
    "\\frac{dx}{dt}=-4(t-1)x\\\\\n",
    "$$"
   ]
  },
  {
   "cell_type": "code",
   "execution_count": 7,
   "metadata": {},
   "outputs": [
    {
     "data": {
      "image/png": "[encoded data removed]",
      "text/plain": [
       "<Figure size 432x288 with 1 Axes>"
      ]
     },
     "metadata": {
      "needs_background": "light"
     },
     "output_type": "display_data"
    }
   ],
   "source": [
    "import numpy as np\n",
    "from scipy.integrate import solve_ivp\n",
    "import matplotlib.pyplot as plt\n",
    "\n",
    "def func1(t, x):\n",
    "    return -4*(t-1)*x\n",
    "\n",
    "if __name__=='__main__':\n",
    "    t_0, t_max= 0, 1\n",
    "    x_0= np.array([np.exp(-2)])\n",
    "    t=np.linspace(t_0, t_max, 10)\n",
    "    \n",
    "    sol=solve_ivp(func1, (t_0, t_max), x_0, vectorized=False, t_eval=t)\n",
    "    \n",
    "    #print(sol.t, sol.y)\n",
    "    #グラフ化\n",
    "    plt.plot(sol.t,sol.y[0], marker=\".\", linestyle=\"\", label=\"Euler $n={}$\".format(100))\n",
    "    \n",
    "    plt.legend(loc='upper left')\n",
    "    plt.show()"
   ]
  },
  {
   "cell_type": "markdown",
   "metadata": {},
   "source": [
    "2階常微分方程式は次の通り。\n",
    "先ほどと同様に、以下の常微分方程式を解いてみます。\n",
    "\n",
    "$$\n",
    "\\frac{d^2x}{dt^2}=-x\n",
    "$$\n",
    "\n",
    "$t$の範囲は$t \\in [0,10]$、初期条件を$[t_0, X_0, Y_0]=[0, 1, 0]$、分割数は$n=100$とします。  \n",
    "連立1階常微分方程式へ帰着させると\n",
    "\n",
    "$$\\frac{dx}{dt}= y  \\hspace{10mm}(=f_1(t, x, y))$$\n",
    "$$\\frac{dy}{dt}= -x \\hspace{8mm}(=f_2(t, x, y))$$\n",
    "\n",
    "となる。"
   ]
  },
  {
   "cell_type": "code",
   "execution_count": 8,
   "metadata": {},
   "outputs": [
    {
     "data": {
      "image/png": "[encoded data removed]",
      "text/plain": [
       "<Figure size 864x864 with 2 Axes>"
      ]
     },
     "metadata": {
      "needs_background": "light"
     },
     "output_type": "display_data"
    }
   ],
   "source": [
    "import numpy as np\n",
    "from scipy.integrate import solve_ivp\n",
    "import matplotlib.pyplot as plt\n",
    "\n",
    "def func1(t, x_ini):\n",
    "    dxdt=x_ini[1]\n",
    "    dydt=-x_ini[0]\n",
    "    \n",
    "    return dxdt, dydt\n",
    "\n",
    "if __name__=='__main__':\n",
    "    t_0, t_max= 0, 100\n",
    "    x_ini= np.array([1, 0])\n",
    "    t=np.linspace(t_0, t_max, 1000)\n",
    "    \n",
    "    sol=solve_ivp(func1, (t_0, t_max), x_ini, vectorized=False, t_eval=t)\n",
    "    \n",
    "    fig,ax=plt.subplots(2, 1, figsize=(12,12))\n",
    "    #print(sol.t, sol.y)\n",
    "    #時系列\n",
    "    ax[0].plot(sol.t,sol.y[0],marker=\".\", linestyle=\"\", label=\"Runge $n={}$\".format(len(t)))\n",
    "    ax[0].set(xlabel='$t$', ylabel='$x(t)$')\n",
    "    ax[0].legend(loc='upper right')\n",
    "    #x-y相図\n",
    "    ax[1].plot(sol.y[0], sol.y[1], marker=\".\", linestyle=\"\", label=\"Runge $N={}$\".format(len(t)))\n",
    "    ax[1].set(xlabel='$x(t)$', ylabel='$y(t)$')\n",
    "    ax[1].legend(loc='upper left')\n",
    "    plt.show()"
   ]
  },
  {
   "cell_type": "code",
   "execution_count": null,
   "metadata": {},
   "outputs": [],
   "source": []
  }
 ],
 "metadata": {
  "kernelspec": {
   "display_name": "Python 3 (ipykernel)",
   "language": "python",
   "name": "python3"
  },
  "language_info": {
   "codemirror_mode": {
    "name": "ipython",
    "version": 3
   },
   "file_extension": ".py",
   "mimetype": "text/x-python",
   "name": "python",
   "nbconvert_exporter": "python",
   "pygments_lexer": "ipython3",
   "version": "3.12.7"
  },
  "vscode": {
   "interpreter": {
    "hash": "c182d1b202b41fdf4b60803f05a29d92f1736a33b38810d465f4f5fc6e4b1d74"
   }
  }
 },
 "nbformat": 4,
 "nbformat_minor": 4
}
