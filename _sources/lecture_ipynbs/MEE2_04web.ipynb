{
 "cells": [
  {
   "cell_type": "markdown",
   "metadata": {},
   "source": [
    "# 第04回 数理工学実験２"
   ]
  },
  {
   "cell_type": "markdown",
   "metadata": {},
   "source": [
    "## 8 数値計算における誤差"
   ]
  },
  {
   "cell_type": "markdown",
   "metadata": {},
   "source": [
    "数値計算とはその名のとおりコンピュータを用いて計算を行うことです。その際に必ずしもコンピュータは正しい値を計算してくれるとは限りません。そもそも原理的に正しい値を計算できない場合もあります。何らかの理由により現れる実際の数値計算結果と理論値との差のことを**誤差**と呼びますが、ここでは誤差について少し考えることで数値計算の限界や注意点について学ぶこととしましょう。"
   ]
  },
  {
   "cell_type": "markdown",
   "metadata": {},
   "source": [
    "### 8.1 打ち切り誤差"
   ]
  },
  {
   "cell_type": "markdown",
   "metadata": {},
   "source": [
    "原理的に厳密に解けない方程式を解く場合に、何らかの近似を使って解くことがあります。例えば、ある関数をテーラー展開し有限項で打ち切る場合がそれにあたります。このような場合、有限項で打ち切ったことで生じる誤差は計算機の性質とは無関係に表れる誤差であり**打ち切り誤差**と呼ばれます。  \n",
    "例えば，マクローリン展開で2次で打ち止めたとき\n",
    "$f(x)\\approx f(0)+\\displaystyle{\\frac{1}{1!}f'(0)x+\\frac{1}{2!}f'(0)x^2+O(x^3)}$\n",
    "\n",
    "当然ですが，3次以上の高次項の分だけずれるわけです．"
   ]
  },
  {
   "cell_type": "markdown",
   "metadata": {},
   "source": [
    "### 8.2 コンピュータ内での小数点の表し方（浮動小数点）"
   ]
  },
  {
   "cell_type": "markdown",
   "metadata": {},
   "source": [
    "実数（連続量）を取り扱う多くの数値計算では小数の取り扱いが重要となります。現在、コンピュータで数値計算を行う場合小数を**浮動小数点**という方法でコンピューター内で表しています。$\\beta$進$t$桁の浮動小数点数$\\bar{x}$は次のようにコンピューター内で表現されます。  \n",
    "\n",
    "$\\bar{x}=\\pm(d_0+\\frac{d_1}{\\beta}+\\frac{d_2}{\\beta^{2}}+\\cdots+\\frac{d_{t-1}}{\\beta^{t-1}})\\times \\beta^e \\\\\n",
    "=\\pm(d_0.d_1d_2 \\cdots d_{t-1})_\\beta \\times \\beta^e\n",
    "$\n",
    "\n",
    "ここで$\\pm$を**符号**、$e$を**指数**、$(d_0.d_1d_2 \\cdots d_{t-1})_\\beta$を**仮数**と言います。浮動小数点では指数部$\\beta^e$と仮数部$(d_0.d_1d_2 \\cdots d_{t-1})_\\beta$の対で表されるため、数によって小数点の位置が動きます（$d_0 \\neq 0$）。  \n",
    "（例、10進3桁の場合）  \n",
    " 1. $0.00123=1.23 \\times 10^{-3}$\n",
    " 1. $1.23=1.23 \\times 10^{0}$"
   ]
  },
  {
   "cell_type": "markdown",
   "metadata": {},
   "source": [
    "### 8.3 桁落ち"
   ]
  },
  {
   "cell_type": "markdown",
   "metadata": {},
   "source": [
    "実数を扱う場合に計算機が各変数を有限の桁数しか格納できない事から生じる誤差のことです。非常に近い2つの数の引き算を行う場合に出てくる解の精度が元の数の精度より非常に悪くなる場合です。  \n",
    "（例、10進6桁の場合）  \n",
    "$x=\\sqrt{10001} \\approx 100.005 = 1.00005 \\times 10^2$、$y=\\sqrt{10000} = 100 = 1.00000 \\times 10^2$とする。  \n",
    "$x-y=(1.0005-1.00000) \\times 10^2 = (0.00005) \\times 10^2 = 5 \\times 10^{-3}$  \n",
    "となり、有効桁数は1桁となる。これが桁落ちの典型例です。このような場合には引き算を足し算に変形するとうまくいきます。  \n",
    "$\\sqrt{10001}-\\sqrt{10000}= \\displaystyle{\\frac{1}{\\sqrt{10001}+\\sqrt{10000}}\\\\\n",
    "=\\frac{1}{(0.100005+0.100000)\\times 10^3}\\\\\n",
    "=\\frac{(1.00000)\\times 10^0}{(2.00005)\\times 10^2}=\\frac{1.00000}{2.00005}\\times 10^{-2}\\\\\n",
    "=4.99988 \\times 10^{-3}}$"
   ]
  },
  {
   "cell_type": "markdown",
   "metadata": {},
   "source": [
    "### 8.4 丸め誤差"
   ]
  },
  {
   "cell_type": "markdown",
   "metadata": {},
   "source": [
    "これも計算機が有限の桁数しか格納できない事から生じる誤差になります。例えば、64bitの計算機を使っている場合、符号に1bit、指数部$e$に11bit、仮数部に53bitを使って実数を表現しています。この場合、$2^{53} \\approx 10^{17}$より18桁以降は切り捨てられるか四捨五入されています。この誤差のことを**丸め誤差**と呼びます。丸め誤差はとても小さい誤差ですが演算を繰り返し行う数値シミュレーションを実行する場合などでは致命的な間違いにつながることがあるので要注意です。"
   ]
  },
  {
   "cell_type": "markdown",
   "metadata": {},
   "source": [
    "### 問題 8.1\n",
    "$x=0.537, y=0.612, z=0.123$とする。10進3桁切り捨て（4桁目を切り捨て）の計算機を使っている場合、次の値を手で計算せよ。  \n",
    "1. $(x+y)+z$\n",
    "1. $x+(y+z)$"
   ]
  },
  {
   "cell_type": "markdown",
   "metadata": {
    "collapsed": true,
    "jupyter": {
     "outputs_hidden": true
    }
   },
   "source": [
    "## 9 方程式の解法"
   ]
  },
  {
   "cell_type": "markdown",
   "metadata": {
    "collapsed": true,
    "jupyter": {
     "outputs_hidden": true
    }
   },
   "source": [
    "簡単な方程式の解を数値的に求める方法から始めます。様々な工学モデルや自然・社会現象の数理モデルを方程式$f(x)=0$で表す場合に、その解を数値的に求めたい場合があります。もし、$f(x)$の微分$f'(x)$が求まるのならば**ニュートン法**を使うのが便利です。また、$f'(x)$が求められない場合には解をはさむように初期値を取って解を求める**二分法**が便利です。ここではニュートン法について説明します。  "
   ]
  },
  {
   "cell_type": "markdown",
   "metadata": {},
   "source": [
    "### 9.1 ニュートン法"
   ]
  },
  {
   "cell_type": "markdown",
   "metadata": {},
   "source": [
    "非線形方程式を解くための基本的な手法になります。反復によって解に収束させていくアルゴリズムであることから**反復法**と呼ばれます。ニュートン法はアルゴリズムが簡単かつ収束が速いことが知られており、より改良された反復法のアルゴリズムの基礎になっています。特に多くの応用例（例えば、機械学習）として最適化問題（要するに関数の最小値を求める問題）があります。最適化問題を解く場合にもよく反復法が用いられます。\n",
    "ニュートン法の原理は次の通りです。\n",
    "\n",
    "（ニュートン法については黒板で説明）\n",
    "\n",
    "方程式$f(x)=0$、導関数$f'(x)$とした時に精度$\\epsilon > 0$、最大反復数$n_{max}$という条件の下、ニュートン法で解を求める手順（アルゴリズム）は下記のとおりです。"
   ]
  },
  {
   "cell_type": "markdown",
   "metadata": {},
   "source": [
    "### アルゴリズム（ニュートン法）\n",
    "1. 初期値$x_0$（精度$\\epsilon$、最大反復回数$n_{max}$）を決める。\n",
    "1. $\\displaystyle {x_{i+1}=x_{i}-\\frac{f(x_i)}{f'(x_i)}}$・・・・$(a)$式\n",
    "1. (a)　$|x_{i+1}-x_i|> \\epsilon$ かつ繰り返し回数$n < n_{max}$ならば2へ戻る。  \n",
    "(b)　$|x_{i+1}-x_i|< \\epsilon$ならば$x_{i+1}$は解である。  \n",
    "(c)　それ以外のとき、解なし。    "
   ]
  },
  {
   "cell_type": "markdown",
   "metadata": {},
   "source": [
    "### 問題 9.1\n",
    "$x^2-1=0$をニュートン法を用いて数値的に解きなさい。初期値は$x=7$、精度$\\epsilon < 10^{-6}$とする（最大反復回数は少ない回数（10回以内）で自分で試しながら決めなさい）。絶対値については`numpy`ライブラリを読み込み絶対値関数`np.abs()`を使いなさい。"
   ]
  },
  {
   "cell_type": "markdown",
   "metadata": {},
   "source": [
    "### ヒント（・・・と言うより、ほぼソースコード）"
   ]
  },
  {
   "cell_type": "code",
   "execution_count": 2,
   "metadata": {},
   "outputs": [
    {
     "name": "stdout",
     "output_type": "stream",
     "text": [
      "x_i[0]=7.0, x_i[1]=3.5714286, delta=3.4285714\n",
      "x_i[1]=3.5714286, x_i[2]=1.9257143, delta=1.6457143\n",
      "x_i[2]=1.9257143, x_i[3]=1.2225011, delta=0.70321323\n",
      "x_i[3]=1.2225011, x_i[4]=1.0202481, delta=0.20225293\n",
      "x_i[4]=1.0202481, x_i[5]=1.0002009, delta=0.020047205\n",
      "x_i[5]=1.0002009, x_i[6]=1.0, delta=0.00020090485\n",
      "x_i[6]=1.0, x_i[7]=1.0, delta=2.018138e-08\n",
      "x=1.0000000000000002\n"
     ]
    }
   ],
   "source": [
    "#ニュートン法1（numpy配列を用いる）\n",
    "import numpy as np\n",
    "\n",
    "epsilon=10e-6 #精度の設定\n",
    "n_max=10 #最大繰り返し回数の設定\n",
    "x_i=np.zeros(n_max+1) #1ステップ毎のxの値\n",
    "delta=np.abs(epsilon*100) # 解の精度の初期値x_(i+1)-x_(i)\n",
    "x_i[0]=x_0 #初期値の設定\n",
    "\n",
    "n=0 #カウンタ変数\n",
    "while 条件の設定: #反復を行う条件の設定\n",
    "    （1行目）このブロックについては自分で考える\n",
    "    （2行目）このブロックについては自分で考える\n",
    "    n+=1\n",
    "    print(\"x_i[{}]={:.12}, x_i[{}]={:.16}, delta={:.12}\".format(n-1, x_i[n-1], n, x_i[n], delta))\n",
    "if 条件の設定: #解の精度の設定\n",
    "    print(\"x={}\".format(x_i[n]))\n",
    "else:\n",
    "    print(\"解なし\")\n"
   ]
  },
  {
   "cell_type": "markdown",
   "metadata": {},
   "source": [
    "上記のプログラムを変更し，もう少しスマートなプログラムを考えてみます。"
   ]
  },
  {
   "cell_type": "code",
   "execution_count": 9,
   "metadata": {},
   "outputs": [
    {
     "name": "stdout",
     "output_type": "stream",
     "text": [
      "x_new=3.5714286, x=7.0, delta=3.4285714\n",
      "x_new=1.9257143, x=3.5714286, delta=1.6457143\n",
      "x_new=1.2225011, x=1.9257143, delta=0.70321323\n",
      "x_new=1.0202481, x=1.2225011, delta=0.20225293\n",
      "x_new=1.0002009, x=1.0202481, delta=0.020047205\n",
      "x_new=1.0, x=1.0002009, delta=0.00020090485\n",
      "x_new=1.0, x=1.0, delta=2.018138e-08\n",
      "x=1.0000000000000002\n"
     ]
    }
   ],
   "source": [
    "#ニュートン法2（配列を使わない）\n",
    "import numpy as np\n",
    "\n",
    "x=7.0 #初期値\n",
    "epsilon=10e-6 #精度の設定\n",
    "n_max=10 #最大繰り返し回数の設定\n",
    "x_new=x+epsilon*100\n",
    "delta=np.abs(x_new-x)\n",
    "\n",
    "n=0\n",
    "while 条件の設定: #反復を行う条件の設定\n",
    "    （1行目）このブロックについては自分で考える\n",
    "    （2行目）このブロックについては自分で考える\n",
    "    （3行目）このブロックについては自分で考える\n",
    "    （4行目）このブロックについては自分で考える\n",
    "    #print(\"x_new={:.8}, x={:.8}, delta={:.8}\".format(x_new, x, delta))\n",
    "\n",
    "    \n",
    "if delta < 10e-6:\n",
    "    print(\"x={}\".format(x))\n",
    "else:\n",
    "    print(\"解なし\")\n"
   ]
  },
  {
   "cell_type": "markdown",
   "metadata": {},
   "source": [
    "さて、このプログラムはメインプログラムにニュートン法のアルゴリズムと方程式の両方が記述されており、ニュートン法の部分と方程式部分の区別がつきにくいです。そこで、関数を用いて改良します。"
   ]
  },
  {
   "cell_type": "code",
   "execution_count": 23,
   "metadata": {},
   "outputs": [
    {
     "name": "stdout",
     "output_type": "stream",
     "text": [
      "0.001000000000000334\n",
      "x=1.0000000000000002\n"
     ]
    }
   ],
   "source": [
    "# ニュートン法3（関数使用）\n",
    "import numpy as np\n",
    "\n",
    "def newton(x, epsilon=10e-4, n_max=100):\n",
    "    \"\"\"ニュートン法のアルゴリズム（関数使用）\"\"\"\n",
    "    n=0\n",
    "    x_new=x+epsilon*100\n",
    "    delta=np.abs(x-x_new)\n",
    "    while 条件の設定:       \n",
    "        この条件は自分で考えること\n",
    "    if 条件の設定:\n",
    "        print(\"x={}\".format(x1))\n",
    "    else:\n",
    "        print(\"解なし\")\n",
    "\n",
    "def f(x): # 初めの式\n",
    "    return x**2-1\n",
    "\n",
    "def df(x): # 微分した式\n",
    "    return 2*x\n",
    "\n",
    "if __name__=='__main__': # 実行するメインコード\n",
    "    x=7       #初期値の設定  \n",
    "    epsilon=10e-6 #精度の設定  \n",
    "    n_max=10   #最大繰り返し回数の設定  \n",
    "    newton(x, epsilon, n_max)"
   ]
  },
  {
   "cell_type": "markdown",
   "metadata": {},
   "source": [
    "### 9.2 2分法"
   ]
  },
  {
   "cell_type": "markdown",
   "metadata": {},
   "source": [
    "　もう一つ方程式の解を求める手法として**2分法**があります。2分法の原理は「中間値の定理」に基づいてます。  \n",
    "\n",
    "中間値の定理  \n",
    "関数$f(x)$は閉区間$[a, b]$で連続かつ$f(a)\\neq f(b)$ならば、$f(a)$と$f(b)$の間の任意の数$k$に対して$f(c)=k$となる$c (a < c < b)$が存在する。\n",
    "\n",
    "この事から$f(a)$と$f(b)$が異符号、つまり$f(a)f(b)<0$ならば、  \n",
    "\n",
    "$f(c)=0$、$a<c<b$\n",
    "\n",
    "となる$c$が必ず見つかります。これを利用して$f(x)=0$の解を見つける手法が2分法です。2分法は中間値の定理を用いているため、$f(a)f(b)<0$を満たしていないような解をもつ方程式に使用することはできません（例えば、$(x-1)^2=0$のような偶数重解）。"
   ]
  },
  {
   "cell_type": "markdown",
   "metadata": {},
   "source": [
    "### アルゴリズム（2分法）\n",
    "1. （何らかの方法で）$f(x_1)f(x_2)<0$を満たす閉区間$[x_1,x_2]$を見つける。\n",
    "1. 中間点$\\displaystyle {x_3 = \\frac{x_1+x_2}{2}}$\n",
    "1. (a). $f(x_1)f(x_3)<0$なら$x_2=x_3$  \n",
    "(b). $f(x_2)f(x_3)<0$なら$x_1=x_3$  \n",
    "1. (a). $|x_2-x_1|<\\epsilon$ならば$x_3$が解となる  \n",
    "(b). $x_2-x_1>\\epsilon$なら2へ戻る"
   ]
  },
  {
   "cell_type": "markdown",
   "metadata": {},
   "source": [
    "さて、ここで「$f(x_1)f(x_2)<0$を満たす閉区間$[x_1, x_2]$を見つける」方法について考えてみます。最も単純な方法は最初の区間をいくつかの微小区間$[x_{k-1}, x_k]$に分割して$f(x_{k-1})f(x_k)<0$を確認する方法です。"
   ]
  },
  {
   "cell_type": "markdown",
   "metadata": {},
   "source": [
    "### アルゴリズム（$f(x_1)f(x_2)<0$を満たす閉区間$[x_1, x_2]$を見つける）\n",
    "1. 最初の区間$[x_{min}, x_{max}]$および微小区間の幅$h$を与える。\n",
    "1. $\\displaystyle{n=\\frac{(x_{max}-x_{min})}{h}}$として分割数を定め，$x_0=x_{min}$とする。\n",
    "1. $k=1, 2, \\cdots , n$に対して、次の手順を実行する。  \n",
    "(a). $x_k=x_{min}+kh$  \n",
    "(b). $f(x_{k-1})f(x_k)<0$ならば、区間$[x_{k-1}, x_k]$を2分法を適用する対象区間にする。"
   ]
  },
  {
   "cell_type": "markdown",
   "metadata": {},
   "source": [
    "### 問題 9.2\n",
    "$x^2-2=0$を2分法を用いて数値的に解きなさい。精度$\\epsilon < 10^{-6}$とし、初めの最大区間は$[0, 10]$とする。"
   ]
  },
  {
   "cell_type": "markdown",
   "metadata": {},
   "source": [
    "## レポート問題\n",
    "問題1（numpy配列バージョン、配列を使わないバージョン、関数を用いたバージョン)および問題2プログラムを作成し、一つのプログラムにまとめなさい．  \n",
    "**〆切：10/23（水）18:00までにGoogleClassroomでjupyter notebook形式「id_学籍番号_04.ipynb」形式で送ること**"
   ]
  },
  {
   "cell_type": "markdown",
   "metadata": {},
   "source": [
    "### 9.3 scipy.optimizeパッケージを用いた非線形方程式の解法"
   ]
  },
  {
   "cell_type": "markdown",
   "metadata": {},
   "source": [
    "Pythonに用意されている`scipy`という科学技術計算ライブラリが用意されており，その中に最適化パッケージ`optimize`があります．その中に2分法とニュートン法もあります．\n",
    "\n",
    "$x^2-1=0$\n",
    "\n",
    "をライブラリに用意されているニュートン法の関数`scipy.optimize.newton()`を用いて解いてみます．"
   ]
  },
  {
   "cell_type": "code",
   "execution_count": 2,
   "metadata": {},
   "outputs": [
    {
     "name": "stdout",
     "output_type": "stream",
     "text": [
      "1.0\n"
     ]
    }
   ],
   "source": [
    "# scipy.optimize.newton()ニュートン法を用いる\n",
    "import numpy as np\n",
    "from scipy import optimize\n",
    "\n",
    "def f(x): # 初めの式\n",
    "    return x**2-1\n",
    "\n",
    "print(optimize.newton(f, 0))"
   ]
  },
  {
   "cell_type": "markdown",
   "metadata": {},
   "source": [
    "同じようにライブラリに用意されている2分法の関数`scipy.optimize.bisect()`を用いて\n",
    "\n",
    "$x^2-2=0$\n",
    "\n",
    "を解いてみます．"
   ]
  },
  {
   "cell_type": "code",
   "execution_count": 6,
   "metadata": {},
   "outputs": [
    {
     "name": "stdout",
     "output_type": "stream",
     "text": [
      "1.4142135623715149\n"
     ]
    }
   ],
   "source": [
    "# scipy.optimize.newton()ニュートン法を用いる\n",
    "import numpy as np\n",
    "from scipy import optimize\n",
    "\n",
    "def f(x): # 初めの式\n",
    "    return x**2-2\n",
    "\n",
    "print(optimize.bisect(f, 0, 2))"
   ]
  },
  {
   "cell_type": "code",
   "execution_count": null,
   "metadata": {},
   "outputs": [],
   "source": []
  }
 ],
 "metadata": {
  "kernelspec": {
   "display_name": "Python 3 (ipykernel)",
   "language": "python",
   "name": "python3"
  },
  "language_info": {
   "codemirror_mode": {
    "name": "ipython",
    "version": 3
   },
   "file_extension": ".py",
   "mimetype": "text/x-python",
   "name": "python",
   "nbconvert_exporter": "python",
   "pygments_lexer": "ipython3",
   "version": "3.12.7"
  },
  "vscode": {
   "interpreter": {
    "hash": "fa40e6ca61dc6617c63a0bca7df413b0fa47d53808088594466c86d87bb865f8"
   }
  }
 },
 "nbformat": 4,
 "nbformat_minor": 4
}
