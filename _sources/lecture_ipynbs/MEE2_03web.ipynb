{
 "cells": [
  {
   "cell_type": "markdown",
   "metadata": {},
   "source": [
    "# 第0３回 数理工学実験２"
   ]
  },
  {
   "cell_type": "markdown",
   "metadata": {},
   "source": [
    "## 6 Pythonにおける変数とメモリの深い関係"
   ]
  },
  {
   "cell_type": "markdown",
   "metadata": {},
   "source": [
    "Numpyについての説明の前にPythonにおける変数がコンピュータ内（メモリ上）でどのように処理されているのか詳しく見ます。"
   ]
  },
  {
   "cell_type": "markdown",
   "metadata": {},
   "source": [
    "### 6.1 Pythonにおけるデータと変数の取り扱い"
   ]
  },
  {
   "cell_type": "code",
   "execution_count": 1,
   "metadata": {},
   "outputs": [],
   "source": [
    "a=2\n",
    "b=a\n",
    "c=10"
   ]
  },
  {
   "cell_type": "markdown",
   "metadata": {},
   "source": [
    "Pythonではデータ（値(もちろん、オブジェクトです)）はコンピュータ内では物理的なメモリ上に格納されます。そして、メモリには **（メモリ）アドレス**が割り振られてます（要するにメモリ上の住所のことです）。\n",
    "\n",
    "Pythonではこのメモリアドレスに対応する識別番号の事を**識別子（identity(id)）** と呼びます（idとメモリアドレ\n",
    "スは違いますが、同一視しても問題は起きません）。\n",
    "では早速、変数のidを表示する関数 **`id()`** を使って上の3つの変数のidを表示します。"
   ]
  },
  {
   "cell_type": "code",
   "execution_count": 2,
   "metadata": {},
   "outputs": [
    {
     "data": {
      "text/plain": [
       "(4308702768, 4308702768, 4308703024, 4308702768)"
      ]
     },
     "execution_count": 2,
     "metadata": {},
     "output_type": "execute_result"
    }
   ],
   "source": [
    "id(a), id(b), id(c), id(2)"
   ]
  },
  {
   "cell_type": "markdown",
   "metadata": {},
   "source": [
    "`a`と`b`のid（`2`のidも）が同じであることが分かるかと思います。実はPythonでは代入操作により**値そのものが代入されるのではなく、値のidが代入されているのです。** この事は`b=a`という操作により`a`の別名として`b`という名前が付いたことを意味してます。`a`も`b`も同じ`2`という値を指しているわけです。一般にオブジェクトの名前やid(アドレス)のことを**参照**と呼ぶことがあります。そして、pythonにおける代入操作`b=a`のことを**参照割り当て**と呼びます。\n",
    "\n",
    "実はPythonでの変数の定義はC言語やJava言語と大きく異なっています。Pythonでは代入により変数の定義が行われるのに対して、C言語やJava言語では代入なしに定義が行われます。このことが下記のようにPythonとC言語などとの変数の取り扱いの違いを生み出しています。  \n",
    "(図で説明)"
   ]
  },
  {
   "cell_type": "markdown",
   "metadata": {},
   "source": [
    "さて、それでは`a`,`c`へ他の値を代入したらどうなるのでしょう。"
   ]
  },
  {
   "cell_type": "code",
   "execution_count": 3,
   "metadata": {},
   "outputs": [
    {
     "data": {
      "text/plain": [
       "(4308702928, 4308702768, 4308702960)"
      ]
     },
     "execution_count": 3,
     "metadata": {},
     "output_type": "execute_result"
    }
   ],
   "source": [
    "a=7\n",
    "c=8\n",
    "id(a), id(b), id(c)"
   ]
  },
  {
   "cell_type": "code",
   "execution_count": 4,
   "metadata": {},
   "outputs": [
    {
     "data": {
      "text/plain": [
       "(4308702768, 4308702768)"
      ]
     },
     "execution_count": 4,
     "metadata": {},
     "output_type": "execute_result"
    }
   ],
   "source": [
    "a=2\n",
    "b=2\n",
    "id(a), id(b)"
   ]
  },
  {
   "cell_type": "markdown",
   "metadata": {},
   "source": [
    "`a`,`c`のidが変わったのに対し`b`のidが変わってないことが分かります。つまり、**`a`や`c`は値が変わったというよりむしろ新しく定義しなおされた（再定義）と考えた方が良い**のです。  \n",
    "Pythonにおける代入操作は参照割り当てであると言いました。このことにより変数の代入操作は注意しなければなりません。下記を見て下さい。"
   ]
  },
  {
   "cell_type": "code",
   "execution_count": 5,
   "metadata": {},
   "outputs": [
    {
     "data": {
      "text/plain": [
       "4308702736"
      ]
     },
     "execution_count": 5,
     "metadata": {},
     "output_type": "execute_result"
    }
   ],
   "source": [
    "lst01=[0,1,2,3]\n",
    "lst02=lst01\n",
    "lst02\n",
    "id(lst01[1])"
   ]
  },
  {
   "cell_type": "code",
   "execution_count": 6,
   "metadata": {},
   "outputs": [
    {
     "data": {
      "text/plain": [
       "[0, 100, 2, 3]"
      ]
     },
     "execution_count": 6,
     "metadata": {},
     "output_type": "execute_result"
    }
   ],
   "source": [
    "lst02[1]=100\n",
    "lst02"
   ]
  },
  {
   "cell_type": "code",
   "execution_count": 7,
   "metadata": {},
   "outputs": [
    {
     "data": {
      "text/plain": [
       "[0, 100, 2, 3]"
      ]
     },
     "execution_count": 7,
     "metadata": {},
     "output_type": "execute_result"
    }
   ],
   "source": [
    "lst01"
   ]
  },
  {
   "cell_type": "code",
   "execution_count": 8,
   "metadata": {},
   "outputs": [
    {
     "data": {
      "text/plain": [
       "(4354992064, 4354992064)"
      ]
     },
     "execution_count": 8,
     "metadata": {},
     "output_type": "execute_result"
    }
   ],
   "source": [
    "id(lst01), id(lst02)"
   ]
  },
  {
   "cell_type": "markdown",
   "metadata": {},
   "source": [
    "上記のように`lst02=lst01`と代入操作（参照割り当て）した場合`lst01`と`lst02`は同じリストの別名という事になります。従って`lst02[1]`の値を変更すると同時に`lst01[1]`の値も変更されるわけです。このように同じ実体（変数やリストなどのこと）を示しているか否かを調べる式に**is**演算子があります。"
   ]
  },
  {
   "cell_type": "code",
   "execution_count": 9,
   "metadata": {},
   "outputs": [
    {
     "data": {
      "text/plain": [
       "True"
      ]
     },
     "execution_count": 9,
     "metadata": {},
     "output_type": "execute_result"
    }
   ],
   "source": [
    "lst01 is lst02"
   ]
  },
  {
   "cell_type": "markdown",
   "metadata": {},
   "source": [
    "### 問題 6.1\n",
    "次のようにスライシングを用いた代入を行ったリストに代入を行った場合元のリストのデータは変更されるか確認しなさい。"
   ]
  },
  {
   "cell_type": "markdown",
   "metadata": {},
   "source": [
    "`lst03=[10,20,30,40]\n",
    "lst04=lst03\n",
    "lst04[1:3]=[200,300]\n",
    "lst04,lst03`"
   ]
  },
  {
   "cell_type": "markdown",
   "metadata": {},
   "source": [
    "さて、少し違った例を見てみます。"
   ]
  },
  {
   "cell_type": "code",
   "execution_count": 10,
   "metadata": {},
   "outputs": [
    {
     "data": {
      "text/plain": [
       "([0, 1, 2, 3], [0.1, 0.2, 0.3, 0.4])"
      ]
     },
     "execution_count": 10,
     "metadata": {},
     "output_type": "execute_result"
    }
   ],
   "source": [
    "lst05=[0,1,2,3]\n",
    "lst06=lst05\n",
    "lst06=[0.1, 0.2, 0.3, 0.4] #[0.1, 0.2, 0.3, 0.4]のidを新しくlst06へ代入\n",
    "lst05, lst06"
   ]
  },
  {
   "cell_type": "code",
   "execution_count": 11,
   "metadata": {},
   "outputs": [
    {
     "data": {
      "text/plain": [
       "False"
      ]
     },
     "execution_count": 11,
     "metadata": {},
     "output_type": "execute_result"
    }
   ],
   "source": [
    "lst05 is lst06"
   ]
  },
  {
   "cell_type": "markdown",
   "metadata": {},
   "source": [
    "上記のように**インデキシングおよびスライシングではない代入式では新しい変数が再定義されるので、`lst05`と`lst06`は違う実体を表す**ことになります。\n",
    "続いて、同一のリストを`lst07`,`lst08`へ代入するケースを考えてみます。"
   ]
  },
  {
   "cell_type": "code",
   "execution_count": 12,
   "metadata": {},
   "outputs": [
    {
     "data": {
      "text/plain": [
       "False"
      ]
     },
     "execution_count": 12,
     "metadata": {},
     "output_type": "execute_result"
    }
   ],
   "source": [
    "lst07=[0,1,2,3]\n",
    "lst08=[0,1,2,3]\n",
    "lst07 is lst08"
   ]
  },
  {
   "cell_type": "markdown",
   "metadata": {},
   "source": [
    "上記のように`lst07`, `lst08`の実体は異なっています。このことをidを調べることで具体的に確認してみます。"
   ]
  },
  {
   "cell_type": "code",
   "execution_count": 13,
   "metadata": {},
   "outputs": [
    {
     "data": {
      "text/plain": [
       "(4356917504, 4356996288)"
      ]
     },
     "execution_count": 13,
     "metadata": {},
     "output_type": "execute_result"
    }
   ],
   "source": [
    "id(lst07),id(lst08)"
   ]
  },
  {
   "cell_type": "markdown",
   "metadata": {},
   "source": [
    "上記のように`lst07`，`lst08`の`id`は異なりオブジェクトとして，別物であることが分かります．では，`lst07`，`lst08`の要素の`id`を調べてみます．"
   ]
  },
  {
   "cell_type": "code",
   "execution_count": 14,
   "metadata": {},
   "outputs": [
    {
     "data": {
      "text/plain": [
       "([4308702704, 4308702736, 4308702768, 4308702800],\n",
       " [4308702704, 4308702736, 4308702768, 4308702800])"
      ]
     },
     "execution_count": 14,
     "metadata": {},
     "output_type": "execute_result"
    }
   ],
   "source": [
    "[id(i) for i in lst07],[id(i) for i in lst08]"
   ]
  },
  {
   "cell_type": "markdown",
   "metadata": {},
   "source": [
    "上記のように`lst07`と`lst08`の要素が持つ値のアドレスは同じものであり，このことは次のようにして調べることもできます。"
   ]
  },
  {
   "cell_type": "code",
   "execution_count": 15,
   "metadata": {},
   "outputs": [
    {
     "data": {
      "text/plain": [
       "True"
      ]
     },
     "execution_count": 15,
     "metadata": {},
     "output_type": "execute_result"
    }
   ],
   "source": [
    "lst07 == lst08"
   ]
  },
  {
   "cell_type": "markdown",
   "metadata": {},
   "source": [
    "`==`はデータが同じであるか否かを調べ、`is`は実体（ようするにアドレス）が同じであるか否かを示しています。当然ですが、`lst07`のデータを変更しても`lst08`のデータへは影響を与えません。"
   ]
  },
  {
   "cell_type": "code",
   "execution_count": 16,
   "metadata": {},
   "outputs": [
    {
     "data": {
      "text/plain": [
       "([0, 10, 2, 3], [0, 1, 2, 3])"
      ]
     },
     "execution_count": 16,
     "metadata": {},
     "output_type": "execute_result"
    }
   ],
   "source": [
    "lst07[1]=10\n",
    "lst07, lst08"
   ]
  },
  {
   "cell_type": "markdown",
   "metadata": {},
   "source": [
    "### 6.2 浅いコピーと深いコピー"
   ]
  },
  {
   "cell_type": "markdown",
   "metadata": {},
   "source": [
    "　参照割り当てに続いてここでは**浅いコピー**と**深いコピー**について軽く説明します。この段階では参照割り当てと浅いコピーの区別は無いです。ただし、Pythonでは参照割り当て、浅いコピー、深いコピーの3つが明確に区別されますので今後関わってくることを想定して頭の隅に入れといてください。初めに答えを言いますとほとんどのケースでは深いコピーを使うべきです。浅いコピーを使うと予想外の変数までが変更されてしまったりします。どうしてもメモリが足りない場合のみ浅いコピーを用いるべきです（その場合は注意深くコーディングすること！）。  \n",
    "　浅いコピーと深いコピーの違いが現れるのは複合オブジェクトの場合のみです。複合オブジェクトとはようするにリストの中にリストが入っているケースです。浅いコピーするときには'copy'モジュールの中の**`copy`関数** を深いコピーをするときには**`deepcopy`** 関数を用います。まずは単純なリストの例を示します。この段階では浅いコピーと深いコピーの違いは現れません。"
   ]
  },
  {
   "cell_type": "code",
   "execution_count": 17,
   "metadata": {},
   "outputs": [],
   "source": [
    "import copy\n",
    "lst08 = [1,2,3,4]"
   ]
  },
  {
   "cell_type": "code",
   "execution_count": 18,
   "metadata": {},
   "outputs": [
    {
     "data": {
      "text/plain": [
       "[1, 2, 3, 4]"
      ]
     },
     "execution_count": 18,
     "metadata": {},
     "output_type": "execute_result"
    }
   ],
   "source": [
    "lst09= copy.copy(lst08)\n",
    "lst09"
   ]
  },
  {
   "cell_type": "code",
   "execution_count": 20,
   "metadata": {},
   "outputs": [
    {
     "data": {
      "text/plain": [
       "False"
      ]
     },
     "execution_count": 20,
     "metadata": {},
     "output_type": "execute_result"
    }
   ],
   "source": [
    "lst09 is lst08"
   ]
  },
  {
   "cell_type": "code",
   "execution_count": 21,
   "metadata": {},
   "outputs": [
    {
     "data": {
      "text/plain": [
       "([1, 20, 3, 4], [1, 2, 3, 4])"
      ]
     },
     "execution_count": 21,
     "metadata": {},
     "output_type": "execute_result"
    }
   ],
   "source": [
    "lst09[1]=20\n",
    "lst09, lst08"
   ]
  },
  {
   "cell_type": "markdown",
   "metadata": {},
   "source": [
    "上記のように`lst08`と`lst09`の実体は別物であることが分かります．これは`deepcopy()`を用いても同じです。"
   ]
  },
  {
   "cell_type": "markdown",
   "metadata": {},
   "source": [
    "### 問題 6.2\n",
    "`deepcopy()`関数を用いて上記と同じ結果になることを確認しなさい。"
   ]
  },
  {
   "cell_type": "markdown",
   "metadata": {},
   "source": [
    "それでは、浅いコピーと深いコピーの違いが現れる複合オブジェクトの例を見てみましょう。"
   ]
  },
  {
   "cell_type": "code",
   "execution_count": 19,
   "metadata": {},
   "outputs": [
    {
     "data": {
      "text/plain": [
       "[1, 2, [30, 40]]"
      ]
     },
     "execution_count": 19,
     "metadata": {},
     "output_type": "execute_result"
    }
   ],
   "source": [
    "import copy\n",
    "lst10=[1,2,[30,40]]\n",
    "lst10"
   ]
  },
  {
   "cell_type": "code",
   "execution_count": 20,
   "metadata": {},
   "outputs": [
    {
     "data": {
      "text/plain": [
       "[1, 2, [30, 40]]"
      ]
     },
     "execution_count": 20,
     "metadata": {},
     "output_type": "execute_result"
    }
   ],
   "source": [
    "lst11=copy.copy(lst10)\n",
    "lst11"
   ]
  },
  {
   "cell_type": "code",
   "execution_count": 21,
   "metadata": {},
   "outputs": [
    {
     "data": {
      "text/plain": [
       "([1, 2, [30, 40]], [1, 20, [30, 40]])"
      ]
     },
     "execution_count": 21,
     "metadata": {},
     "output_type": "execute_result"
    }
   ],
   "source": [
    "lst11[1]=20\n",
    "lst10, lst11"
   ]
  },
  {
   "cell_type": "code",
   "execution_count": 22,
   "metadata": {},
   "outputs": [
    {
     "data": {
      "text/plain": [
       "([1, 2, [300, 40]], [1, 20, [300, 40]])"
      ]
     },
     "execution_count": 22,
     "metadata": {},
     "output_type": "execute_result"
    }
   ],
   "source": [
    "lst11[2][0]=300\n",
    "lst10, lst11"
   ]
  },
  {
   "cell_type": "code",
   "execution_count": 23,
   "metadata": {},
   "outputs": [
    {
     "data": {
      "text/plain": [
       "True"
      ]
     },
     "execution_count": 23,
     "metadata": {},
     "output_type": "execute_result"
    }
   ],
   "source": [
    "lst10[2] is lst11[2]"
   ]
  },
  {
   "cell_type": "markdown",
   "metadata": {},
   "source": [
    "浅いコピーを行った場合`lst10`の最上位データ`1`,`2`については`lst11`の最上位データとの関係が切れてますが、ネストされている`[30, 40]`については`lst10`と`lst11`の関係は切れてません。したがって、上記のような動作になるわけです。  \n",
    "同じことを`deepcopy`関数を用いて行います。"
   ]
  },
  {
   "cell_type": "code",
   "execution_count": 24,
   "metadata": {},
   "outputs": [
    {
     "name": "stdout",
     "output_type": "stream",
     "text": [
      "lst12=[1, 2, [30, 40]]\n",
      "lst13=[1, 2, [30, 40]]\n",
      "[1, 2, [30, 40]] [1, 20, [30, 40]]\n",
      "[1, 2, [30, 40]] [1, 20, [300, 40]]\n"
     ]
    }
   ],
   "source": [
    "import copy\n",
    "lst12=[1,2,[30,40]]\n",
    "print(f'lst12={lst12}')\n",
    "lst13=copy.deepcopy(lst12)\n",
    "print(f'lst13={lst13}')\n",
    "lst13[1]=20\n",
    "print(lst12,lst13)\n",
    "lst13[2][0]=300\n",
    "print(lst12, lst13)"
   ]
  },
  {
   "cell_type": "markdown",
   "metadata": {},
   "source": [
    "上記のように`deepcopy`関数を用いるとネストされたデータについても`lst12`と`lst13`の間で関係が切れており独立して取り扱う事ができます。通常、我々はリストをコピーした際にコピー元リストとコピー先リストは独立したものとして取り扱うケースがほとんどです。したがって、**特別な事情がない限りリストをコピーする際には`deepcopy()`関数を使うようにしてください**。"
   ]
  },
  {
   "cell_type": "markdown",
   "metadata": {},
   "source": [
    "## 7 NumPy"
   ]
  },
  {
   "cell_type": "markdown",
   "metadata": {},
   "source": [
    "　Pythonは科学技術計算（数値計算、統計解析、データの可視化など）に強い言語として知られていますが、Pythonの標準ライブラリだけでは計算時間が遅いという致命的な弱点があります。それを補うのが**NumPy**ライブラリです。NumPyの肝は**配列の演算を高速に行うこと**にあります（配列とはリストみたいなものです）。科学技術計算では様々な数理モデルのシミュレーションや大規模データ解析を行う際に配列計算を行います。従って、科学技術計算に関わるPythonのライブラリ群のほとんどはNumPyの上に構築されています。そのようなライブラリを自由に使うためにもNumPyの基本はしっかり押さえておきましょう。ちなみに、NumPyが持つ基本的な関数群は下記のとおりです。"
   ]
  },
  {
   "cell_type": "markdown",
   "metadata": {},
   "source": [
    "- 配列生成・操作\n",
    "- 数学関数\n",
    "- 線形代数\n",
    "- ランダムサンプリング\n",
    "- 統計関数\n",
    "- インデックス関連\n",
    "- ソート・サーチ・カウント\n",
    "- 多項式計算\n",
    "- データ入出力\n",
    "- 離散フーリエ変換と窓関数"
   ]
  },
  {
   "cell_type": "markdown",
   "metadata": {},
   "source": [
    "これらすべてを覚える必要はありません。「なんとなくこんなことが出来そうだ」と知っておいて、実際に作るときに詳しく調べればいいのです。"
   ]
  },
  {
   "cell_type": "markdown",
   "metadata": {},
   "source": [
    "### 7.1 ndarray型（多次元配列型）"
   ]
  },
  {
   "cell_type": "markdown",
   "metadata": {},
   "source": [
    "まず、NumPyライブラリを使うのは次のようにインポートします。"
   ]
  },
  {
   "cell_type": "code",
   "execution_count": 25,
   "metadata": {},
   "outputs": [],
   "source": [
    "import numpy as np"
   ]
  },
  {
   "cell_type": "markdown",
   "metadata": {},
   "source": [
    "`numpy`ライブラリを`np`という名前で読み込むという意味です。別に名前は`np`じゃなくとも良いのですが、`np`と読み込むのが一般的なので従いましょう。"
   ]
  },
  {
   "cell_type": "markdown",
   "metadata": {},
   "source": [
    "### 7.2 ndarray型の作成法"
   ]
  },
  {
   "cell_type": "markdown",
   "metadata": {},
   "source": [
    "早速、NumPyの根幹である多次元配列オブジェクト**ndarray**型を紹介します。**`ndarray`はリストと異なり、同じ型の要素しか格納することができません**。NumPyでの最も基本的な配列の作り方は下記です。"
   ]
  },
  {
   "cell_type": "code",
   "execution_count": 26,
   "metadata": {},
   "outputs": [
    {
     "name": "stdout",
     "output_type": "stream",
     "text": [
      "[0 1 2 3]\n",
      "<class 'numpy.ndarray'>\n"
     ]
    }
   ],
   "source": [
    "ary01=np.array([0,1,2,3])\n",
    "print(ary01)\n",
    "print(type(ary01))"
   ]
  },
  {
   "cell_type": "markdown",
   "metadata": {},
   "source": [
    "上記のように`array()`関数の引数としてリスト（やタプル）を用いる事で`ndarray`型を作成します。  \n",
    "多次元配列は下記のようにリストをネストして作成します。"
   ]
  },
  {
   "cell_type": "code",
   "execution_count": 27,
   "metadata": {},
   "outputs": [
    {
     "name": "stdout",
     "output_type": "stream",
     "text": [
      "[[0 1 2]\n",
      " [3 4 5]]\n"
     ]
    }
   ],
   "source": [
    "ary02=np.array([[0,1,2],[3,4,5]])# 2行3列のnumpy配列の作成\n",
    "print(ary02)"
   ]
  },
  {
   "cell_type": "markdown",
   "metadata": {},
   "source": [
    "　ここで少し多次元配列を扱う際に`ndarray`型について知っておくべきことを説明します。`ary02`は$2 \\times 3$の多次元配列となってます。そして、一番外側の括弧`[]`には2つの要素（`[0,1,2]`と`[3, 4, 5]`）が含まれています。この一番外側の括弧`[]`のことを**第0軸**と呼びます。そして軸が持つ要素数のことを**軸の大きさ**（この場合軸の大きさは2）と呼びます。同様に内側の`[]`のことを第1軸と呼び、軸が持つ要素数のことを軸の大きさ（この場合軸の大きさは3）と呼びます。そして、多次元配列が持つ軸の数のことを多次元配列の**次元**と呼びます（この場合次元は2）。"
   ]
  },
  {
   "cell_type": "markdown",
   "metadata": {},
   "source": [
    "### 問題 7.1\n",
    "次の多次元配列の（a）「次元」と（b）「各軸の大きさ」をそれぞれ求めなさい。\n",
    " 1. `[0,1,2,3,4,5]`\n",
    " 1. `[[0,1,2,3,4,5]]`\n",
    " 1. `[[[0],[1]],[[2], [3]],[[4],[5]]]`"
   ]
  },
  {
   "cell_type": "markdown",
   "metadata": {},
   "source": [
    "一定値の配列を作成することもできます。"
   ]
  },
  {
   "cell_type": "code",
   "execution_count": 28,
   "metadata": {},
   "outputs": [
    {
     "name": "stdout",
     "output_type": "stream",
     "text": [
      "ary03=[[0. 0.]\n",
      " [0. 0.]\n",
      " [0. 0.]]\n",
      "ary04=[[1. 1.]]\n"
     ]
    }
   ],
   "source": [
    "ary03=np.zeros((3,2))\n",
    "print(f'ary03={ary03}')\n",
    "ary04=np.ones((1,2))\n",
    "print(f'ary04={ary04}')"
   ]
  },
  {
   "cell_type": "markdown",
   "metadata": {},
   "source": [
    "`zeros()`は引数として`(行数，列数)`というタプルを用い行列内の全てのデータは0となります（上記の例では行列要素が0の$3 \\times 2$行列）。`ones()`は行列内の全てのデータを1とします。また、`zeros_like()`は引数に多次元配列を与えるとそれと同じ形の全要素0の配列を作成します。一定値の配列を作成する関数としてはその他に`empty()`,`full()`,`ones_like()`, `empty_like()`, `full_like()`などがあります。"
   ]
  },
  {
   "cell_type": "markdown",
   "metadata": {},
   "source": [
    "### 問題 7.2\n",
    "多次元配列`[[0,1],[2,3],[4,5]]`を引数として用い`full_like()`関数の使い方を学びなさい。  \n",
    "（[参考マニュアル](https://docs.scipy.org/doc/numpy/reference/generated/numpy.full_like.html#numpy.full_like)）"
   ]
  },
  {
   "cell_type": "markdown",
   "metadata": {},
   "source": [
    "等間隔の配列を作成するには`arange()`と`linspace()`の2つの関数があります。`arange()`は引数として`([start,]stop[,step])`を持ちます（上記の例では2つ置きに0以上10未満の配列を作成してます）。`arange()`の引数として浮動小数点を用いる場合には下記のようにstopの数を含む場合があるので注意してください。"
   ]
  },
  {
   "cell_type": "code",
   "execution_count": 29,
   "metadata": {},
   "outputs": [
    {
     "name": "stdout",
     "output_type": "stream",
     "text": [
      "[0 2 4 6 8]\n"
     ]
    }
   ],
   "source": [
    "ary04=np.arange(0,10,2)\n",
    "print(ary04)"
   ]
  },
  {
   "cell_type": "code",
   "execution_count": 30,
   "metadata": {},
   "outputs": [
    {
     "data": {
      "text/plain": [
       "array([0.1, 0.2, 0.3, 0.4])"
      ]
     },
     "execution_count": 30,
     "metadata": {},
     "output_type": "execute_result"
    }
   ],
   "source": [
    "ary05=np.arange(0.1, 0.4, 0.1)\n",
    "ary05"
   ]
  },
  {
   "cell_type": "markdown",
   "metadata": {},
   "source": [
    "`linspace()`関数の使い方は`linspace(start, stop, num)`とします。startは開始値stopは終了値numは要素の数になります。"
   ]
  },
  {
   "cell_type": "code",
   "execution_count": 31,
   "metadata": {},
   "outputs": [
    {
     "data": {
      "text/plain": [
       "array([0., 1.])"
      ]
     },
     "execution_count": 31,
     "metadata": {},
     "output_type": "execute_result"
    }
   ],
   "source": [
    "ary11=np.linspace(0,1,2)\n",
    "ary11"
   ]
  },
  {
   "cell_type": "code",
   "execution_count": 32,
   "metadata": {},
   "outputs": [
    {
     "data": {
      "text/plain": [
       "array([0.        , 0.16666667, 0.33333333, 0.5       , 0.66666667,\n",
       "       0.83333333, 1.        ])"
      ]
     },
     "execution_count": 32,
     "metadata": {},
     "output_type": "execute_result"
    }
   ],
   "source": [
    "ary12=np.linspace(0,1,7)\n",
    "ary12"
   ]
  },
  {
   "cell_type": "markdown",
   "metadata": {},
   "source": [
    "ランダムな行列を作成したい場合もあります。"
   ]
  },
  {
   "cell_type": "code",
   "execution_count": 33,
   "metadata": {},
   "outputs": [
    {
     "name": "stdout",
     "output_type": "stream",
     "text": [
      "[4.17022005e-01 7.20324493e-01 1.14374817e-04 3.02332573e-01\n",
      " 1.46755891e-01]\n",
      "[[0.09233859 0.18626021 0.34556073]\n",
      " [0.39676747 0.53881673 0.41919451]]\n"
     ]
    }
   ],
   "source": [
    "np.random.seed(1)\n",
    "ary06=np.random.rand(5) # [0,1]の一様乱数（1次元配列）\n",
    "print(ary06)\n",
    "ary07=np.random.rand(2,3) # [0,1]の一様乱数（2×3行列）\n",
    "print(ary07)"
   ]
  },
  {
   "cell_type": "markdown",
   "metadata": {},
   "source": [
    "`ndarray`型がPython標準のリストと異なる点は下記のとおりです。\n",
    "\n",
    "- C言語の配列のようにメモリの連続領域にデータが保存される\n",
    "- 基本的にすべて同じ型のデータで構成される\n",
    "- 各次元ごとの要素数が等しい\n",
    "- 配列中の全要素（もしくは一部の要素）に対し特定の演算を高速に適用できる\n",
    "\n"
   ]
  },
  {
   "cell_type": "markdown",
   "metadata": {},
   "source": [
    "### 7.3 ndarray型の属性（アトリビュート）"
   ]
  },
  {
   "cell_type": "markdown",
   "metadata": {},
   "source": [
    "`ndaray`型は`int`型、`float`型、`str`型と同じように属性（アトリビュート）とメソッドを持っています。属性とは型独自の変数のことで、メソッドとは型独自の関数のことです。\n",
    "`ndarray`型は幾つかの属性を持っています。例えば、配列の要素の型は次のように`dtype`属性を使って調べることが出来ます。"
   ]
  },
  {
   "cell_type": "code",
   "execution_count": 34,
   "metadata": {},
   "outputs": [
    {
     "data": {
      "text/plain": [
       "dtype('float64')"
      ]
     },
     "execution_count": 34,
     "metadata": {},
     "output_type": "execute_result"
    }
   ],
   "source": [
    "ary08=np.zeros((3,4))\n",
    "ary08.dtype"
   ]
  },
  {
   "cell_type": "markdown",
   "metadata": {},
   "source": [
    "配列を生成するときに型を指定する方法は次の通りです。"
   ]
  },
  {
   "cell_type": "code",
   "execution_count": 35,
   "metadata": {},
   "outputs": [
    {
     "name": "stdout",
     "output_type": "stream",
     "text": [
      "[[0 0 0 0]\n",
      " [0 0 0 0]\n",
      " [0 0 0 0]]\n"
     ]
    },
    {
     "data": {
      "text/plain": [
       "dtype('int64')"
      ]
     },
     "execution_count": 35,
     "metadata": {},
     "output_type": "execute_result"
    }
   ],
   "source": [
    "ary09=np.zeros((3,4), dtype='int64')\n",
    "print(ary09)\n",
    "ary09.dtype"
   ]
  },
  {
   "cell_type": "markdown",
   "metadata": {},
   "source": [
    "NumPyはPythonで使われる組み込み型を全て使用することが出来ます。 その他にも多くのデータ型を使えます（全てのデータ型は[ここ](https://docs.scipy.org/doc/numpy/reference/arrays.dtypes.html)に載ってます）。  "
   ]
  },
  {
   "cell_type": "markdown",
   "metadata": {},
   "source": [
    "また、`ndarray`型はdtypeの他にも多くの属性を持っています。その一部は下記のとおりです（全ての属性は[ここ](https://docs.scipy.org/doc/numpy/reference/arrays.ndarray.html#array-attributes)）。\n",
    "\n",
    "<table>\n",
    "        <tr>\n",
    "        <th>属性</th>\n",
    "        <th>説明（ary00をndarray型のインスタンスとする）</th>\n",
    "    　　</tr>\n",
    "        <tr>\n",
    "        <td>T</td>\n",
    "        <td>転置行列（ary00.T）</td>\n",
    "    　　</tr>\n",
    "        <tr>\n",
    "        <td>dtype</td>\n",
    "        <td>配列のデータタイプ（ary00.dtype）</td>\n",
    "    　　</tr>\n",
    "        <tr>\n",
    "        <td>size</td>\n",
    "        <td>配列の全要素数（ary00.size）</td>\n",
    "    　　</tr>\n",
    "        <tr>\n",
    "        <td>itemsize</td>\n",
    "        <td>各要素のバイト数（ary00.itemsize）</td>\n",
    "    　　</tr>\n",
    "        <tr>\n",
    "        <td>ndim</td>\n",
    "        <td>配列の次元（ary00.ndim）</td>\n",
    "        </tr>\n",
    "        <tr>\n",
    "        <td>shape</td>\n",
    "        <td>配列の形状を示すタプル（ary00.shape）</td>\n",
    "    　　</tr>\n",
    "        <tr>\n",
    "        <td>strides</td>\n",
    "        <td>各次元方向に一つ隣の要素に移動するために必要なバイト数をタプルで表示したもの（ary00.strides）</td>\n",
    "    　　</tr>\n",
    "        <tr>\n",
    "        <td>flags</td>\n",
    "        <td>メモリ上における`ndarray`のデータの格納の仕方についての情報</td>\n",
    "    　　</tr>\n",
    "        <tr>\n",
    "        <td>flat</td>\n",
    "        <td>`ndarray`を1次元配列に変換するイテレータ</td>\n",
    "    　　</tr>\n",
    "        <tr>\n",
    "        <td>nbytes</td>\n",
    "        <td>`ndarray`の要素によって占められてるバイト単位におけるメモリ消費量</td>\n",
    "    　　</tr>\n",
    "        <tr>\n",
    "        <td>base</td>\n",
    "        <td>`ndarray`のベースとなるオブジェクト（どのメモリを参照しているのか）</td>\n",
    "    　　</tr>\n",
    "</table>"
   ]
  },
  {
   "cell_type": "markdown",
   "metadata": {},
   "source": [
    "### 7.4 ndarray型のメソッドおよび関数"
   ]
  },
  {
   "cell_type": "markdown",
   "metadata": {},
   "source": [
    "`ndarray`型は非常に多くのメソッドも持っています。その上，多くのメソッドは関数としても定義されてます。全ての関数・メソッドについてのマニュアルは[ここ](https://docs.scipy.org/doc/numpy-1.13.0/reference/routines.html)にあります。\n",
    "ここでは幾つかについて紹介します。`resize()`メソッドは多次元配列の形を変更します。`resize((第0軸の大きさ, 第1軸の大きさ，第2軸の大きさ…))`として使います。"
   ]
  },
  {
   "cell_type": "code",
   "execution_count": 36,
   "metadata": {},
   "outputs": [
    {
     "name": "stdout",
     "output_type": "stream",
     "text": [
      "[0 1 2 3 4 5 6 7 8]\n"
     ]
    }
   ],
   "source": [
    "ary10=np.arange(0,9)\n",
    "print(ary10)"
   ]
  },
  {
   "cell_type": "code",
   "execution_count": 37,
   "metadata": {},
   "outputs": [
    {
     "name": "stdout",
     "output_type": "stream",
     "text": [
      "[[0 1 2]\n",
      " [3 4 5]\n",
      " [6 7 8]]\n"
     ]
    }
   ],
   "source": [
    "ary11=np.resize(ary10,(3,3)) # np.resize()関数を使う。\n",
    "print(ary11)"
   ]
  },
  {
   "cell_type": "code",
   "execution_count": 38,
   "metadata": {},
   "outputs": [
    {
     "name": "stdout",
     "output_type": "stream",
     "text": [
      "[[0 1 2]\n",
      " [3 4 5]\n",
      " [6 7 8]]\n"
     ]
    }
   ],
   "source": [
    "ary10.resize((3,3)) # .reseize()メソッドを使う。\n",
    "print(ary10)"
   ]
  },
  {
   "cell_type": "markdown",
   "metadata": {},
   "source": [
    "### 7.5 ndarrayのインデックスとスライス"
   ]
  },
  {
   "cell_type": "markdown",
   "metadata": {},
   "source": [
    "`ndarray`型のインデックスとスライスはlist型と同じ"
   ]
  },
  {
   "cell_type": "code",
   "execution_count": 39,
   "metadata": {},
   "outputs": [
    {
     "name": "stdout",
     "output_type": "stream",
     "text": [
      "[0 1 2 3 4 5 6 7 8 9]\n"
     ]
    }
   ],
   "source": [
    "ary13=np.arange(10)\n",
    "print(ary13)"
   ]
  },
  {
   "cell_type": "code",
   "execution_count": 40,
   "metadata": {},
   "outputs": [
    {
     "data": {
      "text/plain": [
       "np.int64(2)"
      ]
     },
     "execution_count": 40,
     "metadata": {},
     "output_type": "execute_result"
    }
   ],
   "source": [
    "ary13[2]"
   ]
  },
  {
   "cell_type": "code",
   "execution_count": 41,
   "metadata": {},
   "outputs": [
    {
     "data": {
      "text/plain": [
       "array([1, 2, 3])"
      ]
     },
     "execution_count": 41,
     "metadata": {},
     "output_type": "execute_result"
    }
   ],
   "source": [
    "ary13[1:4]"
   ]
  },
  {
   "cell_type": "code",
   "execution_count": 42,
   "metadata": {},
   "outputs": [
    {
     "data": {
      "text/plain": [
       "array([0, 2, 4, 6])"
      ]
     },
     "execution_count": 42,
     "metadata": {},
     "output_type": "execute_result"
    }
   ],
   "source": [
    "ary13[0:7:2]"
   ]
  },
  {
   "cell_type": "markdown",
   "metadata": {},
   "source": [
    "多次元配列"
   ]
  },
  {
   "cell_type": "code",
   "execution_count": 43,
   "metadata": {},
   "outputs": [
    {
     "data": {
      "text/plain": [
       "array([[9, 9],\n",
       "       [7, 3],\n",
       "       [9, 8]])"
      ]
     },
     "execution_count": 43,
     "metadata": {},
     "output_type": "execute_result"
    }
   ],
   "source": [
    "np.random.seed(2)\n",
    "ary14=np.random.randint(1, 10, size=(3,2))\n",
    "ary14"
   ]
  },
  {
   "cell_type": "code",
   "execution_count": 44,
   "metadata": {},
   "outputs": [
    {
     "data": {
      "text/plain": [
       "np.int64(7)"
      ]
     },
     "execution_count": 44,
     "metadata": {},
     "output_type": "execute_result"
    }
   ],
   "source": [
    "ary14[1][0]"
   ]
  },
  {
   "cell_type": "code",
   "execution_count": 45,
   "metadata": {},
   "outputs": [
    {
     "data": {
      "text/plain": [
       "array([9, 8])"
      ]
     },
     "execution_count": 45,
     "metadata": {},
     "output_type": "execute_result"
    }
   ],
   "source": [
    "ary14[2]"
   ]
  },
  {
   "cell_type": "code",
   "execution_count": 46,
   "metadata": {},
   "outputs": [
    {
     "data": {
      "text/plain": [
       "array([9, 8])"
      ]
     },
     "execution_count": 46,
     "metadata": {},
     "output_type": "execute_result"
    }
   ],
   "source": [
    "ary14[2][:]"
   ]
  },
  {
   "cell_type": "markdown",
   "metadata": {},
   "source": [
    "実はndarrayにはスライシングするための固有の記法がありこの記法の方が要素へのアクセスが速いです。"
   ]
  },
  {
   "cell_type": "code",
   "execution_count": 47,
   "metadata": {},
   "outputs": [
    {
     "data": {
      "text/plain": [
       "array([9, 8])"
      ]
     },
     "execution_count": 47,
     "metadata": {},
     "output_type": "execute_result"
    }
   ],
   "source": [
    "ary14[2,:]"
   ]
  },
  {
   "cell_type": "markdown",
   "metadata": {},
   "source": [
    "### 問題 7.3\n",
    "次のスライシングはどのような結果となるか、初めに推測したうえで実行しなさい。  \n",
    "`ary14[1:, 2:]`"
   ]
  },
  {
   "cell_type": "markdown",
   "metadata": {},
   "source": [
    "### 7.4 ユニバーサル関数"
   ]
  },
  {
   "cell_type": "markdown",
   "metadata": {},
   "source": [
    "Numpyは配列処理に関して非常に豊富で便利な機能を持っているライブラリです。その中の一つに、**配列の全要素に対して、要素ごとに特定の関数を作用させて返す機能**があります。これを**ユニバーサル関数**と呼びます。標準で用意されているユニバーサル関数もあれば、ユニバーサル関数を自作することもできます(**frompyfunc()**)。\n",
    "\n",
    "`frompyfunc(関数, 引数の数, 出力の数)`"
   ]
  },
  {
   "cell_type": "code",
   "execution_count": 51,
   "metadata": {},
   "outputs": [
    {
     "name": "stdout",
     "output_type": "stream",
     "text": [
      "[[ 0  1  2  3  4  5]\n",
      " [ 6  7  8  9 10 11]]\n",
      "ループバージョン:\n",
      "[[  0.   1.   4.   9.  16.  25.]\n",
      " [ 36.  49.  64.  81. 100. 121.]]\n",
      "ユニバーサル関数バージョン：\n",
      "[[  0   1   4   9  16  25]\n",
      " [ 36  49  64  81 100 121]]\n",
      "自作ユニバーサル関数バージョン：\n",
      "[[0 1 4 9 16 25]\n",
      " [36 49 64 81 100 121]]\n"
     ]
    }
   ],
   "source": [
    "nlist01=np.arange(12).reshape(2, 6)\n",
    "print(nlist01)\n",
    "nlist02=np.zeros((2,6))\n",
    "\n",
    "#要素毎に2乗（ループバージョン）\n",
    "for i in range(2):\n",
    "    for j in range(6):\n",
    "        nlist02[i][j]=nlist01[i][j]**2\n",
    "\n",
    "print(f\"ループバージョン:\\n{nlist02}\")\n",
    "\n",
    "#要素毎に2乗（ユニバーサル関数（ufunc）バージョン）\n",
    "\n",
    "new_pow01=np.power(nlist01, 2)\n",
    "print(f\"ユニバーサル関数バージョン：\\n{new_pow01}\")\n",
    "\n",
    "#要素毎に2乗（自作関数バージョン）\n",
    "def ori_pow(a):\n",
    "    b=a**2        \n",
    "    return b\n",
    "\n",
    "if __name__ == \"__main__\":\n",
    "    uni_pow=np.frompyfunc(ori_pow, 1, 1) # \n",
    "    new_pow02=uni_pow(nlist01)\n",
    "    print(f\"自作ユニバーサル関数バージョン：\\n{new_pow02}\")\n"
   ]
  },
  {
   "cell_type": "markdown",
   "metadata": {},
   "source": [
    "### 7.5 ndarrayによる行列計算"
   ]
  },
  {
   "cell_type": "markdown",
   "metadata": {},
   "source": [
    "ndarray型の行列計算において`*`,`/`,`+`,`-`,`**`, `%`はすべて要素同士の計算になるから注意。"
   ]
  },
  {
   "cell_type": "code",
   "execution_count": 52,
   "metadata": {},
   "outputs": [],
   "source": [
    "import numpy as np\n",
    "mat01=np.array([[1,2],[3,4]])\n",
    "mat02=np.array([[1,0],[-1,0]])"
   ]
  },
  {
   "cell_type": "code",
   "execution_count": 53,
   "metadata": {},
   "outputs": [
    {
     "data": {
      "text/plain": [
       "array([[2, 2],\n",
       "       [2, 4]])"
      ]
     },
     "execution_count": 53,
     "metadata": {},
     "output_type": "execute_result"
    }
   ],
   "source": [
    "mat01+mat02"
   ]
  },
  {
   "cell_type": "code",
   "execution_count": 54,
   "metadata": {},
   "outputs": [
    {
     "data": {
      "text/plain": [
       "array([[0, 2],\n",
       "       [4, 4]])"
      ]
     },
     "execution_count": 54,
     "metadata": {},
     "output_type": "execute_result"
    }
   ],
   "source": [
    "mat01-mat02"
   ]
  },
  {
   "cell_type": "code",
   "execution_count": 55,
   "metadata": {},
   "outputs": [
    {
     "data": {
      "text/plain": [
       "array([[ 1,  0],\n",
       "       [-3,  0]])"
      ]
     },
     "execution_count": 55,
     "metadata": {},
     "output_type": "execute_result"
    }
   ],
   "source": [
    "mat01*mat02"
   ]
  },
  {
   "cell_type": "markdown",
   "metadata": {},
   "source": [
    "行列積には`@`を用いる"
   ]
  },
  {
   "cell_type": "code",
   "execution_count": 56,
   "metadata": {},
   "outputs": [
    {
     "data": {
      "text/plain": [
       "array([[-1,  0],\n",
       "       [-1,  0]])"
      ]
     },
     "execution_count": 56,
     "metadata": {},
     "output_type": "execute_result"
    }
   ],
   "source": [
    "mat01@ mat02"
   ]
  },
  {
   "cell_type": "code",
   "execution_count": 57,
   "metadata": {},
   "outputs": [
    {
     "data": {
      "text/plain": [
       "np.int64(2)"
      ]
     },
     "execution_count": 57,
     "metadata": {},
     "output_type": "execute_result"
    }
   ],
   "source": [
    "np.linalg.matrix_rank(mat01)"
   ]
  },
  {
   "cell_type": "markdown",
   "metadata": {},
   "source": [
    "### レポート問題\n",
    "1. numpy配列(ndarray)を引数とする、ユニバーサル関数を作成し出力するプログラムを作成しなさい（他の人と異なる関数を評価する。講義でやった数式だけでなく文字列を処理する自作関数などを高く評価する）。\n",
    "2. [線形代数の数学関数](https://docs.scipy.org/doc/numpy-1.13.0/reference/routines.dual.html#linear-algebra)を参考に線形代数の関数群を使って線形代数に関わる計算を行いなさい。ただし、単純な内積や外積ではなく行列の固有値や線型方程式の解を求めなさい．    \n",
    "\n",
    "**〆切：10/16（水）までにGoogleClassroomでjupyter notebook形式「id_学籍番号_03.ipynb」形式で送ること**"
   ]
  }
 ],
 "metadata": {
  "kernelspec": {
   "display_name": "Python 3 (ipykernel)",
   "language": "python",
   "name": "python3"
  },
  "language_info": {
   "codemirror_mode": {
    "name": "ipython",
    "version": 3
   },
   "file_extension": ".py",
   "mimetype": "text/x-python",
   "name": "python",
   "nbconvert_exporter": "python",
   "pygments_lexer": "ipython3",
   "version": "3.12.7"
  },
  "vscode": {
   "interpreter": {
    "hash": "4dd667a51de495a4094911315670c4951bec76b2d72bf5621aaf126c6a8c1b12"
   }
  }
 },
 "nbformat": 4,
 "nbformat_minor": 4
}
