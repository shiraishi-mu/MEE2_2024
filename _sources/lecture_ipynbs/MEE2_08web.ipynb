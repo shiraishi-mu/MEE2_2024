{
 "cells": [
  {
   "cell_type": "markdown",
   "metadata": {},
   "source": [
    "# 第08回　数理工学実験２"
   ]
  },
  {
   "cell_type": "markdown",
   "metadata": {},
   "source": [
    "## 13 グラフィック "
   ]
  },
  {
   "cell_type": "markdown",
   "metadata": {},
   "source": [
    "ここでは**グラフィック**について学びます。コンピュータシミュレーションを直観的に理解する上でグラフィックの役割は大きなものがあります。実際このようなグラフィックのイメージが近年の数理科学の研究を進めるうえで大きな役割を演じました（例えば、カオスやフラクタル）。ただし、真の理解を得るためには地道な手計算が常に最も大きな役割を演じていることを忘れないようにして下さい。\n",
    "\n",
    "pythonにはいくつかのグラフィックライブラリがモジュールとして用意されています。ここでは[**pygame**](http://www.pygame.org/hifi.html)という2Dグラフィックライブラリを使うことにします（実は、[cocos2d-x](http://www.cocos2d-x.org/)というスマホアプリも作れるとっても有名な2dゲームライブラリがあるのですが、使い方が複雑なのでここでは使いません）。pygameはその名のとおり2Dのゲームを作ることが出来るグラフィックライブラリです。ゲーム作成できるライブラリなので、ただ単にグラフィックを表示するだけでなくマウスやキーボードの動作に反応（イベント駆動型）したり音や動画を加えることも可能です。ここでは、数理工学のシミュレーションに必要な関数やメソッドの限って使い方を学びます。"
   ]
  },
  {
   "cell_type": "markdown",
   "metadata": {},
   "source": [
    "### 13.0 pygameのインストール"
   ]
  },
  {
   "cell_type": "code",
   "execution_count": null,
   "metadata": {},
   "outputs": [],
   "source": [
    "!python -m pip install pygame"
   ]
  },
  {
   "cell_type": "markdown",
   "metadata": {},
   "source": [
    "anacondaには標準ではpygameはインストールされていないので、ここでインストールします。Anaconda Prompt上で下記のように入力してください。\n",
    "![](./pic/pygame_install.png)\n",
    "<!-- <img src=\"./pic/pygame_install.png\" width=\"600\" />   -->"
   ]
  },
  {
   "cell_type": "markdown",
   "metadata": {},
   "source": [
    "### 13.1 座標系の設定"
   ]
  },
  {
   "cell_type": "markdown",
   "metadata": {},
   "source": [
    "グラフィックの表示のためにはウインドウ内で座標系を設定する必要があります。pygameでは下記の座標系を用いています。 \n",
    "![](./pic/coordinate.png)\n",
    "<!-- <img src=\"./pic/coordinate.png\" width=\"400\" />   -->\n",
    "この座標系はpygame以外の多くのグラフィックライブラリでも使用される座標系です。左上端を$(0,0)$として$y$軸は下方向を正としていることに注意してください。"
   ]
  },
  {
   "cell_type": "markdown",
   "metadata": {},
   "source": [
    "### 13.2 空のウインドウの表示"
   ]
  },
  {
   "cell_type": "markdown",
   "metadata": {},
   "source": [
    "pygameでは以下のように設定し空のウインドウの表示を表示します。"
   ]
  },
  {
   "cell_type": "code",
   "execution_count": 6,
   "metadata": {},
   "outputs": [],
   "source": [
    "import pygame\n",
    "\n",
    "pygame.init()\n",
    "size=(700,500)\n",
    "pygame.display.set_mode(size)\n",
    "pygame.display.set_caption(\"はじめてのPygame\") #\n",
    "pygame.time.delay(5000) #5000ミリ秒(つまり5秒)表示する\n",
    "\n",
    "pygame.quit()    "
   ]
  },
  {
   "cell_type": "markdown",
   "metadata": {},
   "source": [
    "1行目：<code>pygame.init()</code>は初期化を表してます。  \n",
    "2行目：<code>size=(700,500)</code>はウインドウサイズを決めます$(x,y)=(700,500)$。  \n",
    "3行目：<code>pygame.display.set_mode(size)</code>はsize\n",
    "\n",
    "![fig1](./pic/blank.png)\n",
    "<!-- <img src=\"./pic/blank.png\" width=\"600\" />   -->"
   ]
  },
  {
   "cell_type": "markdown",
   "metadata": {},
   "source": [
    "### 13.3 ウインドウを白く塗りつぶす"
   ]
  },
  {
   "cell_type": "markdown",
   "metadata": {},
   "source": [
    "続いて色を塗ります。色の指定はこの[ページ](http://www.colorpicker.com/)を見て下さい。"
   ]
  },
  {
   "cell_type": "code",
   "execution_count": 11,
   "metadata": {},
   "outputs": [],
   "source": [
    "import pygame\n",
    "\n",
    "pygame.init()\n",
    "size=(700,500)\n",
    "screen=pygame.display.set_mode(size)\n",
    "pygame.display.set_caption(\"はじめてのPygame\") #\n",
    "screen.fill((255,255,255))\n",
    "pygame.display.flip()\n",
    "pygame.time.delay(5000) #5000ミリ秒(つまり5秒)待つ\n",
    "\n",
    "pygame.quit()    "
   ]
  },
  {
   "cell_type": "markdown",
   "metadata": {},
   "source": [
    "![](./pic/white.PNG)\n",
    "<!-- <img src=\"./pic/white.PNG\" width=\"600\" />   -->"
   ]
  },
  {
   "cell_type": "markdown",
   "metadata": {},
   "source": [
    "### 13.4 2次元図形を描く"
   ]
  },
  {
   "cell_type": "markdown",
   "metadata": {},
   "source": [
    "#### 13.4.1 線を描く"
   ]
  },
  {
   "cell_type": "markdown",
   "metadata": {},
   "source": [
    "線は  \n",
    "pygame.draw.line(ウインドウ名, 色, [0, 0], [100, 100],(オプション：線の太さ))  \n",
    "と指定し表示します。  "
   ]
  },
  {
   "cell_type": "code",
   "execution_count": 17,
   "metadata": {},
   "outputs": [],
   "source": [
    "import pygame\n",
    "\n",
    "# Define some colors\n",
    "BLACK = (0, 0, 0)\n",
    "WHITE = (255, 255, 255)\n",
    "GREEN = (0, 255, 0)\n",
    "RED = (255, 0, 0)\n",
    "\n",
    "pygame.init()\n",
    "size=(700,500)\n",
    "screen=pygame.display.set_mode(size)\n",
    "pygame.display.set_caption(\"はじめてのPygame\") #\n",
    "screen.fill(WHITE)\n",
    "\n",
    "pygame.draw.line(screen, GREEN, [0,0], [100,100], 3)\n",
    "\n",
    "pygame.display.flip()\n",
    "pygame.time.delay(5000) #5000ミリ秒(つまり5秒)待つ\n",
    "\n",
    "pygame.quit()    "
   ]
  },
  {
   "cell_type": "markdown",
   "metadata": {},
   "source": [
    "<img src=\"./pic/line.PNG\" width=\"600\" />  "
   ]
  },
  {
   "cell_type": "markdown",
   "metadata": {},
   "source": [
    "#### 13.4.2 四角形"
   ]
  },
  {
   "cell_type": "markdown",
   "metadata": {},
   "source": [
    "四角形は  \n",
    "pygame.draw.rect(ウインドウ名, 色, [（左上端の）x座標, （左上端の）y座標, xの長さ, yの長さ],(オプション：線の太さ))  \n",
    "と指定し表示します。"
   ]
  },
  {
   "cell_type": "code",
   "execution_count": 28,
   "metadata": {},
   "outputs": [],
   "source": [
    "import pygame\n",
    "\n",
    "# Define some colors\n",
    "BLACK = (0, 0, 0)\n",
    "WHITE = (255, 255, 255)\n",
    "GREEN = (0, 255, 0)\n",
    "RED = (255, 0, 0)\n",
    "\n",
    "pygame.init()\n",
    "size=(700,500)\n",
    "screen=pygame.display.set_mode(size)\n",
    "pygame.display.set_caption(\"はじめてのPygame\") #\n",
    "screen.fill(WHITE)\n",
    "\n",
    "pygame.draw.rect(screen, RED, [55, 50, 20, 25],1)\n",
    "\n",
    "pygame.display.flip()\n",
    "pygame.time.delay(5000) #5000ミリ秒(つまり5秒)待つ\n",
    "\n",
    "pygame.quit()    "
   ]
  },
  {
   "cell_type": "markdown",
   "metadata": {},
   "source": [
    "![](./pic/rectangle.PNG)\n",
    "<!-- <img src=\"./pic/rectangle.PNG\" width=\"600\" />   -->"
   ]
  },
  {
   "cell_type": "markdown",
   "metadata": {},
   "source": [
    "#### 13.4.3 円と弧"
   ]
  },
  {
   "cell_type": "markdown",
   "metadata": {},
   "source": [
    "円は\n",
    "\n",
    "`pygame.draw.circle(ウインドウ名, 色, [x,y（中心の座標）], 半径, (線の太さ))`\n",
    "\n",
    "と指定し表示します。"
   ]
  },
  {
   "cell_type": "code",
   "execution_count": 31,
   "metadata": {},
   "outputs": [],
   "source": [
    "import pygame\n",
    "\n",
    "# Define some colors\n",
    "BLACK = (0, 0, 0)\n",
    "WHITE = (255, 255, 255)\n",
    "BLUE = (0, 0, 255)\n",
    "GREEN = (0, 255, 0)\n",
    "RED = (255, 0, 0)\n",
    "\n",
    "pygame.init()\n",
    "size=(700,500)\n",
    "screen=pygame.display.set_mode(size)\n",
    "pygame.display.set_caption(\"はじめてのPygame\") #\n",
    "screen.fill(WHITE)\n",
    "\n",
    "pygame.draw.circle(screen, BLUE, [350,250], 100)\n",
    "\n",
    "pygame.display.flip()\n",
    "pygame.time.delay(10000) #10000ミリ秒(つまり5秒)待つ\n",
    "\n",
    "pygame.quit()    "
   ]
  },
  {
   "cell_type": "markdown",
   "metadata": {},
   "source": [
    "![](./pic/circle1.png)\n",
    "<!-- <img src=\"./pic/circle1.png\" width=\"600\" />   -->"
   ]
  },
  {
   "cell_type": "markdown",
   "metadata": {},
   "source": [
    "楕円は  \n",
    "pygame.draw.ellipse(ウインドウ名, 色, [（左上端の）x座標, （左上端の）y座標, xの長さ, yの長さ],(オプション：線の太さ))  \n",
    "と指定し表示します。  \n"
   ]
  },
  {
   "cell_type": "code",
   "execution_count": 33,
   "metadata": {},
   "outputs": [],
   "source": [
    "import pygame\n",
    "\n",
    "# Define some colors\n",
    "BLACK = (0, 0, 0)\n",
    "WHITE = (255, 255, 255)\n",
    "GREEN = (0, 255, 0)\n",
    "RED = (255, 0, 0)\n",
    "\n",
    "pygame.init()\n",
    "size=(700,500)\n",
    "screen=pygame.display.set_mode(size)\n",
    "pygame.display.set_caption(\"はじめてのPygame\") #\n",
    "screen.fill(WHITE)\n",
    "\n",
    "pygame.draw.ellipse(screen, BLACK, [20,20,250,100], 3)\n",
    "\n",
    "pygame.display.flip()\n",
    "pygame.time.delay(5000) #5000ミリ秒(つまり5秒)待つ\n",
    "\n",
    "pygame.quit()    "
   ]
  },
  {
   "cell_type": "markdown",
   "metadata": {},
   "source": [
    "![](./pic/circle.PNG)\n",
    "<!-- <img src=\"./pic/circle.PNG\" width=\"600\" />   -->\n",
    "\n",
    "また、弧は  \n",
    "pygame.draw.arc(ウインドウ名, 色, [（左上端の）x座標, （左上端の）y座標, xの長さ, yの長さ], 反時計回りに近い方の角度, 反時計回りに遠い方の角度)  \n",
    "と指定し表示します。"
   ]
  },
  {
   "cell_type": "code",
   "execution_count": 37,
   "metadata": {},
   "outputs": [],
   "source": [
    "import pygame\n",
    "import math\n",
    "\n",
    "# Define some colors\n",
    "BLACK = (0, 0, 0)\n",
    "WHITE = (255, 255, 255)\n",
    "GREEN = (0, 255, 0)\n",
    "RED = (255, 0, 0)\n",
    "\n",
    "PI=math.pi\n",
    "\n",
    "pygame.init()\n",
    "size=(700,500)\n",
    "screen=pygame.display.set_mode(size)\n",
    "pygame.display.set_caption(\"はじめてのPygame\") #\n",
    "screen.fill(WHITE)\n",
    "\n",
    "pygame.draw.rect(screen, GREEN, [100,100,250,200], 1)\n",
    "pygame.draw.arc(screen, BLACK, [100,100,250,200],  PI/2, PI)\n",
    "\n",
    "pygame.display.flip()\n",
    "pygame.time.delay(5000) #5000ミリ秒(つまり5秒)待つ\n",
    "\n",
    "pygame.quit()    "
   ]
  },
  {
   "cell_type": "markdown",
   "metadata": {},
   "source": [
    "<img src=\"./pic/arc.png\" width=\"600\" />  "
   ]
  },
  {
   "cell_type": "markdown",
   "metadata": {},
   "source": [
    "#### 13.4.5 多角形"
   ]
  },
  {
   "cell_type": "markdown",
   "metadata": {},
   "source": [
    "多角形は  \n",
    "pygame.draw.polygon(ウインドウ名, 色, [[点1の位置],[点2の位置],…,[点nの位置]],(オプション：線の太さ))  \n",
    "と指定し表示します。"
   ]
  },
  {
   "cell_type": "code",
   "execution_count": 38,
   "metadata": {},
   "outputs": [],
   "source": [
    "import pygame\n",
    "\n",
    "# Define some colors\n",
    "BLACK = (0, 0, 0)\n",
    "WHITE = (255, 255, 255)\n",
    "GREEN = (0, 255, 0)\n",
    "RED = (255, 0, 0)\n",
    "\n",
    "pygame.init()\n",
    "size=(700,500)\n",
    "screen=pygame.display.set_mode(size)\n",
    "pygame.display.set_caption(\"はじめてのPygame\") #\n",
    "screen.fill(WHITE)\n",
    "\n",
    "pygame.draw.polygon(screen, BLACK, [[100,100], [0,200], [200,200],[250,300]], 2)\n",
    "\n",
    "pygame.display.flip()\n",
    "pygame.time.delay(5000) #5000ミリ秒(つまり5秒)待つ\n",
    "\n",
    "pygame.quit()    "
   ]
  },
  {
   "cell_type": "markdown",
   "metadata": {},
   "source": [
    "![](./pic/polygon.PNG)\n",
    "<!-- <img src=\"./pic/polygon.PNG\" width=\"600\" />   -->"
   ]
  },
  {
   "cell_type": "markdown",
   "metadata": {},
   "source": [
    "#### 13.4.6 文字"
   ]
  },
  {
   "cell_type": "markdown",
   "metadata": {},
   "source": [
    "pygameは文字も描くことが出来ます。（ただし、日本語の表示にはちょっとした工夫が必要なのでここでは説明しません）\n",
    "文字はまず、フォントの種類、サイズ、boldか否か，イタリックか否かを決めます。  \n",
    "```font = pygame.font.SysFont('Calibri', 25, True, False)```  \n",
    "続いて、描く文字列、アンチエイリアスか否か、色の設定をします。\n",
    "```text = font.render(\"Hello!\",True,BLACK) ```\n",
    "最後に文字列を描くスクリーンの位置を決め描きます。  \n",
    "```screen.blit(text, [250, 250])  ```"
   ]
  },
  {
   "cell_type": "code",
   "execution_count": 39,
   "metadata": {},
   "outputs": [],
   "source": [
    "import pygame\n",
    "\n",
    "# Define some colors\n",
    "BLACK = (0, 0, 0)\n",
    "WHITE = (255, 255, 255)\n",
    "GREEN = (0, 255, 0)\n",
    "RED = (255, 0, 0)\n",
    "\n",
    "pygame.init()\n",
    "size=(500,500)\n",
    "screen=pygame.display.set_mode(size)\n",
    "pygame.display.set_caption(\"はじめてのPygame\") #\n",
    "screen.fill(WHITE)\n",
    "\n",
    "font = pygame.font.SysFont('Calibri', 25, True, False)\n",
    "text = font.render(\"Hello!\",True,BLACK)\n",
    "screen.blit(text, [0, 25])\n",
    "\n",
    "pygame.display.flip()\n",
    "pygame.time.delay(5000) #5000ミリ秒(つまり5秒)待つ\n",
    "\n",
    "pygame.quit()   "
   ]
  },
  {
   "cell_type": "markdown",
   "metadata": {},
   "source": [
    "![](./pic/hello.PNG)\n",
    "<!-- <img src=\"./pic/hello.PNG\" width=\"600\" />   -->"
   ]
  },
  {
   "cell_type": "markdown",
   "metadata": {},
   "source": [
    "### 問題\n",
    "これまで学んだ多角形、直線、文字列などを用い好きな絵をかいてみてください。"
   ]
  },
  {
   "cell_type": "markdown",
   "metadata": {
    "collapsed": true,
    "jupyter": {
     "outputs_hidden": true
    }
   },
   "source": [
    "### 13.5 2次元図形のアニメーション"
   ]
  },
  {
   "cell_type": "markdown",
   "metadata": {},
   "source": [
    "それではここからはプログラムで**アニメーション**を作成してみます。と言っても、さほど難しくなくようは静止画を順番にパラパラ漫画の要領で表示していけばいいだけです。まず初めに先ほど作ったプログラムを少し変えてアニメーションを作ってみます。（下記のプログラムは2度実行するとjupyter notebook上ではなぜかkernel downしてしまいます。PyCharm上で実行してください（理由は今のところ謎（おそらく、jupyter notebookの問題） 2016/12/15））。"
   ]
  },
  {
   "cell_type": "code",
   "execution_count": 9,
   "metadata": {},
   "outputs": [],
   "source": [
    "import pygame\n",
    "\n",
    "# Define some colors\n",
    "BLACK = (0, 0, 0)\n",
    "WHITE = (255, 255, 255)\n",
    "GREEN = (0, 255, 0)\n",
    "RED = (255, 0, 0)\n",
    "BLUE = (0, 0, 255)\n",
    "\n",
    "pygame.init()\n",
    "size=(500,500)\n",
    "screen=pygame.display.set_mode(size)\n",
    "pygame.display.set_caption(\"はじめてのPygame\") #\n",
    "screen.fill(WHITE)\n",
    "\n",
    "for i in range(8):\n",
    "    font=pygame.font.SysFont('Calibri', 25, True, False)\n",
    "    text = font.render(\"Hello!\",True, (i*32,i*32,i*32))\n",
    "    screen.blit(text, [0+i*25, 25+i*25])\n",
    "    pygame.display.flip()\n",
    "    pygame.time.delay(1000) #1000ミリ秒(つまり1秒)待つ\n",
    "    \n",
    "pygame.quit()   "
   ]
  },
  {
   "cell_type": "markdown",
   "metadata": {},
   "source": [
    "続いて、正方形が右下へ動くアニメーションを作成します。"
   ]
  },
  {
   "cell_type": "code",
   "execution_count": 10,
   "metadata": {},
   "outputs": [],
   "source": [
    "import pygame\n",
    "\n",
    "# Define some colors\n",
    "BLACK = (0, 0, 0)\n",
    "WHITE = (255, 255, 255)\n",
    "GREEN = (0, 255, 0)\n",
    "RED = (255, 0, 0)\n",
    "BLUE = (0, 0, 255)\n",
    "\n",
    "pygame.init()\n",
    "size=(500,500)\n",
    "screen=pygame.display.set_mode(size)\n",
    "pygame.display.set_caption(\"はじめてのPygame\") \n",
    "\n",
    "rect_x=50\n",
    "rect_y=50\n",
    "\n",
    "rect_change_x=5\n",
    "rect_change_y=5\n",
    "\n",
    "for i in range(100):\n",
    "    screen.fill(BLACK)\n",
    "    pygame.draw.rect(screen, WHITE, [rect_x, rect_y,50,50])\n",
    "    pygame.display.flip()\n",
    "    rect_x += rect_change_x\n",
    "    rect_y += rect_change_y\n",
    "    \n",
    "    pygame.time.delay(100) #1000ミリ秒(つまり1秒)待つ\n",
    "    \n",
    "pygame.quit()   "
   ]
  },
  {
   "cell_type": "markdown",
   "metadata": {},
   "source": [
    "それでは、壁に当たったら正方形が跳ね返るプログラムを作成してみましょう。"
   ]
  },
  {
   "cell_type": "code",
   "execution_count": 11,
   "metadata": {},
   "outputs": [],
   "source": [
    "import pygame\n",
    "\n",
    "BLACK = (0, 0, 0)\n",
    "WHITE = (255, 255, 255)\n",
    "GREEN = (0, 255, 0)\n",
    "RED = (255, 0, 0)\n",
    "BLUE = (0, 0, 255)\n",
    "\n",
    "pygame.init()\n",
    "size=(500,500)\n",
    "screen=pygame.display.set_mode(size)\n",
    "pygame.display.set_caption(\"はじめてのPygame\") \n",
    "\n",
    "rect_x=50\n",
    "rect_y=50\n",
    "\n",
    "rect_change_x=5\n",
    "rect_change_y=5\n",
    "\n",
    "for i in range(100):\n",
    "    screen.fill(BLACK)\n",
    "    pygame.draw.rect(screen, WHITE, [rect_x, rect_y,50,50])\n",
    "    pygame.display.flip()\n",
    "\n",
    "    if rect_y > 450 or rect_y < 0:\n",
    "        rect_change_y = rect_change_y * -1\n",
    "    if rect_x > 450 or rect_x < 0:\n",
    "        rect_change_x = rect_change_x * -1\n",
    "        \n",
    "    rect_x += rect_change_x\n",
    "    rect_y += rect_change_y\n",
    "    \n",
    "    pygame.time.delay(100) #1000ミリ秒(つまり1秒)待つ\n",
    "    \n",
    "pygame.quit()   "
   ]
  },
  {
   "cell_type": "markdown",
   "metadata": {},
   "source": [
    "<code>for</code>ループで回数を決めずに<code>while</code>ループを用い無限ループさせ、マウスでウインドウを閉じた時のみ終了するように変更してみます。さらに、画面を正方形から長方形へ変えてみます。"
   ]
  },
  {
   "cell_type": "code",
   "execution_count": 12,
   "metadata": {},
   "outputs": [],
   "source": [
    "import pygame\n",
    "\n",
    "BLACK = (0, 0, 0)\n",
    "WHITE = (255, 255, 255)\n",
    "GREEN = (0, 255, 0)\n",
    "RED = (255, 0, 0)\n",
    "BLUE = (0, 0, 255)\n",
    "\n",
    "pygame.init()\n",
    "size=(700,500)\n",
    "screen=pygame.display.set_mode(size)\n",
    "pygame.display.set_caption(\"はじめてのPygame\") \n",
    "\n",
    "rect_x=50\n",
    "rect_y=50\n",
    "\n",
    "rect_change_x=5\n",
    "rect_change_y=5\n",
    "\n",
    "done= False\n",
    "\n",
    "while not done:\n",
    "    for event in pygame.event.get():\n",
    "        if event.type == pygame.QUIT:\n",
    "            done = True\n",
    "            \n",
    "    screen.fill(BLACK)\n",
    "    pygame.draw.ellipse(screen, WHITE, [rect_x, rect_y,50,50])\n",
    "    pygame.display.flip()\n",
    "\n",
    "    if rect_y > 450 or rect_y < 0:\n",
    "        rect_change_y = rect_change_y * -1\n",
    "    if rect_x > 650 or rect_x < 0:\n",
    "        rect_change_x = rect_change_x * -1\n",
    "        \n",
    "    rect_x += rect_change_x\n",
    "    rect_y += rect_change_y\n",
    "    \n",
    "    pygame.time.delay(10) #1000ミリ秒(つまり1秒)待つ\n",
    "    \n",
    "pygame.quit()   "
   ]
  },
  {
   "cell_type": "markdown",
   "metadata": {},
   "source": [
    "### 問題1\n",
    "上のプログラムは壁（境界）に当たると跳ね返る条件（反射）でしたが、右側に行くと左側から現れ、下側に行くと上側から現れるような周期的な条件（周期境界条件）にプログラムを変更しなさい。"
   ]
  },
  {
   "cell_type": "markdown",
   "metadata": {},
   "source": [
    "### （ちょっと難しい）問題2\n",
    "2つの正方形やボールが動くプログラムを作りなさい。2つのボールがすり抜けてもいいですが、ぶつかった時に反射しあう方が現実的です。ちなみに、2つのボールが当たった時に跳ね返るようにするにはちょっと工夫が必要です。"
   ]
  },
  {
   "cell_type": "markdown",
   "metadata": {
    "collapsed": true,
    "jupyter": {
     "outputs_hidden": true
    }
   },
   "source": [
    "### レポート課題\n",
    "今日学んだアニメーションの手法およびこれまで学んだPythonプログラミングの技術を用いて自分なりに面白いアニメーションを作成してください。テーマは自由なので、各自のオリジナリティを発揮してください。\n",
    "\n",
    "**このレポート課題についてはこれまでのレポート課題より大幅に評価を高くします。内容については12/12（木）に発表してもらいます。** \n",
    "\n",
    "**参考にした資料・URLは必ず，ソースコード内にコメントのかたちで書くこと．コメントなしにコピペなどが判明した場合は大幅に評価を下げます。**    \n",
    "\n",
    "**〆切：12/11（水）までにGoogle Classroomでjupyter notebook形式「id_学籍番号_08.ipynb」形式で送ること**"
   ]
  },
  {
   "cell_type": "code",
   "execution_count": 3,
   "metadata": {},
   "outputs": [
    {
     "name": "stdout",
     "output_type": "stream",
     "text": [
      "Requirement already satisfied: pygame in c:\\users\\kinop\\anaconda3\\lib\\site-packages (1.9.6)\n"
     ]
    }
   ],
   "source": [
    "!pip install pygame"
   ]
  }
 ],
 "metadata": {
  "kernelspec": {
   "display_name": "Python 3 (ipykernel)",
   "language": "python",
   "name": "python3"
  },
  "language_info": {
   "codemirror_mode": {
    "name": "ipython",
    "version": 3
   },
   "file_extension": ".py",
   "mimetype": "text/x-python",
   "name": "python",
   "nbconvert_exporter": "python",
   "pygments_lexer": "ipython3",
   "version": "3.12.7"
  },
  "vscode": {
   "interpreter": {
    "hash": "c182d1b202b41fdf4b60803f05a29d92f1736a33b38810d465f4f5fc6e4b1d74"
   }
  }
 },
 "nbformat": 4,
 "nbformat_minor": 4
}
