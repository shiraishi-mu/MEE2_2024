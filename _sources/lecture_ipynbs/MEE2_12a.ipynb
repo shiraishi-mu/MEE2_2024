{
 "cells": [
  {
   "cell_type": "markdown",
   "metadata": {},
   "source": [
    "# 第12回a 数理工学実験２"
   ]
  },
  {
   "cell_type": "markdown",
   "metadata": {},
   "source": [
    "## 14 データ解析"
   ]
  },
  {
   "cell_type": "markdown",
   "metadata": {},
   "source": [
    "[**Pandas**](http://pandas.pydata.org)は高度なデータ構造を持っており、データ分析を素早く簡単に行う際に用いられる標準的なPythonモジュールです。PandasはNumPyベースに作成されているので、NumPyとの相性が特にいいです。また、現実のデータ分析を取り扱う際に最も必要な作業であるデータの前処理（データクレンジング）を柔軟に行えることにも特徴があります。それでは早速使ってみましょう。\n",
    "\n",
    "参考文献  \n",
    "- PythonユーザのためのJupyter実践入門（技術評論社）\n",
    "- 東京大学のデータサイエンティスト育成講座（マイナビ）\n",
    "- Pythonによるデータ分析入門（オライリージャパン）"
   ]
  },
  {
   "cell_type": "code",
   "execution_count": 1,
   "metadata": {},
   "outputs": [],
   "source": [
    "#pandasのインポート\n",
    "import pandas as pd"
   ]
  },
  {
   "cell_type": "markdown",
   "metadata": {},
   "source": [
    "### 14.1 Series"
   ]
  },
  {
   "cell_type": "markdown",
   "metadata": {},
   "source": [
    "**Series**はインデックスと呼ばれるラベルを持った同一のデータ型を持つ1次元のデータです。"
   ]
  },
  {
   "cell_type": "markdown",
   "metadata": {},
   "source": [
    "### 14.2 データフレーム 　-データ操作-"
   ]
  },
  {
   "cell_type": "markdown",
   "metadata": {},
   "source": [
    "Pandas ではデータフレーム (DataFrame) オブジェクトを用いてデータ操作を高速，効率的に行います．"
   ]
  },
  {
   "cell_type": "markdown",
   "metadata": {
    "collapsed": true,
    "jupyter": {
     "outputs_hidden": true
    }
   },
   "source": [
    "|名前|性別|体重|身長|英語|数学|国語|社会|理科|  \n",
    "|:----:|:----:|:----:|:-----:|:----:|:----:|:----:|:----:|:-----:|  \n",
    "|A|F|40.0|155.0|150|130|140|80|70|\n",
    "|B|F|45.0|160.0|145|135|135|75|75|\n",
    "|C|F|50.0|165.0|160|140|150|90|80|\n",
    "|D|M|70.0|180.0|130|150|120|60|90|\n",
    "|E|M|60.0|175.0|160|120|150|90|60|\n",
    "|F|M|65.0|170.0|140|140|130|70|80|\n"
   ]
  },
  {
   "cell_type": "markdown",
   "metadata": {},
   "source": [
    "* データフレームの作成"
   ]
  },
  {
   "cell_type": "code",
   "execution_count": 8,
   "metadata": {},
   "outputs": [],
   "source": [
    "df = pd.DataFrame({\n",
    "                   \"性別\":[\"F\",\"F\",\"F\",\"M\",\"M\",\"M\"],\n",
    "                   \"体重\":[40.0,45.0,50.0,70.0,60.0,65.0],\n",
    "                   \"身長\":[155.0,160.0,165.0,180.0,175.0,170.0],\n",
    "                   \"英語\":[150,145,160,130,160,140],\n",
    "                   \"数学\":[130,135,140,150,120,140],\n",
    "                   \"国語\":[140,135,150,120,150,130],\n",
    "                   \"社会\":[80,75,90,60,90,70],\n",
    "                   \"理科\":[70,75,80,90,60,80]\n",
    "                  } , \n",
    "                  index=[\"A\",\"B\",\"C\",\"D\",\"E\",\"F\"]\n",
    "                 )"
   ]
  },
  {
   "cell_type": "markdown",
   "metadata": {},
   "source": [
    "* データフレームの中身確認"
   ]
  },
  {
   "cell_type": "code",
   "execution_count": 9,
   "metadata": {},
   "outputs": [
    {
     "data": {
      "text/html": [
       "<div>\n",
       "<style scoped>\n",
       "    .dataframe tbody tr th:only-of-type {\n",
       "        vertical-align: middle;\n",
       "    }\n",
       "\n",
       "    .dataframe tbody tr th {\n",
       "        vertical-align: top;\n",
       "    }\n",
       "\n",
       "    .dataframe thead th {\n",
       "        text-align: right;\n",
       "    }\n",
       "</style>\n",
       "<table border=\"1\" class=\"dataframe\">\n",
       "  <thead>\n",
       "    <tr style=\"text-align: right;\">\n",
       "      <th></th>\n",
       "      <th>性別</th>\n",
       "      <th>体重</th>\n",
       "      <th>身長</th>\n",
       "      <th>英語</th>\n",
       "      <th>数学</th>\n",
       "      <th>国語</th>\n",
       "      <th>社会</th>\n",
       "      <th>理科</th>\n",
       "    </tr>\n",
       "  </thead>\n",
       "  <tbody>\n",
       "    <tr>\n",
       "      <th>A</th>\n",
       "      <td>F</td>\n",
       "      <td>40.0</td>\n",
       "      <td>155.0</td>\n",
       "      <td>150</td>\n",
       "      <td>130</td>\n",
       "      <td>140</td>\n",
       "      <td>80</td>\n",
       "      <td>70</td>\n",
       "    </tr>\n",
       "    <tr>\n",
       "      <th>B</th>\n",
       "      <td>F</td>\n",
       "      <td>45.0</td>\n",
       "      <td>160.0</td>\n",
       "      <td>145</td>\n",
       "      <td>135</td>\n",
       "      <td>135</td>\n",
       "      <td>75</td>\n",
       "      <td>75</td>\n",
       "    </tr>\n",
       "    <tr>\n",
       "      <th>C</th>\n",
       "      <td>F</td>\n",
       "      <td>50.0</td>\n",
       "      <td>165.0</td>\n",
       "      <td>160</td>\n",
       "      <td>140</td>\n",
       "      <td>150</td>\n",
       "      <td>90</td>\n",
       "      <td>80</td>\n",
       "    </tr>\n",
       "    <tr>\n",
       "      <th>D</th>\n",
       "      <td>M</td>\n",
       "      <td>70.0</td>\n",
       "      <td>180.0</td>\n",
       "      <td>130</td>\n",
       "      <td>150</td>\n",
       "      <td>120</td>\n",
       "      <td>60</td>\n",
       "      <td>90</td>\n",
       "    </tr>\n",
       "    <tr>\n",
       "      <th>E</th>\n",
       "      <td>M</td>\n",
       "      <td>60.0</td>\n",
       "      <td>175.0</td>\n",
       "      <td>160</td>\n",
       "      <td>120</td>\n",
       "      <td>150</td>\n",
       "      <td>90</td>\n",
       "      <td>60</td>\n",
       "    </tr>\n",
       "    <tr>\n",
       "      <th>F</th>\n",
       "      <td>M</td>\n",
       "      <td>65.0</td>\n",
       "      <td>170.0</td>\n",
       "      <td>140</td>\n",
       "      <td>140</td>\n",
       "      <td>130</td>\n",
       "      <td>70</td>\n",
       "      <td>80</td>\n",
       "    </tr>\n",
       "  </tbody>\n",
       "</table>\n",
       "</div>"
      ],
      "text/plain": [
       "  性別    体重     身長   英語   数学   国語  社会  理科\n",
       "A  F  40.0  155.0  150  130  140  80  70\n",
       "B  F  45.0  160.0  145  135  135  75  75\n",
       "C  F  50.0  165.0  160  140  150  90  80\n",
       "D  M  70.0  180.0  130  150  120  60  90\n",
       "E  M  60.0  175.0  160  120  150  90  60\n",
       "F  M  65.0  170.0  140  140  130  70  80"
      ]
     },
     "execution_count": 9,
     "metadata": {},
     "output_type": "execute_result"
    }
   ],
   "source": [
    "df"
   ]
  },
  {
   "cell_type": "markdown",
   "metadata": {},
   "source": [
    "* データフレームの列名を表示"
   ]
  },
  {
   "cell_type": "code",
   "execution_count": 10,
   "metadata": {},
   "outputs": [
    {
     "data": {
      "text/plain": [
       "Index(['性別', '体重', '身長', '英語', '数学', '国語', '社会', '理科'], dtype='object')"
      ]
     },
     "execution_count": 10,
     "metadata": {},
     "output_type": "execute_result"
    }
   ],
   "source": [
    "df.columns"
   ]
  },
  {
   "cell_type": "markdown",
   "metadata": {},
   "source": [
    "* データフレーム表示の順番入れ替え"
   ]
  },
  {
   "cell_type": "code",
   "execution_count": 11,
   "metadata": {},
   "outputs": [
    {
     "data": {
      "text/html": [
       "<div>\n",
       "<style scoped>\n",
       "    .dataframe tbody tr th:only-of-type {\n",
       "        vertical-align: middle;\n",
       "    }\n",
       "\n",
       "    .dataframe tbody tr th {\n",
       "        vertical-align: top;\n",
       "    }\n",
       "\n",
       "    .dataframe thead th {\n",
       "        text-align: right;\n",
       "    }\n",
       "</style>\n",
       "<table border=\"1\" class=\"dataframe\">\n",
       "  <thead>\n",
       "    <tr style=\"text-align: right;\">\n",
       "      <th></th>\n",
       "      <th>性別</th>\n",
       "      <th>体重</th>\n",
       "      <th>身長</th>\n",
       "      <th>数学</th>\n",
       "      <th>英語</th>\n",
       "      <th>国語</th>\n",
       "      <th>社会</th>\n",
       "      <th>理科</th>\n",
       "    </tr>\n",
       "  </thead>\n",
       "  <tbody>\n",
       "    <tr>\n",
       "      <th>A</th>\n",
       "      <td>F</td>\n",
       "      <td>40.0</td>\n",
       "      <td>155.0</td>\n",
       "      <td>130</td>\n",
       "      <td>150</td>\n",
       "      <td>140</td>\n",
       "      <td>80</td>\n",
       "      <td>70</td>\n",
       "    </tr>\n",
       "    <tr>\n",
       "      <th>B</th>\n",
       "      <td>F</td>\n",
       "      <td>45.0</td>\n",
       "      <td>160.0</td>\n",
       "      <td>135</td>\n",
       "      <td>145</td>\n",
       "      <td>135</td>\n",
       "      <td>75</td>\n",
       "      <td>75</td>\n",
       "    </tr>\n",
       "    <tr>\n",
       "      <th>C</th>\n",
       "      <td>F</td>\n",
       "      <td>50.0</td>\n",
       "      <td>165.0</td>\n",
       "      <td>140</td>\n",
       "      <td>160</td>\n",
       "      <td>150</td>\n",
       "      <td>90</td>\n",
       "      <td>80</td>\n",
       "    </tr>\n",
       "    <tr>\n",
       "      <th>D</th>\n",
       "      <td>M</td>\n",
       "      <td>70.0</td>\n",
       "      <td>180.0</td>\n",
       "      <td>150</td>\n",
       "      <td>130</td>\n",
       "      <td>120</td>\n",
       "      <td>60</td>\n",
       "      <td>90</td>\n",
       "    </tr>\n",
       "    <tr>\n",
       "      <th>E</th>\n",
       "      <td>M</td>\n",
       "      <td>60.0</td>\n",
       "      <td>175.0</td>\n",
       "      <td>120</td>\n",
       "      <td>160</td>\n",
       "      <td>150</td>\n",
       "      <td>90</td>\n",
       "      <td>60</td>\n",
       "    </tr>\n",
       "    <tr>\n",
       "      <th>F</th>\n",
       "      <td>M</td>\n",
       "      <td>65.0</td>\n",
       "      <td>170.0</td>\n",
       "      <td>140</td>\n",
       "      <td>140</td>\n",
       "      <td>130</td>\n",
       "      <td>70</td>\n",
       "      <td>80</td>\n",
       "    </tr>\n",
       "  </tbody>\n",
       "</table>\n",
       "</div>"
      ],
      "text/plain": [
       "  性別    体重     身長   数学   英語   国語  社会  理科\n",
       "A  F  40.0  155.0  130  150  140  80  70\n",
       "B  F  45.0  160.0  135  145  135  75  75\n",
       "C  F  50.0  165.0  140  160  150  90  80\n",
       "D  M  70.0  180.0  150  130  120  60  90\n",
       "E  M  60.0  175.0  120  160  150  90  60\n",
       "F  M  65.0  170.0  140  140  130  70  80"
      ]
     },
     "execution_count": 11,
     "metadata": {},
     "output_type": "execute_result"
    }
   ],
   "source": [
    "df[[\"性別\",\"体重\",\"身長\",\"数学\",\"英語\",\"国語\",\"社会\",\"理科\"]]"
   ]
  },
  {
   "cell_type": "markdown",
   "metadata": {},
   "source": [
    "* データフレームの先頭２行のみ表示"
   ]
  },
  {
   "cell_type": "code",
   "execution_count": 12,
   "metadata": {},
   "outputs": [
    {
     "data": {
      "text/html": [
       "<div>\n",
       "<style scoped>\n",
       "    .dataframe tbody tr th:only-of-type {\n",
       "        vertical-align: middle;\n",
       "    }\n",
       "\n",
       "    .dataframe tbody tr th {\n",
       "        vertical-align: top;\n",
       "    }\n",
       "\n",
       "    .dataframe thead th {\n",
       "        text-align: right;\n",
       "    }\n",
       "</style>\n",
       "<table border=\"1\" class=\"dataframe\">\n",
       "  <thead>\n",
       "    <tr style=\"text-align: right;\">\n",
       "      <th></th>\n",
       "      <th>性別</th>\n",
       "      <th>体重</th>\n",
       "      <th>身長</th>\n",
       "      <th>英語</th>\n",
       "      <th>数学</th>\n",
       "      <th>国語</th>\n",
       "      <th>社会</th>\n",
       "      <th>理科</th>\n",
       "    </tr>\n",
       "  </thead>\n",
       "  <tbody>\n",
       "    <tr>\n",
       "      <th>A</th>\n",
       "      <td>F</td>\n",
       "      <td>40.0</td>\n",
       "      <td>155.0</td>\n",
       "      <td>150</td>\n",
       "      <td>130</td>\n",
       "      <td>140</td>\n",
       "      <td>80</td>\n",
       "      <td>70</td>\n",
       "    </tr>\n",
       "    <tr>\n",
       "      <th>B</th>\n",
       "      <td>F</td>\n",
       "      <td>45.0</td>\n",
       "      <td>160.0</td>\n",
       "      <td>145</td>\n",
       "      <td>135</td>\n",
       "      <td>135</td>\n",
       "      <td>75</td>\n",
       "      <td>75</td>\n",
       "    </tr>\n",
       "  </tbody>\n",
       "</table>\n",
       "</div>"
      ],
      "text/plain": [
       "  性別    体重     身長   英語   数学   国語  社会  理科\n",
       "A  F  40.0  155.0  150  130  140  80  70\n",
       "B  F  45.0  160.0  145  135  135  75  75"
      ]
     },
     "execution_count": 12,
     "metadata": {},
     "output_type": "execute_result"
    }
   ],
   "source": [
    "df[[\"性別\",\"体重\",\"身長\",\"英語\",\"数学\",\"国語\",\"社会\",\"理科\"]].head(2)\n",
    "#df.head(2)"
   ]
  },
  {
   "cell_type": "markdown",
   "metadata": {},
   "source": [
    "* データフレームの末尾３行のみ表示"
   ]
  },
  {
   "cell_type": "code",
   "execution_count": 13,
   "metadata": {},
   "outputs": [
    {
     "data": {
      "text/html": [
       "<div>\n",
       "<style scoped>\n",
       "    .dataframe tbody tr th:only-of-type {\n",
       "        vertical-align: middle;\n",
       "    }\n",
       "\n",
       "    .dataframe tbody tr th {\n",
       "        vertical-align: top;\n",
       "    }\n",
       "\n",
       "    .dataframe thead th {\n",
       "        text-align: right;\n",
       "    }\n",
       "</style>\n",
       "<table border=\"1\" class=\"dataframe\">\n",
       "  <thead>\n",
       "    <tr style=\"text-align: right;\">\n",
       "      <th></th>\n",
       "      <th>性別</th>\n",
       "      <th>体重</th>\n",
       "      <th>身長</th>\n",
       "      <th>英語</th>\n",
       "      <th>数学</th>\n",
       "      <th>国語</th>\n",
       "      <th>社会</th>\n",
       "      <th>理科</th>\n",
       "    </tr>\n",
       "  </thead>\n",
       "  <tbody>\n",
       "    <tr>\n",
       "      <th>E</th>\n",
       "      <td>M</td>\n",
       "      <td>60.0</td>\n",
       "      <td>175.0</td>\n",
       "      <td>160</td>\n",
       "      <td>120</td>\n",
       "      <td>150</td>\n",
       "      <td>90</td>\n",
       "      <td>60</td>\n",
       "    </tr>\n",
       "    <tr>\n",
       "      <th>F</th>\n",
       "      <td>M</td>\n",
       "      <td>65.0</td>\n",
       "      <td>170.0</td>\n",
       "      <td>140</td>\n",
       "      <td>140</td>\n",
       "      <td>130</td>\n",
       "      <td>70</td>\n",
       "      <td>80</td>\n",
       "    </tr>\n",
       "  </tbody>\n",
       "</table>\n",
       "</div>"
      ],
      "text/plain": [
       "  性別    体重     身長   英語   数学   国語  社会  理科\n",
       "E  M  60.0  175.0  160  120  150  90  60\n",
       "F  M  65.0  170.0  140  140  130  70  80"
      ]
     },
     "execution_count": 13,
     "metadata": {},
     "output_type": "execute_result"
    }
   ],
   "source": [
    "df[[\"性別\",\"体重\",\"身長\",\"英語\",\"数学\",\"国語\",\"社会\",\"理科\"]].tail(2)\n",
    "#df.tail(3)"
   ]
  },
  {
   "cell_type": "markdown",
   "metadata": {},
   "source": [
    "* データフレーム列のデータタイプを表示"
   ]
  },
  {
   "cell_type": "code",
   "execution_count": 14,
   "metadata": {},
   "outputs": [
    {
     "name": "stdout",
     "output_type": "stream",
     "text": [
      "<class 'pandas.core.frame.DataFrame'>\n",
      "Index: 6 entries, A to F\n",
      "Data columns (total 8 columns):\n",
      " #   Column  Non-Null Count  Dtype  \n",
      "---  ------  --------------  -----  \n",
      " 0   性別      6 non-null      object \n",
      " 1   体重      6 non-null      float64\n",
      " 2   身長      6 non-null      float64\n",
      " 3   英語      6 non-null      int64  \n",
      " 4   数学      6 non-null      int64  \n",
      " 5   国語      6 non-null      int64  \n",
      " 6   社会      6 non-null      int64  \n",
      " 7   理科      6 non-null      int64  \n",
      "dtypes: float64(2), int64(5), object(1)\n",
      "memory usage: 432.0+ bytes\n"
     ]
    }
   ],
   "source": [
    "df[[\"性別\",\"体重\",\"身長\",\"英語\",\"数学\",\"国語\",\"社会\",\"理科\"]].info()\n",
    "#df.info()"
   ]
  },
  {
   "cell_type": "markdown",
   "metadata": {},
   "source": [
    "* データフレームの基本統計量（平均値, 標準偏差, 最小値, 第一四分位点, 中央値, 第三四分位点, 最大値）の表示"
   ]
  },
  {
   "cell_type": "code",
   "execution_count": 15,
   "metadata": {},
   "outputs": [
    {
     "data": {
      "text/html": [
       "<div>\n",
       "<style scoped>\n",
       "    .dataframe tbody tr th:only-of-type {\n",
       "        vertical-align: middle;\n",
       "    }\n",
       "\n",
       "    .dataframe tbody tr th {\n",
       "        vertical-align: top;\n",
       "    }\n",
       "\n",
       "    .dataframe thead th {\n",
       "        text-align: right;\n",
       "    }\n",
       "</style>\n",
       "<table border=\"1\" class=\"dataframe\">\n",
       "  <thead>\n",
       "    <tr style=\"text-align: right;\">\n",
       "      <th></th>\n",
       "      <th>体重</th>\n",
       "      <th>身長</th>\n",
       "      <th>英語</th>\n",
       "      <th>数学</th>\n",
       "      <th>国語</th>\n",
       "      <th>社会</th>\n",
       "      <th>理科</th>\n",
       "    </tr>\n",
       "  </thead>\n",
       "  <tbody>\n",
       "    <tr>\n",
       "      <th>count</th>\n",
       "      <td>6.00000</td>\n",
       "      <td>6.000000</td>\n",
       "      <td>6.000000</td>\n",
       "      <td>6.000000</td>\n",
       "      <td>6.000000</td>\n",
       "      <td>6.000000</td>\n",
       "      <td>6.000000</td>\n",
       "    </tr>\n",
       "    <tr>\n",
       "      <th>mean</th>\n",
       "      <td>55.00000</td>\n",
       "      <td>167.500000</td>\n",
       "      <td>147.500000</td>\n",
       "      <td>135.833333</td>\n",
       "      <td>137.500000</td>\n",
       "      <td>77.500000</td>\n",
       "      <td>75.833333</td>\n",
       "    </tr>\n",
       "    <tr>\n",
       "      <th>std</th>\n",
       "      <td>11.83216</td>\n",
       "      <td>9.354143</td>\n",
       "      <td>11.726039</td>\n",
       "      <td>10.206207</td>\n",
       "      <td>11.726039</td>\n",
       "      <td>11.726039</td>\n",
       "      <td>10.206207</td>\n",
       "    </tr>\n",
       "    <tr>\n",
       "      <th>min</th>\n",
       "      <td>40.00000</td>\n",
       "      <td>155.000000</td>\n",
       "      <td>130.000000</td>\n",
       "      <td>120.000000</td>\n",
       "      <td>120.000000</td>\n",
       "      <td>60.000000</td>\n",
       "      <td>60.000000</td>\n",
       "    </tr>\n",
       "    <tr>\n",
       "      <th>25%</th>\n",
       "      <td>46.25000</td>\n",
       "      <td>161.250000</td>\n",
       "      <td>141.250000</td>\n",
       "      <td>131.250000</td>\n",
       "      <td>131.250000</td>\n",
       "      <td>71.250000</td>\n",
       "      <td>71.250000</td>\n",
       "    </tr>\n",
       "    <tr>\n",
       "      <th>50%</th>\n",
       "      <td>55.00000</td>\n",
       "      <td>167.500000</td>\n",
       "      <td>147.500000</td>\n",
       "      <td>137.500000</td>\n",
       "      <td>137.500000</td>\n",
       "      <td>77.500000</td>\n",
       "      <td>77.500000</td>\n",
       "    </tr>\n",
       "    <tr>\n",
       "      <th>75%</th>\n",
       "      <td>63.75000</td>\n",
       "      <td>173.750000</td>\n",
       "      <td>157.500000</td>\n",
       "      <td>140.000000</td>\n",
       "      <td>147.500000</td>\n",
       "      <td>87.500000</td>\n",
       "      <td>80.000000</td>\n",
       "    </tr>\n",
       "    <tr>\n",
       "      <th>max</th>\n",
       "      <td>70.00000</td>\n",
       "      <td>180.000000</td>\n",
       "      <td>160.000000</td>\n",
       "      <td>150.000000</td>\n",
       "      <td>150.000000</td>\n",
       "      <td>90.000000</td>\n",
       "      <td>90.000000</td>\n",
       "    </tr>\n",
       "  </tbody>\n",
       "</table>\n",
       "</div>"
      ],
      "text/plain": [
       "             体重          身長          英語          数学          国語         社会  \\\n",
       "count   6.00000    6.000000    6.000000    6.000000    6.000000   6.000000   \n",
       "mean   55.00000  167.500000  147.500000  135.833333  137.500000  77.500000   \n",
       "std    11.83216    9.354143   11.726039   10.206207   11.726039  11.726039   \n",
       "min    40.00000  155.000000  130.000000  120.000000  120.000000  60.000000   \n",
       "25%    46.25000  161.250000  141.250000  131.250000  131.250000  71.250000   \n",
       "50%    55.00000  167.500000  147.500000  137.500000  137.500000  77.500000   \n",
       "75%    63.75000  173.750000  157.500000  140.000000  147.500000  87.500000   \n",
       "max    70.00000  180.000000  160.000000  150.000000  150.000000  90.000000   \n",
       "\n",
       "              理科  \n",
       "count   6.000000  \n",
       "mean   75.833333  \n",
       "std    10.206207  \n",
       "min    60.000000  \n",
       "25%    71.250000  \n",
       "50%    77.500000  \n",
       "75%    80.000000  \n",
       "max    90.000000  "
      ]
     },
     "execution_count": 15,
     "metadata": {},
     "output_type": "execute_result"
    }
   ],
   "source": [
    "#df[[\"性別\",\"体重\",\"身長\",\"英語\",\"数学\",\"国語\",\"社会\",\"理科\"]].describe()\n",
    "df.describe()"
   ]
  },
  {
   "cell_type": "markdown",
   "metadata": {},
   "source": [
    "* データフレームの列ごとに平均，標準偏差を表示"
   ]
  },
  {
   "cell_type": "code",
   "execution_count": 16,
   "metadata": {},
   "outputs": [
    {
     "data": {
      "text/html": [
       "<div>\n",
       "<style scoped>\n",
       "    .dataframe tbody tr th:only-of-type {\n",
       "        vertical-align: middle;\n",
       "    }\n",
       "\n",
       "    .dataframe tbody tr th {\n",
       "        vertical-align: top;\n",
       "    }\n",
       "\n",
       "    .dataframe thead th {\n",
       "        text-align: right;\n",
       "    }\n",
       "</style>\n",
       "<table border=\"1\" class=\"dataframe\">\n",
       "  <thead>\n",
       "    <tr style=\"text-align: right;\">\n",
       "      <th></th>\n",
       "      <th>体重</th>\n",
       "      <th>身長</th>\n",
       "      <th>英語</th>\n",
       "      <th>数学</th>\n",
       "      <th>国語</th>\n",
       "      <th>社会</th>\n",
       "      <th>理科</th>\n",
       "    </tr>\n",
       "  </thead>\n",
       "  <tbody>\n",
       "    <tr>\n",
       "      <th>count</th>\n",
       "      <td>3.0</td>\n",
       "      <td>3.0</td>\n",
       "      <td>3.000000</td>\n",
       "      <td>3.0</td>\n",
       "      <td>3.000000</td>\n",
       "      <td>3.000000</td>\n",
       "      <td>3.0</td>\n",
       "    </tr>\n",
       "    <tr>\n",
       "      <th>mean</th>\n",
       "      <td>45.0</td>\n",
       "      <td>160.0</td>\n",
       "      <td>151.666667</td>\n",
       "      <td>135.0</td>\n",
       "      <td>141.666667</td>\n",
       "      <td>81.666667</td>\n",
       "      <td>75.0</td>\n",
       "    </tr>\n",
       "    <tr>\n",
       "      <th>std</th>\n",
       "      <td>5.0</td>\n",
       "      <td>5.0</td>\n",
       "      <td>7.637626</td>\n",
       "      <td>5.0</td>\n",
       "      <td>7.637626</td>\n",
       "      <td>7.637626</td>\n",
       "      <td>5.0</td>\n",
       "    </tr>\n",
       "    <tr>\n",
       "      <th>min</th>\n",
       "      <td>40.0</td>\n",
       "      <td>155.0</td>\n",
       "      <td>145.000000</td>\n",
       "      <td>130.0</td>\n",
       "      <td>135.000000</td>\n",
       "      <td>75.000000</td>\n",
       "      <td>70.0</td>\n",
       "    </tr>\n",
       "    <tr>\n",
       "      <th>25%</th>\n",
       "      <td>42.5</td>\n",
       "      <td>157.5</td>\n",
       "      <td>147.500000</td>\n",
       "      <td>132.5</td>\n",
       "      <td>137.500000</td>\n",
       "      <td>77.500000</td>\n",
       "      <td>72.5</td>\n",
       "    </tr>\n",
       "    <tr>\n",
       "      <th>50%</th>\n",
       "      <td>45.0</td>\n",
       "      <td>160.0</td>\n",
       "      <td>150.000000</td>\n",
       "      <td>135.0</td>\n",
       "      <td>140.000000</td>\n",
       "      <td>80.000000</td>\n",
       "      <td>75.0</td>\n",
       "    </tr>\n",
       "    <tr>\n",
       "      <th>75%</th>\n",
       "      <td>47.5</td>\n",
       "      <td>162.5</td>\n",
       "      <td>155.000000</td>\n",
       "      <td>137.5</td>\n",
       "      <td>145.000000</td>\n",
       "      <td>85.000000</td>\n",
       "      <td>77.5</td>\n",
       "    </tr>\n",
       "    <tr>\n",
       "      <th>max</th>\n",
       "      <td>50.0</td>\n",
       "      <td>165.0</td>\n",
       "      <td>160.000000</td>\n",
       "      <td>140.0</td>\n",
       "      <td>150.000000</td>\n",
       "      <td>90.000000</td>\n",
       "      <td>80.0</td>\n",
       "    </tr>\n",
       "  </tbody>\n",
       "</table>\n",
       "</div>"
      ],
      "text/plain": [
       "         体重     身長          英語     数学          国語         社会    理科\n",
       "count   3.0    3.0    3.000000    3.0    3.000000   3.000000   3.0\n",
       "mean   45.0  160.0  151.666667  135.0  141.666667  81.666667  75.0\n",
       "std     5.0    5.0    7.637626    5.0    7.637626   7.637626   5.0\n",
       "min    40.0  155.0  145.000000  130.0  135.000000  75.000000  70.0\n",
       "25%    42.5  157.5  147.500000  132.5  137.500000  77.500000  72.5\n",
       "50%    45.0  160.0  150.000000  135.0  140.000000  80.000000  75.0\n",
       "75%    47.5  162.5  155.000000  137.5  145.000000  85.000000  77.5\n",
       "max    50.0  165.0  160.000000  140.0  150.000000  90.000000  80.0"
      ]
     },
     "execution_count": 16,
     "metadata": {},
     "output_type": "execute_result"
    }
   ],
   "source": [
    "df[df[\"性別\"]==\"F\"].describe()"
   ]
  },
  {
   "cell_type": "code",
   "execution_count": 17,
   "metadata": {},
   "outputs": [
    {
     "name": "stdout",
     "output_type": "stream",
     "text": [
      "体重[平均] = 55.000000, 体重[標準偏差] = 11.832160\n",
      "身長[平均] = 167.500000, 身長[標準偏差] = 9.354143\n",
      "英語[平均] = 147.500000, 英語[標準偏差] = 11.726039\n",
      "数学[平均] = 135.833333, 数学[標準偏差] = 10.206207\n",
      "国語[平均] = 137.500000, 国語[標準偏差] = 11.726039\n",
      "社会[平均] = 77.500000, 社会[標準偏差] = 11.726039\n",
      "理科[平均] = 75.833333, 理科[標準偏差] = 10.206207\n"
     ]
    }
   ],
   "source": [
    "print( \"体重[平均] = {:f}, 体重[標準偏差] = {:f}\".format( df[\"体重\"].mean() , df[\"体重\"].std()) )\n",
    "print( \"身長[平均] = {:f}, 身長[標準偏差] = {:f}\".format( df[\"身長\"].mean() , df[\"身長\"].std()) )\n",
    "print( \"英語[平均] = {:f}, 英語[標準偏差] = {:f}\".format( df[\"英語\"].mean() , df[\"英語\"].std()) )\n",
    "print( \"数学[平均] = {:f}, 数学[標準偏差] = {:f}\".format( df[\"数学\"].mean() , df[\"数学\"].std()) )\n",
    "print( \"国語[平均] = {:f}, 国語[標準偏差] = {:f}\".format( df[\"国語\"].mean() , df[\"国語\"].std()) )\n",
    "print( \"社会[平均] = {:f}, 社会[標準偏差] = {:f}\".format( df[\"社会\"].mean() , df[\"社会\"].std()) )\n",
    "print( \"理科[平均] = {:f}, 理科[標準偏差] = {:f}\".format( df[\"理科\"].mean() , df[\"理科\"].std()) )"
   ]
  },
  {
   "cell_type": "markdown",
   "metadata": {},
   "source": [
    "* データフレームの特定の列を取得　（例. 身長, 性別, 体重）"
   ]
  },
  {
   "cell_type": "code",
   "execution_count": 18,
   "metadata": {},
   "outputs": [
    {
     "data": {
      "text/html": [
       "<div>\n",
       "<style scoped>\n",
       "    .dataframe tbody tr th:only-of-type {\n",
       "        vertical-align: middle;\n",
       "    }\n",
       "\n",
       "    .dataframe tbody tr th {\n",
       "        vertical-align: top;\n",
       "    }\n",
       "\n",
       "    .dataframe thead th {\n",
       "        text-align: right;\n",
       "    }\n",
       "</style>\n",
       "<table border=\"1\" class=\"dataframe\">\n",
       "  <thead>\n",
       "    <tr style=\"text-align: right;\">\n",
       "      <th></th>\n",
       "      <th>性別</th>\n",
       "    </tr>\n",
       "  </thead>\n",
       "  <tbody>\n",
       "    <tr>\n",
       "      <th>A</th>\n",
       "      <td>F</td>\n",
       "    </tr>\n",
       "    <tr>\n",
       "      <th>B</th>\n",
       "      <td>F</td>\n",
       "    </tr>\n",
       "    <tr>\n",
       "      <th>C</th>\n",
       "      <td>F</td>\n",
       "    </tr>\n",
       "    <tr>\n",
       "      <th>D</th>\n",
       "      <td>M</td>\n",
       "    </tr>\n",
       "    <tr>\n",
       "      <th>E</th>\n",
       "      <td>M</td>\n",
       "    </tr>\n",
       "    <tr>\n",
       "      <th>F</th>\n",
       "      <td>M</td>\n",
       "    </tr>\n",
       "  </tbody>\n",
       "</table>\n",
       "</div>"
      ],
      "text/plain": [
       "  性別\n",
       "A  F\n",
       "B  F\n",
       "C  F\n",
       "D  M\n",
       "E  M\n",
       "F  M"
      ]
     },
     "execution_count": 18,
     "metadata": {},
     "output_type": "execute_result"
    }
   ],
   "source": [
    "#df\n",
    "#df[[\"身長\"]]\n",
    "df[[\"性別\"]]"
   ]
  },
  {
   "cell_type": "markdown",
   "metadata": {},
   "source": [
    "* データフレームの特定の列を複数所得　（例. 理系科目, 文系科目）"
   ]
  },
  {
   "cell_type": "code",
   "execution_count": 19,
   "metadata": {},
   "outputs": [
    {
     "data": {
      "text/html": [
       "<div>\n",
       "<style scoped>\n",
       "    .dataframe tbody tr th:only-of-type {\n",
       "        vertical-align: middle;\n",
       "    }\n",
       "\n",
       "    .dataframe tbody tr th {\n",
       "        vertical-align: top;\n",
       "    }\n",
       "\n",
       "    .dataframe thead th {\n",
       "        text-align: right;\n",
       "    }\n",
       "</style>\n",
       "<table border=\"1\" class=\"dataframe\">\n",
       "  <thead>\n",
       "    <tr style=\"text-align: right;\">\n",
       "      <th></th>\n",
       "      <th>英語</th>\n",
       "      <th>数学</th>\n",
       "      <th>理科</th>\n",
       "    </tr>\n",
       "  </thead>\n",
       "  <tbody>\n",
       "    <tr>\n",
       "      <th>A</th>\n",
       "      <td>150</td>\n",
       "      <td>130</td>\n",
       "      <td>70</td>\n",
       "    </tr>\n",
       "    <tr>\n",
       "      <th>B</th>\n",
       "      <td>145</td>\n",
       "      <td>135</td>\n",
       "      <td>75</td>\n",
       "    </tr>\n",
       "    <tr>\n",
       "      <th>C</th>\n",
       "      <td>160</td>\n",
       "      <td>140</td>\n",
       "      <td>80</td>\n",
       "    </tr>\n",
       "    <tr>\n",
       "      <th>D</th>\n",
       "      <td>130</td>\n",
       "      <td>150</td>\n",
       "      <td>90</td>\n",
       "    </tr>\n",
       "    <tr>\n",
       "      <th>E</th>\n",
       "      <td>160</td>\n",
       "      <td>120</td>\n",
       "      <td>60</td>\n",
       "    </tr>\n",
       "    <tr>\n",
       "      <th>F</th>\n",
       "      <td>140</td>\n",
       "      <td>140</td>\n",
       "      <td>80</td>\n",
       "    </tr>\n",
       "  </tbody>\n",
       "</table>\n",
       "</div>"
      ],
      "text/plain": [
       "    英語   数学  理科\n",
       "A  150  130  70\n",
       "B  145  135  75\n",
       "C  160  140  80\n",
       "D  130  150  90\n",
       "E  160  120  60\n",
       "F  140  140  80"
      ]
     },
     "execution_count": 19,
     "metadata": {},
     "output_type": "execute_result"
    }
   ],
   "source": [
    "#df[[\"英語\",\"国語\",\"社会\"]] \n",
    "df[[\"英語\",\"数学\",\"理科\"]]"
   ]
  },
  {
   "cell_type": "markdown",
   "metadata": {},
   "source": [
    "* データフレームの特定の行を所得"
   ]
  },
  {
   "cell_type": "code",
   "execution_count": 20,
   "metadata": {},
   "outputs": [
    {
     "data": {
      "text/html": [
       "<div>\n",
       "<style scoped>\n",
       "    .dataframe tbody tr th:only-of-type {\n",
       "        vertical-align: middle;\n",
       "    }\n",
       "\n",
       "    .dataframe tbody tr th {\n",
       "        vertical-align: top;\n",
       "    }\n",
       "\n",
       "    .dataframe thead th {\n",
       "        text-align: right;\n",
       "    }\n",
       "</style>\n",
       "<table border=\"1\" class=\"dataframe\">\n",
       "  <thead>\n",
       "    <tr style=\"text-align: right;\">\n",
       "      <th></th>\n",
       "      <th>性別</th>\n",
       "      <th>体重</th>\n",
       "      <th>身長</th>\n",
       "      <th>英語</th>\n",
       "      <th>数学</th>\n",
       "      <th>国語</th>\n",
       "      <th>社会</th>\n",
       "      <th>理科</th>\n",
       "    </tr>\n",
       "  </thead>\n",
       "  <tbody>\n",
       "    <tr>\n",
       "      <th>A</th>\n",
       "      <td>F</td>\n",
       "      <td>40.0</td>\n",
       "      <td>155.0</td>\n",
       "      <td>150</td>\n",
       "      <td>130</td>\n",
       "      <td>140</td>\n",
       "      <td>80</td>\n",
       "      <td>70</td>\n",
       "    </tr>\n",
       "    <tr>\n",
       "      <th>B</th>\n",
       "      <td>F</td>\n",
       "      <td>45.0</td>\n",
       "      <td>160.0</td>\n",
       "      <td>145</td>\n",
       "      <td>135</td>\n",
       "      <td>135</td>\n",
       "      <td>75</td>\n",
       "      <td>75</td>\n",
       "    </tr>\n",
       "  </tbody>\n",
       "</table>\n",
       "</div>"
      ],
      "text/plain": [
       "  性別    体重     身長   英語   数学   国語  社会  理科\n",
       "A  F  40.0  155.0  150  130  140  80  70\n",
       "B  F  45.0  160.0  145  135  135  75  75"
      ]
     },
     "execution_count": 20,
     "metadata": {},
     "output_type": "execute_result"
    }
   ],
   "source": [
    "df[0:2]"
   ]
  },
  {
   "cell_type": "markdown",
   "metadata": {},
   "source": [
    "* データフレームの特定の行を複数所得"
   ]
  },
  {
   "cell_type": "code",
   "execution_count": 21,
   "metadata": {},
   "outputs": [
    {
     "data": {
      "text/html": [
       "<div>\n",
       "<style scoped>\n",
       "    .dataframe tbody tr th:only-of-type {\n",
       "        vertical-align: middle;\n",
       "    }\n",
       "\n",
       "    .dataframe tbody tr th {\n",
       "        vertical-align: top;\n",
       "    }\n",
       "\n",
       "    .dataframe thead th {\n",
       "        text-align: right;\n",
       "    }\n",
       "</style>\n",
       "<table border=\"1\" class=\"dataframe\">\n",
       "  <thead>\n",
       "    <tr style=\"text-align: right;\">\n",
       "      <th></th>\n",
       "      <th>性別</th>\n",
       "      <th>体重</th>\n",
       "      <th>身長</th>\n",
       "      <th>英語</th>\n",
       "      <th>数学</th>\n",
       "      <th>国語</th>\n",
       "      <th>社会</th>\n",
       "      <th>理科</th>\n",
       "    </tr>\n",
       "  </thead>\n",
       "  <tbody>\n",
       "    <tr>\n",
       "      <th>A</th>\n",
       "      <td>F</td>\n",
       "      <td>40.0</td>\n",
       "      <td>155.0</td>\n",
       "      <td>150</td>\n",
       "      <td>130</td>\n",
       "      <td>140</td>\n",
       "      <td>80</td>\n",
       "      <td>70</td>\n",
       "    </tr>\n",
       "    <tr>\n",
       "      <th>B</th>\n",
       "      <td>F</td>\n",
       "      <td>45.0</td>\n",
       "      <td>160.0</td>\n",
       "      <td>145</td>\n",
       "      <td>135</td>\n",
       "      <td>135</td>\n",
       "      <td>75</td>\n",
       "      <td>75</td>\n",
       "    </tr>\n",
       "    <tr>\n",
       "      <th>C</th>\n",
       "      <td>F</td>\n",
       "      <td>50.0</td>\n",
       "      <td>165.0</td>\n",
       "      <td>160</td>\n",
       "      <td>140</td>\n",
       "      <td>150</td>\n",
       "      <td>90</td>\n",
       "      <td>80</td>\n",
       "    </tr>\n",
       "  </tbody>\n",
       "</table>\n",
       "</div>"
      ],
      "text/plain": [
       "  性別    体重     身長   英語   数学   国語  社会  理科\n",
       "A  F  40.0  155.0  150  130  140  80  70\n",
       "B  F  45.0  160.0  145  135  135  75  75\n",
       "C  F  50.0  165.0  160  140  150  90  80"
      ]
     },
     "execution_count": 21,
     "metadata": {},
     "output_type": "execute_result"
    }
   ],
   "source": [
    "df[0:3]"
   ]
  },
  {
   "cell_type": "markdown",
   "metadata": {},
   "source": [
    "* データフレームの特定の列および行を取得"
   ]
  },
  {
   "cell_type": "code",
   "execution_count": 22,
   "metadata": {},
   "outputs": [
    {
     "data": {
      "text/html": [
       "<div>\n",
       "<style scoped>\n",
       "    .dataframe tbody tr th:only-of-type {\n",
       "        vertical-align: middle;\n",
       "    }\n",
       "\n",
       "    .dataframe tbody tr th {\n",
       "        vertical-align: top;\n",
       "    }\n",
       "\n",
       "    .dataframe thead th {\n",
       "        text-align: right;\n",
       "    }\n",
       "</style>\n",
       "<table border=\"1\" class=\"dataframe\">\n",
       "  <thead>\n",
       "    <tr style=\"text-align: right;\">\n",
       "      <th></th>\n",
       "      <th>身長</th>\n",
       "    </tr>\n",
       "  </thead>\n",
       "  <tbody>\n",
       "    <tr>\n",
       "      <th>E</th>\n",
       "      <td>175.0</td>\n",
       "    </tr>\n",
       "  </tbody>\n",
       "</table>\n",
       "</div>"
      ],
      "text/plain": [
       "      身長\n",
       "E  175.0"
      ]
     },
     "execution_count": 22,
     "metadata": {},
     "output_type": "execute_result"
    }
   ],
   "source": [
    "df.loc[[\"E\"],[\"身長\"]]"
   ]
  },
  {
   "cell_type": "markdown",
   "metadata": {},
   "source": [
    "* データフレームの特定の列および行を複数取得"
   ]
  },
  {
   "cell_type": "code",
   "execution_count": 23,
   "metadata": {},
   "outputs": [
    {
     "data": {
      "text/html": [
       "<div>\n",
       "<style scoped>\n",
       "    .dataframe tbody tr th:only-of-type {\n",
       "        vertical-align: middle;\n",
       "    }\n",
       "\n",
       "    .dataframe tbody tr th {\n",
       "        vertical-align: top;\n",
       "    }\n",
       "\n",
       "    .dataframe thead th {\n",
       "        text-align: right;\n",
       "    }\n",
       "</style>\n",
       "<table border=\"1\" class=\"dataframe\">\n",
       "  <thead>\n",
       "    <tr style=\"text-align: right;\">\n",
       "      <th></th>\n",
       "      <th>体重</th>\n",
       "      <th>身長</th>\n",
       "      <th>英語</th>\n",
       "    </tr>\n",
       "  </thead>\n",
       "  <tbody>\n",
       "    <tr>\n",
       "      <th>C</th>\n",
       "      <td>50.0</td>\n",
       "      <td>165.0</td>\n",
       "      <td>160</td>\n",
       "    </tr>\n",
       "    <tr>\n",
       "      <th>E</th>\n",
       "      <td>60.0</td>\n",
       "      <td>175.0</td>\n",
       "      <td>160</td>\n",
       "    </tr>\n",
       "  </tbody>\n",
       "</table>\n",
       "</div>"
      ],
      "text/plain": [
       "     体重     身長   英語\n",
       "C  50.0  165.0  160\n",
       "E  60.0  175.0  160"
      ]
     },
     "execution_count": 23,
     "metadata": {},
     "output_type": "execute_result"
    }
   ],
   "source": [
    "#df.ix[[\"C\",\"E\"],[\"体重\",\"身長\",\"英語\"]]\n",
    "df.loc[[\"C\", \"E\"], [\"体重\", \"身長\",\"英語\"]]"
   ]
  },
  {
   "cell_type": "markdown",
   "metadata": {},
   "source": [
    "* データフレームの条件にあったデータを所得 （例. 女性）"
   ]
  },
  {
   "cell_type": "code",
   "execution_count": 24,
   "metadata": {},
   "outputs": [
    {
     "data": {
      "text/plain": [
       "A    F\n",
       "B    F\n",
       "C    F\n",
       "D    M\n",
       "E    M\n",
       "F    M\n",
       "Name: 性別, dtype: object"
      ]
     },
     "execution_count": 24,
     "metadata": {},
     "output_type": "execute_result"
    }
   ],
   "source": [
    "df[\"性別\"]"
   ]
  },
  {
   "cell_type": "code",
   "execution_count": 25,
   "metadata": {},
   "outputs": [
    {
     "data": {
      "text/plain": [
       "A     True\n",
       "B     True\n",
       "C     True\n",
       "D    False\n",
       "E    False\n",
       "F    False\n",
       "Name: 性別, dtype: bool"
      ]
     },
     "execution_count": 25,
     "metadata": {},
     "output_type": "execute_result"
    }
   ],
   "source": [
    "df[\"性別\"]==\"F\"\n",
    "#df[\"性別\"]==\"M\""
   ]
  },
  {
   "cell_type": "code",
   "execution_count": 26,
   "metadata": {},
   "outputs": [
    {
     "data": {
      "text/html": [
       "<div>\n",
       "<style scoped>\n",
       "    .dataframe tbody tr th:only-of-type {\n",
       "        vertical-align: middle;\n",
       "    }\n",
       "\n",
       "    .dataframe tbody tr th {\n",
       "        vertical-align: top;\n",
       "    }\n",
       "\n",
       "    .dataframe thead th {\n",
       "        text-align: right;\n",
       "    }\n",
       "</style>\n",
       "<table border=\"1\" class=\"dataframe\">\n",
       "  <thead>\n",
       "    <tr style=\"text-align: right;\">\n",
       "      <th></th>\n",
       "      <th>性別</th>\n",
       "      <th>体重</th>\n",
       "      <th>身長</th>\n",
       "      <th>英語</th>\n",
       "      <th>数学</th>\n",
       "      <th>国語</th>\n",
       "      <th>社会</th>\n",
       "      <th>理科</th>\n",
       "    </tr>\n",
       "  </thead>\n",
       "  <tbody>\n",
       "    <tr>\n",
       "      <th>A</th>\n",
       "      <td>F</td>\n",
       "      <td>40.0</td>\n",
       "      <td>155.0</td>\n",
       "      <td>150</td>\n",
       "      <td>130</td>\n",
       "      <td>140</td>\n",
       "      <td>80</td>\n",
       "      <td>70</td>\n",
       "    </tr>\n",
       "    <tr>\n",
       "      <th>B</th>\n",
       "      <td>F</td>\n",
       "      <td>45.0</td>\n",
       "      <td>160.0</td>\n",
       "      <td>145</td>\n",
       "      <td>135</td>\n",
       "      <td>135</td>\n",
       "      <td>75</td>\n",
       "      <td>75</td>\n",
       "    </tr>\n",
       "    <tr>\n",
       "      <th>C</th>\n",
       "      <td>F</td>\n",
       "      <td>50.0</td>\n",
       "      <td>165.0</td>\n",
       "      <td>160</td>\n",
       "      <td>140</td>\n",
       "      <td>150</td>\n",
       "      <td>90</td>\n",
       "      <td>80</td>\n",
       "    </tr>\n",
       "  </tbody>\n",
       "</table>\n",
       "</div>"
      ],
      "text/plain": [
       "  性別    体重     身長   英語   数学   国語  社会  理科\n",
       "A  F  40.0  155.0  150  130  140  80  70\n",
       "B  F  45.0  160.0  145  135  135  75  75\n",
       "C  F  50.0  165.0  160  140  150  90  80"
      ]
     },
     "execution_count": 26,
     "metadata": {},
     "output_type": "execute_result"
    }
   ],
   "source": [
    "df[df[\"性別\"]==\"F\"]\n",
    "#df[df[\"性別\"]==\"F\"][[\"性別\",\"体重\",\"身長\",\"英語\",\"数学\",\"国語\",\"社会\",\"理科\"]]"
   ]
  },
  {
   "cell_type": "code",
   "execution_count": 27,
   "metadata": {},
   "outputs": [
    {
     "data": {
      "text/html": [
       "<div>\n",
       "<style scoped>\n",
       "    .dataframe tbody tr th:only-of-type {\n",
       "        vertical-align: middle;\n",
       "    }\n",
       "\n",
       "    .dataframe tbody tr th {\n",
       "        vertical-align: top;\n",
       "    }\n",
       "\n",
       "    .dataframe thead th {\n",
       "        text-align: right;\n",
       "    }\n",
       "</style>\n",
       "<table border=\"1\" class=\"dataframe\">\n",
       "  <thead>\n",
       "    <tr style=\"text-align: right;\">\n",
       "      <th></th>\n",
       "      <th>体重</th>\n",
       "      <th>身長</th>\n",
       "      <th>英語</th>\n",
       "      <th>数学</th>\n",
       "      <th>国語</th>\n",
       "      <th>社会</th>\n",
       "      <th>理科</th>\n",
       "    </tr>\n",
       "  </thead>\n",
       "  <tbody>\n",
       "    <tr>\n",
       "      <th>count</th>\n",
       "      <td>3.0</td>\n",
       "      <td>3.0</td>\n",
       "      <td>3.000000</td>\n",
       "      <td>3.0</td>\n",
       "      <td>3.000000</td>\n",
       "      <td>3.000000</td>\n",
       "      <td>3.0</td>\n",
       "    </tr>\n",
       "    <tr>\n",
       "      <th>mean</th>\n",
       "      <td>45.0</td>\n",
       "      <td>160.0</td>\n",
       "      <td>151.666667</td>\n",
       "      <td>135.0</td>\n",
       "      <td>141.666667</td>\n",
       "      <td>81.666667</td>\n",
       "      <td>75.0</td>\n",
       "    </tr>\n",
       "    <tr>\n",
       "      <th>std</th>\n",
       "      <td>5.0</td>\n",
       "      <td>5.0</td>\n",
       "      <td>7.637626</td>\n",
       "      <td>5.0</td>\n",
       "      <td>7.637626</td>\n",
       "      <td>7.637626</td>\n",
       "      <td>5.0</td>\n",
       "    </tr>\n",
       "    <tr>\n",
       "      <th>min</th>\n",
       "      <td>40.0</td>\n",
       "      <td>155.0</td>\n",
       "      <td>145.000000</td>\n",
       "      <td>130.0</td>\n",
       "      <td>135.000000</td>\n",
       "      <td>75.000000</td>\n",
       "      <td>70.0</td>\n",
       "    </tr>\n",
       "    <tr>\n",
       "      <th>25%</th>\n",
       "      <td>42.5</td>\n",
       "      <td>157.5</td>\n",
       "      <td>147.500000</td>\n",
       "      <td>132.5</td>\n",
       "      <td>137.500000</td>\n",
       "      <td>77.500000</td>\n",
       "      <td>72.5</td>\n",
       "    </tr>\n",
       "    <tr>\n",
       "      <th>50%</th>\n",
       "      <td>45.0</td>\n",
       "      <td>160.0</td>\n",
       "      <td>150.000000</td>\n",
       "      <td>135.0</td>\n",
       "      <td>140.000000</td>\n",
       "      <td>80.000000</td>\n",
       "      <td>75.0</td>\n",
       "    </tr>\n",
       "    <tr>\n",
       "      <th>75%</th>\n",
       "      <td>47.5</td>\n",
       "      <td>162.5</td>\n",
       "      <td>155.000000</td>\n",
       "      <td>137.5</td>\n",
       "      <td>145.000000</td>\n",
       "      <td>85.000000</td>\n",
       "      <td>77.5</td>\n",
       "    </tr>\n",
       "    <tr>\n",
       "      <th>max</th>\n",
       "      <td>50.0</td>\n",
       "      <td>165.0</td>\n",
       "      <td>160.000000</td>\n",
       "      <td>140.0</td>\n",
       "      <td>150.000000</td>\n",
       "      <td>90.000000</td>\n",
       "      <td>80.0</td>\n",
       "    </tr>\n",
       "  </tbody>\n",
       "</table>\n",
       "</div>"
      ],
      "text/plain": [
       "         体重     身長          英語     数学          国語         社会    理科\n",
       "count   3.0    3.0    3.000000    3.0    3.000000   3.000000   3.0\n",
       "mean   45.0  160.0  151.666667  135.0  141.666667  81.666667  75.0\n",
       "std     5.0    5.0    7.637626    5.0    7.637626   7.637626   5.0\n",
       "min    40.0  155.0  145.000000  130.0  135.000000  75.000000  70.0\n",
       "25%    42.5  157.5  147.500000  132.5  137.500000  77.500000  72.5\n",
       "50%    45.0  160.0  150.000000  135.0  140.000000  80.000000  75.0\n",
       "75%    47.5  162.5  155.000000  137.5  145.000000  85.000000  77.5\n",
       "max    50.0  165.0  160.000000  140.0  150.000000  90.000000  80.0"
      ]
     },
     "execution_count": 27,
     "metadata": {},
     "output_type": "execute_result"
    }
   ],
   "source": [
    "df[df[\"性別\"]==\"F\"][[\"性別\",\"体重\",\"身長\",\"英語\",\"数学\",\"国語\",\"社会\",\"理科\"]].describe()"
   ]
  },
  {
   "cell_type": "markdown",
   "metadata": {},
   "source": [
    "+ 男女の成績比較"
   ]
  },
  {
   "cell_type": "code",
   "execution_count": 28,
   "metadata": {},
   "outputs": [
    {
     "name": "stdout",
     "output_type": "stream",
     "text": [
      "女性(female)の平均点\n",
      "英語    151.666667\n",
      "数学    135.000000\n",
      "国語    141.666667\n",
      "社会     81.666667\n",
      "理科     75.000000\n",
      "dtype: float64\n",
      "男性(male)の平均点\n",
      "英語    143.333333\n",
      "数学    136.666667\n",
      "国語    133.333333\n",
      "社会     73.333333\n",
      "理科     76.666667\n",
      "dtype: float64\n"
     ]
    }
   ],
   "source": [
    "print( \"女性(female)の平均点\" )\n",
    "print( df[df[\"性別\"]==\"F\"][[\"英語\",\"数学\",\"国語\",\"社会\",\"理科\"]].mean() )\n",
    "print( \"男性(male)の平均点\" )\n",
    "print( df[df[\"性別\"]==\"M\"][[\"英語\",\"数学\",\"国語\",\"社会\",\"理科\"]].mean() )"
   ]
  },
  {
   "cell_type": "markdown",
   "metadata": {
    "collapsed": true,
    "jupyter": {
     "outputs_hidden": true
    }
   },
   "source": [
    "* データフレームの複数条件にあったデータを取得　（例. 英語および数学の成績が平均点を超えている人）"
   ]
  },
  {
   "cell_type": "code",
   "execution_count": 29,
   "metadata": {},
   "outputs": [
    {
     "name": "stdout",
     "output_type": "stream",
     "text": [
      "A     True\n",
      "B    False\n",
      "C     True\n",
      "D    False\n",
      "E     True\n",
      "F    False\n",
      "Name: 英語, dtype: bool\n",
      "英語平均点　= 147.500000\n"
     ]
    },
    {
     "data": {
      "text/html": [
       "<div>\n",
       "<style scoped>\n",
       "    .dataframe tbody tr th:only-of-type {\n",
       "        vertical-align: middle;\n",
       "    }\n",
       "\n",
       "    .dataframe tbody tr th {\n",
       "        vertical-align: top;\n",
       "    }\n",
       "\n",
       "    .dataframe thead th {\n",
       "        text-align: right;\n",
       "    }\n",
       "</style>\n",
       "<table border=\"1\" class=\"dataframe\">\n",
       "  <thead>\n",
       "    <tr style=\"text-align: right;\">\n",
       "      <th></th>\n",
       "      <th>英語</th>\n",
       "    </tr>\n",
       "  </thead>\n",
       "  <tbody>\n",
       "    <tr>\n",
       "      <th>A</th>\n",
       "      <td>150</td>\n",
       "    </tr>\n",
       "    <tr>\n",
       "      <th>B</th>\n",
       "      <td>145</td>\n",
       "    </tr>\n",
       "    <tr>\n",
       "      <th>C</th>\n",
       "      <td>160</td>\n",
       "    </tr>\n",
       "    <tr>\n",
       "      <th>D</th>\n",
       "      <td>130</td>\n",
       "    </tr>\n",
       "    <tr>\n",
       "      <th>E</th>\n",
       "      <td>160</td>\n",
       "    </tr>\n",
       "    <tr>\n",
       "      <th>F</th>\n",
       "      <td>140</td>\n",
       "    </tr>\n",
       "  </tbody>\n",
       "</table>\n",
       "</div>"
      ],
      "text/plain": [
       "    英語\n",
       "A  150\n",
       "B  145\n",
       "C  160\n",
       "D  130\n",
       "E  160\n",
       "F  140"
      ]
     },
     "execution_count": 29,
     "metadata": {},
     "output_type": "execute_result"
    }
   ],
   "source": [
    "print( (df[\"英語\"]>=df[\"英語\"].mean()) )\n",
    "print( \"英語平均点　= {:f}\".format( df[\"英語\"].mean() ) )\n",
    "df[[\"英語\"]]"
   ]
  },
  {
   "cell_type": "code",
   "execution_count": 30,
   "metadata": {},
   "outputs": [
    {
     "name": "stdout",
     "output_type": "stream",
     "text": [
      "A    False\n",
      "B    False\n",
      "C     True\n",
      "D     True\n",
      "E    False\n",
      "F     True\n",
      "Name: 数学, dtype: bool\n",
      "数学平均点　= 135.833333\n"
     ]
    },
    {
     "data": {
      "text/html": [
       "<div>\n",
       "<style scoped>\n",
       "    .dataframe tbody tr th:only-of-type {\n",
       "        vertical-align: middle;\n",
       "    }\n",
       "\n",
       "    .dataframe tbody tr th {\n",
       "        vertical-align: top;\n",
       "    }\n",
       "\n",
       "    .dataframe thead th {\n",
       "        text-align: right;\n",
       "    }\n",
       "</style>\n",
       "<table border=\"1\" class=\"dataframe\">\n",
       "  <thead>\n",
       "    <tr style=\"text-align: right;\">\n",
       "      <th></th>\n",
       "      <th>数学</th>\n",
       "    </tr>\n",
       "  </thead>\n",
       "  <tbody>\n",
       "    <tr>\n",
       "      <th>A</th>\n",
       "      <td>130</td>\n",
       "    </tr>\n",
       "    <tr>\n",
       "      <th>B</th>\n",
       "      <td>135</td>\n",
       "    </tr>\n",
       "    <tr>\n",
       "      <th>C</th>\n",
       "      <td>140</td>\n",
       "    </tr>\n",
       "    <tr>\n",
       "      <th>D</th>\n",
       "      <td>150</td>\n",
       "    </tr>\n",
       "    <tr>\n",
       "      <th>E</th>\n",
       "      <td>120</td>\n",
       "    </tr>\n",
       "    <tr>\n",
       "      <th>F</th>\n",
       "      <td>140</td>\n",
       "    </tr>\n",
       "  </tbody>\n",
       "</table>\n",
       "</div>"
      ],
      "text/plain": [
       "    数学\n",
       "A  130\n",
       "B  135\n",
       "C  140\n",
       "D  150\n",
       "E  120\n",
       "F  140"
      ]
     },
     "execution_count": 30,
     "metadata": {},
     "output_type": "execute_result"
    }
   ],
   "source": [
    "print( df[\"数学\"]>=df[\"数学\"].mean() )\n",
    "print( \"数学平均点　= {:f}\".format( df[\"数学\"].mean() ) )\n",
    "df[[\"数学\"]]"
   ]
  },
  {
   "cell_type": "markdown",
   "metadata": {
    "collapsed": true,
    "jupyter": {
     "outputs_hidden": true
    }
   },
   "source": [
    "* データフレームの複数条件にあったデータを取得　（例. 英語\"および\"数学の成績が平均点を超えている人）"
   ]
  },
  {
   "cell_type": "code",
   "execution_count": 31,
   "metadata": {},
   "outputs": [
    {
     "name": "stdout",
     "output_type": "stream",
     "text": [
      "A    False\n",
      "B    False\n",
      "C     True\n",
      "D    False\n",
      "E    False\n",
      "F    False\n",
      "dtype: bool\n",
      "英語平均点 = 147.500000, 数学平均点 = 135.833333\n",
      "    英語   数学\n",
      "A  150  130\n",
      "B  145  135\n",
      "C  160  140\n",
      "D  130  150\n",
      "E  160  120\n",
      "F  140  140\n"
     ]
    }
   ],
   "source": [
    "print( (df[\"英語\"]>=df[\"英語\"].mean()) & (df[\"数学\"]>=df[\"数学\"].mean()) )\n",
    "print( \"英語平均点 = {:f}, 数学平均点 = {:f}\".format( df[\"英語\"].mean() , df[\"数学\"].mean() )  )\n",
    "print( df[[\"英語\",\"数学\"]])"
   ]
  },
  {
   "cell_type": "code",
   "execution_count": 32,
   "metadata": {},
   "outputs": [
    {
     "data": {
      "text/html": [
       "<div>\n",
       "<style scoped>\n",
       "    .dataframe tbody tr th:only-of-type {\n",
       "        vertical-align: middle;\n",
       "    }\n",
       "\n",
       "    .dataframe tbody tr th {\n",
       "        vertical-align: top;\n",
       "    }\n",
       "\n",
       "    .dataframe thead th {\n",
       "        text-align: right;\n",
       "    }\n",
       "</style>\n",
       "<table border=\"1\" class=\"dataframe\">\n",
       "  <thead>\n",
       "    <tr style=\"text-align: right;\">\n",
       "      <th></th>\n",
       "      <th>性別</th>\n",
       "      <th>体重</th>\n",
       "      <th>身長</th>\n",
       "      <th>英語</th>\n",
       "      <th>数学</th>\n",
       "      <th>国語</th>\n",
       "      <th>社会</th>\n",
       "      <th>理科</th>\n",
       "    </tr>\n",
       "  </thead>\n",
       "  <tbody>\n",
       "    <tr>\n",
       "      <th>C</th>\n",
       "      <td>F</td>\n",
       "      <td>50.0</td>\n",
       "      <td>165.0</td>\n",
       "      <td>160</td>\n",
       "      <td>140</td>\n",
       "      <td>150</td>\n",
       "      <td>90</td>\n",
       "      <td>80</td>\n",
       "    </tr>\n",
       "  </tbody>\n",
       "</table>\n",
       "</div>"
      ],
      "text/plain": [
       "  性別    体重     身長   英語   数学   国語  社会  理科\n",
       "C  F  50.0  165.0  160  140  150  90  80"
      ]
     },
     "execution_count": 32,
     "metadata": {},
     "output_type": "execute_result"
    }
   ],
   "source": [
    "#df[(df[\"英語\"]>=df[\"英語\"].mean()) & (df[\"数学\"]>=df[\"数学\"].mean())]\n",
    "df[(df[\"英語\"]>=df[\"英語\"].mean()) & (df[\"数学\"]>=df[\"数学\"].mean())][[\"性別\",\"体重\",\"身長\",\"英語\",\"数学\",\"国語\",\"社会\",\"理科\"]]"
   ]
  },
  {
   "cell_type": "markdown",
   "metadata": {
    "collapsed": true,
    "jupyter": {
     "outputs_hidden": true
    }
   },
   "source": [
    "* データフレームの複数条件にあったデータを取得　（例. 英語\"または\"数学の成績が平均点を超えている人）"
   ]
  },
  {
   "cell_type": "code",
   "execution_count": 33,
   "metadata": {},
   "outputs": [
    {
     "name": "stdout",
     "output_type": "stream",
     "text": [
      "A     True\n",
      "B    False\n",
      "C     True\n",
      "D     True\n",
      "E     True\n",
      "F     True\n",
      "dtype: bool\n",
      "英語平均点 = 147.500000, 数学平均点 = 135.833333\n",
      "    英語   数学\n",
      "A  150  130\n",
      "B  145  135\n",
      "C  160  140\n",
      "D  130  150\n",
      "E  160  120\n",
      "F  140  140\n"
     ]
    }
   ],
   "source": [
    "print( (df[\"英語\"]>=df[\"英語\"].mean()) | (df[\"数学\"]>=df[\"数学\"].mean() ) )\n",
    "print( \"英語平均点 = {:f}, 数学平均点 = {:f}\".format( df[\"英語\"].mean() , df[\"数学\"].mean() )  )\n",
    "print( df[[\"英語\",\"数学\"]])"
   ]
  },
  {
   "cell_type": "code",
   "execution_count": 34,
   "metadata": {},
   "outputs": [
    {
     "data": {
      "text/html": [
       "<div>\n",
       "<style scoped>\n",
       "    .dataframe tbody tr th:only-of-type {\n",
       "        vertical-align: middle;\n",
       "    }\n",
       "\n",
       "    .dataframe tbody tr th {\n",
       "        vertical-align: top;\n",
       "    }\n",
       "\n",
       "    .dataframe thead th {\n",
       "        text-align: right;\n",
       "    }\n",
       "</style>\n",
       "<table border=\"1\" class=\"dataframe\">\n",
       "  <thead>\n",
       "    <tr style=\"text-align: right;\">\n",
       "      <th></th>\n",
       "      <th>性別</th>\n",
       "      <th>体重</th>\n",
       "      <th>身長</th>\n",
       "      <th>英語</th>\n",
       "      <th>数学</th>\n",
       "      <th>国語</th>\n",
       "      <th>社会</th>\n",
       "      <th>理科</th>\n",
       "    </tr>\n",
       "  </thead>\n",
       "  <tbody>\n",
       "    <tr>\n",
       "      <th>A</th>\n",
       "      <td>F</td>\n",
       "      <td>40.0</td>\n",
       "      <td>155.0</td>\n",
       "      <td>150</td>\n",
       "      <td>130</td>\n",
       "      <td>140</td>\n",
       "      <td>80</td>\n",
       "      <td>70</td>\n",
       "    </tr>\n",
       "    <tr>\n",
       "      <th>C</th>\n",
       "      <td>F</td>\n",
       "      <td>50.0</td>\n",
       "      <td>165.0</td>\n",
       "      <td>160</td>\n",
       "      <td>140</td>\n",
       "      <td>150</td>\n",
       "      <td>90</td>\n",
       "      <td>80</td>\n",
       "    </tr>\n",
       "    <tr>\n",
       "      <th>D</th>\n",
       "      <td>M</td>\n",
       "      <td>70.0</td>\n",
       "      <td>180.0</td>\n",
       "      <td>130</td>\n",
       "      <td>150</td>\n",
       "      <td>120</td>\n",
       "      <td>60</td>\n",
       "      <td>90</td>\n",
       "    </tr>\n",
       "    <tr>\n",
       "      <th>E</th>\n",
       "      <td>M</td>\n",
       "      <td>60.0</td>\n",
       "      <td>175.0</td>\n",
       "      <td>160</td>\n",
       "      <td>120</td>\n",
       "      <td>150</td>\n",
       "      <td>90</td>\n",
       "      <td>60</td>\n",
       "    </tr>\n",
       "    <tr>\n",
       "      <th>F</th>\n",
       "      <td>M</td>\n",
       "      <td>65.0</td>\n",
       "      <td>170.0</td>\n",
       "      <td>140</td>\n",
       "      <td>140</td>\n",
       "      <td>130</td>\n",
       "      <td>70</td>\n",
       "      <td>80</td>\n",
       "    </tr>\n",
       "  </tbody>\n",
       "</table>\n",
       "</div>"
      ],
      "text/plain": [
       "  性別    体重     身長   英語   数学   国語  社会  理科\n",
       "A  F  40.0  155.0  150  130  140  80  70\n",
       "C  F  50.0  165.0  160  140  150  90  80\n",
       "D  M  70.0  180.0  130  150  120  60  90\n",
       "E  M  60.0  175.0  160  120  150  90  60\n",
       "F  M  65.0  170.0  140  140  130  70  80"
      ]
     },
     "execution_count": 34,
     "metadata": {},
     "output_type": "execute_result"
    }
   ],
   "source": [
    "#df[(df[\"英語\"]>=df[\"英語\"].mean()) | (df[\"数学\"]>=df[\"数学\"].mean())]\n",
    "df[(df[\"英語\"]>=df[\"英語\"].mean()) | (df[\"数学\"]>=df[\"数学\"].mean())][[\"性別\",\"体重\",\"身長\",\"英語\",\"数学\",\"国語\",\"社会\",\"理科\"]]"
   ]
  },
  {
   "cell_type": "markdown",
   "metadata": {},
   "source": [
    "* データフレームをデータの値順にソート （例. 英語の成績順）"
   ]
  },
  {
   "cell_type": "code",
   "execution_count": 35,
   "metadata": {},
   "outputs": [
    {
     "data": {
      "text/html": [
       "<div>\n",
       "<style scoped>\n",
       "    .dataframe tbody tr th:only-of-type {\n",
       "        vertical-align: middle;\n",
       "    }\n",
       "\n",
       "    .dataframe tbody tr th {\n",
       "        vertical-align: top;\n",
       "    }\n",
       "\n",
       "    .dataframe thead th {\n",
       "        text-align: right;\n",
       "    }\n",
       "</style>\n",
       "<table border=\"1\" class=\"dataframe\">\n",
       "  <thead>\n",
       "    <tr style=\"text-align: right;\">\n",
       "      <th></th>\n",
       "      <th>性別</th>\n",
       "      <th>体重</th>\n",
       "      <th>身長</th>\n",
       "      <th>英語</th>\n",
       "      <th>数学</th>\n",
       "      <th>国語</th>\n",
       "      <th>社会</th>\n",
       "      <th>理科</th>\n",
       "    </tr>\n",
       "  </thead>\n",
       "  <tbody>\n",
       "    <tr>\n",
       "      <th>C</th>\n",
       "      <td>F</td>\n",
       "      <td>50.0</td>\n",
       "      <td>165.0</td>\n",
       "      <td>160</td>\n",
       "      <td>140</td>\n",
       "      <td>150</td>\n",
       "      <td>90</td>\n",
       "      <td>80</td>\n",
       "    </tr>\n",
       "    <tr>\n",
       "      <th>E</th>\n",
       "      <td>M</td>\n",
       "      <td>60.0</td>\n",
       "      <td>175.0</td>\n",
       "      <td>160</td>\n",
       "      <td>120</td>\n",
       "      <td>150</td>\n",
       "      <td>90</td>\n",
       "      <td>60</td>\n",
       "    </tr>\n",
       "    <tr>\n",
       "      <th>A</th>\n",
       "      <td>F</td>\n",
       "      <td>40.0</td>\n",
       "      <td>155.0</td>\n",
       "      <td>150</td>\n",
       "      <td>130</td>\n",
       "      <td>140</td>\n",
       "      <td>80</td>\n",
       "      <td>70</td>\n",
       "    </tr>\n",
       "    <tr>\n",
       "      <th>B</th>\n",
       "      <td>F</td>\n",
       "      <td>45.0</td>\n",
       "      <td>160.0</td>\n",
       "      <td>145</td>\n",
       "      <td>135</td>\n",
       "      <td>135</td>\n",
       "      <td>75</td>\n",
       "      <td>75</td>\n",
       "    </tr>\n",
       "    <tr>\n",
       "      <th>F</th>\n",
       "      <td>M</td>\n",
       "      <td>65.0</td>\n",
       "      <td>170.0</td>\n",
       "      <td>140</td>\n",
       "      <td>140</td>\n",
       "      <td>130</td>\n",
       "      <td>70</td>\n",
       "      <td>80</td>\n",
       "    </tr>\n",
       "    <tr>\n",
       "      <th>D</th>\n",
       "      <td>M</td>\n",
       "      <td>70.0</td>\n",
       "      <td>180.0</td>\n",
       "      <td>130</td>\n",
       "      <td>150</td>\n",
       "      <td>120</td>\n",
       "      <td>60</td>\n",
       "      <td>90</td>\n",
       "    </tr>\n",
       "  </tbody>\n",
       "</table>\n",
       "</div>"
      ],
      "text/plain": [
       "  性別    体重     身長   英語   数学   国語  社会  理科\n",
       "C  F  50.0  165.0  160  140  150  90  80\n",
       "E  M  60.0  175.0  160  120  150  90  60\n",
       "A  F  40.0  155.0  150  130  140  80  70\n",
       "B  F  45.0  160.0  145  135  135  75  75\n",
       "F  M  65.0  170.0  140  140  130  70  80\n",
       "D  M  70.0  180.0  130  150  120  60  90"
      ]
     },
     "execution_count": 35,
     "metadata": {},
     "output_type": "execute_result"
    }
   ],
   "source": [
    "#df.sort_values( by = \"英語\" , ascending = False )\n",
    "df.sort_values( by = \"英語\" , ascending = False )[[\"性別\",\"体重\",\"身長\",\"英語\",\"数学\",\"国語\",\"社会\",\"理科\"]]"
   ]
  },
  {
   "cell_type": "markdown",
   "metadata": {},
   "source": [
    "* データフレームをデータの値順にソート （例. 英語および数学の成績順）"
   ]
  },
  {
   "cell_type": "code",
   "execution_count": 36,
   "metadata": {},
   "outputs": [
    {
     "data": {
      "text/html": [
       "<div>\n",
       "<style scoped>\n",
       "    .dataframe tbody tr th:only-of-type {\n",
       "        vertical-align: middle;\n",
       "    }\n",
       "\n",
       "    .dataframe tbody tr th {\n",
       "        vertical-align: top;\n",
       "    }\n",
       "\n",
       "    .dataframe thead th {\n",
       "        text-align: right;\n",
       "    }\n",
       "</style>\n",
       "<table border=\"1\" class=\"dataframe\">\n",
       "  <thead>\n",
       "    <tr style=\"text-align: right;\">\n",
       "      <th></th>\n",
       "      <th>性別</th>\n",
       "      <th>体重</th>\n",
       "      <th>身長</th>\n",
       "      <th>英語</th>\n",
       "      <th>数学</th>\n",
       "      <th>国語</th>\n",
       "      <th>社会</th>\n",
       "      <th>理科</th>\n",
       "    </tr>\n",
       "  </thead>\n",
       "  <tbody>\n",
       "    <tr>\n",
       "      <th>C</th>\n",
       "      <td>F</td>\n",
       "      <td>50.0</td>\n",
       "      <td>165.0</td>\n",
       "      <td>160</td>\n",
       "      <td>140</td>\n",
       "      <td>150</td>\n",
       "      <td>90</td>\n",
       "      <td>80</td>\n",
       "    </tr>\n",
       "    <tr>\n",
       "      <th>E</th>\n",
       "      <td>M</td>\n",
       "      <td>60.0</td>\n",
       "      <td>175.0</td>\n",
       "      <td>160</td>\n",
       "      <td>120</td>\n",
       "      <td>150</td>\n",
       "      <td>90</td>\n",
       "      <td>60</td>\n",
       "    </tr>\n",
       "    <tr>\n",
       "      <th>A</th>\n",
       "      <td>F</td>\n",
       "      <td>40.0</td>\n",
       "      <td>155.0</td>\n",
       "      <td>150</td>\n",
       "      <td>130</td>\n",
       "      <td>140</td>\n",
       "      <td>80</td>\n",
       "      <td>70</td>\n",
       "    </tr>\n",
       "    <tr>\n",
       "      <th>B</th>\n",
       "      <td>F</td>\n",
       "      <td>45.0</td>\n",
       "      <td>160.0</td>\n",
       "      <td>145</td>\n",
       "      <td>135</td>\n",
       "      <td>135</td>\n",
       "      <td>75</td>\n",
       "      <td>75</td>\n",
       "    </tr>\n",
       "    <tr>\n",
       "      <th>F</th>\n",
       "      <td>M</td>\n",
       "      <td>65.0</td>\n",
       "      <td>170.0</td>\n",
       "      <td>140</td>\n",
       "      <td>140</td>\n",
       "      <td>130</td>\n",
       "      <td>70</td>\n",
       "      <td>80</td>\n",
       "    </tr>\n",
       "    <tr>\n",
       "      <th>D</th>\n",
       "      <td>M</td>\n",
       "      <td>70.0</td>\n",
       "      <td>180.0</td>\n",
       "      <td>130</td>\n",
       "      <td>150</td>\n",
       "      <td>120</td>\n",
       "      <td>60</td>\n",
       "      <td>90</td>\n",
       "    </tr>\n",
       "  </tbody>\n",
       "</table>\n",
       "</div>"
      ],
      "text/plain": [
       "  性別    体重     身長   英語   数学   国語  社会  理科\n",
       "C  F  50.0  165.0  160  140  150  90  80\n",
       "E  M  60.0  175.0  160  120  150  90  60\n",
       "A  F  40.0  155.0  150  130  140  80  70\n",
       "B  F  45.0  160.0  145  135  135  75  75\n",
       "F  M  65.0  170.0  140  140  130  70  80\n",
       "D  M  70.0  180.0  130  150  120  60  90"
      ]
     },
     "execution_count": 36,
     "metadata": {},
     "output_type": "execute_result"
    }
   ],
   "source": [
    "#df.sort_values( by = [\"英語\",\"数学\"] , ascending = False )\n",
    "df.sort_values( by = [\"英語\",\"数学\"] , ascending = False )[[\"性別\",\"体重\",\"身長\",\"英語\",\"数学\",\"国語\",\"社会\",\"理科\"]]"
   ]
  },
  {
   "cell_type": "markdown",
   "metadata": {
    "collapsed": true,
    "jupyter": {
     "outputs_hidden": true
    }
   },
   "source": [
    "### 問題　"
   ]
  },
  {
   "cell_type": "markdown",
   "metadata": {},
   "source": [
    "数学の点数が平均点以上(以下)の人の, 理科(社会)の平均点数を求めよ．    "
   ]
  },
  {
   "cell_type": "markdown",
   "metadata": {
    "collapsed": true,
    "jupyter": {
     "outputs_hidden": true
    }
   },
   "source": [
    "### 14.2 データフレーム -グラフ化-"
   ]
  },
  {
   "cell_type": "code",
   "execution_count": 37,
   "metadata": {},
   "outputs": [],
   "source": [
    "import matplotlib\n",
    "import matplotlib.pyplot as plt\n",
    "%matplotlib inline"
   ]
  },
  {
   "cell_type": "code",
   "execution_count": 38,
   "metadata": {},
   "outputs": [],
   "source": [
    "from matplotlib.font_manager import FontProperties\n",
    "\n",
    "plt.rcParams['font.family'] = \"MS Gothic\"\n"
   ]
  },
  {
   "cell_type": "markdown",
   "metadata": {},
   "source": [
    "### ヒストグラム （度数分布）"
   ]
  },
  {
   "cell_type": "markdown",
   "metadata": {},
   "source": [
    "*  英語の点数分布 "
   ]
  },
  {
   "cell_type": "code",
   "execution_count": 39,
   "metadata": {},
   "outputs": [
    {
     "data": {
      "text/plain": [
       "array([[<AxesSubplot:title={'center':'英語'}>]], dtype=object)"
      ]
     },
     "execution_count": 39,
     "metadata": {},
     "output_type": "execute_result"
    },
    {
     "data": {
      "image/png": "[encoded data removed]",
      "text/plain": [
       "<Figure size 432x288 with 1 Axes>"
      ]
     },
     "metadata": {
      "needs_background": "light"
     },
     "output_type": "display_data"
    }
   ],
   "source": [
    "#plt.title(\"英語\", fontproperties=fp)\n",
    "df.hist( [\"英語\"] )\n"
   ]
  },
  {
   "cell_type": "markdown",
   "metadata": {},
   "source": [
    "* 英語, 数学および国語の点数分布"
   ]
  },
  {
   "cell_type": "code",
   "execution_count": 40,
   "metadata": {},
   "outputs": [
    {
     "data": {
      "text/plain": [
       "array([[<AxesSubplot:title={'center':'英語'}>,\n",
       "        <AxesSubplot:title={'center':'数学'}>],\n",
       "       [<AxesSubplot:title={'center':'国語'}>, <AxesSubplot:>]],\n",
       "      dtype=object)"
      ]
     },
     "execution_count": 40,
     "metadata": {},
     "output_type": "execute_result"
    },
    {
     "data": {
      "image/png": "[encoded data removed]",
      "text/plain": [
       "<Figure size 432x288 with 4 Axes>"
      ]
     },
     "metadata": {
      "needs_background": "light"
     },
     "output_type": "display_data"
    }
   ],
   "source": [
    "df.hist( [\"英語\",\"数学\",\"国語\"] )"
   ]
  },
  {
   "cell_type": "markdown",
   "metadata": {},
   "source": [
    "*  体重および身長の分布"
   ]
  },
  {
   "cell_type": "code",
   "execution_count": 42,
   "metadata": {},
   "outputs": [
    {
     "data": {
      "text/plain": [
       "array([[<AxesSubplot:title={'center':'体重'}>,\n",
       "        <AxesSubplot:title={'center':'身長'}>]], dtype=object)"
      ]
     },
     "execution_count": 42,
     "metadata": {},
     "output_type": "execute_result"
    },
    {
     "data": {
      "image/png": "[encoded data removed]",
      "text/plain": [
       "<Figure size 432x288 with 2 Axes>"
      ]
     },
     "metadata": {
      "needs_background": "light"
     },
     "output_type": "display_data"
    }
   ],
   "source": [
    "df.hist( [\"体重\",\"身長\"] ) "
   ]
  },
  {
   "cell_type": "markdown",
   "metadata": {},
   "source": [
    "* データフレーム全体の頻度分布"
   ]
  },
  {
   "cell_type": "code",
   "execution_count": 43,
   "metadata": {},
   "outputs": [
    {
     "data": {
      "text/plain": [
       "array([[<AxesSubplot:title={'center':'体重'}>,\n",
       "        <AxesSubplot:title={'center':'身長'}>,\n",
       "        <AxesSubplot:title={'center':'英語'}>],\n",
       "       [<AxesSubplot:title={'center':'数学'}>,\n",
       "        <AxesSubplot:title={'center':'国語'}>,\n",
       "        <AxesSubplot:title={'center':'社会'}>],\n",
       "       [<AxesSubplot:title={'center':'理科'}>, <AxesSubplot:>,\n",
       "        <AxesSubplot:>]], dtype=object)"
      ]
     },
     "execution_count": 43,
     "metadata": {},
     "output_type": "execute_result"
    },
    {
     "data": {
      "image/png": "[encoded data removed]",
      "text/plain": [
       "<Figure size 432x288 with 9 Axes>"
      ]
     },
     "metadata": {
      "needs_background": "light"
     },
     "output_type": "display_data"
    }
   ],
   "source": [
    "df.hist()"
   ]
  },
  {
   "cell_type": "markdown",
   "metadata": {},
   "source": [
    "* データフレームの条件付きグラフ化 （例. 女性および男性の体重, 身長分布）"
   ]
  },
  {
   "cell_type": "code",
   "execution_count": 44,
   "metadata": {},
   "outputs": [
    {
     "name": "stdout",
     "output_type": "stream",
     "text": [
      "女性\n"
     ]
    },
    {
     "data": {
      "text/plain": [
       "array([[<AxesSubplot:title={'center':'体重'}>,\n",
       "        <AxesSubplot:title={'center':'身長'}>]], dtype=object)"
      ]
     },
     "execution_count": 44,
     "metadata": {},
     "output_type": "execute_result"
    },
    {
     "data": {
      "image/png": "[encoded data removed]",
      "text/plain": [
       "<Figure size 432x288 with 2 Axes>"
      ]
     },
     "metadata": {
      "needs_background": "light"
     },
     "output_type": "display_data"
    }
   ],
   "source": [
    "print(\"女性\")\n",
    "df[df[\"性別\"] == \"F\"].hist([\"体重\",\"身長\"])"
   ]
  },
  {
   "cell_type": "code",
   "execution_count": 45,
   "metadata": {},
   "outputs": [
    {
     "name": "stdout",
     "output_type": "stream",
     "text": [
      "男性\n"
     ]
    },
    {
     "data": {
      "text/plain": [
       "array([[<AxesSubplot:title={'center':'体重'}>,\n",
       "        <AxesSubplot:title={'center':'身長'}>]], dtype=object)"
      ]
     },
     "execution_count": 45,
     "metadata": {},
     "output_type": "execute_result"
    },
    {
     "data": {
      "image/png": "[encoded data removed]",
      "text/plain": [
       "<Figure size 432x288 with 2 Axes>"
      ]
     },
     "metadata": {
      "needs_background": "light"
     },
     "output_type": "display_data"
    }
   ],
   "source": [
    "print(\"男性\")\n",
    "df[df[\"性別\"] == \"M\"].hist([\"体重\",\"身長\"])"
   ]
  },
  {
   "cell_type": "markdown",
   "metadata": {},
   "source": [
    "### 散布図  -データ間の相関-"
   ]
  },
  {
   "cell_type": "markdown",
   "metadata": {},
   "source": [
    "* 英語と数学の成績比較 （負の相関）"
   ]
  },
  {
   "cell_type": "code",
   "execution_count": 46,
   "metadata": {},
   "outputs": [
    {
     "data": {
      "text/plain": [
       "<AxesSubplot:xlabel='英語', ylabel='数学'>"
      ]
     },
     "execution_count": 46,
     "metadata": {},
     "output_type": "execute_result"
    },
    {
     "data": {
      "image/png": "[encoded data removed]",
      "text/plain": [
       "<Figure size 432x288 with 1 Axes>"
      ]
     },
     "metadata": {
      "needs_background": "light"
     },
     "output_type": "display_data"
    }
   ],
   "source": [
    "df.plot( x = \"英語\" , y = \"数学\" , kind=\"scatter\" , s = 500 )"
   ]
  },
  {
   "cell_type": "markdown",
   "metadata": {},
   "source": [
    "* 英語と国語の成績比較 （正の相関）"
   ]
  },
  {
   "cell_type": "code",
   "execution_count": 47,
   "metadata": {},
   "outputs": [
    {
     "data": {
      "text/plain": [
       "<AxesSubplot:xlabel='英語', ylabel='国語'>"
      ]
     },
     "execution_count": 47,
     "metadata": {},
     "output_type": "execute_result"
    },
    {
     "data": {
      "image/png": "[encoded data removed]",
      "text/plain": [
       "<Figure size 432x288 with 1 Axes>"
      ]
     },
     "metadata": {
      "needs_background": "light"
     },
     "output_type": "display_data"
    }
   ],
   "source": [
    "df.plot( x = \"英語\" , y = \"国語\" , kind=\"scatter\" , s = 500 )"
   ]
  },
  {
   "cell_type": "markdown",
   "metadata": {},
   "source": [
    "* 体重と身長の比較 （正の相関）"
   ]
  },
  {
   "cell_type": "code",
   "execution_count": 49,
   "metadata": {},
   "outputs": [
    {
     "data": {
      "text/plain": [
       "<AxesSubplot:xlabel='体重', ylabel='身長'>"
      ]
     },
     "execution_count": 49,
     "metadata": {},
     "output_type": "execute_result"
    },
    {
     "data": {
      "image/png": "[encoded data removed]",
      "text/plain": [
       "<Figure size 432x288 with 1 Axes>"
      ]
     },
     "metadata": {
      "needs_background": "light"
     },
     "output_type": "display_data"
    }
   ],
   "source": [
    "df.plot( x = \"体重\" , y = \"身長\" , kind=\"scatter\" , s = 500 )"
   ]
  },
  {
   "cell_type": "markdown",
   "metadata": {},
   "source": [
    "*  データ間の相関係数　$r$　($-1\\le r \\le 1$)  \n",
    " -正の相関 $r \\sim  1$  \n",
    " -無相関　 $r \\sim  0$  \n",
    " -負の相関 $r \\sim -1$  "
   ]
  },
  {
   "cell_type": "code",
   "execution_count": 50,
   "metadata": {},
   "outputs": [
    {
     "data": {
      "text/html": [
       "<div>\n",
       "<style scoped>\n",
       "    .dataframe tbody tr th:only-of-type {\n",
       "        vertical-align: middle;\n",
       "    }\n",
       "\n",
       "    .dataframe tbody tr th {\n",
       "        vertical-align: top;\n",
       "    }\n",
       "\n",
       "    .dataframe thead th {\n",
       "        text-align: right;\n",
       "    }\n",
       "</style>\n",
       "<table border=\"1\" class=\"dataframe\">\n",
       "  <thead>\n",
       "    <tr style=\"text-align: right;\">\n",
       "      <th></th>\n",
       "      <th>体重</th>\n",
       "      <th>身長</th>\n",
       "      <th>英語</th>\n",
       "      <th>数学</th>\n",
       "      <th>国語</th>\n",
       "      <th>社会</th>\n",
       "      <th>理科</th>\n",
       "    </tr>\n",
       "  </thead>\n",
       "  <tbody>\n",
       "    <tr>\n",
       "      <th>体重</th>\n",
       "      <td>1.000000</td>\n",
       "      <td>0.948683</td>\n",
       "      <td>-0.504525</td>\n",
       "      <td>0.414039</td>\n",
       "      <td>-0.504525</td>\n",
       "      <td>-0.504525</td>\n",
       "      <td>0.414039</td>\n",
       "    </tr>\n",
       "    <tr>\n",
       "      <th>身長</th>\n",
       "      <td>0.948683</td>\n",
       "      <td>1.000000</td>\n",
       "      <td>-0.341882</td>\n",
       "      <td>0.288048</td>\n",
       "      <td>-0.341882</td>\n",
       "      <td>-0.341882</td>\n",
       "      <td>0.288048</td>\n",
       "    </tr>\n",
       "    <tr>\n",
       "      <th>英語</th>\n",
       "      <td>-0.504525</td>\n",
       "      <td>-0.341882</td>\n",
       "      <td>1.000000</td>\n",
       "      <td>-0.731126</td>\n",
       "      <td>1.000000</td>\n",
       "      <td>1.000000</td>\n",
       "      <td>-0.731126</td>\n",
       "    </tr>\n",
       "    <tr>\n",
       "      <th>数学</th>\n",
       "      <td>0.414039</td>\n",
       "      <td>0.288048</td>\n",
       "      <td>-0.731126</td>\n",
       "      <td>1.000000</td>\n",
       "      <td>-0.731126</td>\n",
       "      <td>-0.731126</td>\n",
       "      <td>1.000000</td>\n",
       "    </tr>\n",
       "    <tr>\n",
       "      <th>国語</th>\n",
       "      <td>-0.504525</td>\n",
       "      <td>-0.341882</td>\n",
       "      <td>1.000000</td>\n",
       "      <td>-0.731126</td>\n",
       "      <td>1.000000</td>\n",
       "      <td>1.000000</td>\n",
       "      <td>-0.731126</td>\n",
       "    </tr>\n",
       "    <tr>\n",
       "      <th>社会</th>\n",
       "      <td>-0.504525</td>\n",
       "      <td>-0.341882</td>\n",
       "      <td>1.000000</td>\n",
       "      <td>-0.731126</td>\n",
       "      <td>1.000000</td>\n",
       "      <td>1.000000</td>\n",
       "      <td>-0.731126</td>\n",
       "    </tr>\n",
       "    <tr>\n",
       "      <th>理科</th>\n",
       "      <td>0.414039</td>\n",
       "      <td>0.288048</td>\n",
       "      <td>-0.731126</td>\n",
       "      <td>1.000000</td>\n",
       "      <td>-0.731126</td>\n",
       "      <td>-0.731126</td>\n",
       "      <td>1.000000</td>\n",
       "    </tr>\n",
       "  </tbody>\n",
       "</table>\n",
       "</div>"
      ],
      "text/plain": [
       "          体重        身長        英語        数学        国語        社会        理科\n",
       "体重  1.000000  0.948683 -0.504525  0.414039 -0.504525 -0.504525  0.414039\n",
       "身長  0.948683  1.000000 -0.341882  0.288048 -0.341882 -0.341882  0.288048\n",
       "英語 -0.504525 -0.341882  1.000000 -0.731126  1.000000  1.000000 -0.731126\n",
       "数学  0.414039  0.288048 -0.731126  1.000000 -0.731126 -0.731126  1.000000\n",
       "国語 -0.504525 -0.341882  1.000000 -0.731126  1.000000  1.000000 -0.731126\n",
       "社会 -0.504525 -0.341882  1.000000 -0.731126  1.000000  1.000000 -0.731126\n",
       "理科  0.414039  0.288048 -0.731126  1.000000 -0.731126 -0.731126  1.000000"
      ]
     },
     "execution_count": 50,
     "metadata": {},
     "output_type": "execute_result"
    }
   ],
   "source": [
    "df.corr()"
   ]
  },
  {
   "cell_type": "markdown",
   "metadata": {
    "collapsed": true,
    "jupyter": {
     "outputs_hidden": true
    }
   },
   "source": [
    "### 問題　"
   ]
  },
  {
   "cell_type": "markdown",
   "metadata": {
    "collapsed": true,
    "jupyter": {
     "outputs_hidden": true
    }
   },
   "source": [
    "-  数学と理科，国語と社会の点数の散布図を作成し，相関関係を議論せよ．"
   ]
  },
  {
   "cell_type": "markdown",
   "metadata": {},
   "source": [
    "- 身長，体重は成績と関係あるか議論せよ．"
   ]
  }
 ],
 "metadata": {
  "interpreter": {
   "hash": "c182d1b202b41fdf4b60803f05a29d92f1736a33b38810d465f4f5fc6e4b1d74"
  },
  "kernelspec": {
   "display_name": "Python 3 (ipykernel)",
   "language": "python",
   "name": "python3"
  },
  "language_info": {
   "codemirror_mode": {
    "name": "ipython",
    "version": 3
   },
   "file_extension": ".py",
   "mimetype": "text/x-python",
   "name": "python",
   "nbconvert_exporter": "python",
   "pygments_lexer": "ipython3",
   "version": "3.12.8"
  }
 },
 "nbformat": 4,
 "nbformat_minor": 4
}
