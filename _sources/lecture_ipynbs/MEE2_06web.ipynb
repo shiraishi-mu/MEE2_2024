{
 "cells": [
  {
   "cell_type": "markdown",
   "metadata": {},
   "source": [
    "# 第06回　数理工学実験２"
   ]
  },
  {
   "cell_type": "markdown",
   "metadata": {},
   "source": [
    "## 11 数値積分法"
   ]
  },
  {
   "cell_type": "markdown",
   "metadata": {},
   "source": [
    "理工系の分野では定積分$\\displaystyle{I=\\int_a^b f(x)dx}$の値を求め無ければならない場面に遭遇します。その際に、手計算で解ければ問題ないのですが、多くの場合に手計算で解くことが出来ません。そのような場合に、計算機を用いて近似的に積分する方法を一般に<strong>数値積分法</strong>と呼びます。ここでは、代表的な数値積分法について学びます。"
   ]
  },
  {
   "cell_type": "markdown",
   "metadata": {},
   "source": [
    "### 11.1 台形法"
   ]
  },
  {
   "cell_type": "markdown",
   "metadata": {},
   "source": [
    "台形法は最も基本的な数値積分法になります。積分区間$[a, b]$をn等分し(つまり、刻み幅は$\\delta x = \\frac{(b-a)}{n}$)各区間$[x_{i-1}, x_i]$の積分を上底$f(x_{i-1})$・下底$f(x_{i})$・高さ$\\delta x$とした場合の台形の面積\n",
    "\n",
    "$\\displaystyle\n",
    "{S_i=\\frac{\\delta x}{2}(f(x_{i-1})+f(x_i))}\n",
    "$\n",
    "\n",
    "で近似する方法です。早速，$\\displaystyle{\\int_1^2 \\frac{2}{x^2}dx}$の計算を台形法を用いて実行するプログラムを書いてみましょう．"
   ]
  },
  {
   "cell_type": "code",
   "execution_count": 2,
   "metadata": {},
   "outputs": [
    {
     "name": "stdout",
     "output_type": "stream",
     "text": [
      "分割数は100\n",
      "面積は1.0000291660208809\n"
     ]
    }
   ],
   "source": [
    "from math import *\n",
    "\n",
    "def trapezoidal(a, b, n):\n",
    "    \n",
    "    h=(b-a)/n\n",
    "    tra=(func1(a)+func1(b))/2.0\n",
    "    for i in range(1,n):\n",
    "        tra+=func1(a+i*h)\n",
    "        #tra=tra+func1(a+i*h)\n",
    "    tra=tra*h\n",
    "    \n",
    "    return tra\n",
    "    \n",
    "def func1(x):\n",
    "    return (2/(x**2))\n",
    "\n",
    "if __name__=='__main__':\n",
    "    a=1\n",
    "    b=2\n",
    "    n=100\n",
    "    S=trapezoidal(a, b, n)\n",
    "    print(f\"分割数は{n}\\n面積は{S}\")"
   ]
  },
  {
   "cell_type": "markdown",
   "metadata": {},
   "source": [
    "### 11.2 シンプソン法"
   ]
  },
  {
   "cell_type": "markdown",
   "metadata": {},
   "source": [
    "台形法よりも精度の良い数値積分法として**シンプソン法**が知られている。シンプソン法は区間$[x_{i-1}, x_{i+1}]$を$(x_{i-1}, f(x_{i-1}))$, $(x_{i}, f(x_{i}))$, $(x_{i+1}, f(x_{i+1}))$の3点を通る放物線で近似し、その積分を\n",
    "\n",
    "$\\displaystyle\n",
    "{S_i=\\frac{\\delta x}{3}(f(x_{i-1})+4f(x_{i})+f(x_{i+1}))}\n",
    "$\n",
    "\n",
    "で近似する方法です。シンプソン法を用いる場合分割数$n$は偶数でなければならないことに注意しましょう。"
   ]
  },
  {
   "cell_type": "code",
   "execution_count": null,
   "metadata": {},
   "outputs": [],
   "source": [
    "from math import *\n",
    "\n",
    "def simpson(a, b, n):\n",
    "    h=(b-a)/(2*n)\n",
    "    simp=(func1(a)+func1(b))\n",
    "    for i in range(1,n):\n",
    "        自分で考えてみよう\n",
    "    自分で考えてみよう\n",
    "    自分で考えてみよう\n",
    "    return simp\n",
    "    \n",
    "def func1(x):\n",
    "    return (2/(x**2))\n",
    "\n",
    "if __name__=='__main__':\n",
    "    a=1\n",
    "    b=2\n",
    "    n=50\n",
    "    S=simpson(a, b, n)\n",
    "    print(f\"分割数は{n}\\n面積は{s}\")"
   ]
  },
  {
   "cell_type": "markdown",
   "metadata": {},
   "source": [
    "### 問題1\n",
    "上のプログラムを完成させなさい．"
   ]
  },
  {
   "cell_type": "markdown",
   "metadata": {},
   "source": [
    "### 11.3 （応用） 重積分への台形公式の応用"
   ]
  },
  {
   "cell_type": "markdown",
   "metadata": {},
   "source": [
    "それでは台形法を用いて重積分を解くことを考えてみましょう。ここでは以下の重積分を考えます。\n",
    "\n",
    "$\\displaystyle{\\int_1^2 \\int_{2-x}^{x^2}(8x^2+4y)dydx(=54)}$"
   ]
  },
  {
   "cell_type": "code",
   "execution_count": 4,
   "metadata": {},
   "outputs": [
    {
     "name": "stdout",
     "output_type": "stream",
     "text": [
      "分割数は1000\n",
      "面積は54.000026333333004\n"
     ]
    }
   ],
   "source": [
    "import numpy as np\n",
    "\n",
    "def trapezoidal2(a, b, m, n, lower, upper, f):\n",
    "    h=(b-a)/n\n",
    "    F=np.zeros(n+1)\n",
    "    for i in range(0, n+1): #x方向のループ\n",
    "        x =a+i*h #xの値を決めている\n",
    "        y1=lower(x) #yの積分区間の小さい部分\n",
    "        y2=upper(x) #yの積分区間の大きい部分\n",
    "        \n",
    "        k=(y2-y1)/m\n",
    "        #F.append((f(x, y1)+f(x, y2))/2)\n",
    "        F[i]=(f(x, y1)+f(x, y2))/2\n",
    "\n",
    "        for j in range(1, m): #y方向のループ\n",
    "            F[i]=F[i]+f(x, y1+j*k)\n",
    "        F[i]*=k\n",
    "    \n",
    "    tra2=(F[0]+F[n])/2\n",
    "    \n",
    "    for i in range(1,n):\n",
    "        tra2 += F[i]\n",
    "    \n",
    "    tra2 *= h\n",
    "    \n",
    "    return tra2\n",
    "    \n",
    "def func1(x, y):\n",
    "    return (8*(x**2) + 4*y)\n",
    "\n",
    "def upper(x):\n",
    "    return x**2\n",
    "\n",
    "def lower(x):\n",
    "    return 2-x\n",
    "\n",
    "if __name__=='__main__':\n",
    "    a=1\n",
    "    b=2\n",
    "    m=1000\n",
    "    n=1000\n",
    "    S=trapezoidal2(a, b, m, n, lower, upper, func1)\n",
    "    print(f\"分割数は{n}\\n面積は{S}\")"
   ]
  },
  {
   "cell_type": "markdown",
   "metadata": {},
   "source": [
    "### レポート問題\n",
    "上記のプログラムを参考に重積分$\\displaystyle{\\int_1^2 \\int_{2-x}^{x^2}(8x^2+4y)dydx(=54)}$を計算するためのプログラムをシンプソンの公式を用いて作成しなさい（ライブラリを使わず、自分でアルゴリズムを書くこと）．\n",
    "\n",
    "**〆切：11/6（水）までにGoogle Classroomでjupyter notebook形式「id_学籍番号_06.ipynb」形式で送ること**"
   ]
  },
  {
   "cell_type": "markdown",
   "metadata": {},
   "source": [
    "### 11.4 scipy.integrateパッケージを用いた数値積分"
   ]
  },
  {
   "cell_type": "markdown",
   "metadata": {},
   "source": [
    "pythonには`scipy`という科学技術計算ライブラリが用意されており、その中に数値積分パッケージ`integrate`が用意されています．詳細については[ここ](https://docs.scipy.org/doc/scipy/reference/tutorial/integrate.html)1次元積分は`quad()`関数を用います．"
   ]
  },
  {
   "cell_type": "code",
   "execution_count": 6,
   "metadata": {},
   "outputs": [
    {
     "data": {
      "text/plain": [
       "(0.9999999999999999, 1.1102230246251564e-14)"
      ]
     },
     "execution_count": 6,
     "metadata": {},
     "output_type": "execute_result"
    }
   ],
   "source": [
    "from scipy import integrate\n",
    "\n",
    "def f(x):\n",
    "    return 2/x**2\n",
    "\n",
    "integrate.quad(f, 1, 2)"
   ]
  },
  {
   "cell_type": "code",
   "execution_count": 8,
   "metadata": {},
   "outputs": [
    {
     "data": {
      "text/plain": [
       "(0.9999999999999999, 1.1102230246251564e-14)"
      ]
     },
     "execution_count": 8,
     "metadata": {},
     "output_type": "execute_result"
    }
   ],
   "source": [
    "#lambda式を用いる\n",
    "from scipy import integrate\n",
    "\n",
    "integrate.quad(lambda x: 2/x**2, 1,2)"
   ]
  },
  {
   "cell_type": "markdown",
   "metadata": {},
   "source": [
    "重積分については`dblquad()`関数を使います．$\\displaystyle{\\int_1^2 \\int_{2-x}^{x^2}(8x^2+4y)dydx(=54)}$について計算してみましょう。関数の引数の順番や、1次元と異なり積分区間に関数が入ることに注意してください。"
   ]
  },
  {
   "cell_type": "code",
   "execution_count": 9,
   "metadata": {},
   "outputs": [
    {
     "data": {
      "text/plain": [
       "(54.0, 1.7678850922910316e-12)"
      ]
     },
     "execution_count": 9,
     "metadata": {},
     "output_type": "execute_result"
    }
   ],
   "source": [
    "from scipy import integrate\n",
    "\n",
    "def f(y,x):\n",
    "    return 8*x**2+4*y\n",
    "\n",
    "def lower_y(x):\n",
    "    return 2-x\n",
    "\n",
    "def upper_y(x):\n",
    "    return x**2\n",
    "\n",
    "integrate.dblquad(f, 1, 2, lower_y, upper_y)"
   ]
  },
  {
   "cell_type": "code",
   "execution_count": null,
   "metadata": {},
   "outputs": [],
   "source": []
  }
 ],
 "metadata": {
  "kernelspec": {
   "display_name": "Python 3 (ipykernel)",
   "language": "python",
   "name": "python3"
  },
  "language_info": {
   "codemirror_mode": {
    "name": "ipython",
    "version": 3
   },
   "file_extension": ".py",
   "mimetype": "text/x-python",
   "name": "python",
   "nbconvert_exporter": "python",
   "pygments_lexer": "ipython3",
   "version": "3.12.7"
  },
  "vscode": {
   "interpreter": {
    "hash": "c182d1b202b41fdf4b60803f05a29d92f1736a33b38810d465f4f5fc6e4b1d74"
   }
  }
 },
 "nbformat": 4,
 "nbformat_minor": 4
}
