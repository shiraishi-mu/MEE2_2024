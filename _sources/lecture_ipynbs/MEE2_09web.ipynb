{
 "cells": [
  {
   "cell_type": "markdown",
   "metadata": {},
   "source": [
    "# 14 モンテカルロ法"
   ]
  },
  {
   "cell_type": "markdown",
   "metadata": {},
   "source": [
    "ここでは**モンテカルロ法**について学びます。モンテカルロ法は乱数を用いて確率的に数値計算を行う方法の総称です。（解析的に解けない）積分計算、物理現象、金融現象、生物現象、統計的推測に至るまで綺麗な数学が及ばない諸現象に幅広く用いられている手法であり、計算機能力向上とともにその有用性が認識されてきました。"
   ]
  },
  {
   "cell_type": "markdown",
   "metadata": {},
   "source": [
    "## 14.1 乱数の発生と使い方"
   ]
  },
  {
   "cell_type": "markdown",
   "metadata": {},
   "source": [
    "Pythonでは疑似乱数を生成する方法はいくつか存在し、\n",
    "- **randomモジュール**\n",
    "- **numpy.randomモジュール**\n",
    "- **scipy.statsモジュール**\n",
    "  \n",
    "などが存在します。最も高機能なものは`scipy.stats`モジュールですが、ここでは比較的使いやすい`numpy.random`モジュールを使います。"
   ]
  },
  {
   "cell_type": "code",
   "execution_count": 135,
   "metadata": {},
   "outputs": [
    {
     "name": "stdout",
     "output_type": "stream",
     "text": [
      "0.9560017096289753\n",
      "0.20768181007914688\n"
     ]
    }
   ],
   "source": [
    "import numpy as np\n",
    "\n",
    "# 乱数のseed（種）の設定\n",
    "# np.random.seed(1) # NumPy ver 1.6までの定義方法\n",
    "rng = np.random.default_rng(10)\n",
    "\n",
    "# 範囲[0, 1)の一様分布から1つ乱数を生成する。\n",
    "# print(np.random.rand()) # NumPy ver 1.6までの定義方法\n",
    "print(rng.random())\n",
    "print(rng.random())"
   ]
  },
  {
   "cell_type": "markdown",
   "metadata": {},
   "source": [
    "乱数をnumpy.array(Numpy配列)の形で出力することもできます。"
   ]
  },
  {
   "cell_type": "code",
   "execution_count": 146,
   "metadata": {},
   "outputs": [
    {
     "name": "stdout",
     "output_type": "stream",
     "text": [
      "[0.51182162 0.9504637  0.14415961 0.94864945 0.31183145 0.42332645\n",
      " 0.82770259 0.40919914 0.54959369 0.02755911]\n",
      "[[0.75351311 0.53814331 0.32973172]\n",
      " [0.7884287  0.30319483 0.45349789]]\n"
     ]
    }
   ],
   "source": [
    "import numpy as np\n",
    "\n",
    "# 乱数のseed（種）の設定\n",
    "# np.random.seed(1) # NumPy ver 1.6までの定義方法\n",
    "rng = np.random.default_rng(1)\n",
    "\n",
    "# 範囲[0, 1)の一様分布から乱数配列（Numpy配列）を生成する。\n",
    "# print(np.random.rand(10)) # NumPy ver 1.6までの定義方法\n",
    "print(rng.random(size=10))\n",
    "# 多次元配列として出力することも可能\n",
    "# print(np.random.rand(2,3)) # NumPy ver 1.6までの使い方\n",
    "print(rng.random(size=(2,3)))"
   ]
  },
  {
   "cell_type": "markdown",
   "metadata": {},
   "source": [
    "### 乱数のseed（種）の設定\n",
    "\n",
    "コンピュータ内において乱数とはあくまで**疑似乱数**です。要するに乱数を計算する式に基づいて乱数を出力しているのです。その際、乱数を計算する式に初期値を決める必要があります。典型的な例は**線形合同法**と呼ばれる下記の式に従う疑似乱数発生方法です。  \n",
    "\n",
    "$$\n",
    "x_{i+1}=ax_i+b \\hspace{1cm}\\pmod{m}, \\hspace{1cm} 0\\leq x_i <m\n",
    "$$\n",
    "\n",
    "$a,b,m$は整数であり、$x_0$をユーザーが決めるとこの式に従い乱数が生成される仕組みです。もちろん、上手に$a,b,m$を設定することが重要であり、それにより疑似乱数の周期が決まります。上式の$x_0$のようにユーザー側で設定する必要がある初期値のことを**乱数の種（seed）** と言います。乱数を使う場合には必ずseedを設定することを忘れないで下さい。`numpy.random`においてseedを設定するには下記のように`np.random.default_rng()`(旧：`random.seed()`メソッド)を用います。引数にseedを設定します。seedとしてはintもしくはnumpy配列（intの値）が使えます。~~詳しくは[`numpy.random.seed`](https://docs.scipy.org/doc/numpy/reference/generated/numpy.random.seed.html#numpy.random.seed)を参照してください。~~  \n",
    "\n",
    "モンテカルロ法では初期値を数多く取り繰り返し計算機実験を実行することになります。そこで、下記では`for`ループ共に乱数を使う典型的な例を載せてます。"
   ]
  },
  {
   "cell_type": "code",
   "execution_count": 144,
   "metadata": {},
   "outputs": [
    {
     "name": "stdout",
     "output_type": "stream",
     "text": [
      "0.5118216247002567\n",
      "0.9504636963259353\n",
      "0.14415961271963373\n",
      "0.9486494471372439\n",
      "0.31183145201048545\n",
      "0.42332644897257565\n",
      "0.8277025938204418\n",
      "0.4091991363691613\n",
      "0.5495936876730595\n",
      "0.027559113243068367\n"
     ]
    }
   ],
   "source": [
    "#乱数をループと共に使う場合のテンプレート\n",
    "\n",
    "import numpy as np\n",
    "\"\"\" 乱数のseed（種）の設定\"\"\"\n",
    "# np.random.seed(1) # NumPy ver 1.6までの定義方法\n",
    "rng = np.random.default_rng(1)\n",
    "\n",
    "for i in range(10):\n",
    "    \"\"\"ループ内での乱数の使用\"\"\"\n",
    "    # print(np.random.rand()) # NumPy ver 1.6までの使い方\n",
    "    print(rng.random())"
   ]
  },
  {
   "cell_type": "markdown",
   "metadata": {},
   "source": [
    "異なったサンプルを数多く取りたい場合、下記は典型的なダメな例です。ループ内でseedを設定しているので乱数としてすべて同じ値を出力してしまってます。"
   ]
  },
  {
   "cell_type": "code",
   "execution_count": 3,
   "metadata": {},
   "outputs": [
    {
     "name": "stdout",
     "output_type": "stream",
     "text": [
      "0.5118216247002567\n",
      "0.5118216247002567\n",
      "0.5118216247002567\n",
      "0.5118216247002567\n",
      "0.5118216247002567\n",
      "0.5118216247002567\n",
      "0.5118216247002567\n",
      "0.5118216247002567\n",
      "0.5118216247002567\n",
      "0.5118216247002567\n"
     ]
    }
   ],
   "source": [
    "import numpy as np\n",
    "\n",
    "for i in range(10):\n",
    "    \"\"\"ループ内での乱数の使用\"\"\"\n",
    "    # np.random.seed(1) # NumPy ver 1.6までの定義方法\n",
    "    # print(np.random.rand()) # NumPy ver 1.6までの使い方\n",
    "    rng = np.random.default_rng(1)\n",
    "    print(rng.random())"
   ]
  },
  {
   "cell_type": "markdown",
   "metadata": {},
   "source": [
    "さて、このような一様乱数の確率密度分布をグラフとして出力してみましょう。グラフについてはmatplotlibを用います（情報処理の講義でやった[このページ](http://kino.sub.jp/IT2015_old/IT_06.html)も参考にしてください）。"
   ]
  },
  {
   "cell_type": "code",
   "execution_count": 153,
   "metadata": {},
   "outputs": [
    {
     "data": {
      "image/png": "[encoded data removed]",
      "text/plain": [
       "<Figure size 640x480 with 1 Axes>"
      ]
     },
     "metadata": {},
     "output_type": "display_data"
    }
   ],
   "source": [
    "import numpy as np\n",
    "import matplotlib.pyplot as plt\n",
    "\n",
    "# np.random.seed(1) # NumPy ver 1.6までの定義方法\n",
    "rng = np.random.default_rng(1)\n",
    "\n",
    "#生成する乱数のサイズ\n",
    "size=100000\n",
    "# uni= np.random.rand(size) # NumPy ver 1.6までの使い方\n",
    "uni = rng.random(size)\n",
    "\n",
    "#[0,1)区間の分割数\n",
    "bins=10\n",
    "#x軸の範囲を指定\n",
    "x=(0, 1)\n",
    "#確率密度の表示形式を指定（density=\"True\"は正規化を表している）\n",
    "plt.hist(uni, bins, range=x, density=\"True\")\n",
    "plt.xlabel(\"x\", fontsize=\"20\")\n",
    "plt.ylabel(\"p(x)\", fontsize=\"20\")\n",
    "\n",
    "plt.show()"
   ]
  },
  {
   "cell_type": "markdown",
   "metadata": {},
   "source": [
    "`numpy.random`モジュールでは様々な確率密度関数に従う乱数を生成できます。詳細は[マニュアル（レガシー）](https://numpy.org/doc/2.1/reference/random/legacy.html#distributions) [マニュアル](https://numpy.org/doc/stable/reference/random/generator.html#distributions)を調べて下さい。"
   ]
  },
  {
   "cell_type": "markdown",
   "metadata": {},
   "source": [
    "## 問題\n",
    "上記の要領で正規分布に従う乱数の確率分布をグラフで表示せよ。  \n",
    "\n",
    "$$\n",
    "\\displaystyle{p(x)=\\frac{1}{\\sqrt{2\\pi\\sigma^2}}\\exp{\\left(-\\frac{(x-\\mu)^2}{2\\sigma^2}\\right)}}\n",
    "$$\n",
    "\n",
    "正規分布に従う乱数を出力するメソッドは次の通りである。  \n",
    "`np.random.normal(mu, sigma, size)`（`rng.normal(mu, sigma, size)`）\n",
    "ここで`mu`は平均$\\mu$、`sigma`は標準偏差$\\sigma$である。\n",
    "生成する乱数のサイズは100000、分割数（棒の数）は100とし、$\\mu=0$、$\\sigma=1$としなさい。"
   ]
  },
  {
   "cell_type": "markdown",
   "metadata": {},
   "source": [
    "## 14.2 中心極限定理"
   ]
  },
  {
   "cell_type": "markdown",
   "metadata": {},
   "source": [
    "確率の重要な定理「**中心極限定理**」を視覚化してみましょう。中心極限定理の数学的な表現は次の通り。\n",
    "\n",
    "（実用的な）中心極限定理\n",
    "\n",
    "$X_1, X_2, \\dots , X_n $を同一の確率分布（ただし，平均$\\mu$，分散$\\sigma$が有限）に従う独立な確率変数とする．このとき，$X_1, X_2, \\dots , X_n $の単純平均，\n",
    "\n",
    "$$\n",
    "\\displaystyle{S_n=\\frac{1}{n}(X_1+X_2+ \\dots +X_n)}\n",
    "$$\n",
    "\n",
    "に対して\n",
    "\n",
    "$$\n",
    "\\displaystyle{Z_n=\\frac{\\sqrt{n}}{\\sigma}(S_n-\\mu)}\n",
    "$$\n",
    "\n",
    "とする．このとき，$Z_n$の確率分布$f_n$は$n \\rightarrow \\infty$で，\n",
    "\n",
    "$$\n",
    "\\displaystyle{p(x)=\\lim_{n \\rightarrow \\infty}f_n(x)=\\frac{1}{\\sqrt{2 \\pi \\sigma^2}} \\exp \\Bigl[ -\\frac{x^2}{2} \\Bigr]}\n",
    "$$\n",
    "\n",
    "この定理の意味は「**同一確率分布に従う独立な確率変数の和$S_n$は$n \\rightarrow \\infty$の極限で正規分布になる**」ということになります。"
   ]
  },
  {
   "cell_type": "code",
   "execution_count": 5,
   "metadata": {},
   "outputs": [
    {
     "data": {
      "text/plain": [
       "[]"
      ]
     },
     "execution_count": 5,
     "metadata": {},
     "output_type": "execute_result"
    },
    {
     "data": {
      "image/png": "[encoded data removed]",
      "text/plain": [
       "<Figure size 640x480 with 2 Axes>"
      ]
     },
     "metadata": {},
     "output_type": "display_data"
    }
   ],
   "source": [
    "# 中心極限定理\n",
    "import numpy as np\n",
    "import scipy.stats as sc_st\n",
    "import matplotlib.pyplot as plt\n",
    "\n",
    "sample=1000\n",
    "n_size=1000\n",
    "s=np.zeros(sample)\n",
    "\n",
    "a, b = 2.31, 0.627 #確率分布のパラメータの設定 \n",
    "#r=sc_st.beta.rvs(a, b, size=n_size)\n",
    "for k in range(sample):\n",
    "    rng = np.random.default_rng(k)\n",
    "    r = rng.beta(a, b, size=n_size)\n",
    "    # np.random.seed(k) # NumPy ver 1.6までの定義方法\n",
    "    # r=sc_st.beta.rvs(a, b, size=n_size) # NumPy ver 1.6までの使い方\n",
    "    s[k]=r.mean()\n",
    "\n",
    "#sに関する平均\n",
    "μ=s.mean()\n",
    "\n",
    "for k in range(sample):\n",
    "    s[k] = s[k] - μ\n",
    "\n",
    "fig, ax= plt.subplots(2, 1)\n",
    "ax[0].hist(r, range=(0, 1), bins=100, density='true')\n",
    "ax[1].hist(s, range=(-0.1,0.1), bins=100, density='true')\n",
    "plt.plot()"
   ]
  },
  {
   "cell_type": "markdown",
   "metadata": {},
   "source": [
    "## 14.3 サイコロの作成"
   ]
  },
  {
   "cell_type": "markdown",
   "metadata": {},
   "source": [
    "乱数を使ってサイコロ（正6面体）を作ってみましょう。使いまわしできるように下記のように関数化して下さい。"
   ]
  },
  {
   "cell_type": "code",
   "execution_count": 7,
   "metadata": {},
   "outputs": [
    {
     "name": "stdout",
     "output_type": "stream",
     "text": [
      "4\n",
      "3\n",
      "5\n",
      "3\n",
      "5\n",
      "6\n",
      "2\n",
      "1\n",
      "3\n",
      "5\n"
     ]
    }
   ],
   "source": [
    "import numpy as np\n",
    "\n",
    "# def dice(num=6):\n",
    "#     return int(num*np.random.rand()+1)\n",
    "def dice(rng, num=6):\n",
    "    return int(num*rng.random()+1)\n",
    "\n",
    "if __name__=='__main__':\n",
    "    # np.random.seed(1)\n",
    "    rng = np.random.default_rng()\n",
    "    for i in range(10):\n",
    "        # print(dice())\n",
    "        print(dice(rng))"
   ]
  },
  {
   "cell_type": "markdown",
   "metadata": {},
   "source": [
    "### 問題\n",
    "サイコロを$2^1、2^2、\\cdots 2^{10}$回振るシミュレーションを行い、1の目が出る確率を折れ線グラフでプロットしなさい。（X軸：回数、Y軸：確率）"
   ]
  },
  {
   "cell_type": "markdown",
   "metadata": {},
   "source": [
    "## 14.4 1Dランダムウォーク"
   ]
  },
  {
   "cell_type": "markdown",
   "metadata": {},
   "source": [
    "それでは**ランダムウォーク**のシミュレーションを行ってみよう。ランダムウォークとはその名の通りランダムに歩き回る運動のことです。有名なランダムウォークとして花粉の中の微粒子が水面上でランダムウォークすることが知られています（ブラウン運動とも言います）。この微粒子の運動はペランが実験を行い観察し理論的な考察はアインシュタインが行いました。ランダムウォークは花粉微粒子の運動、株価の時系列、バクテリアの運動に至るまで様々な現象の基礎的なモデルとして取り扱われます。  \n"
   ]
  },
  {
   "cell_type": "code",
   "execution_count": 26,
   "metadata": {},
   "outputs": [
    {
     "name": "stdout",
     "output_type": "stream",
     "text": [
      "-1\n",
      "-2\n",
      "-1\n",
      "-2\n",
      "-3\n",
      "-4\n",
      "-5\n",
      "-4\n",
      "-5\n",
      "-6\n"
     ]
    }
   ],
   "source": [
    "import numpy as np\n",
    "\n",
    "if __name__=='__main__':\n",
    "    t=10\n",
    "    x=0\n",
    "    rng = np.random.default_rng()\n",
    "    for i in range(t):\n",
    "        if int(rng.random()*2)==0:\n",
    "        # if int(np.random.rand()*2)==0:\n",
    "            x+=1\n",
    "        else:\n",
    "            x-=1\n",
    "        print(x)"
   ]
  },
  {
   "cell_type": "markdown",
   "metadata": {},
   "source": [
    "### 1Dランダムウォークの統計的性質"
   ]
  },
  {
   "cell_type": "markdown",
   "metadata": {},
   "source": [
    "数列だけでは良く分からないので、それでは1Dランダムウォークの動きの時系列をグラフで見てみましょう。"
   ]
  },
  {
   "cell_type": "code",
   "execution_count": 28,
   "metadata": {},
   "outputs": [
    {
     "data": {
      "image/png": "[encoded data removed]",
      "text/plain": [
       "<Figure size 640x480 with 1 Axes>"
      ]
     },
     "metadata": {},
     "output_type": "display_data"
    }
   ],
   "source": [
    "import numpy as np\n",
    "\n",
    "if __name__=='__main__':\n",
    "    t=10000\n",
    "    x=0\n",
    "    time=[]\n",
    "    series=[]\n",
    "    # np.random.seed(1)\n",
    "    rng = np.random.default_rng()\n",
    "    for i in range(t):\n",
    "        if int(rng.random()*2)==0:\n",
    "        # if int(np.random.rand()*2)==0:\n",
    "            x+=1\n",
    "        else:\n",
    "            x-=1\n",
    "        time.append(i+1)\n",
    "        series.append(x)\n",
    " \n",
    "    plt.xlabel(\"$t$\", fontsize=\"20\")\n",
    "    plt.ylabel(\"$x(t)$\", fontsize=\"20\")\n",
    "    plt.xlim([0, 10e+3])\n",
    "    plt.plot(time, series, \"-b\")\n",
    "    #print(series)"
   ]
  },
  {
   "cell_type": "markdown",
   "metadata": {},
   "source": [
    "## 問題\n",
    "1つのサンプルだけの動きを見ても良く分からないので、サンプル数を増やして時系列を重ね書きします。このとき各サンプルごとにseedを変更することに注意してください（同じ初期値から始めると同じ時系列が生成されることになります）。"
   ]
  },
  {
   "cell_type": "markdown",
   "metadata": {},
   "source": [
    "上のグラフを見ると1Dランダムウォークはステップ数が大きくなるにつれて原点からの距離$R(t)$が離れていく傾向がありそうです。本当に成り立っているのか調べてみます。"
   ]
  },
  {
   "cell_type": "code",
   "execution_count": 27,
   "metadata": {},
   "outputs": [
    {
     "name": "stdout",
     "output_type": "stream",
     "text": [
      "[np.int64(2), np.int64(4), np.int64(8), np.int64(16), np.int64(32), np.int64(64), np.int64(128), np.int64(256), np.int64(512), np.int64(1024)]\n"
     ]
    },
    {
     "data": {
      "image/png": "[encoded data removed]",
      "text/plain": [
       "<Figure size 640x480 with 1 Axes>"
      ]
     },
     "metadata": {},
     "output_type": "display_data"
    }
   ],
   "source": [
    "import numpy as np\n",
    "import matplotlib.pyplot as plt\n",
    "\n",
    "if __name__=='__main__':\n",
    "    p_ex=10\n",
    "    t_max=np.power(2, p_ex)\n",
    "    sample=1000\n",
    "    distance=np.zeros((p_ex, sample))\n",
    "\n",
    "    for j in range(sample):\n",
    "        x=0\n",
    "        # np.random.seed(j+1)\n",
    "        rng = np.random.default_rng(j+1)\n",
    "        count=1\n",
    "        for i in range(t_max):\n",
    "            if int(rng.random()*2)==0:\n",
    "            # if int(np.random.rand()*2)==0:\n",
    "                x+=1\n",
    "            else:\n",
    "                x-=1\n",
    "            if i==np.power(2,count)-1:\n",
    "                distance[count-1][j]=x\n",
    "                count+=1\n",
    "\n",
    "    av_dis=[np.average(np.abs(distance[i])) for i in range(0, p_ex)]\n",
    "    \n",
    "    x_axis=[np.power(2, i) for i in range(1, p_ex+1)]\n",
    "    print(x_axis)\n",
    "    \n",
    "    plt.plot(x_axis, av_dis, \"o-\")\n",
    "    plt.xlabel(\"$t$\", fontsize=\"20\")\n",
    "    plt.ylabel(\"$<R(t)>$\", fontsize=\"20\")\n",
    "    plt.xlim([0,1024])\n",
    "    \n",
    "    #plt.axis([0, t_max,0,30])\n",
    "    #plt.xscale(\"log\")\n",
    "    #plt.yscale(\"log\")\n",
    "    #print(x_axis)\n",
    "    #plt.plot(x_axis, y_axis, \"-\")\n",
    "    plt.show()\n",
    "    #print(av_dis)\n",
    "    "
   ]
  },
  {
   "cell_type": "markdown",
   "metadata": {},
   "source": [
    "粒子の位置が正の値を持つ時間の割合（全時間に対する）は逆正弦関数となることが知られています．"
   ]
  },
  {
   "cell_type": "code",
   "execution_count": 29,
   "metadata": {},
   "outputs": [
    {
     "data": {
      "image/png": "[encoded data removed]",
      "text/plain": [
       "<Figure size 640x480 with 1 Axes>"
      ]
     },
     "metadata": {},
     "output_type": "display_data"
    }
   ],
   "source": [
    "import numpy as np\n",
    "import matplotlib.pyplot as plt\n",
    "\n",
    "sample=100000\n",
    "t_max=1000\n",
    "dtime=np.zeros(sample)\n",
    "for i in range(sample):\n",
    "    # np.random.seed(i)\n",
    "    rng = np.random.default_rng(i)\n",
    "    x=[0,0]\n",
    "    dtime[i]=0\n",
    "    for t in range(t_max):\n",
    "        if int(rng.random()*2)==0:\n",
    "        # if int(np.random.rand()*2)==0:\n",
    "            x[1]=x[0]+1\n",
    "        else:\n",
    "            x[1]=x[0]-1\n",
    "        if x[0]+x[1]>0:\n",
    "            dtime[i]+=1\n",
    "        x[0]=x[1]\n",
    "    dtime[i]=dtime[i]/(t_max)\n",
    "\n",
    "#print(dtime)\n",
    "            \n",
    "#[0,1)区間の分割数\n",
    "bins=100\n",
    "#x軸の範囲を指定\n",
    "x=(0, 1)\n",
    "#確率密度の表示形式を指定（density=\"True\"は正規化を表している）\n",
    "plt.hist(dtime, bins, range=x, density=\"True\")\n",
    "plt.xlabel(\"$t_d$\", fontsize=\"20\")\n",
    "plt.ylabel(\"p(x)\", fontsize=\"20\")\n",
    "\n",
    "plt.show()\n",
    "    \n"
   ]
  },
  {
   "cell_type": "markdown",
   "metadata": {},
   "source": [
    "1Dランダムウォークのアニメーションを作成してみましょう。"
   ]
  },
  {
   "cell_type": "code",
   "execution_count": 14,
   "metadata": {},
   "outputs": [
    {
     "name": "stdout",
     "output_type": "stream",
     "text": [
      "pygame 2.1.0 (SDL 2.0.16, Python 3.8.10)\n",
      "Hello from the pygame community. https://www.pygame.org/contribute.html\n"
     ]
    }
   ],
   "source": [
    "import pygame\n",
    "import numpy as np\n",
    "\n",
    "if __name__=='__main__':\n",
    "    BLACK = (0, 0, 0)\n",
    "    WHITE = (255, 255, 255)\n",
    "    GREEN = (0, 255, 0)\n",
    "    RED = (255, 0, 0)\n",
    "    \n",
    "    pygame.init()\n",
    "    WINDOW_SIZE=(500, 100)\n",
    "    screen=pygame.display.set_mode(WINDOW_SIZE)\n",
    "    \n",
    "    #1次元グリッドの初期化\n",
    "    row=21\n",
    "    grid_x=20\n",
    "    grid_y=20\n",
    "    grid_x_ini=39\n",
    "    grid_y_ini=39\n",
    "        \n",
    "    x=10 #初期座標\n",
    "    # np.random.seed(1) #乱数初期化用seed\n",
    "    rng = np.random.default_rng(1)\n",
    "    done=False #イベントループ用変数\n",
    "    while not done:\n",
    "        for event in pygame.event.get():  # User did something\n",
    "            if event.type == pygame.QUIT:  # If user clicked close\n",
    "                done = True  \n",
    "        screen.fill(WHITE)\n",
    "        \n",
    "        if int(rng.random()*2)==0:\n",
    "        # if int(np.random.rand()*2)==0:\n",
    "            x+=1\n",
    "        else:\n",
    "            x-=1\n",
    "        \n",
    "        for i in range(row):\n",
    "            pygame.draw.rect(screen, BLACK, [grid_x_ini+i*20, grid_y_ini, grid_x, grid_y],1) \n",
    "            if i==x:\n",
    "                pygame.draw.ellipse(screen, RED, [grid_x_ini+i*20, grid_y_ini, grid_x, grid_y])\n",
    "                \n",
    "        pygame.display.flip()\n",
    "        pygame.time.delay(100)\n",
    "    pygame.quit()\n",
    "    "
   ]
  },
  {
   "cell_type": "markdown",
   "metadata": {},
   "source": [
    "境界条件を変えてみます。１反射境界条件２周期境界条件"
   ]
  },
  {
   "cell_type": "code",
   "execution_count": 15,
   "metadata": {},
   "outputs": [],
   "source": [
    "import pygame\n",
    "import numpy as np\n",
    "\n",
    "if __name__=='__main__':\n",
    "    BLACK = (0, 0, 0)\n",
    "    WHITE = (255, 255, 255)\n",
    "    GREEN = (0, 255, 0)\n",
    "    RED = (255, 0, 0)\n",
    "    \n",
    "    pygame.init()\n",
    "    WINDOW_SIZE=(500, 100)\n",
    "    screen=pygame.display.set_mode(WINDOW_SIZE)\n",
    "    \n",
    "    #1次元グリッドの初期化\n",
    "    grid=[]\n",
    "    row=21\n",
    "    for i in range(row):\n",
    "        grid.append(0)\n",
    "        \n",
    "    x=10\n",
    "    # np.random.seed(1) #乱数初期化用seed\n",
    "    rng = np.random.default_rng(1)\n",
    "    done=False\n",
    "    while not done:\n",
    "        for event in pygame.event.get():  # User did something\n",
    "            if event.type == pygame.QUIT:  # If user clicked close\n",
    "                done = True  \n",
    "        screen.fill(WHITE)\n",
    "        \n",
    "        if int(rng.random()*2)==0:\n",
    "        # if int(np.random.rand()*2)==0:\n",
    "            if x!=20:\n",
    "                x+=1\n",
    "            else:\n",
    "                x-=1\n",
    "        else:\n",
    "            if x!=0:\n",
    "                x-=1\n",
    "            else:\n",
    "                x+=1\n",
    "        \n",
    "        for i in range(row):\n",
    "            pygame.draw.rect(screen, BLACK, [39+i*20, 39, 20, 20],1) \n",
    "            if i==x:\n",
    "                pygame.draw.ellipse(screen, RED, [39+i*20, 39, 20, 20])\n",
    "                \n",
    "        pygame.display.flip()\n",
    "        pygame.time.delay(100)\n",
    "    pygame.quit()"
   ]
  },
  {
   "cell_type": "code",
   "execution_count": 43,
   "metadata": {},
   "outputs": [],
   "source": [
    "import pygame\n",
    "import numpy as np\n",
    "\n",
    "if __name__=='__main__':\n",
    "    BLACK = (0, 0, 0)\n",
    "    WHITE = (255, 255, 255)\n",
    "    GREEN = (0, 255, 0)\n",
    "    RED = (255, 0, 0)\n",
    "    \n",
    "    pygame.init()\n",
    "    WINDOW_SIZE=(500, 100)\n",
    "    screen=pygame.display.set_mode(WINDOW_SIZE)\n",
    "    pygame.display.set_caption(\"1D random walk\")\n",
    "    \n",
    "    #1次元グリッドの初期化\n",
    "    #grid=[]\n",
    "    row=21\n",
    "    #for i in range(row):\n",
    "    #    grid.append(0)\n",
    "        \n",
    "    x=10\n",
    "    # np.random.seed(1) #乱数初期化用seed\n",
    "    rng = np.random.default_rng(1)\n",
    "    done=False\n",
    "    while not done:\n",
    "        for event in pygame.event.get():  # User did something\n",
    "            if event.type == pygame.QUIT:  # If user clicked close\n",
    "                done = True  \n",
    "        screen.fill(WHITE)\n",
    "        \n",
    "        if int(rng.random()*2)==0:\n",
    "        # if int(np.random.rand()*2)==0:\n",
    "            if x!=20:\n",
    "                x+=1\n",
    "            else:\n",
    "                x-=20\n",
    "        else:\n",
    "            if x!=0:\n",
    "                x-=1\n",
    "            else:\n",
    "                x+=20\n",
    "                \n",
    "        for i in range(row):\n",
    "            pygame.draw.rect(screen, BLACK, [39+i*20, 39, 20, 20],1) \n",
    "            if i==x:\n",
    "                pygame.draw.ellipse(screen, RED, [39+i*20, 39, 20, 20])\n",
    "                \n",
    "        pygame.display.flip()\n",
    "        pygame.time.delay(200)\n",
    "    pygame.quit()"
   ]
  },
  {
   "cell_type": "markdown",
   "metadata": {},
   "source": [
    "## 14.5 2Dランダムウォーク"
   ]
  },
  {
   "cell_type": "markdown",
   "metadata": {
    "collapsed": true,
    "jupyter": {
     "outputs_hidden": true
    }
   },
   "source": [
    "続いて、平面上のランダムウォーク（2Dランダムウォーク）へ拡張して下さい。\n",
    "\n",
    "- WINDOW SIZEは$500 \\times 500$\n",
    "- グリッド数$21 \\times 21$\n",
    "- 確率$\\frac{1}{4}$で上下左右へランダムウォークする。"
   ]
  },
  {
   "cell_type": "markdown",
   "metadata": {},
   "source": [
    "# レポート問題\n",
    "**〆切：12/4までにGoogle Classroomでjupyter notebook形式「id_学籍番号_09.ipynb」で送ること**"
   ]
  }
 ],
 "metadata": {
  "kernelspec": {
   "display_name": "Python 3 (ipykernel)",
   "language": "python",
   "name": "python3"
  },
  "language_info": {
   "codemirror_mode": {
    "name": "ipython",
    "version": 3
   },
   "file_extension": ".py",
   "mimetype": "text/x-python",
   "name": "python",
   "nbconvert_exporter": "python",
   "pygments_lexer": "ipython3",
   "version": "3.12.7"
  },
  "vscode": {
   "interpreter": {
    "hash": "c182d1b202b41fdf4b60803f05a29d92f1736a33b38810d465f4f5fc6e4b1d74"
   }
  }
 },
 "nbformat": 4,
 "nbformat_minor": 4
}
